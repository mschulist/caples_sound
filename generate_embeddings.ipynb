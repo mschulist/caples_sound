{
 "cells": [
  {
   "cell_type": "code",
   "execution_count": 1,
   "id": "c99971c2-c6d8-49d1-9487-899505e3a6c3",
   "metadata": {},
   "outputs": [
    {
     "name": "stderr",
     "output_type": "stream",
     "text": [
      "2024-06-09 15:56:35.627769: I tensorflow/core/platform/cpu_feature_guard.cc:210] This TensorFlow binary is optimized to use available CPU instructions in performance-critical operations.\n",
      "To enable the following instructions: AVX2 AVX512F FMA, in other operations, rebuild TensorFlow with the appropriate compiler flags.\n",
      "2024-06-09 15:56:36.791256: W tensorflow/compiler/tf2tensorrt/utils/py_utils.cc:38] TF-TRT Warning: Could not find TensorRT\n"
     ]
    }
   ],
   "source": [
    "from etils import epath\n",
    "from ml_collections import config_dict\n",
    "import numpy as np\n",
    "import tensorflow as tf\n",
    "import tqdm\n",
    "import os\n",
    "\n",
    "from chirp import audio_utils\n",
    "from chirp.inference import embed_lib\n",
    "from chirp.inference import tf_examples\n",
    "import pandas as pd\n",
    "import csv\n",
    "import re"
   ]
  },
  {
   "cell_type": "code",
   "execution_count": 2,
   "id": "50442af9-8def-4f42-83fe-ad17570b4ab2",
   "metadata": {},
   "outputs": [],
   "source": [
    "# Define the model: Usually perch or birdnet.\n",
    "model_choice = 'perch'  #@param\n",
    "# Set the base directory for the project.\n",
    "working_dir = '.'  #@param\n",
    "\n",
    "# Set the embedding and labeled data directories.\n",
    "embeddings_path = epath.Path(working_dir) / 'embeddings_logits'\n",
    "labeled_data_path = epath.Path(working_dir) / 'labeled'\n",
    "embeddings_glob = embeddings_path / 'embeddings-*'\n",
    "\n",
    "# OPTIONAL: Set up separation model.\n",
    "separation_model_key = 'separator_model_tf'  #@param\n",
    "separation_model_path = ''  #@param"
   ]
  },
  {
   "cell_type": "code",
   "execution_count": 3,
   "id": "762e57be-863e-4bfa-80cf-2df0da60742a",
   "metadata": {},
   "outputs": [],
   "source": [
    "config = config_dict.ConfigDict()\n",
    "config.embed_fn_config = config_dict.ConfigDict()\n",
    "config.embed_fn_config.model_config = config_dict.ConfigDict()\n",
    "\n",
    "# IMPORTANT: Select the target audio files.\n",
    "# source_file_patterns should contain a list of globs of audio files, like:\n",
    "# ['/home/me/*.wav', '/home/me/other/*.flac']\n",
    "config.source_file_patterns = ['/home/mschulist/caples_sound/ARU_data/*/Data/*.wav']  #@param\n",
    "config.output_dir = embeddings_path.as_posix()\n",
    "\n",
    "# For Perch, set the perch_tfhub_model_version, and the model will load\n",
    "# automagically from TFHub. Alternatively, set the model path for a local\n",
    "# copy of the model.\n",
    "# Note that only one of perch_model_path and perch_tfhub_version should be set.\n",
    "perch_tfhub_version = 4  #@param\n",
    "perch_model_path = ''  #@param\n",
    "\n",
    "config.embed_fn_config.model_key = 'taxonomy_model_tf'\n",
    "config.embed_fn_config.model_config.window_size_s = 5.0\n",
    "config.embed_fn_config.model_config.hop_size_s = 5.0\n",
    "config.embed_fn_config.model_config.sample_rate = 32000\n",
    "config.embed_fn_config.model_config.tfhub_version = perch_tfhub_version\n",
    "config.embed_fn_config.model_config.model_path = perch_model_path\n",
    "\n",
    "bird_list = pd.read_csv('bird_list.csv')['code'].to_list()\n",
    "\n",
    "# Only write embeddings to reduce size.\n",
    "config.embed_fn_config.write_embeddings = True\n",
    "config.embed_fn_config.write_logits = True\n",
    "config.embed_fn_config.write_separated_audio = False\n",
    "config.embed_fn_config.write_raw_audio = False\n",
    "\n",
    "# Number of parent directories to include in the filename.\n",
    "config.embed_fn_config.file_id_depth = 2"
   ]
  },
  {
   "cell_type": "code",
   "execution_count": 4,
   "id": "855df0c0-ec92-4ca2-a036-9357de6e5b98",
   "metadata": {},
   "outputs": [
    {
     "name": "stdout",
     "output_type": "stream",
     "text": [
      "\n",
      "\n",
      "Loading model(s)...\n"
     ]
    },
    {
     "name": "stderr",
     "output_type": "stream",
     "text": [
      "2024-06-09 15:56:40.991299: W tensorflow/core/common_runtime/gpu/gpu_device.cc:2251] Cannot dlopen some GPU libraries. Please make sure the missing libraries mentioned above are installed properly if you would like to use GPU. Follow the guide at https://www.tensorflow.org/install/gpu for how to download and setup the required libraries for your platform.\n",
      "Skipping registering GPU devices...\n"
     ]
    },
    {
     "name": "stdout",
     "output_type": "stream",
     "text": [
      "Found 16036 source infos.\n",
      "\n",
      "\n",
      "Test-run of model...\n"
     ]
    },
    {
     "name": "stderr",
     "output_type": "stream",
     "text": [
      "WARNING: All log messages before absl::InitializeLog() is called are written to STDERR\n",
      "I0000 00:00:1717973805.311145 1542259 service.cc:145] XLA service 0x18ac8030 initialized for platform Host (this does not guarantee that XLA will be used). Devices:\n",
      "I0000 00:00:1717973805.311203 1542259 service.cc:153]   StreamExecutor device (0): Host, Default Version\n",
      "2024-06-09 15:56:45.714152: I tensorflow/compiler/mlir/tensorflow/utils/dump_mlir_util.cc:268] disabling MLIR crash reproducer, set env var `MLIR_CRASH_REPRODUCER_DIRECTORY` to enable.\n",
      "W0000 00:00:1717973805.722411 1542259 assert_op.cc:38] Ignoring Assert operator jax2tf_infer_fn_/assert_equal_1/Assert/AssertGuard/Assert\n",
      "I0000 00:00:1717973809.502530 1542259 device_compiler.h:188] Compiled cluster using XLA!  This line is logged at most once for the lifetime of the process.\n"
     ]
    },
    {
     "name": "stdout",
     "output_type": "stream",
     "text": [
      "Setup complete!\n"
     ]
    }
   ],
   "source": [
    "# Set up the embedding function, including loading models.\n",
    "embed_fn = embed_lib.EmbedFn(**config.embed_fn_config)\n",
    "print('\\n\\nLoading model(s)...')\n",
    "embed_fn.setup()\n",
    "\n",
    "# Create output directory and write the configuration.\n",
    "output_dir = epath.Path(config.output_dir)\n",
    "output_dir.mkdir(exist_ok=True, parents=True)\n",
    "embed_lib.maybe_write_config(config, output_dir)\n",
    "\n",
    "# config.embed_fn_config.shard_len_s = 60\n",
    "\n",
    "# Create SourceInfos.\n",
    "source_infos = embed_lib.create_source_infos(\n",
    "    config.source_file_patterns,\n",
    "    num_shards_per_file=config.get('num_shards_per_file', -1),\n",
    "    shard_len_s=config.get('shard_len_s', -1))\n",
    "print(f'Found {len(source_infos)} source infos.')\n",
    "\n",
    "print('\\n\\nTest-run of model...')\n",
    "window_size_s = config.embed_fn_config.model_config.window_size_s\n",
    "sr = config.embed_fn_config.model_config.sample_rate\n",
    "z = np.zeros([int(sr * window_size_s)])\n",
    "embed_fn.embedding_model.embed(z)\n",
    "print('Setup complete!')"
   ]
  },
  {
   "cell_type": "code",
   "execution_count": 5,
   "id": "6aabd506-b246-43bf-93af-63fd47125fa2",
   "metadata": {
    "scrolled": true
   },
   "outputs": [],
   "source": [
    "# Calculate the subset of logit indicies to retain\n",
    "\n",
    "\n",
    "# classes is a frozenset and as such is 'unordered' but in reality the tensor is in sorted order, we need the index\n",
    "all_species = sorted(embed_fn.embedding_model.class_list['label'].classes)\n",
    "\n",
    "with open('/home/mschulist/caples_sound/bird_list.csv', 'r') as f:\n",
    "    caples_species = [line.rstrip('\\n') for line in f]\n",
    "    # strip header\n",
    "    caples_species = sorted(caples_species[1:])\n",
    "\n",
    "species_indicies = {}\n",
    "for idx, bird in enumerate(all_species):\n",
    "    for cbird in caples_species:\n",
    "        if re.split('\\d', bird)[0] == re.split('\\d', cbird)[0]:\n",
    "            species_indicies[idx] = cbird\n",
    "\n",
    "with open(embeddings_path / 'logit_index.csv', 'w') as csv_file:  \n",
    "    writer = csv.writer(csv_file)\n",
    "    for k, v in species_indicies.items():\n",
    "       writer.writerow([k, v, all_species[k]])"
   ]
  },
  {
   "cell_type": "code",
   "execution_count": null,
   "id": "e204188a-ec7e-4c3b-97f0-f25630a135e4",
   "metadata": {},
   "outputs": [
    {
     "name": "stderr",
     "output_type": "stream",
     "text": [
      "2024-06-09 15:56:52.553310: W tensorflow/core/framework/local_rendezvous.cc:404] Local rendezvous is aborting with status: OUT_OF_RANGE: End of sequence\n"
     ]
    },
    {
     "name": "stdout",
     "output_type": "stream",
     "text": [
      "Found 0 existing embedding ids.Processing 16036 new source infos. \n"
     ]
    },
    {
     "name": "stderr",
     "output_type": "stream",
     "text": [
      "  0%|                                                                  | 0/16036 [00:00<?, ?it/s]"
     ]
    },
    {
     "name": "stdout",
     "output_type": "stream",
     "text": [
      "SourceInfo(filepath='/home/mschulist/caples_sound/ARU_data/10-BLACK/Data/BLACK-10-CAP_20230608_003000.wav', shard_num=0, shard_len_s=-1.0)\n"
     ]
    },
    {
     "name": "stderr",
     "output_type": "stream",
     "text": [
      "W0000 00:00:1717973816.115024 1542259 assert_op.cc:38] Ignoring Assert operator jax2tf_infer_fn_/assert_equal_1/Assert/AssertGuard/Assert\n",
      "  0%|                                                      | 1/16036 [01:23<372:20:22, 83.59s/it]"
     ]
    },
    {
     "name": "stdout",
     "output_type": "stream",
     "text": [
      "[[-15.290307  -11.338191  -11.890734  ...  -9.204292   -7.4085484\n",
      "  -16.3655   ]\n",
      " [-14.123681  -10.246731  -10.785428  ...  -8.627625   -7.299284\n",
      "  -14.387331 ]\n",
      " [-13.5969305 -10.529544  -10.584979  ...  -8.731554   -6.6021433\n",
      "  -14.560753 ]\n",
      " ...\n",
      " [-15.17115   -11.368123  -12.180693  ...  -9.6179     -7.62348\n",
      "  -16.14294  ]\n",
      " [-14.343305  -11.474348  -11.434666  ...  -9.330857   -8.125924\n",
      "  -15.421481 ]\n",
      " [-15.248545  -11.199123  -12.174236  ...  -9.440248   -7.740094\n",
      "  -15.679293 ]]\n",
      "SourceInfo(filepath='/home/mschulist/caples_sound/ARU_data/10-BLACK/Data/BLACK-10-CAP_20230619_193000.wav', shard_num=0, shard_len_s=-1.0)\n"
     ]
    },
    {
     "name": "stderr",
     "output_type": "stream",
     "text": [
      "  0%|                                                      | 2/16036 [02:40<355:53:46, 79.91s/it]"
     ]
    },
    {
     "name": "stdout",
     "output_type": "stream",
     "text": [
      "[[ -9.930053  -10.204221  -12.457159  ...  -8.052687   -8.699944\n",
      "  -13.339737 ]\n",
      " [-11.571427  -14.039917  -12.851518  ... -11.130041   -8.758442\n",
      "  -14.449496 ]\n",
      " [ -9.727474  -10.681317  -11.678372  ...  -8.483226   -8.165566\n",
      "  -14.516553 ]\n",
      " ...\n",
      " [ -9.337423  -11.206195  -11.245358  ...  -9.151075   -7.8187275\n",
      "  -15.239604 ]\n",
      " [ -9.874028  -11.42546   -11.407977  ...  -9.070995   -8.06095\n",
      "  -14.581204 ]\n",
      " [ -8.845964   -9.110162  -11.545976  ...  -3.8367887  -4.0676003\n",
      "  -11.224688 ]]\n",
      "SourceInfo(filepath='/home/mschulist/caples_sound/ARU_data/10-BLACK/Data/BLACK-10-CAP_20230610_160000.wav', shard_num=0, shard_len_s=-1.0)\n"
     ]
    },
    {
     "name": "stderr",
     "output_type": "stream",
     "text": [
      "  0%|                                                      | 3/16036 [03:55<345:40:31, 77.62s/it]"
     ]
    },
    {
     "name": "stdout",
     "output_type": "stream",
     "text": [
      "[[-11.48615   -11.013748  -10.683182  ...  -9.659803   -8.939258\n",
      "  -17.029615 ]\n",
      " [-10.97807   -12.113497  -10.772549  ...  -8.75733    -8.462333\n",
      "  -17.162075 ]\n",
      " [-11.478048  -11.797702  -11.203407  ...  -8.816723   -8.671272\n",
      "  -17.277882 ]\n",
      " ...\n",
      " [-10.488058  -11.608569  -12.002025  ...  -8.667907   -8.4942465\n",
      "  -17.283016 ]\n",
      " [ -8.90188   -11.31261   -10.988259  ...  -8.390774   -8.723032\n",
      "  -17.387411 ]\n",
      " [-10.106284  -11.12221   -10.880611  ...  -9.264395   -8.306831\n",
      "  -17.685871 ]]\n",
      "SourceInfo(filepath='/home/mschulist/caples_sound/ARU_data/10-BLACK/Data/BLACK-10-CAP_20230606_053000.wav', shard_num=0, shard_len_s=-1.0)\n"
     ]
    },
    {
     "name": "stderr",
     "output_type": "stream",
     "text": [
      "  0%|                                                      | 4/16036 [05:09<338:20:29, 75.97s/it]"
     ]
    },
    {
     "name": "stdout",
     "output_type": "stream",
     "text": [
      "[[-17.113356  -12.5384035 -12.521225  ...  -8.265995  -10.170267\n",
      "  -15.1978855]\n",
      " [-16.52063   -10.903993  -11.49917   ...  -6.186857   -3.6842005\n",
      "  -10.68292  ]\n",
      " [-13.8692465 -11.881965  -10.723454  ...  -7.3503737  -6.416521\n",
      "  -12.970331 ]\n",
      " ...\n",
      " [-14.443664  -11.087003   -9.637964  ...  -8.2871895  -7.615302\n",
      "  -14.470984 ]\n",
      " [-13.699021   -9.87951   -11.444637  ...  -6.1390505  -4.7333007\n",
      "  -14.138998 ]\n",
      " [-16.797825  -10.263021  -10.225973  ...  -8.103655   -5.3692603\n",
      "  -12.728518 ]]\n",
      "SourceInfo(filepath='/home/mschulist/caples_sound/ARU_data/10-BLACK/Data/BLACK-10-CAP_20230613_213000.wav', shard_num=0, shard_len_s=-1.0)\n"
     ]
    },
    {
     "name": "stderr",
     "output_type": "stream",
     "text": [
      "  0%|                                                      | 5/16036 [06:31<347:47:39, 78.10s/it]"
     ]
    },
    {
     "name": "stdout",
     "output_type": "stream",
     "text": [
      "[[ -9.89069    -9.818732  -12.598888  ...  -8.867913   -8.569536\n",
      "  -15.459447 ]\n",
      " [-11.099782  -10.590325  -13.651189  ...  -9.407274   -9.094474\n",
      "  -16.775072 ]\n",
      " [ -9.590224  -10.143561  -12.49964   ...  -9.3780575  -9.0352545\n",
      "  -15.347976 ]\n",
      " ...\n",
      " [ -9.546015  -10.569983  -12.9937    ...  -9.213551   -9.207994\n",
      "  -15.931108 ]\n",
      " [ -9.820328  -10.096963  -12.469201  ...  -9.135479   -8.77432\n",
      "  -15.729892 ]\n",
      " [-10.4066925 -10.588644  -13.214519  ...  -9.406208   -9.176047\n",
      "  -15.730777 ]]\n",
      "SourceInfo(filepath='/home/mschulist/caples_sound/ARU_data/10-BLACK/Data/BLACK-10-CAP_20230608_170000.wav', shard_num=0, shard_len_s=-1.0)\n"
     ]
    },
    {
     "name": "stderr",
     "output_type": "stream",
     "text": [
      "  0%|                                                      | 6/16036 [07:52<352:00:14, 79.05s/it]"
     ]
    },
    {
     "name": "stdout",
     "output_type": "stream",
     "text": [
      "[[-17.461964  -11.925214  -13.512473  ... -10.440119   -8.48235\n",
      "  -17.344776 ]\n",
      " [-14.320576  -10.510427  -10.9744215 ...  -8.698371   -6.882661\n",
      "  -14.584062 ]\n",
      " [-14.804095  -13.213343  -12.111042  ...  -9.533527   -8.727726\n",
      "  -15.715594 ]\n",
      " ...\n",
      " [-17.531837  -11.041163  -13.345191  ...  -6.8216524  -5.6987605\n",
      "  -12.471668 ]\n",
      " [-16.689095  -11.13562   -11.576803  ...  -7.6103578  -8.505648\n",
      "  -17.10572  ]\n",
      " [-15.09811   -11.521246  -12.413694  ...  -9.055016   -6.8446302\n",
      "  -14.930952 ]]\n",
      "SourceInfo(filepath='/home/mschulist/caples_sound/ARU_data/10-BLACK/Data/BLACK-10-CAP_20230610_013000.wav', shard_num=0, shard_len_s=-1.0)\n"
     ]
    },
    {
     "name": "stderr",
     "output_type": "stream",
     "text": [
      "  0%|                                                      | 7/16036 [09:08<347:34:43, 78.06s/it]"
     ]
    },
    {
     "name": "stdout",
     "output_type": "stream",
     "text": [
      "[[-17.926281  -12.325959  -14.420115  ... -10.08083    -8.335492\n",
      "  -16.978825 ]\n",
      " [-18.381165  -12.474066  -14.191042  ... -10.061157   -8.128648\n",
      "  -17.033207 ]\n",
      " [-17.472057  -11.752954  -13.844547  ... -10.018137   -8.848205\n",
      "  -16.274244 ]\n",
      " ...\n",
      " [-18.184502  -12.303732  -14.0093975 ... -10.440465   -8.00806\n",
      "  -16.85413  ]\n",
      " [-18.682156  -12.846335  -13.455719  ...  -9.965794   -7.6362743\n",
      "  -16.592396 ]\n",
      " [-17.654232  -12.256044  -13.541729  ... -10.14674    -7.5228157\n",
      "  -16.430836 ]]\n",
      "SourceInfo(filepath='/home/mschulist/caples_sound/ARU_data/10-BLACK/Data/BLACK-10-CAP_20230605_213000.wav', shard_num=0, shard_len_s=-1.0)\n"
     ]
    },
    {
     "name": "stderr",
     "output_type": "stream",
     "text": [
      "  0%|                                                      | 8/16036 [10:29<352:30:25, 79.18s/it]"
     ]
    },
    {
     "name": "stdout",
     "output_type": "stream",
     "text": [
      "[[-17.097591  -10.960234  -12.853207  ...  -8.563026   -7.2862625\n",
      "  -15.545589 ]\n",
      " [-18.035316  -12.062493  -13.671289  ... -10.078327   -8.235443\n",
      "  -17.184666 ]\n",
      " [-15.997198  -10.883502  -12.209771  ...  -8.411874   -7.6722155\n",
      "  -15.452737 ]\n",
      " ...\n",
      " [-18.069725  -11.774627  -12.669462  ...  -8.812342   -8.018907\n",
      "  -15.905863 ]\n",
      " [-16.826115  -12.169146  -13.364776  ...  -9.780712   -8.494209\n",
      "  -16.430897 ]\n",
      " [-17.165901  -10.796212  -12.550438  ...  -8.853306   -7.4984426\n",
      "  -15.071258 ]]\n",
      "SourceInfo(filepath='/home/mschulist/caples_sound/ARU_data/10-BLACK/Data/BLACK-10-CAP_20230610_053000.wav', shard_num=0, shard_len_s=-1.0)\n"
     ]
    },
    {
     "name": "stderr",
     "output_type": "stream",
     "text": [
      "  0%|                                                      | 9/16036 [11:54<360:53:10, 81.06s/it]"
     ]
    },
    {
     "name": "stdout",
     "output_type": "stream",
     "text": [
      "[[-12.813266  -13.285291  -11.420132  ... -11.992799  -10.779148\n",
      "  -15.56162  ]\n",
      " [-14.069657  -11.710615  -12.414331  ... -10.253607   -7.6873837\n",
      "  -14.932663 ]\n",
      " [-16.424225  -12.01856   -13.388689  ... -11.764444   -9.578645\n",
      "  -15.695238 ]\n",
      " ...\n",
      " [-15.923033   -8.825472  -11.602662  ... -10.624656   -7.3174877\n",
      "  -11.8650255]\n",
      " [-13.313651   -8.9493265 -10.332879  ...  -9.612951  -10.460853\n",
      "  -15.462337 ]\n",
      " [ -9.104772   -7.8526406 -11.804436  ...  -7.7760773  -6.3614035\n",
      "   -9.923384 ]]\n",
      "SourceInfo(filepath='/home/mschulist/caples_sound/ARU_data/10-BLACK/Data/BLACK-10-CAP_20230606_160000.wav', shard_num=0, shard_len_s=-1.0)\n"
     ]
    },
    {
     "name": "stderr",
     "output_type": "stream",
     "text": [
      "  0%|                                                     | 10/16036 [13:16<361:47:36, 81.27s/it]"
     ]
    },
    {
     "name": "stdout",
     "output_type": "stream",
     "text": [
      "[[-15.167043  -11.460313  -11.937886  ...  -7.2061768  -4.625954\n",
      "  -12.897526 ]\n",
      " [-13.847812  -11.986774  -13.536033  ...  -7.531811   -6.6210127\n",
      "  -13.373234 ]\n",
      " [-16.04356   -13.404506  -17.357128  ...  -8.868011   -7.9181547\n",
      "  -11.248583 ]\n",
      " ...\n",
      " [-17.295557  -13.42101   -14.235269  ...  -8.199643   -6.654973\n",
      "  -14.219803 ]\n",
      " [-21.454918  -16.737658  -15.620299  ...  -9.466164  -10.154356\n",
      "  -20.089186 ]\n",
      " [-22.012886  -15.720317  -16.916765  ... -11.225786  -12.469555\n",
      "  -18.126385 ]]\n",
      "SourceInfo(filepath='/home/mschulist/caples_sound/ARU_data/10-BLACK/Data/BLACK-10-CAP_20230608_043000.wav', shard_num=0, shard_len_s=-1.0)\n"
     ]
    },
    {
     "name": "stderr",
     "output_type": "stream",
     "text": [
      "  0%|                                                     | 11/16036 [14:46<373:19:20, 83.87s/it]"
     ]
    },
    {
     "name": "stdout",
     "output_type": "stream",
     "text": [
      "[[-19.479713  -16.433994  -14.738532  ... -13.86009   -11.810458\n",
      "  -19.340862 ]\n",
      " [-17.025024  -14.261451  -12.704575  ... -12.373374  -12.0568285\n",
      "  -18.355015 ]\n",
      " [-14.679952  -13.102944  -12.631011  ... -10.730549  -10.540518\n",
      "  -15.478164 ]\n",
      " ...\n",
      " [-16.239645  -13.363591  -14.729639  ... -11.302134   -9.667313\n",
      "  -15.9925   ]\n",
      " [-18.343658  -12.703224  -14.217926  ...  -9.5549     -8.072203\n",
      "  -17.017147 ]\n",
      " [-16.036312  -10.436236  -11.581673  ... -10.386951   -8.923776\n",
      "  -16.217129 ]]\n",
      "SourceInfo(filepath='/home/mschulist/caples_sound/ARU_data/10-BLACK/Data/BLACK-10-CAP_20230606_013000.wav', shard_num=0, shard_len_s=-1.0)\n"
     ]
    },
    {
     "name": "stderr",
     "output_type": "stream",
     "text": [
      "  0%|                                                     | 12/16036 [16:08<371:18:04, 83.42s/it]"
     ]
    },
    {
     "name": "stdout",
     "output_type": "stream",
     "text": [
      "[[-16.786049  -11.7781925 -12.316311  ...  -9.471524   -7.2312098\n",
      "  -16.27715  ]\n",
      " [-16.497705  -11.268292  -13.03837   ... -10.123716   -7.5129156\n",
      "  -15.301727 ]\n",
      " [-17.323063  -12.589629  -13.788249  ... -10.209485   -8.171074\n",
      "  -16.30767  ]\n",
      " ...\n",
      " [-18.560844  -12.148618  -13.650405  ... -10.073295   -7.9530535\n",
      "  -16.521513 ]\n",
      " [-15.336255  -11.356942  -12.4053335 ...  -8.861416   -5.5997763\n",
      "  -14.76062  ]\n",
      " [-18.394943  -11.900206  -13.667709  ...  -9.662758   -7.556038\n",
      "  -16.123394 ]]\n",
      "SourceInfo(filepath='/home/mschulist/caples_sound/ARU_data/10-BLACK/Data/BLACK-10-CAP_20230606_093000.wav', shard_num=0, shard_len_s=-1.0)\n"
     ]
    },
    {
     "name": "stderr",
     "output_type": "stream",
     "text": [
      "  0%|                                                     | 13/16036 [17:27<365:16:42, 82.07s/it]"
     ]
    },
    {
     "name": "stdout",
     "output_type": "stream",
     "text": [
      "[[-16.960405  -12.573294  -13.051149  ...  -8.4815235  -7.819708\n",
      "  -16.63947  ]\n",
      " [-15.215543  -11.100786  -12.793415  ...  -5.7593412  -4.567254\n",
      "  -11.719677 ]\n",
      " [-10.907099   -9.351341  -10.670296  ... -10.218095   -7.989915\n",
      "  -13.569184 ]\n",
      " ...\n",
      " [-17.885445  -12.203008  -12.914206  ...  -8.5378895  -9.002326\n",
      "  -16.11206  ]\n",
      " [-19.051617  -12.013537  -14.765356  ...  -8.311945   -3.312033\n",
      "  -14.376887 ]\n",
      " [-19.217838  -12.265201  -13.370916  ...  -5.8623133  -7.546588\n",
      "  -15.64805  ]]\n",
      "SourceInfo(filepath='/home/mschulist/caples_sound/ARU_data/10-BLACK/Data/BLACK-10-CAP_20230608_083000.wav', shard_num=0, shard_len_s=-1.0)\n"
     ]
    },
    {
     "name": "stderr",
     "output_type": "stream",
     "text": [
      "  0%|                                                     | 14/16036 [18:47<362:40:04, 81.49s/it]"
     ]
    },
    {
     "name": "stdout",
     "output_type": "stream",
     "text": [
      "[[-17.317707  -12.215925  -12.115963  ...  -8.322875   -9.135411\n",
      "  -15.743661 ]\n",
      " [-16.416548   -9.625862  -13.25287   ...  -8.286921   -7.7540903\n",
      "  -13.926791 ]\n",
      " [-14.417429   -9.64477   -11.597812  ... -10.722111   -8.281384\n",
      "  -14.912284 ]\n",
      " ...\n",
      " [-15.041017   -9.642351  -12.335068  ...  -9.456099   -9.479666\n",
      "  -13.887592 ]\n",
      " [-17.680508  -11.119031  -13.94944   ...  -9.016241   -8.762031\n",
      "  -14.840204 ]\n",
      " [-14.3610115  -9.370153  -13.415512  ...  -8.289808   -7.5965433\n",
      "  -14.84518  ]]\n",
      "SourceInfo(filepath='/home/mschulist/caples_sound/ARU_data/10-BLACK/Data/BLACK-10-CAP_20230614_230000.wav', shard_num=0, shard_len_s=-1.0)\n"
     ]
    },
    {
     "name": "stderr",
     "output_type": "stream",
     "text": [
      "  0%|                                                     | 15/16036 [20:04<355:44:15, 79.94s/it]"
     ]
    },
    {
     "name": "stdout",
     "output_type": "stream",
     "text": [
      "[[-10.126789 -11.541815 -12.846148 ...  -9.876242  -9.600158 -16.700104]\n",
      " [-11.860548 -11.941199 -13.902308 ... -10.238335  -9.652163 -17.491106]\n",
      " [-11.543701 -11.237329 -12.672978 ... -10.183943  -9.467218 -17.168266]\n",
      " ...\n",
      " [-10.836823 -11.786532 -13.75738  ... -10.065897  -9.85859  -17.069792]\n",
      " [ -9.940423 -10.447854 -12.714187 ...  -9.425375  -8.890125 -16.586983]\n",
      " [-11.565788 -11.63138  -13.508636 ... -10.202234  -9.860719 -16.944984]]\n",
      "SourceInfo(filepath='/home/mschulist/caples_sound/ARU_data/10-BLACK/Data/BLACK-10-CAP_20230610_093000.wav', shard_num=0, shard_len_s=-1.0)\n"
     ]
    },
    {
     "name": "stderr",
     "output_type": "stream",
     "text": [
      "  0%|                                                     | 16/16036 [21:21<351:33:47, 79.00s/it]"
     ]
    },
    {
     "name": "stdout",
     "output_type": "stream",
     "text": [
      "[[-13.889783  -12.081197  -11.776053  ...  -9.220024   -8.577777\n",
      "  -16.588758 ]\n",
      " [-13.132854   -9.36886   -10.767862  ...  -7.8500757  -5.8587866\n",
      "  -13.903416 ]\n",
      " [-11.867637   -9.537137   -9.930737  ...  -7.5396576  -8.545461\n",
      "  -16.227972 ]\n",
      " ...\n",
      " [-15.93789   -13.147906  -13.593783  ... -10.725998   -9.056485\n",
      "  -17.201601 ]\n",
      " [-15.110276  -16.453188  -16.188475  ... -12.392465  -10.437821\n",
      "  -15.004832 ]\n",
      " [-15.124417  -12.516387  -12.264019  ... -10.404964  -10.165219\n",
      "  -16.421139 ]]\n",
      "SourceInfo(filepath='/home/mschulist/caples_sound/ARU_data/10-BLACK/Data/BLACK-10-CAP_20230620_010000.wav', shard_num=0, shard_len_s=-1.0)\n"
     ]
    },
    {
     "name": "stderr",
     "output_type": "stream",
     "text": [
      "  0%|                                                     | 17/16036 [22:40<352:16:41, 79.17s/it]"
     ]
    },
    {
     "name": "stdout",
     "output_type": "stream",
     "text": [
      "[[ -9.512888 -11.182047 -11.619637 ...  -9.3918    -8.581249 -14.651177]\n",
      " [ -9.881006 -11.3522   -12.072882 ...  -9.328213  -8.16649  -15.871396]\n",
      " [-10.257669 -11.360398 -12.12348  ...  -9.597134  -8.260212 -16.012415]\n",
      " ...\n",
      " [-11.182435 -11.913141 -12.752039 ...  -9.631125  -8.565518 -16.301743]\n",
      " [-10.643325 -11.162585 -12.924896 ...  -9.66261   -8.858246 -16.122276]\n",
      " [-11.224609 -11.303221 -13.291528 ... -10.150729  -9.02605  -16.700977]]\n",
      "SourceInfo(filepath='/home/mschulist/caples_sound/ARU_data/10-BLACK/Data/BLACK-10-CAP_20230606_223000.wav', shard_num=0, shard_len_s=-1.0)\n"
     ]
    },
    {
     "name": "stderr",
     "output_type": "stream",
     "text": [
      "  0%|                                                     | 18/16036 [23:56<347:53:22, 78.19s/it]"
     ]
    },
    {
     "name": "stdout",
     "output_type": "stream",
     "text": [
      "[[-16.52682   -12.239753  -12.88055   ... -10.32539    -7.8152256\n",
      "  -16.462635 ]\n",
      " [-17.568542  -12.446424  -12.48276   ... -10.867098   -8.11877\n",
      "  -16.253633 ]\n",
      " [-16.44992   -12.104261  -12.723532  ... -10.003223   -7.8242273\n",
      "  -16.19026  ]\n",
      " ...\n",
      " [-16.231789  -12.303669  -12.839014  ...  -9.595388   -7.775957\n",
      "  -16.298832 ]\n",
      " [-15.931751  -12.61848   -13.054544  ...  -9.988562   -7.3888893\n",
      "  -15.937434 ]\n",
      " [-15.813197  -12.033853  -12.605619  ...  -9.811366   -8.02437\n",
      "  -15.4401   ]]\n",
      "SourceInfo(filepath='/home/mschulist/caples_sound/ARU_data/10-BLACK/Data/BLACK-10-CAP_20230613_063000.wav', shard_num=0, shard_len_s=-1.0)\n"
     ]
    },
    {
     "name": "stderr",
     "output_type": "stream",
     "text": [
      "  0%|                                                     | 19/16036 [25:10<342:57:42, 77.08s/it]"
     ]
    },
    {
     "name": "stdout",
     "output_type": "stream",
     "text": [
      "[[ -6.793119  -12.307805  -10.544339  ... -10.651852   -6.8817787\n",
      "  -10.367125 ]\n",
      " [ -7.4618826 -10.298728  -12.170071  ...  -8.837774   -8.962413\n",
      "  -12.328989 ]\n",
      " [ -9.866104  -13.775028  -12.692635  ... -10.233106  -11.267776\n",
      "  -16.289948 ]\n",
      " ...\n",
      " [-10.923918  -10.955835  -13.51184   ...  -8.891733   -9.257898\n",
      "  -14.815877 ]\n",
      " [ -7.594231  -10.296497  -10.888821  ...  -9.743836   -8.60537\n",
      "  -14.111593 ]\n",
      " [ -9.572121  -11.137723  -11.832168  ... -10.859724  -10.675212\n",
      "  -15.6394   ]]\n",
      "SourceInfo(filepath='/home/mschulist/caples_sound/ARU_data/10-BLACK/Data/BLACK-10-CAP_20230605_023000.wav', shard_num=0, shard_len_s=-1.0)\n"
     ]
    },
    {
     "name": "stderr",
     "output_type": "stream",
     "text": [
      "  0%|                                                     | 20/16036 [26:23<336:51:50, 75.72s/it]"
     ]
    },
    {
     "name": "stdout",
     "output_type": "stream",
     "text": [
      "[[-19.023891  -12.305706  -14.455095  ... -10.015642   -8.605344\n",
      "  -16.87785  ]\n",
      " [-18.104183  -12.706604  -14.281611  ... -10.128006   -8.3833885\n",
      "  -16.504753 ]\n",
      " [-19.145355  -12.338822  -14.48122   ...  -9.689154   -8.2205\n",
      "  -17.400442 ]\n",
      " ...\n",
      " [-18.825172  -12.533781  -14.260371  ...  -9.933551   -8.538231\n",
      "  -17.619421 ]\n",
      " [-17.992203  -10.999208  -13.731157  ...  -9.025018   -8.439343\n",
      "  -16.107086 ]\n",
      " [-18.065094  -11.711196  -14.276098  ...  -8.927342   -7.866791\n",
      "  -15.777315 ]]\n",
      "SourceInfo(filepath='/home/mschulist/caples_sound/ARU_data/10-BLACK/Data/BLACK-10-CAP_20230605_063000.wav', shard_num=0, shard_len_s=-1.0)\n"
     ]
    },
    {
     "name": "stderr",
     "output_type": "stream",
     "text": [
      "  0%|                                                     | 21/16036 [27:35<332:07:35, 74.66s/it]"
     ]
    },
    {
     "name": "stdout",
     "output_type": "stream",
     "text": [
      "[[-12.743097   -8.165328  -14.000606  ...  -9.731419   -9.181556\n",
      "  -16.930296 ]\n",
      " [-13.8492     -7.166753  -14.605784  ...  -6.9815845  -6.8705378\n",
      "  -12.082611 ]\n",
      " [-13.457052   -9.814411  -14.002645  ...  -9.025413   -7.8041344\n",
      "  -15.522172 ]\n",
      " ...\n",
      " [-13.429762  -10.248308   -9.085271  ...  -6.341593   -3.7040348\n",
      "  -11.773701 ]\n",
      " [-17.072279  -10.696246  -13.901982  ...  -8.369642   -6.754929\n",
      "  -14.880022 ]\n",
      " [-12.89939   -11.158027  -12.521841  ...  -8.645739   -5.73246\n",
      "  -14.76718  ]]\n",
      "SourceInfo(filepath='/home/mschulist/caples_sound/ARU_data/10-BLACK/Data/BLACK-10-CAP_20230610_223000.wav', shard_num=0, shard_len_s=-1.0)\n"
     ]
    },
    {
     "name": "stderr",
     "output_type": "stream",
     "text": [
      "  0%|                                                     | 22/16036 [28:49<330:54:36, 74.39s/it]"
     ]
    },
    {
     "name": "stdout",
     "output_type": "stream",
     "text": [
      "[[-16.516388  -12.195591  -12.5969305 ... -10.161751   -7.3108997\n",
      "  -15.9160385]\n",
      " [-16.626732  -12.09477   -11.907613  ...  -9.889989   -7.4197006\n",
      "  -16.072237 ]\n",
      " [-15.679219  -11.553109  -11.903851  ...  -9.407854   -7.111623\n",
      "  -15.338383 ]\n",
      " ...\n",
      " [-17.377178  -12.343114  -13.432533  ... -10.351589   -7.843383\n",
      "  -16.31784  ]\n",
      " [-16.156319  -11.992015  -12.561619  ...  -9.527796   -7.491332\n",
      "  -15.445841 ]\n",
      " [-16.232883  -11.353577  -12.084144  ...  -9.393961   -7.305972\n",
      "  -15.36653  ]]\n",
      "SourceInfo(filepath='/home/mschulist/caples_sound/ARU_data/10-BLACK/Data/BLACK-10-CAP_20230608_233000.wav', shard_num=0, shard_len_s=-1.0)\n"
     ]
    },
    {
     "name": "stderr",
     "output_type": "stream",
     "text": [
      "  0%|                                                     | 23/16036 [30:02<328:49:35, 73.93s/it]"
     ]
    },
    {
     "name": "stdout",
     "output_type": "stream",
     "text": [
      "[[-14.677681  -10.787279  -11.270269  ... -10.020916   -7.7304688\n",
      "  -15.479291 ]\n",
      " [-14.247864  -11.404632  -11.428513  ...  -8.932653   -7.4975863\n",
      "  -14.7606735]\n",
      " [-14.968651  -11.864093  -11.703695  ...  -9.642231   -7.924876\n",
      "  -16.143566 ]\n",
      " ...\n",
      " [-16.461426  -11.39331   -12.722333  ...  -8.96044    -7.8225393\n",
      "  -16.74322  ]\n",
      " [-15.126347  -10.961157  -11.794019  ...  -8.977771   -7.4350395\n",
      "  -15.971416 ]\n",
      " [-13.685889  -10.982055  -10.789161  ...  -7.9831834  -7.244935\n",
      "  -14.600147 ]]\n",
      "SourceInfo(filepath='/home/mschulist/caples_sound/ARU_data/10-BLACK/Data/BLACK-10-CAP_20230614_080000.wav', shard_num=0, shard_len_s=-1.0)\n"
     ]
    },
    {
     "name": "stderr",
     "output_type": "stream",
     "text": [
      "  0%|                                                     | 24/16036 [31:13<325:29:49, 73.18s/it]"
     ]
    },
    {
     "name": "stdout",
     "output_type": "stream",
     "text": [
      "[[-13.559797  -13.009631  -14.055366  ... -10.503078   -9.961178\n",
      "  -17.589216 ]\n",
      " [-11.745793  -12.017728  -12.946828  ...  -7.7114754  -1.5945494\n",
      "  -15.05168  ]\n",
      " [ -9.1556    -10.255874  -12.573163  ...  -7.893836   -4.1242576\n",
      "  -15.782905 ]\n",
      " ...\n",
      " [ -7.1300426 -10.7926035 -10.60584   ...  -8.337838   -8.097756\n",
      "  -14.2434845]\n",
      " [ -9.775692  -10.227373  -12.797906  ...  -8.659543   -6.9356594\n",
      "  -14.369587 ]\n",
      " [ -8.618533  -13.349563  -11.646989  ... -10.550667   -8.053596\n",
      "  -14.207058 ]]\n",
      "SourceInfo(filepath='/home/mschulist/caples_sound/ARU_data/10-BLACK/Data/BLACK-10-CAP_20230613_023000.wav', shard_num=0, shard_len_s=-1.0)\n"
     ]
    },
    {
     "name": "stderr",
     "output_type": "stream",
     "text": [
      "  0%|                                                     | 25/16036 [32:19<315:31:33, 70.94s/it]"
     ]
    },
    {
     "name": "stdout",
     "output_type": "stream",
     "text": [
      "[[ -6.419839  -11.095544  -10.389663  ...  -9.702169   -8.715187\n",
      "  -13.917671 ]\n",
      " [ -6.6862063 -11.117185  -10.997473  ...  -9.714384   -8.506407\n",
      "  -14.179051 ]\n",
      " [ -8.232248  -11.471277  -10.862161  ...  -9.662218   -8.701268\n",
      "  -14.040015 ]\n",
      " ...\n",
      " [ -7.0788403 -11.76861   -11.489214  ... -10.006963   -9.24704\n",
      "  -14.834217 ]\n",
      " [ -5.711659  -11.727559  -10.039942  ...  -9.720576   -7.835638\n",
      "  -14.684237 ]\n",
      " [ -4.8347597 -11.273805   -9.558217  ...  -9.294756   -7.9441156\n",
      "  -12.970419 ]]\n",
      "SourceInfo(filepath='/home/mschulist/caples_sound/ARU_data/10-BLACK/Data/BLACK-10-CAP_20230620_050000.wav', shard_num=0, shard_len_s=-1.0)\n"
     ]
    },
    {
     "name": "stderr",
     "output_type": "stream",
     "text": [
      "  0%|                                                     | 26/16036 [33:31<316:52:29, 71.25s/it]"
     ]
    },
    {
     "name": "stdout",
     "output_type": "stream",
     "text": [
      "[[-12.991474 -13.713061 -16.05706  ... -12.860384 -12.342871 -14.900778]\n",
      " [-13.33458  -13.808417 -14.392115 ... -11.97466  -12.010722 -17.334938]\n",
      " [-13.397576 -12.431539 -15.887327 ... -12.899746 -10.398953 -19.047163]\n",
      " ...\n",
      " [-13.893501 -13.348124 -14.481364 ... -12.552545 -12.11415  -15.481944]\n",
      " [-10.842071 -13.324293 -13.105095 ... -10.358497  -9.265018 -15.245703]\n",
      " [-12.604209 -13.606836 -13.803702 ... -11.940624 -10.749041 -15.790777]]\n",
      "SourceInfo(filepath='/home/mschulist/caples_sound/ARU_data/10-BLACK/Data/BLACK-10-CAP_20230614_173000.wav', shard_num=0, shard_len_s=-1.0)\n"
     ]
    },
    {
     "name": "stderr",
     "output_type": "stream",
     "text": [
      "  0%|                                                     | 27/16036 [34:43<317:19:00, 71.36s/it]"
     ]
    },
    {
     "name": "stdout",
     "output_type": "stream",
     "text": [
      "[[ -5.98521    -8.412869  -10.74317   ...  -6.743721   -2.6669137\n",
      "  -12.615097 ]\n",
      " [ -4.418614   -7.329857   -9.086757  ...  -8.832615   -4.9165406\n",
      "  -13.448952 ]\n",
      " [ -6.346774  -10.04591   -13.637758  ... -11.960513   -7.982435\n",
      "  -16.04337  ]\n",
      " ...\n",
      " [-10.265038  -12.773772  -11.014818  ... -11.80905    -9.240317\n",
      "  -14.130552 ]\n",
      " [-11.601223  -13.392118  -11.426176  ... -10.108138   -7.5006714\n",
      "  -13.373125 ]\n",
      " [ -7.9233847 -12.122741  -11.746438  ...  -9.126081   -4.981415\n",
      "  -13.64545  ]]\n",
      "SourceInfo(filepath='/home/mschulist/caples_sound/ARU_data/10-BLACK/Data/BLACK-10-CAP_20230605_190000.wav', shard_num=0, shard_len_s=-1.0)\n"
     ]
    },
    {
     "name": "stderr",
     "output_type": "stream",
     "text": [
      "  0%|                                                     | 28/16036 [35:48<309:28:01, 69.60s/it]"
     ]
    },
    {
     "name": "stdout",
     "output_type": "stream",
     "text": [
      "[[-16.108932  -12.185989  -14.3310795 ...  -9.38192    -4.8507237\n",
      "  -11.958471 ]\n",
      " [-17.128138  -12.388551  -14.795774  ... -10.532683  -10.807027\n",
      "  -17.291864 ]\n",
      " [-16.763525  -10.768558  -14.902552  ...  -8.347458   -8.2495165\n",
      "  -13.533155 ]\n",
      " ...\n",
      " [-17.929523   -9.166758  -10.865103  ... -10.628061  -10.37331\n",
      "  -14.31514  ]\n",
      " [-13.777195  -10.176455  -10.105045  ...  -8.767525   -6.142512\n",
      "  -11.50593  ]\n",
      " [-12.966082  -10.061309  -12.272032  ...  -8.839488   -5.922614\n",
      "  -13.518883 ]]\n",
      "SourceInfo(filepath='/home/mschulist/caples_sound/ARU_data/10-BLACK/Data/BLACK-10-CAP_20230614_000000.wav', shard_num=0, shard_len_s=-1.0)\n"
     ]
    },
    {
     "name": "stderr",
     "output_type": "stream",
     "text": [
      "  0%|                                                     | 29/16036 [36:57<308:21:31, 69.35s/it]"
     ]
    },
    {
     "name": "stdout",
     "output_type": "stream",
     "text": [
      "[[ -9.792257  -10.86514   -12.96723   ...  -9.469652   -9.450076\n",
      "  -16.361408 ]\n",
      " [-10.949062  -10.8544035 -13.398854  ...  -9.556108   -9.441689\n",
      "  -16.923054 ]\n",
      " [ -9.954606  -10.203447  -12.706808  ...  -9.220184   -9.204729\n",
      "  -15.973094 ]\n",
      " ...\n",
      " [-10.031119  -10.2225275 -12.789823  ...  -9.171331   -9.20123\n",
      "  -15.275153 ]\n",
      " [ -9.546685   -9.947868  -12.225226  ...  -8.870222   -8.503549\n",
      "  -15.136371 ]\n",
      " [-10.5783825 -10.346057  -12.585158  ...  -9.220037   -9.045804\n",
      "  -15.582505 ]]\n",
      "SourceInfo(filepath='/home/mschulist/caples_sound/ARU_data/10-BLACK/Data/BLACK-10-CAP_20230620_090000.wav', shard_num=0, shard_len_s=-1.0)\n"
     ]
    },
    {
     "name": "stderr",
     "output_type": "stream",
     "text": [
      "  0%|                                                     | 30/16036 [38:12<316:43:13, 71.24s/it]"
     ]
    },
    {
     "name": "stdout",
     "output_type": "stream",
     "text": [
      "[[ -9.839647  -10.307208  -12.466838  ...  -9.807898   -9.230596\n",
      "  -14.248904 ]\n",
      " [ -9.483308   -8.595241  -11.518974  ...  -9.9538765  -7.1695976\n",
      "  -16.322346 ]\n",
      " [-12.606847  -12.135086  -12.504999  ...  -8.420994  -10.455149\n",
      "  -15.019357 ]\n",
      " ...\n",
      " [-11.029873  -10.435092  -10.57651   ...  -7.9161153  -6.2011147\n",
      "  -11.809103 ]\n",
      " [-10.764204   -9.704916  -12.539498  ... -12.226692   -7.7298346\n",
      "  -13.266541 ]\n",
      " [ -9.340838   -9.6415615 -11.174937  ...  -8.622986   -4.9645762\n",
      "  -12.996243 ]]\n",
      "SourceInfo(filepath='/home/mschulist/caples_sound/ARU_data/10-BLACK/Data/BLACK-10-CAP_20230614_040000.wav', shard_num=0, shard_len_s=-1.0)\n"
     ]
    },
    {
     "name": "stderr",
     "output_type": "stream",
     "text": [
      "  0%|                                                     | 31/16036 [39:24<316:49:35, 71.26s/it]"
     ]
    },
    {
     "name": "stdout",
     "output_type": "stream",
     "text": [
      "[[-11.508682  -10.835824  -13.560837  ...  -9.365473   -9.670143\n",
      "  -17.286848 ]\n",
      " [-11.003261  -10.426991  -12.691737  ...  -9.493148   -9.741467\n",
      "  -17.064322 ]\n",
      " [ -9.806953  -10.244966  -12.091313  ...  -8.987223   -8.915791\n",
      "  -14.8694725]\n",
      " ...\n",
      " [-10.481145  -10.843833  -12.979719  ...  -9.442166   -9.447515\n",
      "  -15.8145685]\n",
      " [-11.2951975 -11.066276  -12.8177185 ...  -9.824772   -9.587495\n",
      "  -16.590904 ]\n",
      " [-10.592691  -10.553024  -12.782521  ...  -9.085155   -9.44769\n",
      "  -15.109886 ]]\n",
      "SourceInfo(filepath='/home/mschulist/caples_sound/ARU_data/10-BLACK/Data/BLACK-10-CAP_20230613_190000.wav', shard_num=0, shard_len_s=-1.0)\n"
     ]
    },
    {
     "name": "stderr",
     "output_type": "stream",
     "text": [
      "  0%|                                                     | 32/16036 [40:38<320:24:34, 72.07s/it]"
     ]
    },
    {
     "name": "stdout",
     "output_type": "stream",
     "text": [
      "[[ -7.766692  -12.126611  -10.464887  ...  -9.032398   -9.290568\n",
      "  -12.248268 ]\n",
      " [-10.123312  -12.092191  -13.580037  ... -11.538242  -11.190604\n",
      "  -17.444017 ]\n",
      " [ -9.490504  -12.551404  -11.692552  ... -10.844757   -8.972271\n",
      "  -14.906596 ]\n",
      " ...\n",
      " [ -7.291086  -10.844013  -10.374239  ...  -7.1307535  -7.4355145\n",
      "  -11.275002 ]\n",
      " [-10.390982  -10.40488   -11.554838  ...  -7.947221   -6.217969\n",
      "  -14.740296 ]\n",
      " [ -7.2628894 -10.726399  -11.61235   ... -10.00812    -6.4853716\n",
      "  -13.274915 ]]\n",
      "SourceInfo(filepath='/home/mschulist/caples_sound/ARU_data/10-BLACK/Data/BLACK-10-CAP_20230619_210000.wav', shard_num=0, shard_len_s=-1.0)\n"
     ]
    },
    {
     "name": "stderr",
     "output_type": "stream",
     "text": [
      "  0%|                                                     | 33/16036 [41:51<321:27:30, 72.31s/it]"
     ]
    },
    {
     "name": "stdout",
     "output_type": "stream",
     "text": [
      "[[ -9.131179  -11.018975  -11.1330805 ...  -9.529053   -7.8176746\n",
      "  -15.045319 ]\n",
      " [-11.413322  -11.481535  -12.361148  ...  -9.654022   -7.9910717\n",
      "  -15.849463 ]\n",
      " [ -9.659353  -10.863663  -11.605869  ...  -8.63266    -8.095212\n",
      "  -14.686228 ]\n",
      " ...\n",
      " [ -9.065973  -10.746183  -12.167017  ...  -8.591782   -8.2439165\n",
      "  -14.653284 ]\n",
      " [-10.309592  -11.055907  -11.984057  ...  -9.495389   -8.174637\n",
      "  -15.249574 ]\n",
      " [ -9.873752  -10.945668  -11.636062  ...  -9.37237    -7.851817\n",
      "  -14.893081 ]]\n",
      "SourceInfo(filepath='/home/mschulist/caples_sound/ARU_data/10-BLACK/Data/BLACK-10-CAP_20230609_173000.wav', shard_num=0, shard_len_s=-1.0)\n"
     ]
    },
    {
     "name": "stderr",
     "output_type": "stream",
     "text": [
      "  0%|                                                     | 34/16036 [43:04<323:26:56, 72.77s/it]"
     ]
    },
    {
     "name": "stdout",
     "output_type": "stream",
     "text": [
      "[[-14.581427  -13.295408  -13.188127  ...  -9.879919   -8.740966\n",
      "  -17.051273 ]\n",
      " [-14.381577  -11.861739  -12.803559  ... -10.023161   -8.262751\n",
      "  -16.736603 ]\n",
      " [-12.713533  -11.367697  -10.6473465 ...  -8.905746   -7.060587\n",
      "  -14.004467 ]\n",
      " ...\n",
      " [-18.752525  -12.387486  -15.467651  ... -11.940787  -11.23756\n",
      "  -16.660887 ]\n",
      " [-19.589458  -15.255083  -16.368551  ... -12.235988  -10.729256\n",
      "  -18.070526 ]\n",
      " [-16.206112  -10.999885  -13.303503  ...  -8.817687   -8.022502\n",
      "  -15.393606 ]]\n",
      "SourceInfo(filepath='/home/mschulist/caples_sound/ARU_data/10-BLACK/Data/BLACK-10-CAP_20230611_010000.wav', shard_num=0, shard_len_s=-1.0)\n"
     ]
    },
    {
     "name": "stderr",
     "output_type": "stream",
     "text": [
      "  0%|                                                     | 35/16036 [44:20<327:31:54, 73.69s/it]"
     ]
    },
    {
     "name": "stdout",
     "output_type": "stream",
     "text": [
      "[[-15.409952  -11.901023  -12.112706  ...  -9.5041     -7.1396856\n",
      "  -15.009565 ]\n",
      " [-14.8136835 -11.83593   -11.948358  ...  -9.457174   -7.2515125\n",
      "  -15.194276 ]\n",
      " [-15.175683  -11.575017  -12.180767  ...  -8.43772    -6.77936\n",
      "  -14.92468  ]\n",
      " ...\n",
      " [-17.164799  -12.366805  -13.87858   ... -10.206413   -8.168953\n",
      "  -16.749588 ]\n",
      " [-17.026855  -12.307194  -12.570737  ...  -9.760263   -7.6530094\n",
      "  -16.540615 ]\n",
      " [-17.015198  -11.965241  -13.020168  ...  -9.756829   -7.397378\n",
      "  -15.913891 ]]\n",
      "SourceInfo(filepath='/home/mschulist/caples_sound/ARU_data/10-BLACK/Data/BLACK-10-CAP_20230609_000000.wav', shard_num=0, shard_len_s=-1.0)\n"
     ]
    },
    {
     "name": "stderr",
     "output_type": "stream",
     "text": [
      "  0%|                                                     | 36/16036 [45:34<328:06:43, 73.83s/it]"
     ]
    },
    {
     "name": "stdout",
     "output_type": "stream",
     "text": [
      "[[-17.006931  -11.439787  -12.849582  ...  -9.845993   -8.287239\n",
      "  -16.131813 ]\n",
      " [-15.384175  -11.016767  -11.8580675 ...  -9.17206    -7.004773\n",
      "  -15.4524765]\n",
      " [-16.262484  -11.374777  -12.44379   ...  -9.806191   -8.064874\n",
      "  -16.391567 ]\n",
      " ...\n",
      " [-15.057562  -11.265933  -12.47497   ...  -9.333935   -7.6498556\n",
      "  -15.4225025]\n",
      " [-15.654608  -10.789777  -12.11898   ...  -8.879562   -7.896364\n",
      "  -15.2424755]\n",
      " [-15.458587   -9.758576  -10.710421  ...  -8.392949   -6.4643393\n",
      "  -14.035619 ]]\n",
      "SourceInfo(filepath='/home/mschulist/caples_sound/ARU_data/10-BLACK/Data/BLACK-10-CAP_20230607_050000.wav', shard_num=0, shard_len_s=-1.0)\n"
     ]
    },
    {
     "name": "stderr",
     "output_type": "stream",
     "text": [
      "  0%|                                                     | 37/16036 [46:49<328:33:35, 73.93s/it]"
     ]
    },
    {
     "name": "stdout",
     "output_type": "stream",
     "text": [
      "[[-17.191471  -13.046653  -14.087653  ... -11.689504  -10.466376\n",
      "  -18.612894 ]\n",
      " [-16.827713  -13.042671  -14.040846  ... -12.06534    -9.952006\n",
      "  -17.986235 ]\n",
      " [-16.272255  -12.111145  -13.686767  ...  -9.809192   -9.08988\n",
      "  -18.194096 ]\n",
      " ...\n",
      " [-15.952926   -9.611246   -9.383441  ...  -7.1665134  -5.0668783\n",
      "  -11.32878  ]\n",
      " [-12.034587   -8.990447  -10.0687275 ...  -9.818213   -8.170797\n",
      "  -13.384297 ]\n",
      " [-15.413114  -11.199296  -10.918552  ...  -8.623785   -7.316968\n",
      "  -12.570118 ]]\n",
      "SourceInfo(filepath='/home/mschulist/caples_sound/ARU_data/10-BLACK/Data/BLACK-10-CAP_20230611_163000.wav', shard_num=0, shard_len_s=-1.0)\n"
     ]
    },
    {
     "name": "stderr",
     "output_type": "stream",
     "text": [
      "  0%|▏                                                    | 38/16036 [48:03<329:08:34, 74.07s/it]"
     ]
    },
    {
     "name": "stdout",
     "output_type": "stream",
     "text": [
      "[[ -7.2366095 -10.429246  -10.690108  ...  -9.909273   -8.956121\n",
      "  -14.432366 ]\n",
      " [ -8.430136  -10.526813  -10.370901  ... -11.431003   -9.3394985\n",
      "  -15.603006 ]\n",
      " [ -8.358288  -11.833619  -11.455489  ...  -9.2983265  -8.056382\n",
      "  -12.840162 ]\n",
      " ...\n",
      " [ -8.667938  -11.165038  -12.207042  ...  -8.865936   -9.023157\n",
      "  -15.944509 ]\n",
      " [ -8.412829   -9.946467  -10.96587   ...  -8.727695   -8.211106\n",
      "  -14.164204 ]\n",
      " [ -7.272969  -10.234015  -11.188601  ...  -8.739212   -7.531596\n",
      "  -14.229987 ]]\n",
      "SourceInfo(filepath='/home/mschulist/caples_sound/ARU_data/10-BLACK/Data/BLACK-10-CAP_20230612_210000.wav', shard_num=0, shard_len_s=-1.0)\n"
     ]
    },
    {
     "name": "stderr",
     "output_type": "stream",
     "text": [
      "  0%|▏                                                    | 39/16036 [49:16<327:08:14, 73.62s/it]"
     ]
    },
    {
     "name": "stdout",
     "output_type": "stream",
     "text": [
      "[[ -3.1710281 -11.418966   -9.56784   ...  -9.768429   -7.401168\n",
      "  -14.652687 ]\n",
      " [ -3.4712236 -12.393579   -9.931099  ...  -9.443197   -7.6516476\n",
      "  -14.093678 ]\n",
      " [ -3.7087543 -12.07611    -9.046248  ...  -9.244432   -8.000468\n",
      "  -14.389103 ]\n",
      " ...\n",
      " [ -4.1134224 -12.394415   -9.645634  ...  -9.492041   -7.7355576\n",
      "  -14.923427 ]\n",
      " [ -4.791036  -11.29787    -9.700314  ...  -9.79377    -7.8352194\n",
      "  -14.392487 ]\n",
      " [ -3.8750246 -11.791651   -9.466266  ...  -9.223461   -7.3431053\n",
      "  -14.928301 ]]\n",
      "SourceInfo(filepath='/home/mschulist/caples_sound/ARU_data/10-BLACK/Data/BLACK-10-CAP_20230609_040000.wav', shard_num=0, shard_len_s=-1.0)\n"
     ]
    },
    {
     "name": "stderr",
     "output_type": "stream",
     "text": [
      "  0%|▏                                                    | 40/16036 [50:29<327:10:32, 73.63s/it]"
     ]
    },
    {
     "name": "stdout",
     "output_type": "stream",
     "text": [
      "[[-16.600258 -11.214446 -13.179101 ...  -9.321079  -7.65469  -15.523461]\n",
      " [-17.998196 -12.464619 -14.220615 ... -10.177053  -8.814463 -17.2188  ]\n",
      " [-17.441559 -14.392691 -14.742553 ... -11.985315 -10.396473 -17.296413]\n",
      " ...\n",
      " [-16.38023  -11.367709 -11.88257  ...  -8.737476  -7.026429 -15.344616]\n",
      " [-17.43779  -14.598003 -15.115655 ...  -9.426807  -9.754917 -17.457546]\n",
      " [-17.647472 -14.022819 -13.612053 ... -10.064407  -8.921293 -18.11354 ]]\n",
      "SourceInfo(filepath='/home/mschulist/caples_sound/ARU_data/10-BLACK/Data/BLACK-10-CAP_20230607_010000.wav', shard_num=0, shard_len_s=-1.0)\n"
     ]
    },
    {
     "name": "stderr",
     "output_type": "stream",
     "text": [
      "  0%|▏                                                    | 41/16036 [51:45<330:22:44, 74.36s/it]"
     ]
    },
    {
     "name": "stdout",
     "output_type": "stream",
     "text": [
      "[[-17.31955   -11.861435  -13.125094  ... -10.115803   -7.743354\n",
      "  -15.485574 ]\n",
      " [-17.010479  -12.058047  -12.893502  ...  -9.8837385  -7.754637\n",
      "  -16.579174 ]\n",
      " [-17.12394   -13.534078  -13.367947  ... -10.343737   -8.496491\n",
      "  -17.128805 ]\n",
      " ...\n",
      " [-16.557968  -12.261636  -12.828903  ...  -9.27603    -7.453244\n",
      "  -16.056541 ]\n",
      " [-18.271015  -12.807821  -13.526183  ... -10.4250145  -8.234508\n",
      "  -16.598911 ]\n",
      " [-18.108727  -12.472486  -13.156645  ... -10.161356   -7.9188223\n",
      "  -16.328941 ]]\n",
      "SourceInfo(filepath='/home/mschulist/caples_sound/ARU_data/10-BLACK/Data/BLACK-10-CAP_20230604_210000.wav', shard_num=0, shard_len_s=-1.0)\n"
     ]
    },
    {
     "name": "stderr",
     "output_type": "stream",
     "text": [
      "  0%|▏                                                    | 42/16036 [52:59<329:33:40, 74.18s/it]"
     ]
    },
    {
     "name": "stdout",
     "output_type": "stream",
     "text": [
      "[[-18.829365  -13.523552  -13.021238  ...  -9.097057   -7.8658504\n",
      "  -17.22266  ]\n",
      " [-19.831573  -14.60827   -15.054614  ... -12.866308  -10.671317\n",
      "  -17.054184 ]\n",
      " [-16.643414  -12.848869  -13.385285  ... -12.928288   -9.955391\n",
      "  -17.76423  ]\n",
      " ...\n",
      " [-17.417084  -11.295699  -13.656474  ...  -8.630877   -7.5501842\n",
      "  -16.6096   ]\n",
      " [-16.844395  -16.987858  -11.5309925 ... -10.350809  -10.989371\n",
      "  -15.8692875]\n",
      " [-16.760406  -12.014105  -12.950018  ... -10.6802845  -7.2801886\n",
      "  -14.782145 ]]\n",
      "SourceInfo(filepath='/home/mschulist/caples_sound/ARU_data/10-BLACK/Data/BLACK-10-CAP_20230607_163000.wav', shard_num=0, shard_len_s=-1.0)\n"
     ]
    },
    {
     "name": "stderr",
     "output_type": "stream",
     "text": [
      "  0%|▏                                                    | 43/16036 [54:14<330:47:05, 74.46s/it]"
     ]
    },
    {
     "name": "stdout",
     "output_type": "stream",
     "text": [
      "[[-14.25073   -11.120638  -11.238035  ...  -8.86203    -8.15381\n",
      "  -14.109806 ]\n",
      " [-12.277969  -12.529858  -13.063294  ...  -8.859295   -5.3339796\n",
      "  -10.80241  ]\n",
      " [-12.327481  -10.006103  -13.609404  ...  -9.446604   -7.5386114\n",
      "   -8.825824 ]\n",
      " ...\n",
      " [-16.519932  -11.171022  -12.794213  ...  -9.087988   -8.211691\n",
      "  -15.958725 ]\n",
      " [-14.839158  -11.450113  -12.154095  ...  -8.324341   -6.9323797\n",
      "  -14.430089 ]\n",
      " [-17.505177  -12.032765  -13.442034  ...  -9.286022   -7.5588083\n",
      "  -16.84051  ]]\n",
      "SourceInfo(filepath='/home/mschulist/caples_sound/ARU_data/10-BLACK/Data/BLACK-10-CAP_20230611_050000.wav', shard_num=0, shard_len_s=-1.0)\n"
     ]
    },
    {
     "name": "stderr",
     "output_type": "stream",
     "text": [
      "  0%|▏                                                    | 44/16036 [55:30<333:08:31, 74.99s/it]"
     ]
    },
    {
     "name": "stdout",
     "output_type": "stream",
     "text": [
      "[[-17.423582  -11.831376  -14.834579  ... -12.39339    -9.268889\n",
      "  -17.533554 ]\n",
      " [-14.651308  -11.528556  -13.30558   ...  -9.466574   -8.619933\n",
      "  -14.252252 ]\n",
      " [-16.199005  -13.049001  -12.907589  ... -11.123266   -9.66734\n",
      "  -16.793186 ]\n",
      " ...\n",
      " [-10.041633   -9.835663  -10.216686  ...  -7.4540377  -4.8165474\n",
      "  -11.629909 ]\n",
      " [-12.546253  -10.813794  -10.286565  ...  -8.087529   -5.1054544\n",
      "  -10.83474  ]\n",
      " [-14.535043  -10.991911  -10.264055  ...  -7.1450486  -5.494296\n",
      "  -12.695037 ]]\n",
      "SourceInfo(filepath='/home/mschulist/caples_sound/ARU_data/10-BLACK/Data/BLACK-10-CAP_20230607_090000.wav', shard_num=0, shard_len_s=-1.0)\n"
     ]
    },
    {
     "name": "stderr",
     "output_type": "stream",
     "text": [
      "  0%|▏                                                    | 45/16036 [56:41<327:15:21, 73.67s/it]"
     ]
    },
    {
     "name": "stdout",
     "output_type": "stream",
     "text": [
      "[[-16.218388  -11.513422  -14.579568  ...  -7.7874994  -6.982457\n",
      "  -13.09227  ]\n",
      " [-14.038603  -10.244851  -10.048776  ...  -7.589245   -8.16729\n",
      "  -12.956987 ]\n",
      " [-17.39897    -9.93847   -11.242086  ... -10.171906   -9.300616\n",
      "  -14.195629 ]\n",
      " ...\n",
      " [-16.079426  -13.070599  -13.740633  ...  -9.914127  -10.810738\n",
      "  -16.889484 ]\n",
      " [-16.479807  -11.331824  -13.732484  ...  -7.6461377  -8.943712\n",
      "  -15.112386 ]\n",
      " [-14.413354  -12.5843115 -13.552234  ...  -7.196889   -5.5854125\n",
      "  -11.459541 ]]\n",
      "SourceInfo(filepath='/home/mschulist/caples_sound/ARU_data/10-BLACK/Data/BLACK-10-CAP_20230611_090000.wav', shard_num=0, shard_len_s=-1.0)\n",
      "SourceInfo(filepath='/home/mschulist/caples_sound/ARU_data/10-BLACK/Data/BLACK-10-CAP_20230616_033000.wav', shard_num=0, shard_len_s=-1.0)\n"
     ]
    },
    {
     "name": "stderr",
     "output_type": "stream",
     "text": [
      "  0%|▏                                                    | 47/16036 [57:57<254:18:32, 57.26s/it]"
     ]
    },
    {
     "name": "stdout",
     "output_type": "stream",
     "text": [
      "[[-11.483484  -11.457856  -12.0247345 ...  -9.537247   -8.2482605\n",
      "  -16.152426 ]\n",
      " [-10.330243  -11.591626  -12.144141  ...  -9.516244   -8.377752\n",
      "  -16.404865 ]\n",
      " [-10.223106  -12.033305  -11.900045  ...  -9.414797   -8.321242\n",
      "  -16.25695  ]\n",
      " ...\n",
      " [-11.119704  -12.060597  -11.756711  ...  -9.98037    -8.666851\n",
      "  -15.810984 ]\n",
      " [-11.17021   -12.151597  -12.911329  ...  -9.860435   -9.146909\n",
      "  -16.482864 ]\n",
      " [-10.571729  -11.552743  -12.312067  ...  -9.88514    -8.906678\n",
      "  -15.548969 ]]\n",
      "SourceInfo(filepath='/home/mschulist/caples_sound/ARU_data/10-BLACK/Data/BLACK-10-CAP_20230609_080000.wav', shard_num=0, shard_len_s=-1.0)\n"
     ]
    },
    {
     "name": "stderr",
     "output_type": "stream",
     "text": [
      "  0%|▏                                                    | 48/16036 [59:13<274:21:56, 61.78s/it]"
     ]
    },
    {
     "name": "stdout",
     "output_type": "stream",
     "text": [
      "[[-18.248928  -14.732053  -11.978316  ...  -8.19061    -6.071707\n",
      "  -15.560692 ]\n",
      " [-16.559013  -10.209246  -13.688433  ...  -7.4355335  -7.2379856\n",
      "  -15.9761305]\n",
      " [-14.430654  -11.750388  -10.101387  ...  -6.4388075  -6.1577673\n",
      "  -14.378803 ]\n",
      " ...\n",
      " [-15.350492  -11.558381  -14.538505  ...  -8.745365   -7.986017\n",
      "  -12.467495 ]\n",
      " [-13.847014  -11.481246  -11.028785  ...  -7.538121   -6.7512608\n",
      "  -12.757276 ]\n",
      " [-16.123508  -10.577396  -12.4667425 ...  -9.4027     -8.464533\n",
      "  -16.329737 ]]\n",
      "SourceInfo(filepath='/home/mschulist/caples_sound/ARU_data/10-BLACK/Data/BLACK-10-CAP_20230615_233000.wav', shard_num=0, shard_len_s=-1.0)\n"
     ]
    },
    {
     "name": "stderr",
     "output_type": "stream",
     "text": [
      "  0%|▏                                                  | 49/16036 [1:00:27<288:57:12, 65.07s/it]"
     ]
    },
    {
     "name": "stdout",
     "output_type": "stream",
     "text": [
      "[[-11.018448 -11.988403 -12.877084 ... -10.229111  -9.201372 -16.546156]\n",
      " [-10.937535 -11.842399 -12.699241 ...  -9.896331  -9.167726 -16.267311]\n",
      " [-11.938913 -12.142406 -12.876368 ... -10.465127  -9.496112 -17.136093]\n",
      " ...\n",
      " [-11.469445 -12.521669 -13.217187 ... -10.559522  -9.366659 -17.374065]\n",
      " [-11.577643 -11.897582 -12.695533 ...  -9.562338  -9.074236 -16.525837]\n",
      " [-12.63827  -12.302714 -13.344629 ... -10.466519  -9.376558 -17.417294]]\n",
      "SourceInfo(filepath='/home/mschulist/caples_sound/ARU_data/10-BLACK/Data/BLACK-10-CAP_20230607_220000.wav', shard_num=0, shard_len_s=-1.0)\n"
     ]
    },
    {
     "name": "stderr",
     "output_type": "stream",
     "text": [
      "  0%|▏                                                  | 50/16036 [1:01:44<302:57:43, 68.23s/it]"
     ]
    },
    {
     "name": "stdout",
     "output_type": "stream",
     "text": [
      "[[-14.463788  -10.569512  -11.065565  ...  -9.029345   -7.110327\n",
      "  -14.259871 ]\n",
      " [-14.811862  -10.374923  -10.818433  ...  -9.017736   -6.9306426\n",
      "  -15.14073  ]\n",
      " [-15.449146  -10.560237  -10.66969   ...  -8.887417   -7.6349125\n",
      "  -15.185077 ]\n",
      " ...\n",
      " [-15.971669  -11.186463  -11.790272  ...  -9.756069   -7.9256954\n",
      "  -15.479978 ]\n",
      " [-15.390491  -10.778964  -11.7164135 ...  -9.45117    -7.7971535\n",
      "  -15.455423 ]\n",
      " [-14.846132  -10.5789585 -11.704     ...  -9.397231   -7.4134398\n",
      "  -15.451927 ]]\n",
      "SourceInfo(filepath='/home/mschulist/caples_sound/ARU_data/10-BLACK/Data/BLACK-10-CAP_20230612_060000.wav', shard_num=0, shard_len_s=-1.0)\n"
     ]
    },
    {
     "name": "stderr",
     "output_type": "stream",
     "text": [
      "  0%|▏                                                  | 51/16036 [1:02:56<307:59:48, 69.36s/it]"
     ]
    },
    {
     "name": "stdout",
     "output_type": "stream",
     "text": [
      "[[-10.912067   -9.171366  -13.873957  ... -11.723972   -5.5309725\n",
      "  -13.705041 ]\n",
      " [-11.881123  -12.793014  -12.50358   ...  -6.577084   -7.904484\n",
      "  -15.301258 ]\n",
      " [ -9.406521   -9.870892  -13.169509  ...  -9.872634   -8.557141\n",
      "  -12.938821 ]\n",
      " ...\n",
      " [-11.845587  -11.766578  -12.745251  ...  -9.172396   -9.21569\n",
      "  -12.466867 ]\n",
      " [-11.064821  -10.572355  -12.755994  ... -10.9359865  -9.219475\n",
      "  -17.262117 ]\n",
      " [-10.419255  -12.581586  -13.117244  ... -11.016279  -12.093726\n",
      "  -16.109978 ]]\n",
      "SourceInfo(filepath='/home/mschulist/caples_sound/ARU_data/10-BLACK/Data/BLACK-10-CAP_20230609_230000.wav', shard_num=0, shard_len_s=-1.0)\n"
     ]
    },
    {
     "name": "stderr",
     "output_type": "stream",
     "text": [
      "  0%|▏                                                  | 52/16036 [1:04:12<315:54:42, 71.15s/it]"
     ]
    },
    {
     "name": "stdout",
     "output_type": "stream",
     "text": [
      "[[-16.695274  -11.78665   -12.259116  ...  -9.903063   -7.5351915\n",
      "  -16.30354  ]\n",
      " [-17.78878   -12.13043   -13.069119  ... -10.351608   -7.9154196\n",
      "  -16.634848 ]\n",
      " [-16.267109  -12.308457  -13.479767  ... -10.350433   -8.377622\n",
      "  -16.88167  ]\n",
      " ...\n",
      " [-15.903683  -12.216072  -13.055605  ...  -9.5501995  -7.4911757\n",
      "  -15.3920965]\n",
      " [-17.123539  -11.800606  -12.670558  ... -10.192992   -7.752693\n",
      "  -16.388857 ]\n",
      " [-18.62146   -13.294174  -14.605509  ... -11.619043   -9.148415\n",
      "  -17.69914  ]]\n",
      "SourceInfo(filepath='/home/mschulist/caples_sound/ARU_data/10-BLACK/Data/BLACK-10-CAP_20230615_083000.wav', shard_num=0, shard_len_s=-1.0)\n"
     ]
    },
    {
     "name": "stderr",
     "output_type": "stream",
     "text": [
      "  0%|▏                                                  | 53/16036 [1:05:26<320:35:30, 72.21s/it]"
     ]
    },
    {
     "name": "stdout",
     "output_type": "stream",
     "text": [
      "[[ -9.1618595 -12.505984  -12.110968  ... -10.626165   -8.129628\n",
      "  -15.726848 ]\n",
      " [ -7.878681  -12.106182  -12.880744  ...  -8.613866   -6.143344\n",
      "  -14.681217 ]\n",
      " [ -7.975732  -11.04966   -11.590712  ...  -9.762129   -6.4816475\n",
      "  -14.748129 ]\n",
      " ...\n",
      " [ -8.579023  -11.264009  -12.66621   ... -10.443052   -8.1309595\n",
      "  -13.074783 ]\n",
      " [ -8.080641  -12.151834  -10.930391  ... -10.410264  -10.720688\n",
      "  -12.642077 ]\n",
      " [ -8.322224   -9.25143   -11.878505  ...  -6.578291   -6.7465496\n",
      "  -13.312489 ]]\n",
      "SourceInfo(filepath='/home/mschulist/caples_sound/ARU_data/10-BLACK/Data/BLACK-10-CAP_20230612_020000.wav', shard_num=0, shard_len_s=-1.0)\n"
     ]
    },
    {
     "name": "stderr",
     "output_type": "stream",
     "text": [
      "  0%|▏                                                  | 54/16036 [1:06:42<324:44:29, 73.15s/it]"
     ]
    },
    {
     "name": "stdout",
     "output_type": "stream",
     "text": [
      "[[-10.473599 -11.538881 -12.914832 ...  -8.923973  -9.074054 -16.469276]\n",
      " [ -9.310942 -10.54838  -12.675622 ...  -9.591842  -9.541273 -16.029644]\n",
      " [ -8.563836 -10.390656 -12.064086 ...  -9.327743  -9.207633 -14.900913]\n",
      " ...\n",
      " [ -9.953536 -10.989703 -12.202134 ...  -9.62233   -9.00755  -15.455097]\n",
      " [-11.212157 -11.609139 -13.141358 ...  -9.852631  -9.571019 -16.555565]\n",
      " [ -9.458147 -11.200655 -12.280542 ...  -9.424868  -8.249563 -15.597972]]\n",
      "SourceInfo(filepath='/home/mschulist/caples_sound/ARU_data/10-BLACK/Data/BLACK-10-CAP_20230619_171422.wav', shard_num=0, shard_len_s=-1.0)\n",
      "SourceInfo(filepath='/home/mschulist/caples_sound/ARU_data/10-BLACK/Data/BLACK-10-CAP_20230611_220000.wav', shard_num=0, shard_len_s=-1.0)\n"
     ]
    },
    {
     "name": "stderr",
     "output_type": "stream",
     "text": [
      "  0%|▏                                                  | 56/16036 [1:07:56<251:43:08, 56.71s/it]"
     ]
    },
    {
     "name": "stdout",
     "output_type": "stream",
     "text": [
      "[[ -8.163802  -11.801188  -11.490953  ...  -9.396936   -8.945401\n",
      "  -15.700535 ]\n",
      " [ -7.79991   -11.071855  -11.069141  ...  -9.689434   -9.0386715\n",
      "  -14.983714 ]\n",
      " [ -9.5393305 -10.945871   -9.778323  ... -10.255853   -8.926631\n",
      "  -16.348827 ]\n",
      " ...\n",
      " [ -7.1056447 -10.990193  -11.386632  ...  -9.360606   -8.929408\n",
      "  -14.837919 ]\n",
      " [ -6.962971  -12.500983  -11.3947115 ...  -8.630527   -9.924676\n",
      "  -15.633419 ]\n",
      " [ -7.1042247 -10.973428  -11.364429  ...  -8.765545   -8.980166\n",
      "  -15.674386 ]]\n",
      "SourceInfo(filepath='/home/mschulist/caples_sound/ARU_data/10-BLACK/Data/BLACK-10-CAP_20230604_193000.wav', shard_num=0, shard_len_s=-1.0)\n"
     ]
    },
    {
     "name": "stderr",
     "output_type": "stream",
     "text": [
      "  0%|▏                                                  | 57/16036 [1:09:11<271:21:04, 61.13s/it]"
     ]
    },
    {
     "name": "stdout",
     "output_type": "stream",
     "text": [
      "[[-10.978782  -12.273208  -10.544401  ...  -9.004807   -7.4266787\n",
      "  -14.309375 ]\n",
      " [-12.467824  -12.3035345 -11.722757  ...  -9.017356   -7.210149\n",
      "  -15.310308 ]\n",
      " [-12.376558  -11.440459  -11.008194  ...  -9.107152   -6.820073\n",
      "  -14.363591 ]\n",
      " ...\n",
      " [-11.051065  -13.382773  -11.837786  ...  -7.0528183  -6.3250628\n",
      "  -12.329727 ]\n",
      " [-12.258843  -12.311961  -11.567122  ...  -9.099577   -7.3399696\n",
      "  -14.6597595]\n",
      " [-13.2177105 -11.629952  -11.530057  ...  -6.251884   -7.0933743\n",
      "  -14.339827 ]]\n",
      "SourceInfo(filepath='/home/mschulist/caples_sound/ARU_data/10-BLACK/Data/BLACK-10-CAP_20230615_003000.wav', shard_num=0, shard_len_s=-1.0)\n"
     ]
    },
    {
     "name": "stderr",
     "output_type": "stream",
     "text": [
      "  0%|▏                                                  | 58/16036 [1:10:25<286:49:18, 64.62s/it]"
     ]
    },
    {
     "name": "stdout",
     "output_type": "stream",
     "text": [
      "[[-10.868001 -11.595938 -12.309651 ... -10.116164  -9.387102 -16.79369 ]\n",
      " [-10.45681  -11.491496 -12.653545 ...  -9.995638  -9.466221 -16.595375]\n",
      " [-11.000504 -12.166496 -13.357621 ... -10.553438  -9.780232 -17.417477]\n",
      " ...\n",
      " [-10.513404 -10.857613 -12.423981 ...  -9.177518  -8.958874 -16.07423 ]\n",
      " [-10.792663 -11.794342 -12.970511 ...  -9.960083  -9.255145 -16.379606]\n",
      " [-11.218533 -11.256254 -12.844791 ... -10.828569  -9.445018 -17.783346]]\n",
      "SourceInfo(filepath='/home/mschulist/caples_sound/ARU_data/10-BLACK/Data/BLACK-10-CAP_20230615_170000.wav', shard_num=0, shard_len_s=-1.0)\n"
     ]
    },
    {
     "name": "stderr",
     "output_type": "stream",
     "text": [
      "  0%|▏                                                  | 59/16036 [1:11:42<301:13:21, 67.87s/it]"
     ]
    },
    {
     "name": "stdout",
     "output_type": "stream",
     "text": [
      "[[ -6.13834   -11.277297   -9.796283  ...  -9.24444    -7.2742634\n",
      "  -15.663306 ]\n",
      " [ -6.088173  -10.632136  -10.33919   ...  -9.265394   -8.07955\n",
      "  -14.7160225]\n",
      " [ -8.250726  -11.091865  -11.667307  ...  -9.53052    -8.662022\n",
      "  -16.308407 ]\n",
      " ...\n",
      " [ -6.5749664 -11.164605  -10.907738  ...  -9.227193   -8.339734\n",
      "  -15.793833 ]\n",
      " [ -7.0999475 -10.745937  -10.394186  ...  -9.956989   -8.069175\n",
      "  -15.963925 ]\n",
      " [ -6.32483   -11.246098   -9.980131  ...  -9.892532   -8.286581\n",
      "  -16.267735 ]]\n",
      "SourceInfo(filepath='/home/mschulist/caples_sound/ARU_data/10-BLACK/Data/BLACK-10-CAP_20230612_193000.wav', shard_num=0, shard_len_s=-1.0)\n"
     ]
    },
    {
     "name": "stderr",
     "output_type": "stream",
     "text": [
      "  0%|▏                                                  | 60/16036 [1:12:56<309:24:54, 69.72s/it]"
     ]
    },
    {
     "name": "stdout",
     "output_type": "stream",
     "text": [
      "[[ -2.176856  -11.766313   -8.075153  ...  -9.520657   -7.2388086\n",
      "  -14.252608 ]\n",
      " [ -3.9805455 -12.873767   -8.398617  ...  -9.686495   -6.861452\n",
      "  -14.890792 ]\n",
      " [ -2.773569  -11.134347   -7.6642704 ...  -9.5309     -7.04885\n",
      "  -13.846181 ]\n",
      " ...\n",
      " [ -5.0593734 -11.416372  -10.549103  ...  -8.83246    -8.638872\n",
      "  -14.574927 ]\n",
      " [ -3.991585  -13.1243725 -10.15308   ... -10.06195    -8.287988\n",
      "  -15.21356  ]\n",
      " [ -4.0121    -12.321965  -10.003582  ...  -9.144045   -7.781171\n",
      "  -14.948572 ]]\n",
      "SourceInfo(filepath='/home/mschulist/caples_sound/ARU_data/10-BLACK/Data/BLACK-10-CAP_20230615_043000.wav', shard_num=0, shard_len_s=-1.0)\n"
     ]
    },
    {
     "name": "stderr",
     "output_type": "stream",
     "text": [
      "  0%|▏                                                  | 61/16036 [1:14:13<317:31:35, 71.56s/it]"
     ]
    },
    {
     "name": "stdout",
     "output_type": "stream",
     "text": [
      "[[-11.666228  -12.345776  -13.451222  ... -10.318811   -9.748793\n",
      "  -16.71067  ]\n",
      " [-11.213746  -11.542343  -13.095451  ...  -9.981102   -9.310749\n",
      "  -17.150585 ]\n",
      " [-10.602998  -11.704719  -12.854888  ...  -9.892441   -9.184967\n",
      "  -16.897463 ]\n",
      " ...\n",
      " [ -9.173569   -9.95667   -13.791349  ... -11.0263605 -10.836373\n",
      "  -15.881948 ]\n",
      " [-11.160123  -10.402635  -12.199478  ... -10.176509   -9.685827\n",
      "  -17.510777 ]\n",
      " [ -9.247711  -10.845479  -15.116281  ... -10.945063  -10.7122755\n",
      "  -17.479456 ]]\n",
      "SourceInfo(filepath='/home/mschulist/caples_sound/ARU_data/10-BLACK/Data/BLACK-10-CAP_20230616_050000.wav', shard_num=0, shard_len_s=-1.0)\n"
     ]
    },
    {
     "name": "stderr",
     "output_type": "stream",
     "text": [
      "  0%|▏                                                  | 62/16036 [1:15:27<321:18:47, 72.41s/it]"
     ]
    },
    {
     "name": "stdout",
     "output_type": "stream",
     "text": [
      "[[-13.285296  -12.590443  -14.0987425 ... -10.616541  -10.486178\n",
      "  -17.486177 ]\n",
      " [-12.447489  -12.203046  -13.583583  ... -10.6245     -9.749425\n",
      "  -16.61084  ]\n",
      " [-11.585803  -11.414308  -12.986454  ... -10.301239   -8.996177\n",
      "  -17.549503 ]\n",
      " ...\n",
      " [ -9.581041  -12.116775  -11.826591  ...  -9.065826   -9.236932\n",
      "  -15.049388 ]\n",
      " [-11.316472   -9.665071  -10.872403  ... -10.377087   -8.802596\n",
      "  -15.653382 ]\n",
      " [-13.280955  -14.205824  -15.421789  ... -13.073551  -12.463679\n",
      "  -18.009151 ]]\n",
      "SourceInfo(filepath='/home/mschulist/caples_sound/ARU_data/10-BLACK/Data/BLACK-10-CAP_20230609_190000.wav', shard_num=0, shard_len_s=-1.0)\n"
     ]
    },
    {
     "name": "stderr",
     "output_type": "stream",
     "text": [
      "  0%|▏                                                  | 63/16036 [1:16:42<324:18:42, 73.09s/it]"
     ]
    },
    {
     "name": "stdout",
     "output_type": "stream",
     "text": [
      "[[-22.155613  -18.799625  -17.766953  ... -14.867333  -15.100259\n",
      "  -22.129341 ]\n",
      " [-18.634087  -15.883225  -17.026329  ... -13.738913  -13.168427\n",
      "  -21.066387 ]\n",
      " [-17.671612  -15.349909  -14.292877  ... -10.346642   -9.766692\n",
      "  -16.409475 ]\n",
      " ...\n",
      " [-13.918863  -11.316627  -12.899213  ...  -7.181527   -8.143264\n",
      "  -14.659327 ]\n",
      " [-13.70172    -8.306369  -12.536348  ... -12.510956  -11.266182\n",
      "  -18.023949 ]\n",
      " [ -8.89751   -13.155541   -8.432881  ...  -9.496122   -7.9844475\n",
      "  -13.92099  ]]\n",
      "SourceInfo(filepath='/home/mschulist/caples_sound/ARU_data/10-BLACK/Data/BLACK-10-CAP_20230611_180000.wav', shard_num=0, shard_len_s=-1.0)\n"
     ]
    },
    {
     "name": "stderr",
     "output_type": "stream",
     "text": [
      "  0%|▏                                                  | 64/16036 [1:17:57<327:33:53, 73.83s/it]"
     ]
    },
    {
     "name": "stdout",
     "output_type": "stream",
     "text": [
      "[[ -9.124953  -9.831623 -11.618105 ...  -8.75282   -8.56985  -14.604634]\n",
      " [ -8.899503 -10.030648 -11.539422 ...  -8.450766 -10.896541 -15.063466]\n",
      " [ -8.211779 -12.204406 -15.094349 ... -11.75615  -12.186438 -15.640536]\n",
      " ...\n",
      " [-12.071212 -11.199235 -13.961685 ... -10.610065  -8.814455 -17.071129]\n",
      " [ -9.430262  -9.673203 -14.220387 ...  -9.368013 -10.516856 -14.613594]\n",
      " [-11.383655 -10.608044 -12.995386 ... -11.890293 -11.249282 -15.861975]]\n",
      "SourceInfo(filepath='/home/mschulist/caples_sound/ARU_data/10-BLACK/Data/BLACK-10-CAP_20230615_210000.wav', shard_num=0, shard_len_s=-1.0)\n"
     ]
    },
    {
     "name": "stderr",
     "output_type": "stream",
     "text": [
      "  0%|▏                                                  | 65/16036 [1:19:12<329:00:29, 74.16s/it]"
     ]
    },
    {
     "name": "stdout",
     "output_type": "stream",
     "text": [
      "[[-14.183337  -15.403428  -14.857947  ... -12.786584  -13.729736\n",
      "  -20.457827 ]\n",
      " [-13.513097  -11.183438  -15.086162  ... -12.623539  -11.200053\n",
      "  -18.784328 ]\n",
      " [-11.916648  -12.521542  -13.420212  ... -11.341809  -10.75744\n",
      "  -14.823102 ]\n",
      " ...\n",
      " [ -8.982487  -11.025889  -12.255291  ...  -9.422619   -8.586685\n",
      "  -16.071043 ]\n",
      " [ -9.039315  -10.694527  -11.380016  ...  -9.780195   -8.126405\n",
      "  -16.411203 ]\n",
      " [ -8.941826  -10.232441  -12.7048645 ... -10.188455   -9.575508\n",
      "  -15.037211 ]]\n",
      "SourceInfo(filepath='/home/mschulist/caples_sound/ARU_data/10-BLACK/Data/BLACK-10-CAP_20230616_010000.wav', shard_num=0, shard_len_s=-1.0)\n"
     ]
    },
    {
     "name": "stderr",
     "output_type": "stream",
     "text": [
      "  0%|▏                                                  | 66/16036 [1:20:29<331:52:55, 74.81s/it]"
     ]
    },
    {
     "name": "stdout",
     "output_type": "stream",
     "text": [
      "[[-12.6906185 -12.390259  -13.249646  ... -10.383907   -9.595523\n",
      "  -17.807943 ]\n",
      " [-10.515544  -11.469281  -11.760045  ...  -8.609741   -8.4626\n",
      "  -14.425924 ]\n",
      " [-10.853257  -11.410606  -12.362981  ... -10.311055   -9.328858\n",
      "  -16.055313 ]\n",
      " ...\n",
      " [-11.424083  -11.872825  -12.177168  ...  -9.748888   -8.581284\n",
      "  -16.15361  ]\n",
      " [ -9.436209  -12.003612  -11.376188  ...  -9.487389   -8.77518\n",
      "  -15.12342  ]\n",
      " [-10.143839  -11.686336  -12.687046  ...  -9.17646    -8.904822\n",
      "  -15.372373 ]]\n",
      "SourceInfo(filepath='/home/mschulist/caples_sound/ARU_data/10-BLACK/Data/BLACK-10-CAP_20230607_180000.wav', shard_num=0, shard_len_s=-1.0)\n"
     ]
    },
    {
     "name": "stderr",
     "output_type": "stream",
     "text": [
      "  0%|▏                                                  | 67/16036 [1:21:45<333:23:56, 75.16s/it]"
     ]
    },
    {
     "name": "stdout",
     "output_type": "stream",
     "text": [
      "[[-14.435402  -14.385353  -12.062808  ... -10.65196    -9.06578\n",
      "  -15.469358 ]\n",
      " [-14.143661  -11.586853  -12.074513  ...  -8.730217   -6.9758167\n",
      "  -14.907684 ]\n",
      " [-12.66177   -10.545032  -10.846442  ...  -7.334072   -7.402789\n",
      "  -14.733978 ]\n",
      " ...\n",
      " [-13.784389  -10.313835  -12.155296  ...  -6.948842   -8.225272\n",
      "  -13.492519 ]\n",
      " [-16.193523  -13.877826  -14.2881    ... -11.184922  -10.742907\n",
      "  -16.790764 ]\n",
      " [-13.060617  -11.300889  -10.551019  ...  -8.88756    -8.343002\n",
      "  -14.66044  ]]\n",
      "SourceInfo(filepath='/home/mschulist/caples_sound/ARU_data/10-BLACK/Data/BLACK-10-CAP_20230612_233000.wav', shard_num=0, shard_len_s=-1.0)\n"
     ]
    },
    {
     "name": "stderr",
     "output_type": "stream",
     "text": [
      "  0%|▏                                                  | 68/16036 [1:22:58<330:59:51, 74.62s/it]"
     ]
    },
    {
     "name": "stdout",
     "output_type": "stream",
     "text": [
      "[[ -5.5543566 -11.18713   -11.769663  ...  -9.367969   -8.832314\n",
      "  -14.321814 ]\n",
      " [ -4.3455963 -10.750846  -10.045194  ...  -9.302014   -8.395102\n",
      "  -13.274512 ]\n",
      " [ -5.4904146  -9.602705  -10.169459  ...  -9.726742   -7.3820715\n",
      "  -13.459679 ]\n",
      " ...\n",
      " [ -5.0424404 -10.72846   -10.825817  ...  -9.437815   -7.8911934\n",
      "  -14.668632 ]\n",
      " [ -5.6441517 -11.021703  -11.124773  ...  -9.504736   -8.786834\n",
      "  -13.869762 ]\n",
      " [ -4.5225363 -11.530747   -9.8062    ...  -9.665179   -8.036226\n",
      "  -13.853422 ]]\n",
      "SourceInfo(filepath='/home/mschulist/caples_sound/ARU_data/10-BLACK/Data/BLACK-10-CAP_20230607_073000.wav', shard_num=0, shard_len_s=-1.0)\n"
     ]
    },
    {
     "name": "stderr",
     "output_type": "stream",
     "text": [
      "  0%|▏                                                  | 69/16036 [1:24:12<330:34:07, 74.53s/it]"
     ]
    },
    {
     "name": "stdout",
     "output_type": "stream",
     "text": [
      "[[-17.41737    -9.917245  -13.034935  ...  -6.183791   -5.6053896\n",
      "  -11.271658 ]\n",
      " [-16.753902  -12.62245   -15.243432  ...  -9.026691   -6.895252\n",
      "  -14.186592 ]\n",
      " [-16.159893  -12.211815  -13.329743  ...  -9.734422   -9.708365\n",
      "  -16.150925 ]\n",
      " ...\n",
      " [-13.230226  -10.8403635 -13.087987  ...  -7.013013   -4.1300325\n",
      "  -13.891672 ]\n",
      " [-15.430661  -11.110695  -14.812296  ...  -8.263187   -6.088647\n",
      "  -10.86738  ]\n",
      " [-13.828092  -10.207546  -13.404714  ...  -7.826002   -6.939372\n",
      "  -16.31317  ]]\n",
      "SourceInfo(filepath='/home/mschulist/caples_sound/ARU_data/10-BLACK/Data/BLACK-10-CAP_20230609_023000.wav', shard_num=0, shard_len_s=-1.0)\n"
     ]
    },
    {
     "name": "stderr",
     "output_type": "stream",
     "text": [
      "  0%|▏                                                  | 70/16036 [1:25:24<326:03:35, 73.52s/it]"
     ]
    },
    {
     "name": "stdout",
     "output_type": "stream",
     "text": [
      "[[-17.409771  -12.108331  -13.62603   ...  -9.907589   -8.043683\n",
      "  -16.359142 ]\n",
      " [-18.49131   -11.980695  -13.535396  ...  -9.913928   -7.9638853\n",
      "  -15.896864 ]\n",
      " [-18.456589  -12.365163  -14.049859  ... -10.42729    -8.177555\n",
      "  -17.426327 ]\n",
      " ...\n",
      " [-18.04533   -12.332282  -13.914044  ... -10.212927   -7.6504393\n",
      "  -16.320961 ]\n",
      " [-18.447098  -12.386291  -14.372382  ... -10.938543   -8.534626\n",
      "  -17.499004 ]\n",
      " [-17.16204   -12.039231  -12.595931  ...  -9.731422   -7.7135134\n",
      "  -15.840437 ]]\n",
      "SourceInfo(filepath='/home/mschulist/caples_sound/ARU_data/10-BLACK/Data/BLACK-10-CAP_20230611_033000.wav', shard_num=0, shard_len_s=-1.0)\n"
     ]
    },
    {
     "name": "stderr",
     "output_type": "stream",
     "text": [
      "  0%|▏                                                  | 71/16036 [1:26:36<324:51:37, 73.25s/it]"
     ]
    },
    {
     "name": "stdout",
     "output_type": "stream",
     "text": [
      "[[-14.452273 -13.175103 -11.949632 ... -11.838753  -9.81282  -16.619839]\n",
      " [-15.782101 -14.131316 -13.172161 ... -13.094239 -11.565192 -17.775188]\n",
      " [-13.831617 -13.018959 -11.252226 ... -12.742027  -9.722126 -17.010536]\n",
      " ...\n",
      " [-17.329414 -12.585888 -12.783668 ... -10.315378  -8.079176 -16.527466]\n",
      " [-16.241482 -12.073322 -12.406975 ... -10.044593  -8.398395 -16.293999]\n",
      " [-15.657228 -12.235662 -12.491017 ...  -9.722654  -7.305132 -15.677164]]\n",
      "SourceInfo(filepath='/home/mschulist/caples_sound/ARU_data/10-BLACK/Data/BLACK-10-CAP_20230607_100000.wav', shard_num=0, shard_len_s=-1.0)\n"
     ]
    },
    {
     "name": "stderr",
     "output_type": "stream",
     "text": [
      "  0%|▏                                                  | 72/16036 [1:27:47<321:50:51, 72.58s/it]"
     ]
    },
    {
     "name": "stdout",
     "output_type": "stream",
     "text": [
      "[[-10.161248   -9.863841  -10.539178  ...  -6.96084    -6.1661625\n",
      "  -13.736186 ]\n",
      " [-12.257179  -10.938668  -10.825415  ...  -8.394516   -8.847687\n",
      "  -15.057095 ]\n",
      " [ -6.6598706  -8.582308  -10.117083  ...  -6.291356   -6.120043\n",
      "  -13.8876   ]\n",
      " ...\n",
      " [-12.98482   -10.410943  -11.210518  ...  -6.779258   -7.1755095\n",
      "  -14.103132 ]\n",
      " [-13.03029   -11.300005  -12.037836  ...  -7.1242714  -3.3544557\n",
      "  -10.512425 ]\n",
      " [-13.502689  -11.086597  -12.16856   ...  -9.6095495  -8.641931\n",
      "  -14.466539 ]]\n",
      "SourceInfo(filepath='/home/mschulist/caples_sound/ARU_data/10-BLACK/Data/BLACK-10-CAP_20230611_073000.wav', shard_num=0, shard_len_s=-1.0)\n"
     ]
    },
    {
     "name": "stderr",
     "output_type": "stream",
     "text": [
      "  0%|▏                                                  | 73/16036 [1:29:01<323:46:21, 73.02s/it]"
     ]
    },
    {
     "name": "stdout",
     "output_type": "stream",
     "text": [
      "[[-15.135814  -11.347566  -12.227185  ... -11.620151   -9.775942\n",
      "  -19.662123 ]\n",
      " [-17.533398  -10.19449   -13.947193  ...  -7.668706   -7.216339\n",
      "  -12.301409 ]\n",
      " [-18.290379  -13.436025  -16.38828   ...  -9.489424   -6.843691\n",
      "  -15.178056 ]\n",
      " ...\n",
      " [-17.497284  -11.863274  -13.637952  ...  -7.227905   -6.1818147\n",
      "  -11.570459 ]\n",
      " [-18.123238  -13.236119  -14.391987  ... -12.090418   -9.718282\n",
      "  -17.955677 ]\n",
      " [-17.827679  -12.624204  -13.883992  ... -10.420021   -8.243713\n",
      "  -17.503798 ]]\n",
      "SourceInfo(filepath='/home/mschulist/caples_sound/ARU_data/10-BLACK/Data/BLACK-10-CAP_20230604_233000.wav', shard_num=0, shard_len_s=-1.0)\n"
     ]
    },
    {
     "name": "stderr",
     "output_type": "stream",
     "text": [
      "  0%|▏                                                  | 74/16036 [1:30:12<321:25:01, 72.49s/it]"
     ]
    },
    {
     "name": "stdout",
     "output_type": "stream",
     "text": [
      "[[-17.029772  -11.54466   -13.020295  ...  -8.9255905  -7.7401276\n",
      "  -15.028611 ]\n",
      " [-17.926128  -11.726226  -14.120504  ...  -9.340694   -8.382176\n",
      "  -15.713671 ]\n",
      " [-18.506184  -11.880574  -14.286474  ... -10.18408    -8.882508\n",
      "  -16.516792 ]\n",
      " ...\n",
      " [-19.104065  -12.712131  -14.483999  ... -10.092735   -8.576618\n",
      "  -17.042744 ]\n",
      " [-18.529781  -11.553031  -13.651008  ...  -8.944963   -7.8836803\n",
      "  -16.166979 ]\n",
      " [-19.868801  -12.199518  -14.798066  ... -10.040723   -8.561801\n",
      "  -16.774975 ]]\n",
      "SourceInfo(filepath='/home/mschulist/caples_sound/ARU_data/10-BLACK/Data/BLACK-10-CAP_20230611_100000.wav', shard_num=0, shard_len_s=-1.0)\n"
     ]
    },
    {
     "name": "stderr",
     "output_type": "stream",
     "text": [
      "  0%|▏                                                  | 75/16036 [1:31:25<321:26:29, 72.50s/it]"
     ]
    },
    {
     "name": "stdout",
     "output_type": "stream",
     "text": [
      "[[ -8.32095   -10.860114  -12.009894  ...  -8.515738   -8.594147\n",
      "  -15.229759 ]\n",
      " [ -9.523712  -11.559875  -11.709561  ... -10.083679   -8.616594\n",
      "  -16.376211 ]\n",
      " [-10.26968   -11.173412  -12.486638  ...  -9.74752    -9.282557\n",
      "  -16.917627 ]\n",
      " ...\n",
      " [ -7.7090087 -11.036967  -10.899237  ...  -9.708263   -7.4301167\n",
      "  -16.558628 ]\n",
      " [ -9.119241  -12.504631   -8.984195  ... -10.4829855  -7.3797884\n",
      "  -14.920166 ]\n",
      " [ -8.494644  -11.633925  -11.748758  ...  -9.584156   -8.542481\n",
      "  -15.455447 ]]\n",
      "SourceInfo(filepath='/home/mschulist/caples_sound/ARU_data/10-BLACK/Data/BLACK-10-CAP_20230607_033000.wav', shard_num=0, shard_len_s=-1.0)\n"
     ]
    },
    {
     "name": "stderr",
     "output_type": "stream",
     "text": [
      "  0%|▏                                                  | 76/16036 [1:32:39<323:51:55, 73.05s/it]"
     ]
    },
    {
     "name": "stdout",
     "output_type": "stream",
     "text": [
      "[[-17.540787  -12.804734  -13.137018  ... -10.132601   -8.1050825\n",
      "  -15.700586 ]\n",
      " [-16.36364   -12.210762  -12.2843895 ...  -9.467936   -6.9762783\n",
      "  -15.3298645]\n",
      " [-15.784255  -11.815821  -11.554548  ...  -9.565691   -7.4137154\n",
      "  -14.752625 ]\n",
      " ...\n",
      " [-17.768269  -13.61197   -14.211776  ... -10.929319   -9.285689\n",
      "  -17.500229 ]\n",
      " [-16.413574  -12.340013  -12.396822  ...  -9.855591   -8.249234\n",
      "  -15.734579 ]\n",
      " [-17.679352  -12.4854765 -12.96721   ...  -9.6279545  -8.204398\n",
      "  -16.437775 ]]\n",
      "SourceInfo(filepath='/home/mschulist/caples_sound/ARU_data/10-BLACK/Data/BLACK-10-CAP_20230609_063000.wav', shard_num=0, shard_len_s=-1.0)\n"
     ]
    },
    {
     "name": "stderr",
     "output_type": "stream",
     "text": [
      "  0%|▏                                                  | 77/16036 [1:33:54<325:56:40, 73.53s/it]"
     ]
    },
    {
     "name": "stdout",
     "output_type": "stream",
     "text": [
      "[[ -9.481607  -11.453485  -11.951653  ...  -5.9718733  -7.6816635\n",
      "  -13.155278 ]\n",
      " [-14.830388  -12.969125  -12.8993635 ...  -5.7850075  -3.338389\n",
      "  -12.887815 ]\n",
      " [-18.065979  -12.978171  -15.279453  ...  -7.874979   -6.054606\n",
      "  -14.771327 ]\n",
      " ...\n",
      " [-14.932831  -12.32148   -13.023706  ...  -8.821529   -7.1580944\n",
      "  -15.853312 ]\n",
      " [-18.072655  -14.039153  -16.550608  ...  -9.353462   -7.0281477\n",
      "  -13.558167 ]\n",
      " [-15.6726885 -12.686404  -13.357138  ...  -7.821911   -6.660041\n",
      "  -11.949844 ]]\n",
      "SourceInfo(filepath='/home/mschulist/caples_sound/ARU_data/10-BLACK/Data/BLACK-10-CAP_20230615_020000.wav', shard_num=0, shard_len_s=-1.0)\n"
     ]
    },
    {
     "name": "stderr",
     "output_type": "stream",
     "text": [
      "  0%|▏                                                  | 78/16036 [1:35:07<325:20:47, 73.40s/it]"
     ]
    },
    {
     "name": "stdout",
     "output_type": "stream",
     "text": [
      "[[-11.106618  -12.150754  -13.427055  ...  -9.791736   -9.659307\n",
      "  -17.687958 ]\n",
      " [-10.917748  -11.471465  -13.072331  ...  -9.868847   -9.221386\n",
      "  -16.490086 ]\n",
      " [-12.201297  -12.468475  -13.521415  ... -11.100704   -9.802552\n",
      "  -17.331856 ]\n",
      " ...\n",
      " [-11.018678  -12.055939  -13.369618  ... -10.313976   -9.476097\n",
      "  -17.237026 ]\n",
      " [ -9.886188  -11.128958  -12.095108  ...  -9.592581   -9.107524\n",
      "  -16.399475 ]\n",
      " [ -9.61459   -10.7071905 -12.609359  ...  -9.90499    -9.625126\n",
      "  -16.492908 ]]\n",
      "SourceInfo(filepath='/home/mschulist/caples_sound/ARU_data/10-BLACK/Data/BLACK-10-CAP_20230612_083000.wav', shard_num=0, shard_len_s=-1.0)\n"
     ]
    },
    {
     "name": "stderr",
     "output_type": "stream",
     "text": [
      "  0%|▎                                                  | 79/16036 [1:36:23<329:18:04, 74.29s/it]"
     ]
    },
    {
     "name": "stdout",
     "output_type": "stream",
     "text": [
      "[[-10.964818  -13.381942  -12.451299  ... -10.793245   -9.327008\n",
      "  -14.576881 ]\n",
      " [-10.71766   -10.823469  -12.543393  ...  -9.557754  -10.017971\n",
      "  -11.615788 ]\n",
      " [ -9.211935  -10.406514  -11.571442  ...  -8.680081   -7.8542147\n",
      "  -14.7533045]\n",
      " ...\n",
      " [-13.507881  -15.610058  -14.4895115 ... -10.899998   -9.77015\n",
      "  -11.458399 ]\n",
      " [ -9.027092  -12.665264  -13.791452  ... -10.053003   -9.964996\n",
      "  -17.195602 ]\n",
      " [-13.336661  -13.997118  -14.176399  ...  -9.993335   -9.876087\n",
      "  -10.120907 ]]\n",
      "SourceInfo(filepath='/home/mschulist/caples_sound/ARU_data/10-BLACK/Data/BLACK-10-CAP_20230615_060000.wav', shard_num=0, shard_len_s=-1.0)\n"
     ]
    },
    {
     "name": "stderr",
     "output_type": "stream",
     "text": [
      "  0%|▎                                                  | 80/16036 [1:37:40<331:38:03, 74.82s/it]"
     ]
    },
    {
     "name": "stdout",
     "output_type": "stream",
     "text": [
      "[[-10.395788   -10.553784   -11.72031    ...  -7.5833664   -2.4162824\n",
      "  -12.441124  ]\n",
      " [-11.229217   -10.762543   -12.902248   ...  -7.0127077   -0.11276841\n",
      "  -13.56254   ]\n",
      " [-11.177415   -10.122275   -12.873071   ...  -7.892658    -2.5167794\n",
      "  -14.887303  ]\n",
      " ...\n",
      " [-10.406083   -11.576993   -12.746918   ...  -7.694822    -7.3721523\n",
      "  -14.603803  ]\n",
      " [ -7.487372   -11.918092    -9.974273   ...  -8.447967    -2.319517\n",
      "  -12.635898  ]\n",
      " [ -9.927551   -11.222861   -14.3168955  ...  -9.74641     -7.029358\n",
      "  -13.861873  ]]\n",
      "SourceInfo(filepath='/home/mschulist/caples_sound/ARU_data/10-BLACK/Data/BLACK-10-CAP_20230604_083000.wav', shard_num=0, shard_len_s=-1.0)\n"
     ]
    },
    {
     "name": "stderr",
     "output_type": "stream",
     "text": [
      "  1%|▎                                                  | 81/16036 [1:38:57<334:38:52, 75.51s/it]"
     ]
    },
    {
     "name": "stdout",
     "output_type": "stream",
     "text": [
      "[[-22.009521  -16.553415  -16.21987   ... -12.72145   -12.875729\n",
      "  -21.143345 ]\n",
      " [-17.671116  -12.914004  -15.868327  ...  -9.765767   -9.982437\n",
      "  -19.149265 ]\n",
      " [-22.285004  -13.776795  -17.911482  ... -12.002215  -12.355027\n",
      "  -20.622246 ]\n",
      " ...\n",
      " [-13.2683525 -10.170556  -13.352408  ...  -9.425713   -6.2750225\n",
      "  -11.497385 ]\n",
      " [-14.983283  -11.848308  -12.91845   ...  -9.529076   -8.097893\n",
      "  -15.909964 ]\n",
      " [-13.7392025  -9.570484  -12.441256  ...  -7.926435   -5.6093206\n",
      "  -13.259896 ]]\n",
      "SourceInfo(filepath='/home/mschulist/caples_sound/ARU_data/10-BLACK/Data/BLACK-10-CAP_20230612_043000.wav', shard_num=0, shard_len_s=-1.0)\n"
     ]
    },
    {
     "name": "stderr",
     "output_type": "stream",
     "text": [
      "  1%|▎                                                  | 82/16036 [1:40:10<331:40:55, 74.84s/it]"
     ]
    },
    {
     "name": "stdout",
     "output_type": "stream",
     "text": [
      "[[ -9.713036  -10.346934  -11.779353  ...  -9.154315   -8.659963\n",
      "  -15.751966 ]\n",
      " [-11.266974  -11.353847  -13.671158  ...  -9.747319   -9.750011\n",
      "  -16.555138 ]\n",
      " [-10.7530985 -11.22699   -12.593841  ...  -9.072866   -8.9699955\n",
      "  -15.720754 ]\n",
      " ...\n",
      " [ -9.330674  -10.165281  -11.369585  ...  -8.654253   -8.31604\n",
      "  -14.889862 ]\n",
      " [-10.999475  -11.669892  -13.182091  ...  -9.782051   -9.884898\n",
      "  -16.139793 ]\n",
      " [-11.292504  -11.561002  -12.713975  ...  -9.866423   -9.231581\n",
      "  -16.601479 ]]\n",
      "SourceInfo(filepath='/home/mschulist/caples_sound/ARU_data/10-BLACK/Data/BLACK-10-CAP_20230604_170000.wav', shard_num=0, shard_len_s=-1.0)\n"
     ]
    },
    {
     "name": "stderr",
     "output_type": "stream",
     "text": [
      "  1%|▎                                                  | 83/16036 [1:41:24<330:48:35, 74.65s/it]"
     ]
    },
    {
     "name": "stdout",
     "output_type": "stream",
     "text": [
      "[[-14.532513  -11.361232  -12.156291  ...  -7.9611797  -4.075548\n",
      "  -13.993921 ]\n",
      " [-18.547405  -14.68904   -13.503013  ...  -7.082024   -7.1163597\n",
      "  -16.42449  ]\n",
      " [-15.9408045 -12.554879  -13.161773  ...  -9.665195   -7.736204\n",
      "  -16.65986  ]\n",
      " ...\n",
      " [-15.05934   -10.318998  -12.410766  ...  -7.7878385  -5.330666\n",
      "  -13.779658 ]\n",
      " [-16.837406  -14.591889  -14.450005  ...  -8.055253   -8.200283\n",
      "  -14.226567 ]\n",
      " [-14.037733  -10.844643   -9.120839  ...  -8.2907295  -6.988389\n",
      "  -15.096318 ]]\n",
      "SourceInfo(filepath='/home/mschulist/caples_sound/ARU_data/10-BLACK/Data/BLACK-10-CAP_20230607_203000.wav', shard_num=0, shard_len_s=-1.0)\n"
     ]
    },
    {
     "name": "stderr",
     "output_type": "stream",
     "text": [
      "  1%|▎                                                  | 84/16036 [1:42:40<332:00:51, 74.93s/it]"
     ]
    },
    {
     "name": "stdout",
     "output_type": "stream",
     "text": [
      "[[-15.824257  -12.353879  -13.793707  ... -10.395603   -9.134129\n",
      "  -17.52134  ]\n",
      " [-14.257024  -13.972358  -14.57325   ...  -6.8726     -5.8698854\n",
      "  -13.552591 ]\n",
      " [-15.721642   -8.587269  -14.063177  ...  -8.526662   -5.765238\n",
      "  -11.442518 ]\n",
      " ...\n",
      " [-14.497283  -10.949161  -10.780518  ...  -8.573884   -7.99308\n",
      "  -14.737867 ]\n",
      " [-15.660486  -11.818288  -12.660668  ... -10.020714   -8.323502\n",
      "  -16.120892 ]\n",
      " [-13.822002  -10.405863  -10.901902  ...  -9.038786   -6.920689\n",
      "  -14.135681 ]]\n",
      "SourceInfo(filepath='/home/mschulist/caples_sound/ARU_data/10-BLACK/Data/BLACK-10-CAP_20230615_193000.wav', shard_num=0, shard_len_s=-1.0)\n"
     ]
    },
    {
     "name": "stderr",
     "output_type": "stream",
     "text": [
      "  1%|▎                                                  | 85/16036 [1:43:53<330:10:52, 74.52s/it]"
     ]
    },
    {
     "name": "stdout",
     "output_type": "stream",
     "text": [
      "[[ -8.398621  -10.921796  -11.909632  ...  -9.51918    -8.670738\n",
      "  -16.329216 ]\n",
      " [ -8.272     -10.331143  -11.197     ...  -9.068563   -8.392681\n",
      "  -14.660548 ]\n",
      " [ -9.833762  -10.962505  -13.106058  ...  -9.702177   -8.226065\n",
      "  -14.136633 ]\n",
      " ...\n",
      " [ -9.033074  -11.81471   -11.71289   ...  -8.086316   -7.7616844\n",
      "  -12.194298 ]\n",
      " [-11.283352  -10.653722  -13.557067  ... -10.087546   -9.69426\n",
      "  -16.59253  ]\n",
      " [ -9.691915  -11.755797  -13.080521  ...  -9.286411   -4.515476\n",
      "  -13.463106 ]]\n",
      "SourceInfo(filepath='/home/mschulist/caples_sound/ARU_data/10-BLACK/Data/BLACK-10-CAP_20230611_203000.wav', shard_num=0, shard_len_s=-1.0)\n"
     ]
    },
    {
     "name": "stderr",
     "output_type": "stream",
     "text": [
      "  1%|▎                                                  | 86/16036 [1:45:08<330:27:47, 74.59s/it]"
     ]
    },
    {
     "name": "stdout",
     "output_type": "stream",
     "text": [
      "[[ -9.325931  -10.856551  -12.092596  ...  -8.66748    -8.906733\n",
      "  -14.539505 ]\n",
      " [ -8.93223    -9.1845665 -11.37338   ...  -8.587128   -8.619554\n",
      "  -12.386061 ]\n",
      " [ -8.22086   -11.348017  -11.0599165 ...  -9.1657715  -8.935714\n",
      "  -15.458262 ]\n",
      " ...\n",
      " [ -8.043457  -11.344842  -11.223715  ...  -8.694948   -8.604459\n",
      "  -14.648838 ]\n",
      " [ -9.697039  -10.702177  -12.697378  ...  -9.951044   -9.427344\n",
      "  -16.361809 ]\n",
      " [ -8.234834  -10.52016   -10.779515  ...  -9.648527   -8.2423\n",
      "  -14.397018 ]]\n",
      "SourceInfo(filepath='/home/mschulist/caples_sound/ARU_data/10-BLACK/Data/BLACK-10-CAP_20230612_170000.wav', shard_num=0, shard_len_s=-1.0)\n"
     ]
    },
    {
     "name": "stderr",
     "output_type": "stream",
     "text": [
      "  1%|▎                                                  | 87/16036 [1:46:22<329:44:46, 74.43s/it]"
     ]
    },
    {
     "name": "stdout",
     "output_type": "stream",
     "text": [
      "[[ -6.4831963 -11.489602   -8.153999  ...  -9.742708   -8.614467\n",
      "  -16.579128 ]\n",
      " [ -5.4974837 -11.01015    -7.760392  ...  -8.789182   -7.8744297\n",
      "  -16.14185  ]\n",
      " [ -6.17152   -11.860221   -8.115323  ...  -9.466208   -8.314213\n",
      "  -17.545738 ]\n",
      " ...\n",
      " [ -6.5705233 -12.044746   -7.9952497 ...  -9.286246   -8.354612\n",
      "  -16.472813 ]\n",
      " [ -7.238044  -10.443199   -7.077956  ...  -9.220246   -7.050061\n",
      "  -16.280079 ]\n",
      " [ -6.3582993 -11.545445   -8.060465  ...  -9.512962   -8.136043\n",
      "  -16.113579 ]]\n",
      "SourceInfo(filepath='/home/mschulist/caples_sound/ARU_data/10-BLACK/Data/BLACK-10-CAP_20230612_003000.wav', shard_num=0, shard_len_s=-1.0)\n"
     ]
    },
    {
     "name": "stderr",
     "output_type": "stream",
     "text": [
      "  1%|▎                                                  | 88/16036 [1:47:37<329:52:33, 74.46s/it]"
     ]
    },
    {
     "name": "stdout",
     "output_type": "stream",
     "text": [
      "[[-11.147824  -11.1038685 -12.877206  ... -10.107892   -8.890022\n",
      "  -15.948025 ]\n",
      " [-10.108908  -11.196856  -12.48435   ...  -9.808358   -9.54644\n",
      "  -15.895935 ]\n",
      " [-11.113114  -11.516512  -12.989331  ...  -9.656139   -9.22436\n",
      "  -16.795841 ]\n",
      " ...\n",
      " [-10.122927  -11.752542  -12.43852   ...  -9.984484   -9.790205\n",
      "  -16.674074 ]\n",
      " [-10.664405  -11.247164  -12.78778   ...  -9.688845   -9.427478\n",
      "  -15.980495 ]\n",
      " [-10.232932  -10.695561  -12.4844055 ...  -9.583733   -9.172314\n",
      "  -15.463521 ]]\n",
      "SourceInfo(filepath='/home/mschulist/caples_sound/ARU_data/10-BLACK/Data/BLACK-10-CAP_20230609_213000.wav', shard_num=0, shard_len_s=-1.0)\n"
     ]
    },
    {
     "name": "stderr",
     "output_type": "stream",
     "text": [
      "  1%|▎                                                  | 89/16036 [1:48:52<330:31:02, 74.61s/it]"
     ]
    },
    {
     "name": "stdout",
     "output_type": "stream",
     "text": [
      "[[-17.050846  -10.988316  -12.394243  ...  -9.287793   -7.411232\n",
      "  -15.849388 ]\n",
      " [-17.087746  -11.810014  -13.037712  ...  -9.893751   -8.155665\n",
      "  -16.025269 ]\n",
      " [-16.129795  -10.799668  -12.334191  ...  -9.054762   -7.355877\n",
      "  -14.406265 ]\n",
      " ...\n",
      " [-14.7693815 -11.173408  -11.932385  ...  -9.231207   -7.2249117\n",
      "  -14.772573 ]\n",
      " [-13.97522   -10.614324  -10.950251  ...  -8.442533   -7.1350136\n",
      "  -14.569591 ]\n",
      " [-15.573417  -11.050918  -11.760509  ...  -8.83126    -7.535591\n",
      "  -14.013659 ]]\n",
      "SourceInfo(filepath='/home/mschulist/caples_sound/ARU_data/10-BLACK/Data/BLACK-10-CAP_20230610_183000.wav', shard_num=0, shard_len_s=-1.0)\n"
     ]
    },
    {
     "name": "stderr",
     "output_type": "stream",
     "text": [
      "  1%|▎                                                  | 90/16036 [1:50:08<332:44:11, 75.12s/it]"
     ]
    },
    {
     "name": "stdout",
     "output_type": "stream",
     "text": [
      "[[-14.268068  -11.517692  -11.027459  ...  -8.446928   -7.612341\n",
      "  -15.075564 ]\n",
      " [-15.926984  -13.397876  -12.840457  ...  -9.994935  -10.1647835\n",
      "  -17.200598 ]\n",
      " [-14.693891  -11.170502  -10.376936  ...  -8.60837    -7.559328\n",
      "  -15.353623 ]\n",
      " ...\n",
      " [-14.825851  -11.943734  -12.383278  ...  -8.530448   -7.624113\n",
      "  -13.982471 ]\n",
      " [-15.51485   -10.305793  -13.237901  ...  -7.8976145  -7.7296515\n",
      "  -13.338055 ]\n",
      " [-15.308918  -11.332341  -12.123742  ...  -6.7630816  -7.923258\n",
      "  -13.218861 ]]\n",
      "SourceInfo(filepath='/home/mschulist/caples_sound/ARU_data/10-BLACK/Data/BLACK-10-CAP_20230608_193000.wav', shard_num=0, shard_len_s=-1.0)\n"
     ]
    },
    {
     "name": "stderr",
     "output_type": "stream",
     "text": [
      "  1%|▎                                                  | 91/16036 [1:51:23<333:14:49, 75.24s/it]"
     ]
    },
    {
     "name": "stdout",
     "output_type": "stream",
     "text": [
      "[[-15.311742  -13.187345  -14.308029  ... -11.353947   -9.851445\n",
      "  -14.124252 ]\n",
      " [-18.78658   -15.903669  -15.298914  ... -15.514095  -12.93708\n",
      "  -16.895576 ]\n",
      " [ -8.927855  -13.202322  -13.254051  ... -14.081891  -13.065809\n",
      "  -16.566692 ]\n",
      " ...\n",
      " [-14.932064  -10.984762  -13.6022625 ...  -8.580948   -5.742101\n",
      "  -15.269777 ]\n",
      " [-14.726376  -13.167397  -12.116597  ...  -8.194692   -8.770637\n",
      "  -15.13278  ]\n",
      " [-15.677997  -11.345765  -12.253853  ... -10.176649   -8.594855\n",
      "  -16.485312 ]]\n",
      "SourceInfo(filepath='/home/mschulist/caples_sound/ARU_data/10-BLACK/Data/BLACK-10-CAP_20230606_183000.wav', shard_num=0, shard_len_s=-1.0)\n"
     ]
    },
    {
     "name": "stderr",
     "output_type": "stream",
     "text": [
      "  1%|▎                                                  | 92/16036 [1:52:40<335:10:05, 75.68s/it]"
     ]
    },
    {
     "name": "stdout",
     "output_type": "stream",
     "text": [
      "[[-16.65249   -12.967414  -14.943357  ... -10.750652   -9.377185\n",
      "  -14.865561 ]\n",
      " [-17.98988   -17.877077  -15.92012   ... -12.762094   -8.631263\n",
      "  -16.696747 ]\n",
      " [-20.310478  -16.565971  -16.55187   ... -12.810778  -13.846335\n",
      "  -18.595797 ]\n",
      " ...\n",
      " [-14.8064995 -10.860747  -11.043557  ... -10.160963   -8.726917\n",
      "  -15.2113   ]\n",
      " [-13.861701   -8.964692  -10.92171   ...  -7.8116713  -8.50344\n",
      "  -15.06639  ]\n",
      " [-18.347782  -11.47087   -12.348978  ... -12.362212   -9.011782\n",
      "  -17.640276 ]]\n",
      "SourceInfo(filepath='/home/mschulist/caples_sound/ARU_data/10-BLACK/Data/BLACK-10-CAP_20230614_213000.wav', shard_num=0, shard_len_s=-1.0)\n"
     ]
    },
    {
     "name": "stderr",
     "output_type": "stream",
     "text": [
      "  1%|▎                                                  | 93/16036 [1:53:53<331:57:11, 74.96s/it]"
     ]
    },
    {
     "name": "stdout",
     "output_type": "stream",
     "text": [
      "[[ -8.811724 -10.704258 -12.036514 ...  -9.549661  -8.508365 -15.827475]\n",
      " [ -9.316869 -10.844669 -12.043597 ...  -9.351147  -8.874587 -16.558176]\n",
      " [ -9.36436  -10.747148 -12.713494 ...  -9.62908   -8.903847 -15.701325]\n",
      " ...\n",
      " [ -9.943653 -11.257203 -12.545972 ...  -9.871413  -8.480104 -17.09058 ]\n",
      " [ -9.597532 -11.136221 -12.553635 ...  -9.348637  -9.099388 -16.417046]\n",
      " [ -9.330407 -11.344776 -12.974314 ... -10.055529  -9.39616  -16.693571]]\n",
      "SourceInfo(filepath='/home/mschulist/caples_sound/ARU_data/10-BLACK/Data/BLACK-10-CAP_20230610_030000.wav', shard_num=0, shard_len_s=-1.0)\n"
     ]
    },
    {
     "name": "stderr",
     "output_type": "stream",
     "text": [
      "  1%|▎                                                  | 94/16036 [1:55:10<334:45:24, 75.59s/it]"
     ]
    },
    {
     "name": "stdout",
     "output_type": "stream",
     "text": [
      "[[-18.928383  -11.954993  -13.70303   ...  -9.609707   -7.551469\n",
      "  -15.728151 ]\n",
      " [-20.588104  -13.11624   -15.438793  ... -10.755056   -8.823895\n",
      "  -17.192327 ]\n",
      " [-17.463287  -11.75043   -13.818244  ...  -9.4542885  -7.55149\n",
      "  -15.749051 ]\n",
      " ...\n",
      " [-16.972294  -12.661494  -13.531878  ...  -9.902654   -7.762948\n",
      "  -17.049356 ]\n",
      " [-17.749428  -11.813075  -13.795319  ...  -9.494217   -8.135113\n",
      "  -15.058519 ]\n",
      " [-16.516905  -12.48913   -12.989782  ...  -9.907737   -7.9057884\n",
      "  -15.575839 ]]\n",
      "SourceInfo(filepath='/home/mschulist/caples_sound/ARU_data/10-BLACK/Data/BLACK-10-CAP_20230613_230000.wav', shard_num=0, shard_len_s=-1.0)\n"
     ]
    },
    {
     "name": "stderr",
     "output_type": "stream",
     "text": [
      "  1%|▎                                                  | 95/16036 [1:56:25<333:13:30, 75.25s/it]"
     ]
    },
    {
     "name": "stdout",
     "output_type": "stream",
     "text": [
      "[[-10.537583  -10.744017  -13.239068  ...  -9.779457   -9.6235285\n",
      "  -16.523808 ]\n",
      " [ -9.882892  -10.6258745 -12.633057  ...  -9.427514   -9.2323065\n",
      "  -15.967782 ]\n",
      " [-10.562436  -10.339629  -12.66495   ...  -9.012408   -9.00531\n",
      "  -15.343309 ]\n",
      " ...\n",
      " [ -9.308853  -11.611369  -12.8794985 ...  -8.919106   -9.510209\n",
      "  -15.240704 ]\n",
      " [ -8.739369  -10.549362  -12.824712  ...  -9.061436   -9.200415\n",
      "  -15.560151 ]\n",
      " [-10.844009  -10.613176  -13.050008  ...  -9.045833   -9.5533695\n",
      "  -14.725287 ]]\n",
      "SourceInfo(filepath='/home/mschulist/caples_sound/ARU_data/10-BLACK/Data/BLACK-10-CAP_20230606_070000.wav', shard_num=0, shard_len_s=-1.0)\n"
     ]
    },
    {
     "name": "stderr",
     "output_type": "stream",
     "text": [
      "  1%|▎                                                  | 96/16036 [1:57:37<329:31:20, 74.42s/it]"
     ]
    },
    {
     "name": "stdout",
     "output_type": "stream",
     "text": [
      "[[-16.768448  -12.260302  -14.99244   ... -10.782963  -10.203638\n",
      "  -17.545649 ]\n",
      " [-18.734623  -14.843707  -13.7690325 ... -12.949726  -13.936852\n",
      "  -17.886427 ]\n",
      " [-15.640526  -14.121355  -14.715336  ... -12.760268  -14.0068865\n",
      "  -15.315298 ]\n",
      " ...\n",
      " [-12.598898  -11.16216   -12.462143  ...  -8.899873   -6.714617\n",
      "  -16.176851 ]\n",
      " [-16.733257  -15.808031  -13.36326   ... -10.122589   -9.496447\n",
      "  -17.135334 ]\n",
      " [-14.31058   -11.134241  -14.575679  ...  -8.278467   -6.180133\n",
      "  -14.216237 ]]\n",
      "SourceInfo(filepath='/home/mschulist/caples_sound/ARU_data/10-BLACK/Data/BLACK-10-CAP_20230608_020000.wav', shard_num=0, shard_len_s=-1.0)\n"
     ]
    },
    {
     "name": "stderr",
     "output_type": "stream",
     "text": [
      "  1%|▎                                                  | 97/16036 [1:58:53<331:35:32, 74.89s/it]"
     ]
    },
    {
     "name": "stdout",
     "output_type": "stream",
     "text": [
      "[[-14.441828  -10.5088625 -10.514012  ...  -8.5649395  -6.8468485\n",
      "  -14.726047 ]\n",
      " [-14.687848  -10.380811  -11.0741625 ...  -8.600703   -7.051629\n",
      "  -14.993527 ]\n",
      " [-15.493146  -10.747674  -11.59298   ...  -9.1479435  -7.5925226\n",
      "  -14.46661  ]\n",
      " ...\n",
      " [-15.605892  -11.543458  -12.604185  ...  -9.595099   -7.95424\n",
      "  -16.589737 ]\n",
      " [-13.576243  -10.352838  -11.027236  ...  -8.986204   -7.5675144\n",
      "  -15.079265 ]\n",
      " [-14.628295  -10.624327  -11.08143   ...  -9.360036   -7.361245\n",
      "  -15.224008 ]]\n",
      "SourceInfo(filepath='/home/mschulist/caples_sound/ARU_data/10-BLACK/Data/BLACK-10-CAP_20230606_030000.wav', shard_num=0, shard_len_s=-1.0)\n"
     ]
    },
    {
     "name": "stderr",
     "output_type": "stream",
     "text": [
      "  1%|▎                                                  | 98/16036 [2:00:08<331:10:22, 74.80s/it]"
     ]
    },
    {
     "name": "stdout",
     "output_type": "stream",
     "text": [
      "[[-16.230145  -11.558712  -12.321515  ...  -9.077938   -7.644555\n",
      "  -15.507379 ]\n",
      " [-16.449429  -11.956769  -12.074609  ...  -9.613506   -8.036882\n",
      "  -14.210981 ]\n",
      " [-16.109497  -11.540093  -11.184096  ...  -9.140823   -7.215397\n",
      "  -14.467727 ]\n",
      " ...\n",
      " [-16.64014   -12.719109  -13.122073  ... -10.233704   -7.8952713\n",
      "  -16.857327 ]\n",
      " [-16.14658   -12.400306  -12.738356  ...  -9.864508   -7.816785\n",
      "  -16.108786 ]\n",
      " [-13.901782  -12.171829  -11.638615  ...  -8.872597   -7.583585\n",
      "  -15.022419 ]]\n",
      "SourceInfo(filepath='/home/mschulist/caples_sound/ARU_data/10-BLACK/Data/BLACK-10-CAP_20230608_060000.wav', shard_num=0, shard_len_s=-1.0)\n"
     ]
    },
    {
     "name": "stderr",
     "output_type": "stream",
     "text": [
      "  1%|▎                                                  | 99/16036 [2:01:23<331:07:42, 74.80s/it]"
     ]
    },
    {
     "name": "stdout",
     "output_type": "stream",
     "text": [
      "[[-16.880756  -12.16354   -12.184852  ...  -9.080069   -6.005269\n",
      "  -14.181422 ]\n",
      " [-17.34503   -12.645911  -14.830321  ...  -8.9077     -9.963651\n",
      "  -18.147104 ]\n",
      " [-17.00644    -9.552391  -14.101718  ... -10.266098   -8.015099\n",
      "  -12.76222  ]\n",
      " ...\n",
      " [-15.626552  -11.605893  -15.963437  ...  -6.5545354  -4.3505716\n",
      "  -12.215401 ]\n",
      " [-17.292805  -11.849347  -13.154718  ...  -7.884041   -4.294532\n",
      "  -11.269045 ]\n",
      " [-14.711116  -13.793807  -13.177058  ...  -6.242993   -7.9830017\n",
      "  -15.06229  ]]\n",
      "SourceInfo(filepath='/home/mschulist/caples_sound/ARU_data/10-BLACK/Data/BLACK-10-CAP_20230610_070000.wav', shard_num=0, shard_len_s=-1.0)\n"
     ]
    },
    {
     "name": "stderr",
     "output_type": "stream",
     "text": [
      "  1%|▎                                                 | 100/16036 [2:02:39<332:56:29, 75.21s/it]"
     ]
    },
    {
     "name": "stdout",
     "output_type": "stream",
     "text": [
      "[[-14.000625  -10.514087  -11.281621  ...  -6.2794204  -7.108924\n",
      "  -14.787801 ]\n",
      " [-15.284725   -9.238053  -12.405344  ...  -4.9070797  -5.801963\n",
      "  -11.854532 ]\n",
      " [-16.349936  -10.529933  -13.515186  ...  -5.606825   -0.7453048\n",
      "  -13.935928 ]\n",
      " ...\n",
      " [-15.654568  -10.431561  -12.9882    ...  -6.311967    1.026207\n",
      "   -9.356696 ]\n",
      " [-16.102478  -10.841634  -12.615956  ...  -9.610273   -8.708837\n",
      "  -16.355196 ]\n",
      " [-16.616455  -11.527518  -12.333932  ...  -7.049215   -4.117513\n",
      "  -14.04308  ]]\n",
      "SourceInfo(filepath='/home/mschulist/caples_sound/ARU_data/10-BLACK/Data/BLACK-10-CAP_20230605_230000.wav', shard_num=0, shard_len_s=-1.0)\n"
     ]
    },
    {
     "name": "stderr",
     "output_type": "stream",
     "text": [
      "  1%|▎                                                 | 101/16036 [2:03:54<332:14:27, 75.06s/it]"
     ]
    },
    {
     "name": "stdout",
     "output_type": "stream",
     "text": [
      "[[-14.803987  -12.020038  -12.034767  ...  -9.959183   -7.5102224\n",
      "  -15.001582 ]\n",
      " [-16.623158  -13.07595   -13.68653   ... -10.360657   -7.7888126\n",
      "  -17.131704 ]\n",
      " [-16.177078  -12.108529  -13.881667  ... -10.022642   -8.605661\n",
      "  -16.12539  ]\n",
      " ...\n",
      " [-13.685744  -12.055772  -11.169436  ...  -9.213698   -7.522913\n",
      "  -14.61685  ]\n",
      " [-14.403537  -11.302856  -11.003098  ...  -9.762305   -7.77777\n",
      "  -15.112803 ]\n",
      " [-16.392673  -12.342081  -12.78992   ... -10.447179   -8.4413395\n",
      "  -15.91123  ]]\n",
      "SourceInfo(filepath='/home/mschulist/caples_sound/ARU_data/10-BLACK/Data/BLACK-10-CAP_20230614_023000.wav', shard_num=0, shard_len_s=-1.0)\n"
     ]
    },
    {
     "name": "stderr",
     "output_type": "stream",
     "text": [
      "  1%|▎                                                 | 102/16036 [2:05:08<331:39:22, 74.93s/it]"
     ]
    },
    {
     "name": "stdout",
     "output_type": "stream",
     "text": [
      "[[ -8.925948  -10.158532  -10.45509   ...  -8.996641   -8.0553255\n",
      "  -14.620707 ]\n",
      " [-10.576107  -10.5090885 -13.205627  ...  -9.431394   -9.456365\n",
      "  -15.745742 ]\n",
      " [-10.703915  -10.648294  -12.450435  ...  -9.789917   -9.221145\n",
      "  -16.249907 ]\n",
      " ...\n",
      " [-11.343555  -10.363509  -13.272809  ...  -9.715106   -9.421329\n",
      "  -15.620164 ]\n",
      " [-11.6011095 -11.283086  -13.162494  ...  -9.76239    -9.440969\n",
      "  -16.88932  ]\n",
      " [-10.358558  -10.304795  -12.81816   ...  -8.986967   -8.94282\n",
      "  -15.6804085]]\n",
      "SourceInfo(filepath='/home/mschulist/caples_sound/ARU_data/10-BLACK/Data/BLACK-10-CAP_20230613_080000.wav', shard_num=0, shard_len_s=-1.0)\n"
     ]
    },
    {
     "name": "stderr",
     "output_type": "stream",
     "text": [
      "  1%|▎                                                 | 103/16036 [2:06:24<332:26:49, 75.12s/it]"
     ]
    },
    {
     "name": "stdout",
     "output_type": "stream",
     "text": [
      "[[ -7.7817783  -9.678407  -11.536503  ...  -9.392739   -8.7434025\n",
      "  -15.252129 ]\n",
      " [-10.973159  -11.7597    -12.139222  ... -12.48825   -10.557955\n",
      "  -16.045448 ]\n",
      " [ -9.025475  -11.334245  -14.348522  ... -10.396917  -10.047124\n",
      "  -12.651407 ]\n",
      " ...\n",
      " [-11.767062  -15.438634  -13.18688   ... -11.510792  -11.9625225\n",
      "  -13.047802 ]\n",
      " [ -7.8017726 -10.978921  -11.906843  ...  -9.875359   -8.8545885\n",
      "  -14.029333 ]\n",
      " [-12.223691  -13.753562  -13.531843  ... -10.977148  -10.643398\n",
      "  -14.51752  ]]\n",
      "SourceInfo(filepath='/home/mschulist/caples_sound/ARU_data/10-BLACK/Data/BLACK-10-CAP_20230619_233000.wav', shard_num=0, shard_len_s=-1.0)\n"
     ]
    },
    {
     "name": "stderr",
     "output_type": "stream",
     "text": [
      "  1%|▎                                                 | 104/16036 [2:07:38<330:53:18, 74.77s/it]"
     ]
    },
    {
     "name": "stdout",
     "output_type": "stream",
     "text": [
      "[[-10.543839  -11.04907   -11.586161  ...  -8.9781885  -8.281885\n",
      "  -15.193365 ]\n",
      " [ -9.451193  -10.784125  -12.239702  ...  -9.42277    -8.599668\n",
      "  -16.19166  ]\n",
      " [ -9.644641  -11.196104  -12.560922  ...  -8.949348   -8.473983\n",
      "  -15.03503  ]\n",
      " ...\n",
      " [ -9.843448  -11.398806  -11.773199  ...  -8.925383   -8.305767\n",
      "  -15.455477 ]\n",
      " [ -9.578282  -11.0154915 -11.318398  ...  -8.89518    -7.551697\n",
      "  -14.516289 ]\n",
      " [-10.520426  -11.618274  -11.418708  ...  -9.431417   -8.21959\n",
      "  -15.888195 ]]\n",
      "SourceInfo(filepath='/home/mschulist/caples_sound/ARU_data/10-BLACK/Data/BLACK-10-CAP_20230605_080000.wav', shard_num=0, shard_len_s=-1.0)\n"
     ]
    },
    {
     "name": "stderr",
     "output_type": "stream",
     "text": [
      "  1%|▎                                                 | 105/16036 [2:08:52<330:32:47, 74.70s/it]"
     ]
    },
    {
     "name": "stdout",
     "output_type": "stream",
     "text": [
      "[[-14.765866  -11.6781645 -10.601216  ...  -8.21158    -7.440053\n",
      "  -13.113052 ]\n",
      " [-17.061687  -12.32721   -13.830518  ...  -8.4804125  -9.113749\n",
      "  -15.031317 ]\n",
      " [-14.044     -10.681459  -13.5805235 ...  -7.0475307  -5.0932994\n",
      "  -12.7662   ]\n",
      " ...\n",
      " [-15.332431  -10.768689  -12.126243  ...  -8.446255   -8.427941\n",
      "  -13.928169 ]\n",
      " [-18.073196  -13.4459305 -13.685858  ...  -9.924686   -9.92722\n",
      "  -15.668941 ]\n",
      " [-14.335933  -13.509376  -12.34266   ...  -9.916574  -10.623165\n",
      "  -15.502016 ]]\n",
      "SourceInfo(filepath='/home/mschulist/caples_sound/ARU_data/10-BLACK/Data/BLACK-10-CAP_20230614_063000.wav', shard_num=0, shard_len_s=-1.0)\n"
     ]
    },
    {
     "name": "stderr",
     "output_type": "stream",
     "text": [
      "  1%|▎                                                 | 106/16036 [2:10:08<331:21:43, 74.88s/it]"
     ]
    },
    {
     "name": "stdout",
     "output_type": "stream",
     "text": [
      "[[ -9.834661  -11.193021  -13.16409   ...  -9.172411   -8.601711\n",
      "  -15.984112 ]\n",
      " [-11.784736  -11.6743555 -12.401045  ... -11.339579   -7.981962\n",
      "  -15.368116 ]\n",
      " [-10.863565  -10.528189  -12.785173  ...  -9.150898   -9.090036\n",
      "  -16.196608 ]\n",
      " ...\n",
      " [-13.185009  -11.661439  -13.906712  ... -12.334205   -9.212431\n",
      "  -17.40903  ]\n",
      " [-10.981425   -9.669013  -13.482428  ...  -9.211889   -9.988395\n",
      "  -14.370758 ]\n",
      " [-13.399379  -13.219197  -13.459618  ...  -9.626659   -9.258076\n",
      "  -15.545931 ]]\n",
      "SourceInfo(filepath='/home/mschulist/caples_sound/ARU_data/10-BLACK/Data/BLACK-10-CAP_20230605_000000.wav', shard_num=0, shard_len_s=-1.0)\n"
     ]
    },
    {
     "name": "stderr",
     "output_type": "stream",
     "text": [
      "  1%|▎                                                 | 107/16036 [2:11:21<329:24:08, 74.45s/it]"
     ]
    },
    {
     "name": "stdout",
     "output_type": "stream",
     "text": [
      "[[-19.024925  -12.210454  -14.234124  ... -10.314821   -8.269053\n",
      "  -16.902159 ]\n",
      " [-18.2654    -11.915497  -13.945349  ...  -9.649134   -8.142109\n",
      "  -16.421623 ]\n",
      " [-18.40572   -11.309263  -14.085651  ...  -9.440773   -8.233146\n",
      "  -15.849106 ]\n",
      " ...\n",
      " [-17.166344  -11.100923  -11.530907  ...  -8.712103   -7.0470743\n",
      "  -13.277515 ]\n",
      " [-17.001583  -11.275847  -11.712364  ...  -9.09737    -7.301632\n",
      "  -14.516866 ]\n",
      " [-17.919441  -11.174308  -12.903288  ...  -9.496927   -8.126096\n",
      "  -14.640412 ]]\n",
      "SourceInfo(filepath='/home/mschulist/caples_sound/ARU_data/10-BLACK/Data/BLACK-10-CAP_20230614_190000.wav', shard_num=0, shard_len_s=-1.0)\n"
     ]
    },
    {
     "name": "stderr",
     "output_type": "stream",
     "text": [
      "  1%|▎                                                 | 108/16036 [2:12:36<330:26:40, 74.69s/it]"
     ]
    },
    {
     "name": "stdout",
     "output_type": "stream",
     "text": [
      "[[ -6.473269   -9.544873   -9.207271  ...  -8.96337    -6.112565\n",
      "  -14.249787 ]\n",
      " [ -6.802872   -9.910958  -11.5763235 ... -10.651052   -9.012916\n",
      "  -16.10141  ]\n",
      " [ -6.3960757  -8.91184   -10.0140915 ...  -8.081108   -4.481963\n",
      "  -10.986381 ]\n",
      " ...\n",
      " [ -9.36545   -11.496195  -12.670044  ... -10.432305   -9.019685\n",
      "  -17.117994 ]\n",
      " [ -9.646178  -10.516354  -12.623     ...  -9.836286   -9.257166\n",
      "  -16.615013 ]\n",
      " [ -9.321295  -10.835062  -12.408721  ...  -9.487646   -8.909954\n",
      "  -15.8450775]]\n",
      "SourceInfo(filepath='/home/mschulist/caples_sound/ARU_data/10-BLACK/Data/BLACK-10-CAP_20230605_173000.wav', shard_num=0, shard_len_s=-1.0)\n"
     ]
    },
    {
     "name": "stderr",
     "output_type": "stream",
     "text": [
      "  1%|▎                                                 | 109/16036 [2:13:51<329:48:39, 74.55s/it]"
     ]
    },
    {
     "name": "stdout",
     "output_type": "stream",
     "text": [
      "[[-13.942967  -11.249262  -14.081643  ...  -8.483249   -9.34461\n",
      "  -16.051926 ]\n",
      " [-15.771325  -10.130178  -14.949191  ...  -6.1445346  -4.425899\n",
      "  -14.499556 ]\n",
      " [-15.847653  -11.767951  -13.864559  ...  -8.392593   -8.154757\n",
      "  -16.813087 ]\n",
      " ...\n",
      " [-16.698036  -12.795813  -12.214941  ... -11.01149   -10.130406\n",
      "  -17.50188  ]\n",
      " [-16.080715  -12.178072  -14.785103  ... -10.774533  -10.268614\n",
      "  -18.749441 ]\n",
      " [-16.681938  -11.529955  -13.726085  ... -11.459452   -9.142785\n",
      "  -17.65136  ]]\n",
      "SourceInfo(filepath='/home/mschulist/caples_sound/ARU_data/10-BLACK/Data/BLACK-10-CAP_20230613_040000.wav', shard_num=0, shard_len_s=-1.0)\n"
     ]
    },
    {
     "name": "stderr",
     "output_type": "stream",
     "text": [
      "  1%|▎                                                 | 110/16036 [2:15:06<330:44:35, 74.76s/it]"
     ]
    },
    {
     "name": "stdout",
     "output_type": "stream",
     "text": [
      "[[ -7.516685  -11.892589  -12.022093  ... -10.341127   -8.753945\n",
      "  -14.371388 ]\n",
      " [ -7.6496162 -11.096793  -10.782248  ...  -9.828288   -9.547837\n",
      "  -13.84881  ]\n",
      " [ -5.9792886 -11.363152  -10.260702  ...  -9.295589   -7.874013\n",
      "  -13.695311 ]\n",
      " ...\n",
      " [ -6.830036  -11.385225  -11.211596  ...  -9.297497   -8.853256\n",
      "  -14.23736  ]\n",
      " [ -7.278059  -11.19037   -11.787935  ... -10.011037   -9.261056\n",
      "  -14.906211 ]\n",
      " [ -7.984955  -10.989436  -10.773293  ...  -9.959431   -8.552651\n",
      "  -14.289256 ]]\n",
      "SourceInfo(filepath='/home/mschulist/caples_sound/ARU_data/10-BLACK/Data/BLACK-10-CAP_20230620_033000.wav', shard_num=0, shard_len_s=-1.0)\n"
     ]
    },
    {
     "name": "stderr",
     "output_type": "stream",
     "text": [
      "  1%|▎                                                 | 111/16036 [2:16:23<333:36:16, 75.41s/it]"
     ]
    },
    {
     "name": "stdout",
     "output_type": "stream",
     "text": [
      "[[-10.21495   -11.373284  -12.642262  ...  -9.59589    -8.404198\n",
      "  -15.859266 ]\n",
      " [ -9.962321  -11.063877  -11.460379  ...  -9.425553   -8.347366\n",
      "  -15.107733 ]\n",
      " [ -9.639718  -10.976784  -12.089625  ...  -8.715185   -9.009613\n",
      "  -14.1838455]\n",
      " ...\n",
      " [-10.9868965 -11.621251  -12.958783  ...  -9.871939   -9.11079\n",
      "  -16.030775 ]\n",
      " [-10.508448  -10.881446  -11.301638  ...  -8.9585     -7.5980177\n",
      "  -15.3286915]\n",
      " [-11.428777  -11.901187  -13.563755  ... -10.1245575  -9.644805\n",
      "  -16.460823 ]]\n",
      "SourceInfo(filepath='/home/mschulist/caples_sound/ARU_data/10-BLACK/Data/BLACK-10-CAP_20230606_200000.wav', shard_num=0, shard_len_s=-1.0)\n"
     ]
    },
    {
     "name": "stderr",
     "output_type": "stream",
     "text": [
      "  1%|▎                                                 | 112/16036 [2:17:37<332:20:25, 75.13s/it]"
     ]
    },
    {
     "name": "stdout",
     "output_type": "stream",
     "text": [
      "[[-14.573846  -10.920827  -11.765423  ...  -9.132445   -7.409506\n",
      "  -13.560812 ]\n",
      " [-15.370563  -10.456712  -12.417224  ...  -7.347931   -6.4662247\n",
      "  -15.68526  ]\n",
      " [-13.933667   -8.575617  -12.428804  ...  -9.351255   -8.251344\n",
      "  -12.17074  ]\n",
      " ...\n",
      " [-13.741456   -9.526821  -11.120277  ...  -7.350488   -5.508189\n",
      "  -14.714979 ]\n",
      " [-13.69255   -11.370725   -9.081193  ...  -8.78684    -7.8943005\n",
      "  -14.178034 ]\n",
      " [-13.815867  -11.409825  -11.244742  ...  -8.730666   -6.2215014\n",
      "  -11.609842 ]]\n",
      "SourceInfo(filepath='/home/mschulist/caples_sound/ARU_data/10-BLACK/Data/BLACK-10-CAP_20230620_073000.wav', shard_num=0, shard_len_s=-1.0)\n"
     ]
    },
    {
     "name": "stderr",
     "output_type": "stream",
     "text": [
      "  1%|▎                                                 | 113/16036 [2:18:51<329:54:25, 74.59s/it]"
     ]
    },
    {
     "name": "stdout",
     "output_type": "stream",
     "text": [
      "[[-13.056018  -11.664853  -12.147446  ... -12.490062  -11.1710615\n",
      "  -15.8999195]\n",
      " [-12.153375  -11.453824  -13.5924    ...  -8.399505   -9.205321\n",
      "  -14.784516 ]\n",
      " [-12.4407    -14.206052  -12.87468   ... -12.714512  -11.78258\n",
      "  -14.127608 ]\n",
      " ...\n",
      " [-12.117781   -9.10608   -12.312969  ... -11.486375  -10.142751\n",
      "  -16.181135 ]\n",
      " [-13.2678175 -11.269525  -13.5247965 ... -12.651913  -12.200397\n",
      "  -18.420034 ]\n",
      " [-13.475081  -10.180752  -12.3625    ... -10.531253   -8.242939\n",
      "  -17.526718 ]]\n",
      "SourceInfo(filepath='/home/mschulist/caples_sound/ARU_data/10-BLACK/Data/BLACK-10-CAP_20230613_000000.wav', shard_num=0, shard_len_s=-1.0)\n"
     ]
    },
    {
     "name": "stderr",
     "output_type": "stream",
     "text": [
      "  1%|▎                                                 | 114/16036 [2:20:02<325:46:05, 73.66s/it]"
     ]
    },
    {
     "name": "stdout",
     "output_type": "stream",
     "text": [
      "[[ -4.417622  -10.548674  -10.300435  ...  -9.076532   -8.457239\n",
      "  -13.840073 ]\n",
      " [ -4.9349823 -10.655297  -10.631981  ...  -9.38627    -8.622703\n",
      "  -14.211273 ]\n",
      " [ -4.4424667 -10.759898   -9.698643  ...  -9.3552265  -8.443481\n",
      "  -14.031359 ]\n",
      " ...\n",
      " [ -5.8400064 -11.517744  -10.085114  ... -10.1917305  -7.893261\n",
      "  -14.88107  ]\n",
      " [ -4.844905  -10.50129   -10.560331  ...  -9.026302   -8.175909\n",
      "  -13.248318 ]\n",
      " [ -5.25436   -11.907201  -10.872355  ...  -9.55123    -8.726584\n",
      "  -15.074463 ]]\n",
      "SourceInfo(filepath='/home/mschulist/caples_sound/ARU_data/10-BLACK/Data/BLACK-10-CAP_20230608_210000.wav', shard_num=0, shard_len_s=-1.0)\n"
     ]
    },
    {
     "name": "stderr",
     "output_type": "stream",
     "text": [
      "  1%|▎                                                 | 115/16036 [2:21:14<322:59:14, 73.03s/it]"
     ]
    },
    {
     "name": "stdout",
     "output_type": "stream",
     "text": [
      "[[-17.4716    -15.775651  -17.691935  ... -15.345765  -11.865139\n",
      "  -18.64441  ]\n",
      " [-13.488954  -10.664329  -11.211487  ...  -9.56422    -8.489136\n",
      "  -15.140973 ]\n",
      " [-15.993212  -14.160935  -17.419134  ... -13.654301  -11.917087\n",
      "  -18.213148 ]\n",
      " ...\n",
      " [-16.345581  -12.518892  -12.7570095 ... -12.271875  -10.726359\n",
      "  -18.493362 ]\n",
      " [-16.112442  -13.498685  -13.459189  ... -13.194733  -10.017783\n",
      "  -17.180382 ]\n",
      " [-15.212     -13.27189   -12.014928  ... -11.717484  -10.956763\n",
      "  -15.011615 ]]\n",
      "SourceInfo(filepath='/home/mschulist/caples_sound/ARU_data/10-BLACK/Data/BLACK-10-CAP_20230610_200000.wav', shard_num=0, shard_len_s=-1.0)\n"
     ]
    },
    {
     "name": "stderr",
     "output_type": "stream",
     "text": [
      "  1%|▎                                                 | 116/16036 [2:22:25<320:10:57, 72.40s/it]"
     ]
    },
    {
     "name": "stdout",
     "output_type": "stream",
     "text": [
      "[[-16.437115  -12.372951  -13.896699  ... -11.16818    -9.584841\n",
      "  -13.95138  ]\n",
      " [-13.049149  -14.106665  -13.56853   ...  -5.4248385  -6.059326\n",
      "  -13.140516 ]\n",
      " [-14.89964   -12.622453  -12.853222  ...  -9.713699   -5.9551964\n",
      "  -12.717646 ]\n",
      " ...\n",
      " [-15.08051   -11.807546  -14.369289  ... -13.475713  -12.3052435\n",
      "  -16.857338 ]\n",
      " [-15.665164  -11.702054  -14.225236  ... -12.432524   -9.85659\n",
      "  -15.918968 ]\n",
      " [-16.207855  -11.401098  -14.1596985 ... -12.623275  -11.804957\n",
      "  -18.042702 ]]\n",
      "SourceInfo(filepath='/home/mschulist/caples_sound/ARU_data/10-BLACK/Data/BLACK-10-CAP_20230620_100000.wav', shard_num=0, shard_len_s=-1.0)\n"
     ]
    },
    {
     "name": "stderr",
     "output_type": "stream",
     "text": [
      "  1%|▎                                                 | 117/16036 [2:23:35<317:45:09, 71.86s/it]"
     ]
    },
    {
     "name": "stdout",
     "output_type": "stream",
     "text": [
      "[[-11.4906435 -12.01139   -12.573031  ... -10.8189745  -8.342132\n",
      "  -16.57286  ]\n",
      " [-12.37874   -10.625187  -12.013718  ... -10.00514    -8.371451\n",
      "  -16.631014 ]\n",
      " [-10.523982  -11.954682  -10.661822  ...  -9.893518   -8.935545\n",
      "  -12.933875 ]\n",
      " ...\n",
      " [-13.710018  -12.274107  -12.778628  ...  -8.738594   -6.2336044\n",
      "  -10.060797 ]\n",
      " [-12.2556925 -11.897433  -13.753052  ...  -6.522768   -1.5784551\n",
      "  -12.974022 ]\n",
      " [-11.175877  -11.554415  -10.51325   ... -11.025259   -9.863422\n",
      "  -15.7996025]]\n",
      "SourceInfo(filepath='/home/mschulist/caples_sound/ARU_data/10-BLACK/Data/BLACK-10-CAP_20230605_040000.wav', shard_num=0, shard_len_s=-1.0)\n"
     ]
    },
    {
     "name": "stderr",
     "output_type": "stream",
     "text": [
      "  1%|▎                                                 | 118/16036 [2:24:44<313:19:50, 70.86s/it]"
     ]
    },
    {
     "name": "stdout",
     "output_type": "stream",
     "text": [
      "[[ -8.420867  -11.638456  -11.68006   ...  -9.339597   -7.657216\n",
      "  -15.572836 ]\n",
      " [ -7.781657  -11.429322  -10.457436  ...  -8.553741   -7.385046\n",
      "  -14.646374 ]\n",
      " [ -8.61766   -12.036369  -12.17645   ...  -8.897779   -8.261815\n",
      "  -14.747479 ]\n",
      " ...\n",
      " [ -8.55828   -10.652156   -9.821045  ...  -8.864466   -7.1050177\n",
      "  -14.328577 ]\n",
      " [ -8.356354  -10.968635  -10.760226  ...  -9.030188   -7.974725\n",
      "  -15.094397 ]\n",
      " [ -8.849043  -10.599638  -12.2333975 ...  -8.859077   -7.8164415\n",
      "  -15.022026 ]]\n",
      "SourceInfo(filepath='/home/mschulist/caples_sound/ARU_data/10-BLACK/Data/BLACK-10-CAP_20230613_173000.wav', shard_num=0, shard_len_s=-1.0)\n"
     ]
    },
    {
     "name": "stderr",
     "output_type": "stream",
     "text": [
      "  1%|▎                                                 | 119/16036 [2:25:53<311:15:17, 70.40s/it]"
     ]
    },
    {
     "name": "stdout",
     "output_type": "stream",
     "text": [
      "[[ -7.488146  -10.768977  -11.558761  ...  -8.328658   -8.739175\n",
      "  -16.346718 ]\n",
      " [ -6.639029  -11.735999  -11.364972  ...  -8.924224   -8.319486\n",
      "  -15.646351 ]\n",
      " [ -6.0417767 -11.475877  -11.502699  ...  -8.589095   -8.681237\n",
      "  -16.117554 ]\n",
      " ...\n",
      " [ -6.9603558 -10.688604  -10.933999  ...  -8.832996   -8.4964\n",
      "  -15.604115 ]\n",
      " [ -8.676437  -11.452445  -11.897963  ...  -9.065148   -8.681549\n",
      "  -15.483679 ]\n",
      " [ -7.5012484 -10.492281  -11.788973  ...  -8.755192   -8.727374\n",
      "  -15.053337 ]]\n",
      "SourceInfo(filepath='/home/mschulist/caples_sound/ARU_data/10-BLACK/Data/BLACK-10-CAP_20230607_063000.wav', shard_num=0, shard_len_s=-1.0)\n"
     ]
    },
    {
     "name": "stderr",
     "output_type": "stream",
     "text": [
      "  1%|▎                                                 | 120/16036 [2:27:04<312:07:20, 70.60s/it]"
     ]
    },
    {
     "name": "stdout",
     "output_type": "stream",
     "text": [
      "[[-13.185708  -12.313287  -15.685838  ...  -7.2854958  -6.825018\n",
      "  -12.998155 ]\n",
      " [-16.24551   -11.586491  -15.945635  ...  -7.0559006  -7.453991\n",
      "  -14.7060795]\n",
      " [-15.159286  -11.843401  -13.418487  ...  -7.521204   -5.3295565\n",
      "  -12.31091  ]\n",
      " ...\n",
      " [-17.152328  -11.007335   -9.575712  ...  -9.118106   -6.263074\n",
      "   -9.3473015]\n",
      " [-16.720295  -12.458901  -11.15508   ...  -7.799841   -5.217602\n",
      "  -12.147011 ]\n",
      " [-18.358894  -12.897628  -13.179325  ...  -9.148018   -6.8396263\n",
      "   -8.7743845]]\n",
      "SourceInfo(filepath='/home/mschulist/caples_sound/ARU_data/10-BLACK/Data/BLACK-10-CAP_20230612_223000.wav', shard_num=0, shard_len_s=-1.0)\n"
     ]
    },
    {
     "name": "stderr",
     "output_type": "stream",
     "text": [
      "  1%|▍                                                 | 121/16036 [2:28:18<316:35:39, 71.61s/it]"
     ]
    },
    {
     "name": "stdout",
     "output_type": "stream",
     "text": [
      "[[ -4.055876  -10.947886  -10.462037  ...  -9.776664   -8.767361\n",
      "  -14.989967 ]\n",
      " [ -4.6164017 -12.078578  -10.316284  ...  -8.813468   -7.805172\n",
      "  -13.682419 ]\n",
      " [ -6.3106785 -10.910856   -9.22687   ...  -8.79567    -7.180975\n",
      "  -12.707848 ]\n",
      " ...\n",
      " [ -6.3175216 -11.757865  -11.205591  ... -10.323608   -9.276547\n",
      "  -15.150515 ]\n",
      " [ -4.930348  -11.744057  -10.406235  ...  -9.485662   -8.339812\n",
      "  -15.173014 ]\n",
      " [ -3.7445388 -12.021347  -10.116857  ...  -9.419796   -8.780922\n",
      "  -14.797506 ]]\n",
      "SourceInfo(filepath='/home/mschulist/caples_sound/ARU_data/10-BLACK/Data/BLACK-10-CAP_20230609_033000.wav', shard_num=0, shard_len_s=-1.0)\n"
     ]
    },
    {
     "name": "stderr",
     "output_type": "stream",
     "text": [
      "  1%|▍                                                 | 122/16036 [2:29:33<320:32:12, 72.51s/it]"
     ]
    },
    {
     "name": "stdout",
     "output_type": "stream",
     "text": [
      "[[-17.274689  -11.616729  -12.901404  ...  -9.742701   -7.4190025\n",
      "  -16.171078 ]\n",
      " [-17.766737  -13.431164  -13.946267  ... -10.626497   -9.621961\n",
      "  -16.56137  ]\n",
      " [-18.398048  -12.222255  -13.441876  ...  -9.830276   -7.2780285\n",
      "  -16.080492 ]\n",
      " ...\n",
      " [-16.676313  -11.031749  -12.434315  ...  -9.12477    -7.522357\n",
      "  -15.315699 ]\n",
      " [-17.888336  -11.909542  -13.272154  ...  -9.686317   -7.3516893\n",
      "  -16.741692 ]\n",
      " [-16.59747   -11.987735  -13.453447  ...  -9.778845   -8.080754\n",
      "  -16.783688 ]]\n",
      "SourceInfo(filepath='/home/mschulist/caples_sound/ARU_data/10-BLACK/Data/BLACK-10-CAP_20230611_023000.wav', shard_num=0, shard_len_s=-1.0)\n"
     ]
    },
    {
     "name": "stderr",
     "output_type": "stream",
     "text": [
      "  1%|▍                                                 | 123/16036 [2:30:43<317:34:03, 71.84s/it]"
     ]
    },
    {
     "name": "stdout",
     "output_type": "stream",
     "text": [
      "[[-16.783234  -12.891791  -12.539335  ... -10.493538   -7.724882\n",
      "  -16.01736  ]\n",
      " [-14.720068  -12.787711  -12.027247  ... -10.156363   -7.984214\n",
      "  -16.490889 ]\n",
      " [-16.739843  -12.457203  -12.190555  ...  -9.944156   -7.8013554\n",
      "  -15.893743 ]\n",
      " ...\n",
      " [-17.592163  -12.843121  -13.104727  ... -10.224388   -7.6263638\n",
      "  -16.665638 ]\n",
      " [-16.714901  -12.206162  -12.951259  ... -10.363232   -7.9950256\n",
      "  -16.096935 ]\n",
      " [-16.782076  -12.574574  -13.19454   ...  -9.673632   -7.6033926\n",
      "  -16.012314 ]]\n",
      "SourceInfo(filepath='/home/mschulist/caples_sound/ARU_data/10-BLACK/Data/BLACK-10-CAP_20230604_223000.wav', shard_num=0, shard_len_s=-1.0)\n"
     ]
    },
    {
     "name": "stderr",
     "output_type": "stream",
     "text": [
      "  1%|▍                                                 | 124/16036 [2:31:57<320:55:43, 72.61s/it]"
     ]
    },
    {
     "name": "stdout",
     "output_type": "stream",
     "text": [
      "[[-18.315586  -11.96222   -14.072901  ...  -9.935959   -8.156387\n",
      "  -16.562855 ]\n",
      " [-19.68731   -11.5583725 -14.432038  ...  -8.968164   -7.952855\n",
      "  -16.311152 ]\n",
      " [-18.121746  -12.2219305 -13.774051  ...  -9.475832   -7.9825573\n",
      "  -16.877205 ]\n",
      " ...\n",
      " [-19.345722  -12.37359   -14.38381   ...  -9.643621   -8.330449\n",
      "  -16.894768 ]\n",
      " [-19.125519  -12.760753  -15.042549  ... -10.363256   -8.579832\n",
      "  -16.647345 ]\n",
      " [-20.492287  -12.963579  -15.162289  ... -10.22362    -7.9946833\n",
      "  -17.87084  ]]\n",
      "SourceInfo(filepath='/home/mschulist/caples_sound/ARU_data/10-BLACK/Data/BLACK-10-CAP_20230611_063000.wav', shard_num=0, shard_len_s=-1.0)\n"
     ]
    },
    {
     "name": "stderr",
     "output_type": "stream",
     "text": [
      "  1%|▍                                                 | 125/16036 [2:33:11<323:00:44, 73.08s/it]"
     ]
    },
    {
     "name": "stdout",
     "output_type": "stream",
     "text": [
      "[[-16.792171  -12.387486  -13.311025  ...  -5.525771   -6.082225\n",
      "  -12.709368 ]\n",
      " [-16.174637  -13.349761  -14.167511  ... -11.035288  -10.615781\n",
      "  -15.362195 ]\n",
      " [-16.18409   -13.114423  -13.169445  ...  -9.342785  -10.03398\n",
      "  -14.419031 ]\n",
      " ...\n",
      " [-16.911903  -11.508397  -15.935944  ...  -7.4946327  -5.670682\n",
      "  -11.98668  ]\n",
      " [-15.710343   -8.446847  -13.175438  ...  -5.8290195  -6.0000353\n",
      "  -14.390319 ]\n",
      " [-16.015024   -9.907609  -10.17388   ... -10.032911   -9.538369\n",
      "  -16.19035  ]]\n",
      "SourceInfo(filepath='/home/mschulist/caples_sound/ARU_data/10-BLACK/Data/BLACK-10-CAP_20230609_100000.wav', shard_num=0, shard_len_s=-1.0)\n"
     ]
    },
    {
     "name": "stderr",
     "output_type": "stream",
     "text": [
      "  1%|▍                                                 | 126/16036 [2:34:20<317:02:08, 71.74s/it]"
     ]
    },
    {
     "name": "stdout",
     "output_type": "stream",
     "text": [
      "[[-13.331229  -10.84932   -14.553345  ...  -8.227339   -6.2976966\n",
      "  -12.516063 ]\n",
      " [-14.281615  -10.651841  -10.722827  ...  -8.56357    -8.629704\n",
      "  -13.279406 ]\n",
      " [-14.332985  -11.172251  -13.706298  ...  -8.680307   -9.024052\n",
      "  -13.906942 ]\n",
      " ...\n",
      " [-18.343933  -13.70521   -15.113865  ... -12.242142  -11.792527\n",
      "  -20.817947 ]\n",
      " [-17.159584  -14.911617  -15.111542  ... -11.044484  -12.4143715\n",
      "  -19.021748 ]\n",
      " [-13.710435  -11.222224  -13.631985  ...  -6.141217   -5.018981\n",
      "  -11.6496525]]\n",
      "SourceInfo(filepath='/home/mschulist/caples_sound/ARU_data/10-BLACK/Data/BLACK-10-CAP_20230607_023000.wav', shard_num=0, shard_len_s=-1.0)\n"
     ]
    },
    {
     "name": "stderr",
     "output_type": "stream",
     "text": [
      "  1%|▍                                                 | 127/16036 [2:35:35<320:52:21, 72.61s/it]"
     ]
    },
    {
     "name": "stdout",
     "output_type": "stream",
     "text": [
      "[[-17.829433  -12.135854  -13.171329  ... -10.087693   -8.47207\n",
      "  -16.595806 ]\n",
      " [-17.26617   -12.171115  -13.591867  ...  -9.988611   -7.8013535\n",
      "  -16.991661 ]\n",
      " [-16.600441  -11.660174  -12.826     ...  -9.467561   -7.304122\n",
      "  -15.611959 ]\n",
      " ...\n",
      " [-18.657196  -12.94596   -14.579246  ... -10.13329    -8.011162\n",
      "  -16.884182 ]\n",
      " [-18.622833  -12.771277  -13.578206  ... -10.002528   -7.6394053\n",
      "  -16.589096 ]\n",
      " [-17.471916  -12.897052  -13.036196  ...  -9.803187   -7.641019\n",
      "  -16.125322 ]]\n",
      "SourceInfo(filepath='/home/mschulist/caples_sound/ARU_data/10-BLACK/Data/BLACK-10-CAP_20230609_073000.wav', shard_num=0, shard_len_s=-1.0)\n"
     ]
    },
    {
     "name": "stderr",
     "output_type": "stream",
     "text": [
      "  1%|▍                                                 | 128/16036 [2:36:50<324:42:56, 73.48s/it]"
     ]
    },
    {
     "name": "stdout",
     "output_type": "stream",
     "text": [
      "[[-14.348754  -11.694346  -11.90234   ... -10.730665   -8.99509\n",
      "  -15.286047 ]\n",
      " [-16.553421  -10.662247  -10.013982  ...  -7.720764   -7.5708723\n",
      "  -16.082853 ]\n",
      " [-20.08788   -13.882594  -14.763823  ...  -8.537241   -8.831399\n",
      "  -18.782269 ]\n",
      " ...\n",
      " [-16.984417  -10.50866   -13.204781  ...  -8.981693   -5.653105\n",
      "  -12.819061 ]\n",
      " [-19.331799  -11.820665  -14.188974  ... -11.211914  -10.5813465\n",
      "  -15.133529 ]\n",
      " [-19.840206  -12.377626  -18.96759   ... -11.354603  -11.145763\n",
      "  -19.394115 ]]\n",
      "SourceInfo(filepath='/home/mschulist/caples_sound/ARU_data/10-BLACK/Data/BLACK-10-CAP_20230609_180000.wav', shard_num=0, shard_len_s=-1.0)\n"
     ]
    },
    {
     "name": "stderr",
     "output_type": "stream",
     "text": [
      "  1%|▍                                                 | 129/16036 [2:38:02<322:50:00, 73.06s/it]"
     ]
    },
    {
     "name": "stdout",
     "output_type": "stream",
     "text": [
      "[[-15.107504  -11.976479  -12.514474  ... -10.055494   -8.332862\n",
      "  -16.567596 ]\n",
      " [-14.135944  -12.082844  -11.340494  ...  -9.78665    -7.4133263\n",
      "  -15.237007 ]\n",
      " [-15.5811205 -11.279546  -11.678619  ...  -6.28633    -7.367325\n",
      "  -15.041994 ]\n",
      " ...\n",
      " [-15.313966  -11.21341   -12.661699  ...  -9.491473   -8.139282\n",
      "  -16.058725 ]\n",
      " [-12.897209  -11.209317  -11.723624  ...  -9.108858   -4.300334\n",
      "  -13.284292 ]\n",
      " [-15.39394   -11.989562  -11.381233  ...  -9.637547   -8.325592\n",
      "  -16.27949  ]]\n",
      "SourceInfo(filepath='/home/mschulist/caples_sound/ARU_data/10-BLACK/Data/BLACK-10-CAP_20230616_040000.wav', shard_num=0, shard_len_s=-1.0)\n"
     ]
    },
    {
     "name": "stderr",
     "output_type": "stream",
     "text": [
      "  1%|▍                                                 | 130/16036 [2:39:15<322:58:19, 73.10s/it]"
     ]
    },
    {
     "name": "stdout",
     "output_type": "stream",
     "text": [
      "[[-11.12173   -11.629762  -12.175727  ...  -9.457186   -9.208567\n",
      "  -16.087944 ]\n",
      " [-11.57213   -12.110295  -12.570374  ...  -9.770712   -8.960878\n",
      "  -16.39748  ]\n",
      " [-10.147284  -11.458246  -12.774963  ...  -9.380177   -9.07077\n",
      "  -15.5784855]\n",
      " ...\n",
      " [-10.692578  -11.449331  -11.780756  ...  -9.617422   -8.595032\n",
      "  -15.556225 ]\n",
      " [-10.244985  -11.466892  -11.289209  ... -10.271797   -9.761954\n",
      "  -16.362919 ]\n",
      " [-10.7022085 -12.147851  -12.428058  ... -10.125084   -9.373337\n",
      "  -16.591932 ]]\n",
      "SourceInfo(filepath='/home/mschulist/caples_sound/ARU_data/10-BLACK/Data/BLACK-10-CAP_20230611_190000.wav', shard_num=0, shard_len_s=-1.0)\n"
     ]
    },
    {
     "name": "stderr",
     "output_type": "stream",
     "text": [
      "  1%|▍                                                 | 131/16036 [2:40:28<322:38:00, 73.03s/it]"
     ]
    },
    {
     "name": "stdout",
     "output_type": "stream",
     "text": [
      "[[ -7.0645046 -11.031388  -10.404312  ...  -8.850553   -8.359463\n",
      "  -14.674066 ]\n",
      " [ -7.5175676 -10.900598  -11.876429  ...  -9.266474   -8.381807\n",
      "  -15.927122 ]\n",
      " [ -7.9304147 -10.407462  -10.356953  ...  -8.867374   -7.781229\n",
      "  -14.71274  ]\n",
      " ...\n",
      " [ -7.912978  -10.773616  -10.562249  ...  -9.320674   -7.955572\n",
      "  -15.579406 ]\n",
      " [ -8.463789  -11.291399  -11.542795  ...  -9.468719   -8.284067\n",
      "  -15.245239 ]\n",
      " [ -6.3615856 -11.642691  -10.281041  ...  -9.039205   -8.053256\n",
      "  -15.81332  ]]\n",
      "SourceInfo(filepath='/home/mschulist/caples_sound/ARU_data/10-BLACK/Data/BLACK-10-CAP_20230615_200000.wav', shard_num=0, shard_len_s=-1.0)\n"
     ]
    },
    {
     "name": "stderr",
     "output_type": "stream",
     "text": [
      "  1%|▍                                                 | 132/16036 [2:41:40<320:28:28, 72.54s/it]"
     ]
    },
    {
     "name": "stdout",
     "output_type": "stream",
     "text": [
      "[[ -8.010361   -9.81381   -11.648019  ...  -9.0266     -8.185751\n",
      "  -15.15143  ]\n",
      " [ -8.449347  -10.301894  -12.595465  ... -10.237261   -9.537572\n",
      "  -14.93435  ]\n",
      " [ -8.358026  -11.750617  -11.016806  ... -11.081788   -8.394848\n",
      "  -13.31084  ]\n",
      " ...\n",
      " [ -8.956715  -10.245992  -12.736625  ...  -9.868149   -9.767677\n",
      "  -16.441341 ]\n",
      " [ -6.5237613  -9.685719  -10.382547  ...  -7.710519   -6.6052923\n",
      "  -16.129757 ]\n",
      " [ -8.591023  -10.723865  -11.611931  ... -10.916952   -8.745562\n",
      "  -17.034607 ]]\n",
      "SourceInfo(filepath='/home/mschulist/caples_sound/ARU_data/10-BLACK/Data/BLACK-10-CAP_20230616_000000.wav', shard_num=0, shard_len_s=-1.0)\n"
     ]
    },
    {
     "name": "stderr",
     "output_type": "stream",
     "text": [
      "  1%|▍                                                 | 133/16036 [2:42:53<321:07:53, 72.70s/it]"
     ]
    },
    {
     "name": "stdout",
     "output_type": "stream",
     "text": [
      "[[-11.185656  -11.883392  -12.1391535 ...  -9.8541355  -8.772918\n",
      "  -16.005373 ]\n",
      " [-10.842792  -11.839581  -12.997251  ... -10.106479   -8.925755\n",
      "  -16.62419  ]\n",
      " [-10.74125   -12.405279  -12.741485  ... -10.397644   -9.221223\n",
      "  -16.91564  ]\n",
      " ...\n",
      " [-11.292815  -11.571208  -12.162564  ...  -9.7290535  -8.430507\n",
      "  -16.191277 ]\n",
      " [ -8.966727  -11.74775   -11.5915985 ...  -8.822224   -8.1567335\n",
      "  -15.741534 ]\n",
      " [ -9.794262  -12.351528  -12.091782  ...  -8.744387   -9.012549\n",
      "  -16.33008  ]]\n",
      "SourceInfo(filepath='/home/mschulist/caples_sound/ARU_data/10-BLACK/Data/BLACK-10-CAP_20230607_190000.wav', shard_num=0, shard_len_s=-1.0)\n"
     ]
    },
    {
     "name": "stderr",
     "output_type": "stream",
     "text": [
      "  1%|▍                                                 | 134/16036 [2:44:04<319:15:40, 72.28s/it]"
     ]
    },
    {
     "name": "stdout",
     "output_type": "stream",
     "text": [
      "[[-13.928906  -10.816014  -11.326846  ...  -9.100111   -7.5528364\n",
      "  -15.250046 ]\n",
      " [-13.652698  -10.963542  -11.073536  ...  -8.801294   -7.4924355\n",
      "  -15.620853 ]\n",
      " [-14.627947  -10.790215  -11.55266   ...  -9.195028   -7.1390877\n",
      "  -15.485064 ]\n",
      " ...\n",
      " [-16.77808    -9.832876  -11.018646  ... -10.307564   -8.854363\n",
      "  -15.643323 ]\n",
      " [-16.16824   -11.654303  -13.671896  ... -10.595089   -8.2701025\n",
      "  -18.28751  ]\n",
      " [-14.710338  -11.021497  -10.021131  ... -10.422789   -8.68521\n",
      "  -14.515278 ]]\n",
      "SourceInfo(filepath='/home/mschulist/caples_sound/ARU_data/10-BLACK/Data/BLACK-10-CAP_20230607_213000.wav', shard_num=0, shard_len_s=-1.0)\n"
     ]
    },
    {
     "name": "stderr",
     "output_type": "stream",
     "text": [
      "  1%|▍                                                 | 135/16036 [2:45:17<320:06:23, 72.47s/it]"
     ]
    },
    {
     "name": "stdout",
     "output_type": "stream",
     "text": [
      "[[-11.911576   -9.896362   -9.74133   ...  -8.434352   -7.1319914\n",
      "  -13.527569 ]\n",
      " [-13.596896  -10.651534  -10.879666  ...  -9.432401   -7.57481\n",
      "  -15.6206455]\n",
      " [-14.815022  -10.430659  -12.586525  ...  -9.0450735  -8.36966\n",
      "  -16.18776  ]\n",
      " ...\n",
      " [-15.185172  -11.240971  -12.140629  ...  -9.493      -8.061459\n",
      "  -15.883778 ]\n",
      " [-15.057174  -11.701206  -12.7460785 ... -10.042916   -8.867726\n",
      "  -16.774563 ]\n",
      " [-13.524808  -10.236818  -10.532765  ...  -9.103909   -7.6044483\n",
      "  -14.773429 ]]\n",
      "SourceInfo(filepath='/home/mschulist/caples_sound/ARU_data/10-BLACK/Data/BLACK-10-CAP_20230604_160000.wav', shard_num=0, shard_len_s=-1.0)\n"
     ]
    },
    {
     "name": "stderr",
     "output_type": "stream",
     "text": [
      "  1%|▍                                                 | 136/16036 [2:46:32<323:50:38, 73.32s/it]"
     ]
    },
    {
     "name": "stdout",
     "output_type": "stream",
     "text": [
      "[[-13.569825  -10.907102  -11.135032  ...  -5.989991   -2.7220464\n",
      "  -12.028605 ]\n",
      " [-13.69095   -11.497999  -13.9322405 ...  -7.275522   -4.237955\n",
      "  -11.953059 ]\n",
      " [-16.213978  -12.426308  -11.426042  ...  -8.668886   -2.2616744\n",
      "  -13.015497 ]\n",
      " ...\n",
      " [-15.984155  -12.505392  -14.060817  ...  -8.184006   -7.6931515\n",
      "  -15.032353 ]\n",
      " [-16.460028  -13.408963  -14.086536  ... -10.306835   -7.694029\n",
      "  -15.108868 ]\n",
      " [-14.32175   -10.403682  -11.898043  ...  -6.8572683  -6.0102916\n",
      "  -13.817932 ]]\n",
      "SourceInfo(filepath='/home/mschulist/caples_sound/ARU_data/10-BLACK/Data/BLACK-10-CAP_20230612_053000.wav', shard_num=0, shard_len_s=-1.0)\n"
     ]
    },
    {
     "name": "stderr",
     "output_type": "stream",
     "text": [
      "  1%|▍                                                 | 137/16036 [2:47:48<326:21:34, 73.90s/it]"
     ]
    },
    {
     "name": "stdout",
     "output_type": "stream",
     "text": [
      "[[ -6.5733304 -11.740033  -10.077135  ...  -8.156402   -7.9437523\n",
      "  -14.094925 ]\n",
      " [ -9.450209   -9.397632   -8.921925  ...  -9.297838   -7.566633\n",
      "  -14.069899 ]\n",
      " [ -7.6005516 -12.255513  -12.072161  ...  -8.869076   -8.416166\n",
      "  -13.684561 ]\n",
      " ...\n",
      " [ -6.474202  -10.657759  -10.940744  ...  -7.071699   -7.4990816\n",
      "  -14.599448 ]\n",
      " [-10.297944  -12.008046  -10.993404  ... -10.784334   -7.88535\n",
      "  -13.907572 ]\n",
      " [ -7.6615186 -12.494052  -12.948757  ...  -9.341595   -8.552904\n",
      "  -14.57095  ]]\n",
      "SourceInfo(filepath='/home/mschulist/caples_sound/ARU_data/10-BLACK/Data/BLACK-10-CAP_20230615_183000.wav', shard_num=0, shard_len_s=-1.0)\n"
     ]
    },
    {
     "name": "stderr",
     "output_type": "stream",
     "text": [
      "  1%|▍                                                 | 138/16036 [2:49:04<329:44:55, 74.67s/it]"
     ]
    },
    {
     "name": "stdout",
     "output_type": "stream",
     "text": [
      "[[ -6.6120553 -11.736335  -11.745217  ...  -9.734017   -9.320259\n",
      "  -17.255297 ]\n",
      " [ -8.821355  -10.915664  -11.495595  ...  -9.646766   -8.540297\n",
      "  -15.152505 ]\n",
      " [ -8.638509  -10.908391  -11.934545  ...  -9.231332   -8.380459\n",
      "  -15.847999 ]\n",
      " ...\n",
      " [ -8.678421  -11.261437  -12.156953  ...  -9.835942   -8.80318\n",
      "  -16.839859 ]\n",
      " [ -7.9512644 -10.969605  -12.164886  ...  -9.673891   -8.526034\n",
      "  -15.509385 ]\n",
      " [ -8.341743  -10.996154  -12.09571   ...  -9.654903   -8.48397\n",
      "  -15.468489 ]]\n",
      "SourceInfo(filepath='/home/mschulist/caples_sound/ARU_data/10-BLACK/Data/BLACK-10-CAP_20230612_160000.wav', shard_num=0, shard_len_s=-1.0)\n"
     ]
    },
    {
     "name": "stderr",
     "output_type": "stream",
     "text": [
      "  1%|▍                                                 | 139/16036 [2:50:16<326:37:50, 73.97s/it]"
     ]
    },
    {
     "name": "stdout",
     "output_type": "stream",
     "text": [
      "[[ -4.9396486 -11.472587   -7.012641  ...  -9.18008    -7.184061\n",
      "  -16.420315 ]\n",
      " [ -7.9234457 -11.014809   -9.399462  ... -10.254728   -7.775508\n",
      "  -16.704609 ]\n",
      " [ -6.200772  -12.083752   -8.719152  ... -10.482847   -8.759502\n",
      "  -17.657448 ]\n",
      " ...\n",
      " [ -4.409668  -12.519994   -9.031962  ... -10.932103   -8.950572\n",
      "  -15.551707 ]\n",
      " [ -4.6910143 -12.1573     -8.115933  ... -10.271576   -8.350714\n",
      "  -16.008156 ]\n",
      " [ -3.5159647 -11.459319   -7.1594086 ...  -8.968266   -7.549697\n",
      "  -15.482235 ]]\n",
      "SourceInfo(filepath='/home/mschulist/caples_sound/ARU_data/10-BLACK/Data/BLACK-10-CAP_20230611_213000.wav', shard_num=0, shard_len_s=-1.0)\n"
     ]
    },
    {
     "name": "stderr",
     "output_type": "stream",
     "text": [
      "  1%|▍                                                 | 140/16036 [2:51:31<328:02:52, 74.29s/it]"
     ]
    },
    {
     "name": "stdout",
     "output_type": "stream",
     "text": [
      "[[ -8.487127  -10.881056  -10.531404  ...  -9.777167   -9.276416\n",
      "  -14.881369 ]\n",
      " [ -8.2168455 -11.530183  -11.815023  ...  -9.05358    -9.715865\n",
      "  -16.292042 ]\n",
      " [ -7.440977  -11.556415  -11.276658  ...  -8.847929   -8.933726\n",
      "  -15.882286 ]\n",
      " ...\n",
      " [ -7.5880218 -13.099928  -11.566636  ...  -9.764875   -8.330129\n",
      "  -15.872935 ]\n",
      " [ -8.286394  -12.428593  -12.350941  ... -10.730546   -9.750262\n",
      "  -17.369083 ]\n",
      " [ -9.050274  -11.785136  -10.973939  ...  -9.928526   -8.612749\n",
      "  -15.593845 ]]\n",
      "SourceInfo(filepath='/home/mschulist/caples_sound/ARU_data/10-BLACK/Data/BLACK-10-CAP_20230612_013000.wav', shard_num=0, shard_len_s=-1.0)\n"
     ]
    },
    {
     "name": "stderr",
     "output_type": "stream",
     "text": [
      "  1%|▍                                                 | 141/16036 [2:52:46<328:17:48, 74.35s/it]"
     ]
    },
    {
     "name": "stdout",
     "output_type": "stream",
     "text": [
      "[[-11.199933 -11.015011 -12.700837 ...  -9.910997  -9.048535 -16.314793]\n",
      " [ -9.895725 -11.056241 -12.101019 ...  -9.254045  -8.654021 -15.987856]\n",
      " [ -9.510565 -10.994462 -12.543742 ...  -9.652441  -9.63099  -15.82066 ]\n",
      " ...\n",
      " [ -9.620422 -11.247905 -12.606503 ...  -9.50019   -9.173143 -15.64428 ]\n",
      " [-10.194147 -11.231423 -11.645831 ...  -9.453718  -9.067619 -14.852223]\n",
      " [-10.351947 -10.923951 -12.590025 ...  -9.48768   -8.82778  -15.801005]]\n",
      "SourceInfo(filepath='/home/mschulist/caples_sound/ARU_data/10-BLACK/Data/BLACK-10-CAP_20230609_203000.wav', shard_num=0, shard_len_s=-1.0)\n"
     ]
    },
    {
     "name": "stderr",
     "output_type": "stream",
     "text": [
      "  1%|▍                                                 | 142/16036 [2:53:59<326:59:01, 74.06s/it]"
     ]
    },
    {
     "name": "stdout",
     "output_type": "stream",
     "text": [
      "[[-12.808311  -11.444651  -11.6522455 ...  -7.1432114  -4.683485\n",
      "  -15.589024 ]\n",
      " [-15.59012   -11.97988   -13.182791  ... -10.143566   -9.264939\n",
      "  -16.850273 ]\n",
      " [-15.444733  -12.6509695 -12.531898  ...  -8.590064   -7.0151386\n",
      "  -12.278721 ]\n",
      " ...\n",
      " [-13.668658  -12.404609  -14.311316  ... -11.150886  -11.065861\n",
      "  -17.55682  ]\n",
      " [-16.107853  -14.18436   -16.396873  ... -16.357533  -13.48342\n",
      "  -17.081417 ]\n",
      " [-19.148209  -15.892818  -16.6524    ... -13.319905  -11.162171\n",
      "  -17.87875  ]]\n",
      "SourceInfo(filepath='/home/mschulist/caples_sound/ARU_data/10-BLACK/Data/BLACK-10-CAP_20230615_030000.wav', shard_num=0, shard_len_s=-1.0)\n"
     ]
    },
    {
     "name": "stderr",
     "output_type": "stream",
     "text": [
      "  1%|▍                                                 | 143/16036 [2:55:14<327:45:44, 74.24s/it]"
     ]
    },
    {
     "name": "stdout",
     "output_type": "stream",
     "text": [
      "[[-10.704167  -11.618592  -12.338414  ...  -9.798497   -9.202936\n",
      "  -16.689253 ]\n",
      " [-10.893278  -10.936857  -12.792226  ...  -9.694069   -9.829493\n",
      "  -16.135925 ]\n",
      " [-10.312293  -11.414873  -13.04269   ... -10.084235   -9.605174\n",
      "  -15.353764 ]\n",
      " ...\n",
      " [-10.425039  -11.378407  -12.629646  ...  -9.582506   -9.182186\n",
      "  -16.450687 ]\n",
      " [-10.561962  -11.926646  -13.242268  ...  -9.93689    -9.610047\n",
      "  -16.762388 ]\n",
      " [-10.920308  -11.937185  -12.801251  ...  -9.630186   -9.5584545\n",
      "  -16.312218 ]]\n",
      "SourceInfo(filepath='/home/mschulist/caples_sound/ARU_data/10-BLACK/Data/BLACK-10-CAP_20230612_093000.wav', shard_num=0, shard_len_s=-1.0)\n"
     ]
    },
    {
     "name": "stderr",
     "output_type": "stream",
     "text": [
      "  1%|▍                                                 | 144/16036 [2:56:29<328:43:10, 74.46s/it]"
     ]
    },
    {
     "name": "stdout",
     "output_type": "stream",
     "text": [
      "[[-11.655391  -13.753049  -13.007294  ...  -9.127577   -8.163599\n",
      "  -15.608921 ]\n",
      " [ -9.4696245 -13.536629  -11.59947   ...  -9.666826   -8.064602\n",
      "  -11.98299  ]\n",
      " [-11.162475  -11.884822  -11.935133  ... -12.0915     -8.423696\n",
      "  -14.487523 ]\n",
      " ...\n",
      " [ -8.243111  -11.569429  -12.32847   ...  -9.369043   -6.652195\n",
      "  -13.260736 ]\n",
      " [ -7.6740932 -10.490097  -11.853421  ...  -8.496896   -6.977373\n",
      "  -13.207253 ]\n",
      " [ -7.0200644 -10.66461   -12.435587  ...  -8.196283   -7.357066\n",
      "  -13.141497 ]]\n",
      "SourceInfo(filepath='/home/mschulist/caples_sound/ARU_data/10-BLACK/Data/BLACK-10-CAP_20230615_070000.wav', shard_num=0, shard_len_s=-1.0)\n"
     ]
    },
    {
     "name": "stderr",
     "output_type": "stream",
     "text": [
      "  1%|▍                                                 | 145/16036 [2:57:43<328:17:50, 74.37s/it]"
     ]
    },
    {
     "name": "stdout",
     "output_type": "stream",
     "text": [
      "[[-11.344311  -11.669493  -14.049974  ... -10.20553    -9.903893\n",
      "  -17.590807 ]\n",
      " [-12.032656  -10.932732  -12.836867  ... -11.122503   -8.402646\n",
      "  -16.907078 ]\n",
      " [-11.076285  -11.716766  -13.67262   ...  -8.483883   -9.114373\n",
      "  -16.92855  ]\n",
      " ...\n",
      " [ -9.997992  -11.321872  -12.390219  ...  -9.7281275  -9.616444\n",
      "  -16.449905 ]\n",
      " [ -9.331991  -10.753119  -11.853794  ...  -8.409538   -8.516165\n",
      "  -16.641685 ]\n",
      " [-10.374324  -11.87651   -12.799198  ... -10.32085    -9.181856\n",
      "  -16.760075 ]]\n",
      "SourceInfo(filepath='/home/mschulist/caples_sound/ARU_data/10-BLACK/Data/BLACK-10-CAP_20230604_093000.wav', shard_num=0, shard_len_s=-1.0)\n"
     ]
    },
    {
     "name": "stderr",
     "output_type": "stream",
     "text": [
      "  1%|▍                                                 | 146/16036 [2:58:59<330:28:14, 74.87s/it]"
     ]
    },
    {
     "name": "stdout",
     "output_type": "stream",
     "text": [
      "[[-13.627416  -10.636659  -10.151659  ...  -6.11863    -4.3928866\n",
      "  -10.032845 ]\n",
      " [-14.966126  -12.026629  -13.046804  ...  -7.1181483  -7.293743\n",
      "  -15.985247 ]\n",
      " [-14.72532    -9.879742  -11.821208  ...  -7.4285507  -7.7293625\n",
      "  -14.642599 ]\n",
      " ...\n",
      " [-16.072292  -10.355302  -13.6480055 ...  -7.909407   -8.853833\n",
      "  -14.181525 ]\n",
      " [-16.342148   -8.689235  -13.086049  ...  -4.907998   -6.1626334\n",
      "  -14.46468  ]\n",
      " [-19.944706  -10.6123905 -14.659764  ...  -8.15574    -8.705732\n",
      "  -16.492365 ]]\n",
      "SourceInfo(filepath='/home/mschulist/caples_sound/ARU_data/10-BLACK/Data/BLACK-10-CAP_20230610_020000.wav', shard_num=0, shard_len_s=-1.0)\n"
     ]
    },
    {
     "name": "stderr",
     "output_type": "stream",
     "text": [
      "  1%|▍                                                 | 147/16036 [3:00:11<326:06:13, 73.89s/it]"
     ]
    },
    {
     "name": "stdout",
     "output_type": "stream",
     "text": [
      "[[-18.72976   -11.832184  -14.00038   ...  -9.449472   -7.3819427\n",
      "  -16.093239 ]\n",
      " [-18.089218  -12.21406   -13.569355  ...  -9.870996   -7.694669\n",
      "  -16.699629 ]\n",
      " [-19.8196    -13.137785  -15.240304  ... -10.432714   -8.376726\n",
      "  -17.401728 ]\n",
      " ...\n",
      " [-18.244827  -12.354332  -14.319683  ...  -9.642452   -7.66992\n",
      "  -17.429749 ]\n",
      " [-17.92973   -12.710113  -13.40247   ...  -9.779129   -7.6515484\n",
      "  -16.459219 ]\n",
      " [-18.69765   -12.089137  -13.695332  ...  -9.6303005  -7.885683\n",
      "  -16.118198 ]]\n",
      "SourceInfo(filepath='/home/mschulist/caples_sound/ARU_data/10-BLACK/Data/BLACK-10-CAP_20230606_060000.wav', shard_num=0, shard_len_s=-1.0)\n"
     ]
    },
    {
     "name": "stderr",
     "output_type": "stream",
     "text": [
      "  1%|▍                                                 | 148/16036 [3:01:25<326:21:13, 73.95s/it]"
     ]
    },
    {
     "name": "stdout",
     "output_type": "stream",
     "text": [
      "[[-13.339292  -11.062445  -11.126094  ...  -8.49004    -8.023445\n",
      "  -12.8323765]\n",
      " [-14.908205   -9.481484  -10.522739  ...  -5.9844337  -4.255765\n",
      "   -8.944622 ]\n",
      " [-11.34068   -11.459072   -8.760349  ...  -7.396371   -5.533167\n",
      "   -9.975502 ]\n",
      " ...\n",
      " [-14.03701   -11.231182  -12.961063  ...  -7.297475   -6.122876\n",
      "  -10.265732 ]\n",
      " [-15.698744  -10.232273   -9.8625145 ...  -6.7549887  -5.1725607\n",
      "   -9.639501 ]\n",
      " [-15.004042  -11.773852  -11.944287  ... -12.652552   -8.737005\n",
      "  -15.403671 ]]\n",
      "SourceInfo(filepath='/home/mschulist/caples_sound/ARU_data/10-BLACK/Data/BLACK-10-CAP_20230613_220000.wav', shard_num=0, shard_len_s=-1.0)\n"
     ]
    },
    {
     "name": "stderr",
     "output_type": "stream",
     "text": [
      "  1%|▍                                                 | 149/16036 [3:02:42<329:57:52, 74.77s/it]"
     ]
    },
    {
     "name": "stdout",
     "output_type": "stream",
     "text": [
      "[[-10.23557   -10.58734   -13.387933  ...  -9.280506   -9.490725\n",
      "  -15.635638 ]\n",
      " [-10.290942  -10.560107  -12.8966255 ...  -9.230779   -8.999495\n",
      "  -15.436424 ]\n",
      " [-10.067273  -10.297306  -12.332821  ...  -9.262796   -9.010831\n",
      "  -15.196189 ]\n",
      " ...\n",
      " [-10.755712  -10.970845  -13.688862  ...  -9.453444   -9.287505\n",
      "  -16.613575 ]\n",
      " [-10.938371  -11.233619  -13.377604  ...  -9.916228   -9.697074\n",
      "  -15.978956 ]\n",
      " [ -9.994206  -10.126948  -12.253505  ...  -9.062334   -9.453209\n",
      "  -15.100267 ]]\n",
      "SourceInfo(filepath='/home/mschulist/caples_sound/ARU_data/10-BLACK/Data/BLACK-10-CAP_20230608_030000.wav', shard_num=0, shard_len_s=-1.0)\n"
     ]
    },
    {
     "name": "stderr",
     "output_type": "stream",
     "text": [
      "  1%|▍                                                 | 150/16036 [3:03:56<330:04:08, 74.80s/it]"
     ]
    },
    {
     "name": "stdout",
     "output_type": "stream",
     "text": [
      "[[-14.318894  -10.682298  -11.54566   ...  -8.939325   -8.048064\n",
      "  -16.478874 ]\n",
      " [-14.581562  -10.91314   -11.612206  ... -10.111874   -8.164364\n",
      "  -16.66087  ]\n",
      " [-14.806338  -10.778057  -11.19095   ...  -8.71826    -7.436859\n",
      "  -15.721602 ]\n",
      " ...\n",
      " [-14.255352   -9.99296   -11.47411   ...  -9.204508   -7.4863014\n",
      "  -15.345259 ]\n",
      " [-16.084879  -11.680036  -12.383091  ... -10.055277   -8.191638\n",
      "  -17.388119 ]\n",
      " [-13.4350395 -10.169383  -10.795742  ...  -9.150629   -7.74426\n",
      "  -14.913865 ]]\n",
      "SourceInfo(filepath='/home/mschulist/caples_sound/ARU_data/10-BLACK/Data/BLACK-10-CAP_20230606_020000.wav', shard_num=0, shard_len_s=-1.0)\n"
     ]
    },
    {
     "name": "stderr",
     "output_type": "stream",
     "text": [
      "  1%|▍                                                 | 151/16036 [3:05:10<328:32:08, 74.46s/it]"
     ]
    },
    {
     "name": "stdout",
     "output_type": "stream",
     "text": [
      "[[-18.878605  -12.492801  -14.117735  ... -10.564558   -8.391201\n",
      "  -16.917307 ]\n",
      " [-18.132507  -11.494324  -12.726027  ...  -9.528027   -8.317025\n",
      "  -15.906394 ]\n",
      " [-18.637112  -12.481326  -13.749736  ... -10.0632925  -8.449971\n",
      "  -16.676674 ]\n",
      " ...\n",
      " [-17.776241  -11.894831  -13.585404  ...  -9.733482   -7.82333\n",
      "  -16.109144 ]\n",
      " [-16.645683  -11.444402  -12.556726  ...  -9.834448   -7.7330675\n",
      "  -16.329231 ]\n",
      " [-18.765038  -12.389383  -14.132599  ... -10.191082   -8.505011\n",
      "  -17.309975 ]]\n",
      "SourceInfo(filepath='/home/mschulist/caples_sound/ARU_data/10-BLACK/Data/BLACK-10-CAP_20230608_070000.wav', shard_num=0, shard_len_s=-1.0)\n"
     ]
    },
    {
     "name": "stderr",
     "output_type": "stream",
     "text": [
      "  1%|▍                                                 | 152/16036 [3:06:26<330:52:21, 74.99s/it]"
     ]
    },
    {
     "name": "stdout",
     "output_type": "stream",
     "text": [
      "[[-17.4175    -13.623492  -16.028896  ... -13.151362   -9.333233\n",
      "  -17.996227 ]\n",
      " [-14.468997  -12.642461  -13.376473  ... -10.741777   -6.6723804\n",
      "  -16.37378  ]\n",
      " [-16.79469   -12.99182   -13.660624  ...  -8.572132   -7.96682\n",
      "  -13.925985 ]\n",
      " ...\n",
      " [-12.804231   -8.858227  -13.222786  ...  -8.442238   -8.088176\n",
      "  -14.726981 ]\n",
      " [-11.021698  -10.747908   -9.738849  ...  -6.1672316  -8.593584\n",
      "   -8.888679 ]\n",
      " [-14.284389   -9.29257   -11.570691  ...  -7.2915792  -7.0214424\n",
      "  -13.243507 ]]\n",
      "SourceInfo(filepath='/home/mschulist/caples_sound/ARU_data/10-BLACK/Data/BLACK-10-CAP_20230605_220000.wav', shard_num=0, shard_len_s=-1.0)\n"
     ]
    },
    {
     "name": "stderr",
     "output_type": "stream",
     "text": [
      "  1%|▍                                                 | 153/16036 [3:07:43<333:41:19, 75.63s/it]"
     ]
    },
    {
     "name": "stdout",
     "output_type": "stream",
     "text": [
      "[[-18.16761   -11.431681  -13.381016  ...  -8.860655   -7.5245676\n",
      "  -15.563975 ]\n",
      " [-20.209976  -12.535745  -15.096985  ... -10.430413   -8.522288\n",
      "  -17.750053 ]\n",
      " [-19.001545  -11.815266  -13.366322  ...  -8.912666   -7.38461\n",
      "  -15.984518 ]\n",
      " ...\n",
      " [-18.771862  -12.548929  -13.346952  ...  -9.335796   -7.3974886\n",
      "  -16.074696 ]\n",
      " [-18.850887  -11.185459  -12.0437565 ...  -8.957461   -7.0604887\n",
      "  -14.101525 ]\n",
      " [-17.815071  -11.449011  -12.55468   ...  -9.511514   -7.529567\n",
      "  -13.959448 ]]\n",
      "SourceInfo(filepath='/home/mschulist/caples_sound/ARU_data/10-BLACK/Data/BLACK-10-CAP_20230610_060000.wav', shard_num=0, shard_len_s=-1.0)\n"
     ]
    },
    {
     "name": "stderr",
     "output_type": "stream",
     "text": [
      "  1%|▍                                                 | 154/16036 [3:09:01<335:47:03, 76.11s/it]"
     ]
    },
    {
     "name": "stdout",
     "output_type": "stream",
     "text": [
      "[[-16.825844  -12.443254  -14.281346  ...  -7.8271136  -6.5508833\n",
      "  -11.8716545]\n",
      " [-12.820745   -9.2428665 -12.912169  ...  -7.982547   -3.4246254\n",
      "  -10.588558 ]\n",
      " [-15.194398  -11.654327  -13.499781  ...  -7.9352317  -7.9539433\n",
      "  -12.451277 ]\n",
      " ...\n",
      " [-16.582829  -11.341413  -11.662875  ...  -6.905011   -4.884845\n",
      "  -12.859843 ]\n",
      " [-17.233734  -14.580541  -15.519312  ...  -9.775354   -4.175953\n",
      "  -12.887243 ]\n",
      " [-15.063236  -12.258868  -13.52266   ...  -9.615963   -7.773409\n",
      "  -12.204159 ]]\n",
      "SourceInfo(filepath='/home/mschulist/caples_sound/ARU_data/10-BLACK/Data/BLACK-10-CAP_20230610_193000.wav', shard_num=0, shard_len_s=-1.0)\n"
     ]
    },
    {
     "name": "stderr",
     "output_type": "stream",
     "text": [
      "  1%|▍                                                 | 155/16036 [3:10:18<337:02:19, 76.40s/it]"
     ]
    },
    {
     "name": "stdout",
     "output_type": "stream",
     "text": [
      "[[-16.103973  -12.348587  -14.313469  ...  -7.2881074  -7.670459\n",
      "  -13.670433 ]\n",
      " [-17.390629  -13.677439  -14.962255  ... -11.360575  -11.049528\n",
      "  -18.738997 ]\n",
      " [-14.761873  -11.683926  -13.297649  ...  -8.148056   -7.78944\n",
      "  -16.079288 ]\n",
      " ...\n",
      " [-12.619953  -11.899222  -12.761709  ...  -6.644177   -6.270299\n",
      "  -14.801409 ]\n",
      " [-12.851293  -11.415042  -12.089502  ...  -9.164738   -8.461815\n",
      "  -13.394873 ]\n",
      " [-14.598647  -10.863239  -13.069072  ...  -9.554718   -7.345704\n",
      "  -15.733615 ]]\n",
      "SourceInfo(filepath='/home/mschulist/caples_sound/ARU_data/10-BLACK/Data/BLACK-10-CAP_20230608_183000.wav', shard_num=0, shard_len_s=-1.0)\n"
     ]
    },
    {
     "name": "stderr",
     "output_type": "stream",
     "text": [
      "  1%|▍                                                 | 156/16036 [3:11:33<334:58:29, 75.94s/it]"
     ]
    },
    {
     "name": "stdout",
     "output_type": "stream",
     "text": [
      "[[-14.819036  -12.0791    -13.2138605 ... -10.308396   -9.309801\n",
      "  -16.748528 ]\n",
      " [-14.1089115 -14.857402  -15.497917  ...  -9.772158   -7.8337984\n",
      "  -14.180547 ]\n",
      " [-14.240386  -13.263546  -15.376492  ... -10.806314   -9.965943\n",
      "  -16.758085 ]\n",
      " ...\n",
      " [-15.545936   -8.951203  -10.732398  ...  -7.9732895  -7.3919516\n",
      "  -16.004353 ]\n",
      " [-19.191654  -12.75337   -12.449438  ... -11.770151   -6.8685856\n",
      "  -14.417077 ]\n",
      " [-17.529064  -12.119445  -11.263974  ...  -8.362317   -7.234169\n",
      "  -13.398256 ]]\n",
      "SourceInfo(filepath='/home/mschulist/caples_sound/ARU_data/10-BLACK/Data/BLACK-10-CAP_20230606_193000.wav', shard_num=0, shard_len_s=-1.0)\n"
     ]
    },
    {
     "name": "stderr",
     "output_type": "stream",
     "text": [
      "  1%|▍                                                 | 157/16036 [3:12:49<335:02:32, 75.96s/it]"
     ]
    },
    {
     "name": "stdout",
     "output_type": "stream",
     "text": [
      "[[-17.31808   -10.767962  -14.658937  ...  -7.9317164  -6.675776\n",
      "  -14.621479 ]\n",
      " [-16.399687  -11.969679  -13.150696  ...  -7.047899   -7.4190817\n",
      "  -12.4274025]\n",
      " [-14.469205  -12.602443  -12.1189165 ...  -6.5000286  -7.227929\n",
      "  -13.325282 ]\n",
      " ...\n",
      " [-14.633012   -9.951329  -12.038494  ...  -9.312394   -8.283785\n",
      "  -14.515712 ]\n",
      " [-17.95086    -8.478368  -13.125559  ... -12.212877  -11.097693\n",
      "  -16.880632 ]\n",
      " [-16.859577  -13.28037   -12.752617  ... -11.4247265  -8.356707\n",
      "  -13.771019 ]]\n",
      "SourceInfo(filepath='/home/mschulist/caples_sound/ARU_data/10-BLACK/Data/BLACK-10-CAP_20230614_203000.wav', shard_num=0, shard_len_s=-1.0)\n"
     ]
    },
    {
     "name": "stderr",
     "output_type": "stream",
     "text": [
      "  1%|▍                                                 | 158/16036 [3:14:03<332:27:15, 75.38s/it]"
     ]
    },
    {
     "name": "stdout",
     "output_type": "stream",
     "text": [
      "[[ -8.540558   -8.305346  -11.140146  ...  -7.8214006  -6.9155283\n",
      "  -10.842817 ]\n",
      " [ -8.211512   -9.7785635 -10.735518  ...  -9.240162   -8.17997\n",
      "  -15.219918 ]\n",
      " [ -9.104052  -10.373282  -11.752236  ...  -9.464153   -8.439317\n",
      "  -15.498084 ]\n",
      " ...\n",
      " [ -8.494802  -11.493011  -14.769933  ... -11.31484   -11.103246\n",
      "  -18.564466 ]\n",
      " [ -8.875387  -10.722777  -12.143963  ...  -9.692248   -9.4091215\n",
      "  -15.632641 ]\n",
      " [-10.6387205 -11.239242  -12.256745  ... -10.099398   -9.123471\n",
      "  -15.962805 ]]\n",
      "SourceInfo(filepath='/home/mschulist/caples_sound/ARU_data/10-BLACK/Data/BLACK-10-CAP_20230605_010000.wav', shard_num=0, shard_len_s=-1.0)\n"
     ]
    },
    {
     "name": "stderr",
     "output_type": "stream",
     "text": [
      "  1%|▍                                                 | 159/16036 [3:15:20<334:51:29, 75.93s/it]"
     ]
    },
    {
     "name": "stdout",
     "output_type": "stream",
     "text": [
      "[[-18.45206   -12.244674  -14.198022  ...  -9.951342   -8.213754\n",
      "  -16.62352  ]\n",
      " [-18.596909  -12.958161  -14.825818  ... -10.265144   -8.47037\n",
      "  -17.397839 ]\n",
      " [-17.884438  -12.015777  -14.375556  ...  -9.970043   -8.211459\n",
      "  -15.931046 ]\n",
      " ...\n",
      " [-15.093997  -12.177671  -12.665541  ...  -9.006365   -7.8047724\n",
      "  -16.053146 ]\n",
      " [-14.467966  -12.375821  -11.890077  ...  -8.970909   -6.92894\n",
      "  -15.80606  ]\n",
      " [-15.718476  -12.502592  -12.761492  ...  -9.742856   -7.2649784\n",
      "  -16.42993  ]]\n",
      "SourceInfo(filepath='/home/mschulist/caples_sound/ARU_data/10-BLACK/Data/BLACK-10-CAP_20230614_180000.wav', shard_num=0, shard_len_s=-1.0)\n"
     ]
    },
    {
     "name": "stderr",
     "output_type": "stream",
     "text": [
      "  1%|▍                                                 | 160/16036 [3:16:34<332:47:23, 75.46s/it]"
     ]
    },
    {
     "name": "stdout",
     "output_type": "stream",
     "text": [
      "[[ -8.220034  -10.644258  -11.74766   ...  -9.246027   -9.617092\n",
      "  -16.693449 ]\n",
      " [ -9.223171  -11.390449  -11.786382  ...  -9.406362   -8.866506\n",
      "  -15.830391 ]\n",
      " [ -9.2392025 -10.780551  -12.488463  ...  -9.736765   -8.925867\n",
      "  -16.434235 ]\n",
      " ...\n",
      " [ -7.715087   -9.521148  -12.015954  ... -10.0229     -9.371088\n",
      "  -14.1873   ]\n",
      " [-10.11827   -11.846728  -12.6400795 ...  -8.572401   -4.4454947\n",
      "  -15.693697 ]\n",
      " [-10.435475  -12.175464  -14.078769  ...  -8.198217   -5.4293547\n",
      "  -15.401485 ]]\n",
      "SourceInfo(filepath='/home/mschulist/caples_sound/ARU_data/10-BLACK/Data/BLACK-10-CAP_20230606_210000.wav', shard_num=0, shard_len_s=-1.0)\n"
     ]
    },
    {
     "name": "stderr",
     "output_type": "stream",
     "text": [
      "  1%|▌                                                 | 161/16036 [3:17:50<333:51:05, 75.71s/it]"
     ]
    },
    {
     "name": "stdout",
     "output_type": "stream",
     "text": [
      "[[-15.269744   -9.837763  -11.391859  ...  -9.064163   -6.6148005\n",
      "  -14.884856 ]\n",
      " [-16.549282  -12.398329  -12.095593  ... -10.417338   -8.14038\n",
      "  -15.988062 ]\n",
      " [-16.567354  -11.736739  -12.663204  ... -10.878296   -8.818664\n",
      "  -16.7387   ]\n",
      " ...\n",
      " [-12.087494  -11.287832  -10.432642  ... -10.086886   -9.658203\n",
      "  -15.332545 ]\n",
      " [-12.811888  -11.476087  -11.028664  ...  -9.168146   -9.048701\n",
      "  -15.467834 ]\n",
      " [-11.864793  -11.482018  -11.612912  ...  -9.506441   -8.820775\n",
      "  -13.875611 ]]\n",
      "SourceInfo(filepath='/home/mschulist/caples_sound/ARU_data/10-BLACK/Data/BLACK-10-CAP_20230620_023000.wav', shard_num=0, shard_len_s=-1.0)\n"
     ]
    },
    {
     "name": "stderr",
     "output_type": "stream",
     "text": [
      "  1%|▌                                                 | 162/16036 [3:19:07<335:17:06, 76.04s/it]"
     ]
    },
    {
     "name": "stdout",
     "output_type": "stream",
     "text": [
      "[[-10.254864  -10.916344  -11.257332  ...  -9.37225    -8.160347\n",
      "  -15.480762 ]\n",
      " [-11.1119795 -10.861254  -12.744453  ...  -9.306803   -8.534142\n",
      "  -15.210464 ]\n",
      " [-10.310571  -10.580417  -12.0672    ...  -9.768404   -8.562302\n",
      "  -15.034496 ]\n",
      " ...\n",
      " [-10.181977  -10.732698  -11.781505  ...  -9.454323   -8.055823\n",
      "  -14.859474 ]\n",
      " [-13.713407  -11.95136   -14.924118  ...  -9.57982   -10.714556\n",
      "  -15.86839  ]\n",
      " [-11.608758  -10.748586  -11.505361  ...  -9.208049   -7.984215\n",
      "  -14.952081 ]]\n",
      "SourceInfo(filepath='/home/mschulist/caples_sound/ARU_data/10-BLACK/Data/BLACK-10-CAP_20230613_050000.wav', shard_num=0, shard_len_s=-1.0)\n"
     ]
    },
    {
     "name": "stderr",
     "output_type": "stream",
     "text": [
      "  1%|▌                                                 | 163/16036 [3:20:23<335:05:31, 76.00s/it]"
     ]
    },
    {
     "name": "stdout",
     "output_type": "stream",
     "text": [
      "[[-11.089705  -12.420426  -11.606648  ... -10.327797   -8.409406\n",
      "  -14.685532 ]\n",
      " [ -8.2041    -12.099802  -12.0990715 ... -11.539693  -11.676117\n",
      "  -16.549093 ]\n",
      " [-10.499926  -11.537563  -12.265081  ... -12.152993  -10.626843\n",
      "  -16.889647 ]\n",
      " ...\n",
      " [ -8.265824   -9.929651  -10.979711  ...  -8.433909   -7.3235025\n",
      "  -14.201655 ]\n",
      " [ -8.755805  -10.693557  -11.910444  ... -10.48561    -8.694794\n",
      "  -14.531386 ]\n",
      " [ -9.222028  -10.653336  -12.362513  ... -10.938296   -8.834598\n",
      "  -15.204764 ]]\n",
      "SourceInfo(filepath='/home/mschulist/caples_sound/ARU_data/10-BLACK/Data/BLACK-10-CAP_20230605_163000.wav', shard_num=0, shard_len_s=-1.0)\n"
     ]
    },
    {
     "name": "stderr",
     "output_type": "stream",
     "text": [
      "  1%|▌                                                 | 164/16036 [3:21:34<328:04:26, 74.41s/it]"
     ]
    },
    {
     "name": "stdout",
     "output_type": "stream",
     "text": [
      "[[-18.487904  -13.286599  -13.875085  ... -12.070441  -13.546659\n",
      "  -13.281826 ]\n",
      " [-17.77602   -13.899283  -15.392179  ... -11.892289  -13.105555\n",
      "  -12.835562 ]\n",
      " [-16.261925  -12.570653  -14.359887  ...  -9.772302  -10.149052\n",
      "  -14.142714 ]\n",
      " ...\n",
      " [-13.136239  -10.172527  -12.001717  ...  -6.1626434  -5.596633\n",
      "  -14.234504 ]\n",
      " [-17.359562  -12.949689  -14.465508  ...  -9.035984  -10.692918\n",
      "  -15.319769 ]\n",
      " [-16.074142  -12.240306  -14.274618  ...  -9.968868  -10.753165\n",
      "  -15.523873 ]]\n",
      "SourceInfo(filepath='/home/mschulist/caples_sound/ARU_data/10-BLACK/Data/BLACK-10-CAP_20230613_010000.wav', shard_num=0, shard_len_s=-1.0)\n"
     ]
    },
    {
     "name": "stderr",
     "output_type": "stream",
     "text": [
      "  1%|▌                                                 | 165/16036 [3:22:51<331:21:43, 75.16s/it]"
     ]
    },
    {
     "name": "stdout",
     "output_type": "stream",
     "text": [
      "[[ -4.713941  -11.404292  -10.539376  ...  -9.166492   -8.169107\n",
      "  -14.500909 ]\n",
      " [ -6.3875303 -10.83308   -10.611622  ...  -9.426565   -8.303448\n",
      "  -13.243549 ]\n",
      " [ -5.2449017 -10.958233   -9.87419   ...  -9.271334   -8.223112\n",
      "  -13.862699 ]\n",
      " ...\n",
      " [ -6.6320314 -10.904429  -10.126623  ...  -9.675596   -8.55752\n",
      "  -13.982666 ]\n",
      " [ -6.106622  -11.495256  -10.541957  ...  -9.187809   -9.095048\n",
      "  -14.689868 ]\n",
      " [ -5.410676  -11.131791  -10.708587  ...  -9.553233   -8.666344\n",
      "  -14.868606 ]]\n",
      "SourceInfo(filepath='/home/mschulist/caples_sound/ARU_data/10-BLACK/Data/BLACK-10-CAP_20230620_063000.wav', shard_num=0, shard_len_s=-1.0)\n"
     ]
    },
    {
     "name": "stderr",
     "output_type": "stream",
     "text": [
      "  1%|▌                                                 | 166/16036 [3:24:07<332:53:47, 75.52s/it]"
     ]
    },
    {
     "name": "stdout",
     "output_type": "stream",
     "text": [
      "[[-13.329001  -14.01044   -14.255464  ... -12.929882  -10.615772\n",
      "  -16.90497  ]\n",
      " [-12.045308  -11.252059  -12.98636   ...  -9.635181   -8.650055\n",
      "  -15.716326 ]\n",
      " [-13.750412  -13.693926  -14.505932  ... -12.880528  -10.373786\n",
      "  -17.752184 ]\n",
      " ...\n",
      " [-10.762074  -12.0945635 -12.302383  ...  -8.316208   -6.3291483\n",
      "  -13.780998 ]\n",
      " [-15.0765     -9.534518  -14.49773   ... -12.025265   -9.787655\n",
      "  -16.712145 ]\n",
      " [ -8.76367   -12.039398  -12.244316  ...  -8.570944   -5.803693\n",
      "  -13.906297 ]]\n",
      "SourceInfo(filepath='/home/mschulist/caples_sound/ARU_data/10-BLACK/Data/BLACK-10-CAP_20230608_200000.wav', shard_num=0, shard_len_s=-1.0)\n"
     ]
    },
    {
     "name": "stderr",
     "output_type": "stream",
     "text": [
      "  1%|▌                                                 | 167/16036 [3:25:22<331:48:33, 75.27s/it]"
     ]
    },
    {
     "name": "stdout",
     "output_type": "stream",
     "text": [
      "[[-14.104883  -12.400261  -12.988233  ...  -8.489128   -5.377406\n",
      "  -12.794695 ]\n",
      " [-12.758771  -11.361365  -12.226968  ...  -8.500325   -6.431177\n",
      "  -12.283133 ]\n",
      " [-11.7591    -12.116252  -15.80752   ...  -8.853891   -8.039806\n",
      "  -13.450668 ]\n",
      " ...\n",
      " [-11.910325  -11.905686  -11.880334  ...  -7.1314335  -7.7629166\n",
      "  -11.250235 ]\n",
      " [-12.677763  -12.036193  -14.212731  ...  -8.69454    -6.5787754\n",
      "  -11.554909 ]\n",
      " [-16.522934  -13.218892  -14.405455  ...  -9.88715    -5.8590517\n",
      "  -10.344542 ]]\n",
      "SourceInfo(filepath='/home/mschulist/caples_sound/ARU_data/10-BLACK/Data/BLACK-10-CAP_20230613_163000.wav', shard_num=0, shard_len_s=-1.0)\n"
     ]
    },
    {
     "name": "stderr",
     "output_type": "stream",
     "text": [
      "  1%|▌                                                 | 168/16036 [3:26:39<334:42:16, 75.94s/it]"
     ]
    },
    {
     "name": "stdout",
     "output_type": "stream",
     "text": [
      "[[ -5.762044 -11.561158  -9.271273 ...  -9.746294  -9.596931 -13.365474]\n",
      " [ -7.196011 -11.455489 -10.759907 ...  -9.40555   -8.542368 -16.749208]\n",
      " [ -7.779691 -10.752936 -11.5202   ...  -7.974682  -9.081838 -15.283494]\n",
      " ...\n",
      " [ -7.729822 -11.63755  -11.096825 ...  -9.440027  -9.236842 -16.490885]\n",
      " [ -8.957428 -11.529748 -11.193701 ...  -8.896658  -9.078074 -16.868765]\n",
      " [ -7.19987  -11.81052  -11.278745 ...  -9.398343  -9.081319 -15.184031]]\n",
      "SourceInfo(filepath='/home/mschulist/caples_sound/ARU_data/10-BLACK/Data/BLACK-10-CAP_20230605_050000.wav', shard_num=0, shard_len_s=-1.0)\n"
     ]
    },
    {
     "name": "stderr",
     "output_type": "stream",
     "text": [
      "  1%|▌                                                 | 169/16036 [3:27:57<336:26:22, 76.33s/it]"
     ]
    },
    {
     "name": "stdout",
     "output_type": "stream",
     "text": [
      "[[-14.987344  -12.974294  -14.427769  ... -10.78549    -9.56985\n",
      "  -15.611831 ]\n",
      " [-17.662636  -12.104396  -15.133863  ... -10.115746   -9.155601\n",
      "  -17.023962 ]\n",
      " [-18.601448  -11.9498825 -13.971306  ... -10.267538   -7.372855\n",
      "  -16.469048 ]\n",
      " ...\n",
      " [-13.565857  -10.633824  -11.277586  ...  -8.343071   -7.8827677\n",
      "  -14.494988 ]\n",
      " [-16.497864  -10.86633   -11.848452  ...  -6.565266   -5.8824835\n",
      "  -13.272768 ]\n",
      " [-12.318877   -9.600228   -9.707222  ...  -6.437499   -5.132157\n",
      "  -10.709979 ]]\n",
      "SourceInfo(filepath='/home/mschulist/caples_sound/ARU_data/10-BLACK/Data/BLACK-10-CAP_20230610_210000.wav', shard_num=0, shard_len_s=-1.0)\n"
     ]
    },
    {
     "name": "stderr",
     "output_type": "stream",
     "text": [
      "  1%|▌                                                 | 170/16036 [3:29:13<336:03:20, 76.25s/it]"
     ]
    },
    {
     "name": "stdout",
     "output_type": "stream",
     "text": [
      "[[-16.723297  -15.874924  -16.331347  ... -15.214491  -12.187265\n",
      "  -17.889326 ]\n",
      " [-17.087538  -14.3003435 -16.761768  ... -16.408558  -12.803009\n",
      "  -17.527388 ]\n",
      " [-18.80909   -14.162351  -18.343552  ... -16.399113  -12.367672\n",
      "  -18.789425 ]\n",
      " ...\n",
      " [-18.311993  -16.796211  -15.861807  ... -16.266941  -12.754043\n",
      "  -17.57941  ]\n",
      " [-20.093922  -16.70739   -16.881802  ... -15.891882  -12.762143\n",
      "  -18.43326  ]\n",
      " [-18.842724  -15.622506  -16.665926  ... -15.894268  -11.820684\n",
      "  -19.342491 ]]\n",
      "SourceInfo(filepath='/home/mschulist/caples_sound/ARU_data/10-BLACK/Data/BLACK-10-CAP_20230614_033000.wav', shard_num=0, shard_len_s=-1.0)\n"
     ]
    },
    {
     "name": "stderr",
     "output_type": "stream",
     "text": [
      "  1%|▌                                                 | 171/16036 [3:30:28<335:22:01, 76.10s/it]"
     ]
    },
    {
     "name": "stdout",
     "output_type": "stream",
     "text": [
      "[[-10.786565  -10.59503   -13.0746975 ...  -9.636743   -9.621992\n",
      "  -16.227448 ]\n",
      " [-10.292959  -10.365316  -12.384796  ...  -9.199351   -9.633453\n",
      "  -15.265308 ]\n",
      " [-10.232522  -10.448112  -12.749228  ...  -9.269322   -9.312035\n",
      "  -15.870956 ]\n",
      " ...\n",
      " [-10.221511  -10.393649  -12.947953  ...  -9.21008    -9.409115\n",
      "  -16.264042 ]\n",
      " [ -9.785494  -10.870231  -13.250484  ...  -9.114513   -8.906339\n",
      "  -16.134136 ]\n",
      " [ -9.890433  -10.348193  -12.35182   ...  -8.701525   -8.9222555\n",
      "  -15.088359 ]]\n",
      "SourceInfo(filepath='/home/mschulist/caples_sound/ARU_data/10-BLACK/Data/BLACK-10-CAP_20230613_090000.wav', shard_num=0, shard_len_s=-1.0)\n"
     ]
    },
    {
     "name": "stderr",
     "output_type": "stream",
     "text": [
      "  1%|▌                                                 | 172/16036 [3:31:47<338:59:19, 76.93s/it]"
     ]
    },
    {
     "name": "stdout",
     "output_type": "stream",
     "text": [
      "[[ -7.4296165 -11.027384  -13.17964   ... -11.9269705 -10.153679\n",
      "  -14.896842 ]\n",
      " [-11.5661335 -15.661058  -12.693016  ... -10.298176   -9.277516\n",
      "  -10.883732 ]\n",
      " [ -8.7737875 -12.143589  -10.878518  ...  -9.567772   -8.781876\n",
      "  -15.602319 ]\n",
      " ...\n",
      " [ -9.104631   -9.826257  -11.490157  ...  -8.381606   -7.8053055\n",
      "  -13.142774 ]\n",
      " [ -8.560444   -9.955215  -11.350318  ...  -8.919374   -8.371694\n",
      "  -13.397136 ]\n",
      " [-11.090738   -9.826675  -12.752637  ...  -9.431093   -8.574265\n",
      "  -14.435047 ]]\n",
      "SourceInfo(filepath='/home/mschulist/caples_sound/ARU_data/10-BLACK/Data/BLACK-10-CAP_20230614_100000.wav', shard_num=0, shard_len_s=-1.0)\n"
     ]
    },
    {
     "name": "stderr",
     "output_type": "stream",
     "text": [
      "  1%|▌                                                 | 173/16036 [3:33:02<335:31:37, 76.15s/it]"
     ]
    },
    {
     "name": "stdout",
     "output_type": "stream",
     "text": [
      "[[ -6.827929  -10.638359  -12.052482  ...  -8.709993   -8.968781\n",
      "  -14.457561 ]\n",
      " [-11.028618  -10.150521  -11.962044  ...  -9.434725  -10.13569\n",
      "  -15.18194  ]\n",
      " [-10.179303  -13.183029  -13.574411  ... -10.698067   -9.661821\n",
      "  -15.143602 ]\n",
      " ...\n",
      " [-11.084431  -11.740052  -12.608534  ...  -9.454371   -8.621969\n",
      "  -16.428741 ]\n",
      " [-10.347886  -11.953687  -13.361139  ...  -7.347084   -6.8625054\n",
      "  -10.079576 ]\n",
      " [-10.892694  -11.166566  -13.9395485 ...  -7.9932194  -8.105069\n",
      "  -13.569281 ]]\n",
      "SourceInfo(filepath='/home/mschulist/caples_sound/ARU_data/10-BLACK/Data/BLACK-10-CAP_20230605_090000.wav', shard_num=0, shard_len_s=-1.0)\n"
     ]
    },
    {
     "name": "stderr",
     "output_type": "stream",
     "text": [
      "  1%|▌                                                 | 174/16036 [3:34:18<336:22:33, 76.34s/it]"
     ]
    },
    {
     "name": "stdout",
     "output_type": "stream",
     "text": [
      "[[-10.401847  -11.514413   -9.57385   ...  -6.715791   -7.3896894\n",
      "  -12.243767 ]\n",
      " [-11.812805  -10.104682  -10.787178  ...  -7.4148216  -7.008215\n",
      "  -10.33856  ]\n",
      " [-11.705419   -9.933161  -11.703896  ...  -7.287957   -5.4208746\n",
      "  -10.8989725]\n",
      " ...\n",
      " [-10.888309  -11.518158  -10.163113  ...  -9.68737    -7.1824455\n",
      "  -14.704029 ]\n",
      " [-11.864409  -12.761939  -10.810312  ...  -7.9397554  -2.430175\n",
      "  -11.552071 ]\n",
      " [-10.781865  -12.42324   -10.874616  ...  -9.344649   -6.743602\n",
      "  -14.953302 ]]\n",
      "SourceInfo(filepath='/home/mschulist/caples_sound/ARU_data/10-BLACK/Data/BLACK-10-CAP_20230619_223000.wav', shard_num=0, shard_len_s=-1.0)\n"
     ]
    },
    {
     "name": "stderr",
     "output_type": "stream",
     "text": [
      "  1%|▌                                                 | 175/16036 [3:35:34<335:27:00, 76.14s/it]"
     ]
    },
    {
     "name": "stdout",
     "output_type": "stream",
     "text": [
      "[[-10.740726  -11.555526  -12.356348  ...  -9.476395   -8.023174\n",
      "  -15.531703 ]\n",
      " [ -9.480381  -10.598474  -10.913393  ...  -8.838266   -7.659322\n",
      "  -14.374142 ]\n",
      " [ -9.843338  -10.636826  -11.421678  ...  -9.557196   -8.68311\n",
      "  -14.358297 ]\n",
      " ...\n",
      " [ -9.373564  -11.371811  -11.577216  ...  -9.170982   -8.188917\n",
      "  -14.447371 ]\n",
      " [ -9.936234  -11.266761  -11.602631  ...  -9.250821   -8.014063\n",
      "  -15.426153 ]\n",
      " [-10.0434675 -11.397148  -11.893954  ...  -9.314567   -8.444951\n",
      "  -15.461147 ]]\n",
      "SourceInfo(filepath='/home/mschulist/caples_sound/ARU_data/10-BLACK/Data/BLACK-10-CAP_20230614_073000.wav', shard_num=0, shard_len_s=-1.0)\n"
     ]
    },
    {
     "name": "stderr",
     "output_type": "stream",
     "text": [
      "  1%|▌                                                 | 176/16036 [3:36:50<335:48:56, 76.23s/it]"
     ]
    },
    {
     "name": "stdout",
     "output_type": "stream",
     "text": [
      "[[-10.262776   -9.833177  -12.440153  ...  -8.949888   -8.544542\n",
      "  -15.087937 ]\n",
      " [-10.207861   -9.952073  -12.292232  ...  -9.412731   -8.4297085\n",
      "  -15.699264 ]\n",
      " [ -9.69874   -11.725016  -12.793184  ...  -9.991848   -9.517484\n",
      "  -14.282304 ]\n",
      " ...\n",
      " [ -8.582506   -9.231335   -9.012621  ...  -8.952228   -7.671812\n",
      "  -14.209792 ]\n",
      " [-13.320445  -10.8914995 -11.099725  ...  -9.15411   -11.653002\n",
      "  -14.893141 ]\n",
      " [ -9.631653   -9.855135  -13.583755  ...  -8.665816   -8.8452015\n",
      "  -15.50478  ]]\n",
      "SourceInfo(filepath='/home/mschulist/caples_sound/ARU_data/10-BLACK/Data/BLACK-10-CAP_20230606_083000.wav', shard_num=0, shard_len_s=-1.0)\n"
     ]
    },
    {
     "name": "stderr",
     "output_type": "stream",
     "text": [
      "  1%|▌                                                 | 177/16036 [3:38:08<337:33:10, 76.62s/it]"
     ]
    },
    {
     "name": "stdout",
     "output_type": "stream",
     "text": [
      "[[-18.145882  -13.379243  -15.457161  ... -10.764231  -12.181795\n",
      "  -15.9290695]\n",
      " [-19.531227  -13.57792   -16.020264  ... -10.512587  -10.122616\n",
      "  -17.587275 ]\n",
      " [-19.567791  -13.34003   -16.318562  ... -11.491014  -11.818983\n",
      "  -18.031876 ]\n",
      " ...\n",
      " [-15.513381  -14.257296  -13.247431  ... -12.324637   -8.733974\n",
      "  -18.804714 ]\n",
      " [-14.085629  -11.021303  -11.997838  ...  -9.772146   -7.740529\n",
      "  -16.01882  ]\n",
      " [-13.756111  -13.7277975 -13.288933  ... -12.236104   -9.167643\n",
      "  -18.953957 ]]\n",
      "SourceInfo(filepath='/home/mschulist/caples_sound/ARU_data/10-BLACK/Data/BLACK-10-CAP_20230614_220000.wav', shard_num=0, shard_len_s=-1.0)\n"
     ]
    },
    {
     "name": "stderr",
     "output_type": "stream",
     "text": [
      "  1%|▌                                                 | 178/16036 [3:39:21<333:08:33, 75.63s/it]"
     ]
    },
    {
     "name": "stdout",
     "output_type": "stream",
     "text": [
      "[[ -9.887117 -11.117915 -12.717016 ...  -9.673075  -9.210734 -16.883923]\n",
      " [ -9.698855 -10.822333 -12.139505 ...  -9.682421  -8.901945 -16.083118]\n",
      " [ -9.353128 -10.880837 -12.65987  ... -10.033849  -9.034776 -16.133087]\n",
      " ...\n",
      " [ -8.984736 -10.823358 -11.836004 ...  -9.505666  -8.693498 -16.123814]\n",
      " [ -9.098992 -10.51897  -12.310225 ...  -9.480539  -8.768672 -15.585056]\n",
      " [ -9.257127 -11.39684  -12.337945 ... -10.158331  -9.003656 -15.993339]]\n",
      "SourceInfo(filepath='/home/mschulist/caples_sound/ARU_data/10-BLACK/Data/BLACK-10-CAP_20230608_093000.wav', shard_num=0, shard_len_s=-1.0)\n"
     ]
    },
    {
     "name": "stderr",
     "output_type": "stream",
     "text": [
      "  1%|▌                                                 | 179/16036 [3:40:38<335:06:47, 76.08s/it]"
     ]
    },
    {
     "name": "stdout",
     "output_type": "stream",
     "text": [
      "[[-13.398707  -11.76328   -12.518055  ...  -9.7553215  -7.1982365\n",
      "  -13.9957905]\n",
      " [-15.100989   -9.498592  -12.779289  ...  -6.6924143  -5.1124415\n",
      "  -11.838643 ]\n",
      " [-16.657196  -11.811288  -13.323057  ...  -9.697947   -7.373473\n",
      "  -14.573966 ]\n",
      " ...\n",
      " [-14.595759  -11.250025  -10.415089  ...  -6.091799   -5.382917\n",
      "  -12.276958 ]\n",
      " [-14.877542  -13.404155  -12.484283  ...  -9.875403   -9.351124\n",
      "  -15.61365  ]\n",
      " [-15.498731  -12.434667  -14.218111  ...  -8.563017   -8.505992\n",
      "  -15.177401 ]]\n",
      "SourceInfo(filepath='/home/mschulist/caples_sound/ARU_data/10-BLACK/Data/BLACK-10-CAP_20230610_083000.wav', shard_num=0, shard_len_s=-1.0)\n"
     ]
    },
    {
     "name": "stderr",
     "output_type": "stream",
     "text": [
      "  1%|▌                                                 | 180/16036 [3:41:57<338:29:38, 76.85s/it]"
     ]
    },
    {
     "name": "stdout",
     "output_type": "stream",
     "text": [
      "[[-11.77114   -12.728645  -11.922384  ... -10.189785   -9.62426\n",
      "  -17.895338 ]\n",
      " [-10.250625  -12.648814  -13.308437  ... -10.973126   -6.461975\n",
      "  -15.665194 ]\n",
      " [-11.840489   -9.542505  -11.976614  ...  -6.687852   -7.630416\n",
      "  -15.345018 ]\n",
      " ...\n",
      " [-13.116793  -12.919298  -13.919766  ...  -9.598892   -6.043314\n",
      "  -12.064104 ]\n",
      " [-17.154251  -13.434413  -12.7124195 ...  -8.057314   -8.177292\n",
      "  -12.169416 ]\n",
      " [-17.61583   -11.368567  -12.570508  ...  -7.2091694  -7.527669\n",
      "  -16.489607 ]]\n",
      "SourceInfo(filepath='/home/mschulist/caples_sound/ARU_data/10-BLACK/Data/BLACK-10-CAP_20230608_013000.wav', shard_num=0, shard_len_s=-1.0)\n"
     ]
    },
    {
     "name": "stderr",
     "output_type": "stream",
     "text": [
      "  1%|▌                                                 | 181/16036 [3:43:13<336:42:51, 76.45s/it]"
     ]
    },
    {
     "name": "stdout",
     "output_type": "stream",
     "text": [
      "[[-15.400947  -11.193157  -12.383631  ...  -9.249528   -7.5336504\n",
      "  -16.123102 ]\n",
      " [-13.792203  -10.3950205 -11.284885  ...  -8.804495   -7.220833\n",
      "  -14.865173 ]\n",
      " [-14.647595  -10.8053665 -11.856714  ...  -9.2324295  -7.5052013\n",
      "  -14.68895  ]\n",
      " ...\n",
      " [-14.982816  -10.824086  -11.360645  ...  -9.651523   -7.7782354\n",
      "  -15.705054 ]\n",
      " [-16.380049  -12.821277  -12.465097  ...  -9.694206   -9.028892\n",
      "  -15.470931 ]\n",
      " [-14.646726  -11.113553  -11.460014  ...  -9.023664   -7.3325243\n",
      "  -15.253449 ]]\n",
      "SourceInfo(filepath='/home/mschulist/caples_sound/ARU_data/10-BLACK/Data/BLACK-10-CAP_20230613_203000.wav', shard_num=0, shard_len_s=-1.0)\n"
     ]
    },
    {
     "name": "stderr",
     "output_type": "stream",
     "text": [
      "  1%|▌                                                 | 182/16036 [3:44:30<337:34:19, 76.65s/it]"
     ]
    },
    {
     "name": "stdout",
     "output_type": "stream",
     "text": [
      "[[ -9.585928  -10.183052  -12.817558  ...  -9.451464   -9.070636\n",
      "  -15.764281 ]\n",
      " [ -9.488778   -8.925389  -12.62779   ...  -9.6778965  -9.371003\n",
      "  -15.830875 ]\n",
      " [ -9.08518   -11.880264  -12.93434   ...  -9.686539   -9.281089\n",
      "  -14.988016 ]\n",
      " ...\n",
      " [ -8.891596  -10.70242   -12.569189  ... -10.012798   -8.790931\n",
      "  -15.175317 ]\n",
      " [-10.102423  -10.539109  -12.045974  ...  -9.645662   -9.00718\n",
      "  -16.27842  ]\n",
      " [-11.334407  -12.559051  -13.464197  ...  -9.993322  -10.017276\n",
      "  -15.466442 ]]\n",
      "SourceInfo(filepath='/home/mschulist/caples_sound/ARU_data/10-BLACK/Data/BLACK-10-CAP_20230606_043000.wav', shard_num=0, shard_len_s=-1.0)\n"
     ]
    },
    {
     "name": "stderr",
     "output_type": "stream",
     "text": [
      "  1%|▌                                                 | 183/16036 [3:45:47<338:00:21, 76.76s/it]"
     ]
    },
    {
     "name": "stdout",
     "output_type": "stream",
     "text": [
      "[[-11.510714  -14.2390785 -13.192407  ... -14.398175  -10.707018\n",
      "  -17.589619 ]\n",
      " [-11.988172  -13.427711  -14.60408   ... -13.789646   -8.881601\n",
      "  -18.434084 ]\n",
      " [-11.048232  -10.987719  -10.951188  ...  -8.164919   -6.9508924\n",
      "  -14.451414 ]\n",
      " ...\n",
      " [-16.051493  -13.28372   -13.799084  ... -12.039082  -10.402063\n",
      "  -17.348038 ]\n",
      " [-19.548294  -13.392952  -14.841364  ... -10.406725   -8.966654\n",
      "  -17.681952 ]\n",
      " [-16.934263  -13.931562  -12.611947  ...  -9.797366   -8.938074\n",
      "  -17.420948 ]]\n",
      "SourceInfo(filepath='/home/mschulist/caples_sound/ARU_data/10-BLACK/Data/BLACK-10-CAP_20230610_170000.wav', shard_num=0, shard_len_s=-1.0)\n"
     ]
    },
    {
     "name": "stderr",
     "output_type": "stream",
     "text": [
      "  1%|▌                                                 | 184/16036 [3:47:03<336:48:19, 76.49s/it]"
     ]
    },
    {
     "name": "stdout",
     "output_type": "stream",
     "text": [
      "[[ -9.563825  -11.577424  -10.54442   ...  -8.8626175  -8.490247\n",
      "  -16.950375 ]\n",
      " [-12.003182  -11.175629  -10.817262  ... -10.474069   -8.926645\n",
      "  -17.723001 ]\n",
      " [-12.484645  -11.924043  -10.145273  ...  -9.764746   -8.528497\n",
      "  -17.719675 ]\n",
      " ...\n",
      " [-10.069584  -12.5059     -9.950915  ...  -9.155199   -8.830236\n",
      "  -16.43412  ]\n",
      " [-11.915419  -12.982347  -10.126725  ...  -9.924852   -8.36721\n",
      "  -17.122513 ]\n",
      " [-11.414354  -12.265403  -10.386311  ... -10.461631   -8.899537\n",
      "  -17.110706 ]]\n",
      "SourceInfo(filepath='/home/mschulist/caples_sound/ARU_data/10-BLACK/Data/BLACK-10-CAP_20230619_183000.wav', shard_num=0, shard_len_s=-1.0)\n"
     ]
    },
    {
     "name": "stderr",
     "output_type": "stream",
     "text": [
      "  1%|▌                                                 | 185/16036 [3:48:20<337:16:07, 76.60s/it]"
     ]
    },
    {
     "name": "stdout",
     "output_type": "stream",
     "text": [
      "[[-11.283008  -12.787445   -9.214345  ...  -9.179683   -4.3718104\n",
      "  -14.445184 ]\n",
      " [-13.623984  -13.029697  -11.937859  ... -11.22918   -11.394484\n",
      "  -17.93738  ]\n",
      " [-12.088404  -11.309001   -9.990681  ... -12.383673   -6.5704956\n",
      "  -14.927303 ]\n",
      " ...\n",
      " [ -9.497916  -11.844825   -8.986672  ...  -8.958801   -4.7268815\n",
      "  -13.902979 ]\n",
      " [-11.439183  -11.936246  -11.382524  ...  -8.3496475  -5.687155\n",
      "  -14.669306 ]\n",
      " [ -9.279579  -11.489329   -9.758137  ...  -9.593627   -5.6441226\n",
      "  -14.113285 ]]\n",
      "SourceInfo(filepath='/home/mschulist/caples_sound/ARU_data/10-BLACK/Data/BLACK-10-CAP_20230608_160000.wav', shard_num=0, shard_len_s=-1.0)\n"
     ]
    },
    {
     "name": "stderr",
     "output_type": "stream",
     "text": [
      "  1%|▌                                                 | 186/16036 [3:49:36<337:37:04, 76.68s/it]"
     ]
    },
    {
     "name": "stdout",
     "output_type": "stream",
     "text": [
      "[[-17.64317   -11.148083  -13.209563  ...  -9.731804   -8.92928\n",
      "  -16.300577 ]\n",
      " [-15.851163  -12.195549  -13.024006  ...  -9.364576   -8.113875\n",
      "  -16.505255 ]\n",
      " [-12.543975  -12.192835  -12.269749  ...  -6.2050133  -6.4173927\n",
      "  -11.731666 ]\n",
      " ...\n",
      " [-15.083886  -11.569113  -12.480935  ...  -9.542417   -7.992426\n",
      "  -15.034348 ]\n",
      " [-11.938687  -11.247094  -13.487827  ...  -7.1770635  -4.9805593\n",
      "  -11.42182  ]\n",
      " [-14.559763  -12.062495  -11.3598    ...  -9.702736   -8.097511\n",
      "  -14.587171 ]]\n",
      "SourceInfo(filepath='/home/mschulist/caples_sound/ARU_data/10-BLACK/Data/BLACK-10-CAP_20230610_003000.wav', shard_num=0, shard_len_s=-1.0)\n"
     ]
    },
    {
     "name": "stderr",
     "output_type": "stream",
     "text": [
      "  1%|▌                                                 | 187/16036 [3:50:57<342:35:25, 77.82s/it]"
     ]
    },
    {
     "name": "stdout",
     "output_type": "stream",
     "text": [
      "[[-15.920845  -11.819398  -12.078774  ...  -9.580018   -7.433854\n",
      "  -14.764361 ]\n",
      " [-19.269653  -12.714274  -14.684986  ... -10.437488   -8.771593\n",
      "  -17.560658 ]\n",
      " [-16.67274   -12.121211  -12.733864  ... -10.22407    -7.9338007\n",
      "  -16.081066 ]\n",
      " ...\n",
      " [-15.860152  -11.560337  -12.471078  ...  -9.74437    -7.845174\n",
      "  -15.847652 ]\n",
      " [-15.762214  -11.866476  -11.928067  ...  -9.561026   -7.1504316\n",
      "  -15.78684  ]\n",
      " [-16.335213  -11.376419  -12.250076  ...  -9.843611   -7.2787933\n",
      "  -14.715769 ]]\n",
      "SourceInfo(filepath='/home/mschulist/caples_sound/ARU_data/10-BLACK/Data/BLACK-10-CAP_20230606_170000.wav', shard_num=0, shard_len_s=-1.0)\n"
     ]
    },
    {
     "name": "stderr",
     "output_type": "stream",
     "text": [
      "  1%|▌                                                 | 188/16036 [3:52:13<340:28:02, 77.34s/it]"
     ]
    },
    {
     "name": "stdout",
     "output_type": "stream",
     "text": [
      "[[ -9.933276  -11.649337  -11.356629  ...  -5.6919694  -6.8450775\n",
      "  -14.00181  ]\n",
      " [-14.454206  -11.057562  -11.949743  ...  -8.862101   -7.6084204\n",
      "  -15.060766 ]\n",
      " [-14.672045  -10.52703   -14.063574  ...  -7.098735   -6.786911\n",
      "  -12.539011 ]\n",
      " ...\n",
      " [-14.919549  -11.385171  -11.7248335 ...  -8.686951   -5.74316\n",
      "  -13.640713 ]\n",
      " [-17.6026    -13.684871  -15.518935  ...  -9.928394   -6.5426197\n",
      "  -14.295613 ]\n",
      " [-15.993169  -10.586627  -12.454795  ...  -8.824114   -7.683975\n",
      "  -15.250361 ]]\n",
      "SourceInfo(filepath='/home/mschulist/caples_sound/ARU_data/10-BLACK/Data/BLACK-10-CAP_20230610_043000.wav', shard_num=0, shard_len_s=-1.0)\n"
     ]
    },
    {
     "name": "stderr",
     "output_type": "stream",
     "text": [
      "  1%|▌                                                 | 189/16036 [3:53:32<341:59:59, 77.69s/it]"
     ]
    },
    {
     "name": "stdout",
     "output_type": "stream",
     "text": [
      "[[-17.421215 -12.828745 -13.001273 ... -11.367648 -10.229334 -17.362469]\n",
      " [-16.248419 -12.290428 -13.232231 ...  -9.458973  -8.162242 -17.40567 ]\n",
      " [-15.136789 -12.345578 -12.933173 ...  -9.551253  -8.603474 -15.85464 ]\n",
      " ...\n",
      " [-14.83873  -12.347801 -13.858526 ... -11.219227  -9.986597 -17.377342]\n",
      " [-16.498093 -13.095897 -13.666372 ... -13.031521 -10.741478 -17.971888]\n",
      " [-16.903313 -12.756892 -14.027249 ... -13.933553  -9.908492 -18.695185]]\n",
      "SourceInfo(filepath='/home/mschulist/caples_sound/ARU_data/10-BLACK/Data/BLACK-10-CAP_20230605_203000.wav', shard_num=0, shard_len_s=-1.0)\n"
     ]
    },
    {
     "name": "stderr",
     "output_type": "stream",
     "text": [
      "  1%|▌                                                 | 190/16036 [3:54:47<338:45:40, 76.96s/it]"
     ]
    },
    {
     "name": "stdout",
     "output_type": "stream",
     "text": [
      "[[-17.662687  -13.459048  -14.858559  ... -10.254412  -10.443244\n",
      "  -15.826975 ]\n",
      " [-16.354038  -12.087774  -13.457205  ...  -9.601046   -8.414551\n",
      "  -16.718544 ]\n",
      " [-16.75449   -11.890803  -11.674176  ...  -8.14237    -7.2662973\n",
      "  -16.926594 ]\n",
      " ...\n",
      " [-18.853691  -14.271338  -14.197815  ... -12.934611  -10.776501\n",
      "  -16.591885 ]\n",
      " [-18.395111  -11.990749  -13.688091  ... -11.866149   -8.56257\n",
      "  -16.231737 ]\n",
      " [-15.150897  -12.670892  -11.670257  ...  -7.1262193  -7.4622765\n",
      "  -16.494087 ]]\n",
      "SourceInfo(filepath='/home/mschulist/caples_sound/ARU_data/10-BLACK/Data/BLACK-10-CAP_20230608_053000.wav', shard_num=0, shard_len_s=-1.0)\n"
     ]
    },
    {
     "name": "stderr",
     "output_type": "stream",
     "text": [
      "  1%|▌                                                 | 191/16036 [3:56:04<338:35:47, 76.93s/it]"
     ]
    },
    {
     "name": "stdout",
     "output_type": "stream",
     "text": [
      "[[-14.201879  -12.174837   -9.062279  ...  -8.120941   -7.0358944\n",
      "   -7.9970064]\n",
      " [-15.387023  -13.278651   -9.135885  ... -10.977476   -7.640624\n",
      "  -10.529118 ]\n",
      " [-18.5704    -10.735484  -11.9325285 ...  -9.625484   -9.134219\n",
      "   -9.578161 ]\n",
      " ...\n",
      " [-12.588552   -7.797252   -9.63177   ...  -6.2987137  -4.907682\n",
      "   -9.162741 ]\n",
      " [ -9.241412  -10.060942   -7.1253433 ...  -9.776375   -7.7226067\n",
      "  -13.383175 ]\n",
      " [-13.692868  -10.807694  -10.288695  ...  -8.295502   -6.5842037\n",
      "  -11.703829 ]]\n",
      "SourceInfo(filepath='/home/mschulist/caples_sound/ARU_data/10-BLACK/Data/BLACK-10-CAP_20230606_003000.wav', shard_num=0, shard_len_s=-1.0)\n"
     ]
    },
    {
     "name": "stderr",
     "output_type": "stream",
     "text": [
      "  1%|▌                                                 | 192/16036 [3:57:18<335:29:39, 76.23s/it]"
     ]
    },
    {
     "name": "stdout",
     "output_type": "stream",
     "text": [
      "[[ -7.912366  -11.094373   -9.976417  ...  -7.7829976  -6.47058\n",
      "  -13.819811 ]\n",
      " [ -8.98459   -12.315469   -9.9003725 ...  -9.634207   -7.043333\n",
      "  -14.875235 ]\n",
      " [ -8.168623  -11.791689   -9.567113  ...  -9.939217   -7.476076\n",
      "  -13.908663 ]\n",
      " ...\n",
      " [-14.888173  -11.909873  -12.4341755 ...  -9.928851   -7.391987\n",
      "  -15.540856 ]\n",
      " [-16.471561  -11.89999   -12.637222  ... -10.16721    -8.052757\n",
      "  -16.360378 ]\n",
      " [-15.671235  -11.758756  -13.298632  ...  -9.794165   -7.4537964\n",
      "  -15.735646 ]]\n",
      "SourceInfo(filepath='/home/mschulist/caples_sound/ARU_data/10-BLACK/Data/BLACK-10-CAP_20230614_163000.wav', shard_num=0, shard_len_s=-1.0)\n"
     ]
    },
    {
     "name": "stderr",
     "output_type": "stream",
     "text": [
      "  1%|▌                                                 | 193/16036 [3:58:33<332:55:48, 75.65s/it]"
     ]
    },
    {
     "name": "stdout",
     "output_type": "stream",
     "text": [
      "[[ -8.871401  -11.16179   -12.362151  ... -10.0385475  -9.118386\n",
      "  -16.889666 ]\n",
      " [ -8.364975  -10.112652  -12.041019  ...  -9.333956   -8.9477005\n",
      "  -16.709455 ]\n",
      " [ -9.999235  -12.800249  -11.857657  ...  -9.530876   -6.670323\n",
      "  -13.712877 ]\n",
      " ...\n",
      " [-10.332056  -11.604188  -12.467268  ...  -9.925406   -9.040979\n",
      "  -16.248009 ]\n",
      " [-11.016324  -13.456933  -14.141505  ... -10.622258  -10.536339\n",
      "  -17.462095 ]\n",
      " [-12.903487  -14.951359  -15.64092   ... -10.693529  -11.132797\n",
      "  -17.69394  ]]\n",
      "SourceInfo(filepath='/home/mschulist/caples_sound/ARU_data/10-BLACK/Data/BLACK-10-CAP_20230605_180000.wav', shard_num=0, shard_len_s=-1.0)\n"
     ]
    },
    {
     "name": "stderr",
     "output_type": "stream",
     "text": [
      "  1%|▌                                                 | 194/16036 [3:59:50<335:20:09, 76.20s/it]"
     ]
    },
    {
     "name": "stdout",
     "output_type": "stream",
     "text": [
      "[[-19.336838  -15.36106   -15.590722  ... -12.00642   -10.295475\n",
      "  -18.627125 ]\n",
      " [-13.018185  -12.012907  -13.940357  ... -10.323301   -7.3794975\n",
      "  -16.350695 ]\n",
      " [-16.942478  -14.430555  -13.681775  ... -13.077231   -9.857657\n",
      "  -18.110184 ]\n",
      " ...\n",
      " [-13.909932  -10.420259  -12.637066  ...  -8.11614    -5.5569563\n",
      "  -14.922181 ]\n",
      " [-14.826692   -7.505781  -13.363384  ...  -7.640563   -6.9765673\n",
      "  -10.755282 ]\n",
      " [ -9.406726  -11.012471  -11.68268   ...  -9.839491   -8.039616\n",
      "  -13.8949795]]\n",
      "SourceInfo(filepath='/home/mschulist/caples_sound/ARU_data/10-BLACK/Data/BLACK-10-CAP_20230614_010000.wav', shard_num=0, shard_len_s=-1.0)\n"
     ]
    },
    {
     "name": "stderr",
     "output_type": "stream",
     "text": [
      "  1%|▌                                                 | 195/16036 [4:01:08<337:46:05, 76.76s/it]"
     ]
    },
    {
     "name": "stdout",
     "output_type": "stream",
     "text": [
      "[[-12.008922  -11.13834   -13.948177  ...  -9.902608   -9.527159\n",
      "  -16.907593 ]\n",
      " [-11.068753  -10.952994  -13.0704365 ...  -9.599644   -9.47477\n",
      "  -16.752197 ]\n",
      " [-11.358437  -10.866377  -13.892933  ...  -9.26891    -9.8089\n",
      "  -17.10139  ]\n",
      " ...\n",
      " [-10.620415  -10.151376  -12.87613   ...  -9.067295   -9.644879\n",
      "  -16.297058 ]\n",
      " [ -9.788971  -10.571653  -12.461878  ...  -9.317135   -9.477221\n",
      "  -15.591978 ]\n",
      " [-11.755181  -10.515565  -12.979478  ...  -9.957809  -10.112604\n",
      "  -16.20123  ]]\n",
      "SourceInfo(filepath='/home/mschulist/caples_sound/ARU_data/10-BLACK/Data/BLACK-10-CAP_20230620_080000.wav', shard_num=0, shard_len_s=-1.0)\n"
     ]
    },
    {
     "name": "stderr",
     "output_type": "stream",
     "text": [
      "  1%|▌                                                 | 196/16036 [4:02:22<333:16:50, 75.75s/it]"
     ]
    },
    {
     "name": "stdout",
     "output_type": "stream",
     "text": [
      "[[-12.582621  -12.126387  -13.325044  ... -10.61248    -9.2942505\n",
      "  -12.375459 ]\n",
      " [ -9.99621   -11.757779  -13.339901  ...  -8.238117   -8.7073\n",
      "  -14.493269 ]\n",
      " [-11.261634  -11.8208065 -12.037945  ... -10.486753   -8.949334\n",
      "  -14.877511 ]\n",
      " ...\n",
      " [-10.783077  -11.005689  -12.077038  ... -10.48073    -8.039059\n",
      "  -16.32135  ]\n",
      " [ -9.713503  -12.915991  -13.107708  ... -12.7548275 -10.8659\n",
      "  -14.328217 ]\n",
      " [ -6.430273  -15.461021  -10.638192  ... -13.505655  -13.103561\n",
      "  -17.404339 ]]\n",
      "SourceInfo(filepath='/home/mschulist/caples_sound/ARU_data/10-BLACK/Data/BLACK-10-CAP_20230614_050000.wav', shard_num=0, shard_len_s=-1.0)\n"
     ]
    },
    {
     "name": "stderr",
     "output_type": "stream",
     "text": [
      "  1%|▌                                                 | 197/16036 [4:03:39<335:06:51, 76.17s/it]"
     ]
    },
    {
     "name": "stdout",
     "output_type": "stream",
     "text": [
      "[[-10.962087  -10.388247  -12.94532   ... -10.442909  -10.129987\n",
      "  -15.202981 ]\n",
      " [-10.580796   -8.604101  -12.422111  ... -10.538185   -9.925141\n",
      "  -17.103954 ]\n",
      " [-10.677029   -8.761025  -12.001999  ... -10.673084   -9.457007\n",
      "  -14.727247 ]\n",
      " ...\n",
      " [-10.032194  -11.2866    -10.472085  ...  -8.847626   -8.909683\n",
      "  -14.621794 ]\n",
      " [ -6.914017  -10.6748705 -11.951134  ...  -7.235055   -7.267215\n",
      "  -15.123414 ]\n",
      " [ -9.833547   -9.423808  -14.3264885 ... -11.457795   -9.665001\n",
      "  -14.816707 ]]\n",
      "SourceInfo(filepath='/home/mschulist/caples_sound/ARU_data/10-BLACK/Data/BLACK-10-CAP_20230619_200000.wav', shard_num=0, shard_len_s=-1.0)\n"
     ]
    },
    {
     "name": "stderr",
     "output_type": "stream",
     "text": [
      "  1%|▌                                                 | 198/16036 [4:04:56<336:19:31, 76.45s/it]"
     ]
    },
    {
     "name": "stdout",
     "output_type": "stream",
     "text": [
      "[[ -9.224571  -10.725071  -10.708692  ...  -8.486855   -7.4579\n",
      "  -14.335593 ]\n",
      " [-10.213998  -11.096174  -11.580101  ...  -9.335849   -8.491913\n",
      "  -15.764007 ]\n",
      " [ -8.711145  -11.027782  -11.049027  ...  -8.882163   -7.524395\n",
      "  -14.302215 ]\n",
      " ...\n",
      " [ -9.65803    -9.720263  -13.004831  ...  -9.378246   -8.950569\n",
      "  -12.477564 ]\n",
      " [-10.319533  -10.667003  -11.550171  ... -10.903339   -9.020517\n",
      "  -16.11351  ]\n",
      " [ -9.167474  -10.642308  -12.124992  ...  -9.1923485  -6.9523125\n",
      "  -14.380502 ]]\n",
      "SourceInfo(filepath='/home/mschulist/caples_sound/ARU_data/10-BLACK/Data/BLACK-10-CAP_20230613_180000.wav', shard_num=0, shard_len_s=-1.0)\n"
     ]
    },
    {
     "name": "stderr",
     "output_type": "stream",
     "text": [
      "  1%|▌                                                 | 199/16036 [4:06:11<334:56:46, 76.14s/it]"
     ]
    },
    {
     "name": "stdout",
     "output_type": "stream",
     "text": [
      "[[-12.785051  -10.567016  -13.060233  ...  -7.995322   -8.6249485\n",
      "  -15.962536 ]\n",
      " [-12.181537   -9.720216  -12.788494  ...  -8.456499   -8.1927805\n",
      "  -14.6848545]\n",
      " [-10.950651   -9.4061    -11.593603  ...  -8.626526   -7.2628775\n",
      "  -14.466087 ]\n",
      " ...\n",
      " [ -9.286796   -9.814429  -12.419561  ...  -8.381613   -8.352354\n",
      "  -15.167505 ]\n",
      " [ -8.419674  -10.731208  -11.894207  ...  -9.129865   -9.059197\n",
      "  -15.537479 ]\n",
      " [ -8.5382395 -10.4073305 -12.221859  ...  -8.260343   -8.993831\n",
      "  -15.221546 ]]\n",
      "SourceInfo(filepath='/home/mschulist/caples_sound/ARU_data/10-BLACK/Data/BLACK-10-CAP_20230613_073000.wav', shard_num=0, shard_len_s=-1.0)\n"
     ]
    },
    {
     "name": "stderr",
     "output_type": "stream",
     "text": [
      "  1%|▌                                                 | 200/16036 [4:07:30<338:20:58, 76.92s/it]"
     ]
    },
    {
     "name": "stdout",
     "output_type": "stream",
     "text": [
      "[[ -8.596281  -13.627086  -14.487012  ... -11.96921   -10.006345\n",
      "  -14.554646 ]\n",
      " [-10.5549965 -11.324744  -14.479137  ... -10.466612   -9.775989\n",
      "  -12.447454 ]\n",
      " [ -7.459049   -9.724495  -11.041958  ...  -9.97556    -9.689074\n",
      "  -13.916365 ]\n",
      " ...\n",
      " [ -9.273649  -11.066266  -12.390984  ... -10.610715   -8.876944\n",
      "  -11.218296 ]\n",
      " [ -7.126589  -10.242053  -11.300811  ...  -9.344103   -8.993566\n",
      "  -13.544627 ]\n",
      " [ -9.602472  -12.136182  -13.626877  ... -11.007601   -8.984898\n",
      "  -11.151028 ]]\n",
      "SourceInfo(filepath='/home/mschulist/caples_sound/ARU_data/10-BLACK/Data/BLACK-10-CAP_20230606_233000.wav', shard_num=0, shard_len_s=-1.0)\n"
     ]
    },
    {
     "name": "stderr",
     "output_type": "stream",
     "text": [
      "  1%|▋                                                 | 201/16036 [4:08:46<337:30:41, 76.73s/it]"
     ]
    },
    {
     "name": "stdout",
     "output_type": "stream",
     "text": [
      "[[-16.744793  -12.540218  -12.815803  ... -10.4356     -7.932719\n",
      "  -15.914893 ]\n",
      " [-16.884895  -12.433887  -12.700245  ... -10.222021   -7.8559723\n",
      "  -16.902843 ]\n",
      " [-17.083374  -12.418444  -13.280582  ... -10.966508   -8.498949\n",
      "  -16.038258 ]\n",
      " ...\n",
      " [-17.649883  -12.304917  -12.936053  ...  -9.5318365  -7.3989515\n",
      "  -15.868227 ]\n",
      " [-16.620392  -12.081871  -12.734393  ...  -9.563524   -7.665166\n",
      "  -15.954666 ]\n",
      " [-18.361599  -13.032544  -14.237334  ... -10.56372    -8.112889\n",
      "  -16.725677 ]]\n",
      "SourceInfo(filepath='/home/mschulist/caples_sound/ARU_data/10-BLACK/Data/BLACK-10-CAP_20230620_000000.wav', shard_num=0, shard_len_s=-1.0)\n"
     ]
    },
    {
     "name": "stderr",
     "output_type": "stream",
     "text": [
      "  1%|▋                                                 | 202/16036 [4:10:03<337:31:28, 76.74s/it]"
     ]
    },
    {
     "name": "stdout",
     "output_type": "stream",
     "text": [
      "[[-15.618889  -11.40451   -13.31924   ...  -9.46736    -8.659972\n",
      "  -14.303351 ]\n",
      " [-13.178609  -10.740618  -11.253305  ...  -9.07162    -7.9093647\n",
      "  -14.496203 ]\n",
      " [-11.584342  -10.452439  -11.326083  ...  -8.811039   -7.661268\n",
      "  -14.015465 ]\n",
      " ...\n",
      " [-11.396391  -10.419879  -12.051159  ...  -9.230684   -8.117831\n",
      "  -15.121223 ]\n",
      " [-10.0922785 -11.374633  -11.909227  ...  -9.432811   -8.242031\n",
      "  -15.319419 ]\n",
      " [-10.153868  -11.387182  -11.864952  ...  -9.044865   -8.248297\n",
      "  -14.764639 ]]\n",
      "SourceInfo(filepath='/home/mschulist/caples_sound/ARU_data/10-BLACK/Data/BLACK-10-CAP_20230605_033000.wav', shard_num=0, shard_len_s=-1.0)\n"
     ]
    },
    {
     "name": "stderr",
     "output_type": "stream",
     "text": [
      "  1%|▋                                                 | 203/16036 [4:11:20<338:09:09, 76.89s/it]"
     ]
    },
    {
     "name": "stdout",
     "output_type": "stream",
     "text": [
      "[[ -8.244797  -12.077778  -10.339244  ...  -9.513834   -7.0689373\n",
      "  -14.171411 ]\n",
      " [ -8.69208   -11.505479  -11.633274  ...  -9.695471   -7.939372\n",
      "  -13.925243 ]\n",
      " [ -7.930551  -13.068521  -11.246192  ...  -9.162589   -7.884411\n",
      "  -15.007323 ]\n",
      " ...\n",
      " [ -8.030109  -11.207088  -12.109898  ...  -8.790557   -8.300673\n",
      "  -15.372614 ]\n",
      " [ -9.675186  -11.325738  -11.730108  ... -10.348661  -10.220183\n",
      "  -15.402058 ]\n",
      " [ -6.9312468 -11.660833  -11.617978  ...  -8.588867   -7.8137712\n",
      "  -14.478725 ]]\n",
      "SourceInfo(filepath='/home/mschulist/caples_sound/ARU_data/10-BLACK/Data/BLACK-10-CAP_20230613_100000.wav', shard_num=0, shard_len_s=-1.0)\n"
     ]
    },
    {
     "name": "stderr",
     "output_type": "stream",
     "text": [
      "  1%|▋                                                 | 204/16036 [4:12:37<337:36:24, 76.77s/it]"
     ]
    },
    {
     "name": "stdout",
     "output_type": "stream",
     "text": [
      "[[ -8.651943  -10.5843725 -12.904952  ...  -9.358522  -10.050877\n",
      "  -15.809973 ]\n",
      " [ -8.29678    -9.868203  -12.362349  ...  -8.019764   -8.2737465\n",
      "  -14.841138 ]\n",
      " [ -7.833537   -9.343201  -10.608126  ...  -8.947897   -9.873976\n",
      "  -13.068058 ]\n",
      " ...\n",
      " [ -7.22109   -11.068124  -12.682827  ...  -7.883748   -8.92918\n",
      "  -14.59768  ]\n",
      " [ -9.452222  -10.065812  -13.302002  ...  -8.99336    -8.665472\n",
      "  -15.37897  ]\n",
      " [ -4.929869  -12.071074  -12.583087  ...  -8.487736   -9.909881\n",
      "  -12.541842 ]]\n",
      "SourceInfo(filepath='/home/mschulist/caples_sound/ARU_data/10-BLACK/Data/BLACK-10-CAP_20230610_233000.wav', shard_num=0, shard_len_s=-1.0)\n"
     ]
    },
    {
     "name": "stderr",
     "output_type": "stream",
     "text": [
      "  1%|▋                                                 | 205/16036 [4:13:53<337:05:37, 76.66s/it]"
     ]
    },
    {
     "name": "stdout",
     "output_type": "stream",
     "text": [
      "[[-15.91376   -11.656061  -10.9746065 ...  -8.408456   -6.9366975\n",
      "  -15.393118 ]\n",
      " [-16.564945  -12.449431  -12.11985   ...  -9.621618   -7.421397\n",
      "  -15.949295 ]\n",
      " [-16.392677  -12.674157  -12.801452  ... -10.889262   -8.161008\n",
      "  -16.748432 ]\n",
      " ...\n",
      " [-16.461823  -11.66004   -12.297436  ...  -9.627478   -7.5241423\n",
      "  -15.515297 ]\n",
      " [-17.30478   -13.341706  -13.895307  ... -11.108457   -8.793562\n",
      "  -17.314575 ]\n",
      " [-16.152382  -12.015898  -12.122328  ...  -9.68836    -7.650214\n",
      "  -15.648559 ]]\n",
      "SourceInfo(filepath='/home/mschulist/caples_sound/ARU_data/10-BLACK/Data/BLACK-10-CAP_20230605_073000.wav', shard_num=0, shard_len_s=-1.0)\n"
     ]
    },
    {
     "name": "stderr",
     "output_type": "stream",
     "text": [
      "  1%|▋                                                 | 206/16036 [4:15:07<333:07:37, 75.76s/it]"
     ]
    },
    {
     "name": "stdout",
     "output_type": "stream",
     "text": [
      "[[-11.597002  -12.078793  -10.958428  ...  -8.57979    -7.926527\n",
      "   -9.91054  ]\n",
      " [-16.523216   -9.074272  -13.033343  ...  -7.676683   -6.7401295\n",
      "  -12.314552 ]\n",
      " [-14.079392  -10.425244  -13.32793   ...  -8.478906   -8.351851\n",
      "  -16.913448 ]\n",
      " ...\n",
      " [-13.080482  -12.32846   -10.866367  ... -11.700147  -10.577482\n",
      "  -16.488148 ]\n",
      " [-13.143338  -12.846667  -13.078563  ... -10.37378    -8.984116\n",
      "  -16.399746 ]\n",
      " [-12.687492  -12.790825  -10.0830555 ...  -9.620471   -7.2776327\n",
      "  -14.72193  ]]\n",
      "SourceInfo(filepath='/home/mschulist/caples_sound/ARU_data/10-BLACK/Data/BLACK-10-CAP_20230614_090000.wav', shard_num=0, shard_len_s=-1.0)\n"
     ]
    },
    {
     "name": "stderr",
     "output_type": "stream",
     "text": [
      "  1%|▋                                                 | 207/16036 [4:16:21<330:26:16, 75.15s/it]"
     ]
    },
    {
     "name": "stdout",
     "output_type": "stream",
     "text": [
      "[[ -8.339706   -9.230251  -12.132347  ...  -9.18593    -8.1301365\n",
      "  -14.399244 ]\n",
      " [ -9.247547  -12.759617  -12.398785  ... -10.430355  -10.975205\n",
      "  -14.623779 ]\n",
      " [ -5.7561307  -9.414695  -11.194628  ...  -9.206919   -8.998651\n",
      "  -13.678644 ]\n",
      " ...\n",
      " [ -6.689437  -11.421646  -11.890001  ...  -7.313055   -6.17715\n",
      "  -14.173815 ]\n",
      " [ -8.800422  -10.244496  -13.139151  ... -10.085502   -5.707847\n",
      "  -12.721161 ]\n",
      " [ -9.837496  -10.439309  -12.400018  ...  -8.61492    -7.3353367\n",
      "  -13.68022  ]]\n",
      "SourceInfo(filepath='/home/mschulist/caples_sound/ARU_data/10-BLACK/Data/BLACK-10-CAP_20230608_223000.wav', shard_num=0, shard_len_s=-1.0)\n"
     ]
    },
    {
     "name": "stderr",
     "output_type": "stream",
     "text": [
      "  1%|▋                                                 | 208/16036 [4:17:31<324:18:55, 73.76s/it]"
     ]
    },
    {
     "name": "stdout",
     "output_type": "stream",
     "text": [
      "[[-14.69675   -11.343258  -11.585515  ...  -8.836299   -7.005253\n",
      "  -14.667462 ]\n",
      " [-13.920243  -10.105277  -10.642899  ...  -9.287851   -4.818738\n",
      "  -13.745937 ]\n",
      " [-16.30804   -11.493073  -11.621484  ... -10.009535   -7.4257345\n",
      "  -15.8221035]\n",
      " ...\n",
      " [-15.54058   -11.003743  -11.249194  ...  -9.188695   -7.164528\n",
      "  -14.664859 ]\n",
      " [-14.772827  -10.96037   -11.2431555 ...  -9.1692095  -6.9872847\n",
      "  -15.197049 ]\n",
      " [-14.831063  -10.531157  -12.214797  ...  -9.321138   -7.5378323\n",
      "  -15.501101 ]]\n",
      "SourceInfo(filepath='/home/mschulist/caples_sound/ARU_data/10-BLACK/Data/BLACK-10-CAP_20230620_040000.wav', shard_num=0, shard_len_s=-1.0)\n"
     ]
    },
    {
     "name": "stderr",
     "output_type": "stream",
     "text": [
      "  1%|▋                                                 | 209/16036 [4:18:41<318:56:07, 72.54s/it]"
     ]
    },
    {
     "name": "stdout",
     "output_type": "stream",
     "text": [
      "[[-11.059818  -11.217586  -12.587469  ...  -9.179334   -8.412874\n",
      "  -14.785302 ]\n",
      " [-11.77495   -11.543205  -12.97227   ...  -9.67185    -8.993207\n",
      "  -15.802069 ]\n",
      " [-10.993381  -11.364062  -12.610327  ...  -9.419281   -8.911291\n",
      "  -15.830814 ]\n",
      " ...\n",
      " [-10.787831  -11.367138  -12.484496  ...  -9.570635   -8.875422\n",
      "  -15.626159 ]\n",
      " [-10.994369  -10.977429  -11.898533  ...  -9.138693   -8.089664\n",
      "  -14.968852 ]\n",
      " [-10.992259  -11.336335  -12.635826  ...  -9.671015   -8.654775\n",
      "  -15.5866375]]\n",
      "SourceInfo(filepath='/home/mschulist/caples_sound/ARU_data/10-BLACK/Data/BLACK-10-CAP_20230605_100000.wav', shard_num=0, shard_len_s=-1.0)\n"
     ]
    },
    {
     "name": "stderr",
     "output_type": "stream",
     "text": [
      "  1%|▋                                                 | 210/16036 [4:19:56<322:26:51, 73.35s/it]"
     ]
    },
    {
     "name": "stdout",
     "output_type": "stream",
     "text": [
      "[[-10.25514   -12.403921  -11.648115  ...  -7.066889   -5.783289\n",
      "  -10.50239  ]\n",
      " [ -8.550875  -10.500099  -10.461367  ...  -5.9765816  -6.9103203\n",
      "  -12.591761 ]\n",
      " [-11.004242  -13.152091  -15.224701  ...  -9.207835   -6.4161425\n",
      "  -11.657957 ]\n",
      " ...\n",
      " [ -8.248149  -13.073107  -10.286899  ...  -8.591263   -6.829694\n",
      "  -13.783813 ]\n",
      " [-11.460698  -10.630399  -12.121005  ...  -5.950966   -5.5719194\n",
      "  -15.301782 ]\n",
      " [-12.757352  -10.9367075 -11.52065   ...  -8.491094   -6.081106\n",
      "  -14.902107 ]]\n",
      "SourceInfo(filepath='/home/mschulist/caples_sound/ARU_data/10-BLACK/Data/BLACK-10-CAP_20230613_033000.wav', shard_num=0, shard_len_s=-1.0)\n"
     ]
    },
    {
     "name": "stderr",
     "output_type": "stream",
     "text": [
      "  1%|▋                                                 | 211/16036 [4:21:13<327:42:15, 74.55s/it]"
     ]
    },
    {
     "name": "stdout",
     "output_type": "stream",
     "text": [
      "[[ -6.9178953 -11.716575  -10.561844  ...  -9.791418   -8.489053\n",
      "  -13.773208 ]\n",
      " [ -6.012974  -10.663678  -10.291903  ...  -9.634437   -8.210754\n",
      "  -13.173832 ]\n",
      " [ -7.3730025 -11.005935  -11.227243  ... -10.301125   -8.84385\n",
      "  -14.748079 ]\n",
      " ...\n",
      " [ -7.204369  -11.071094  -11.011579  ...  -9.654505   -8.581443\n",
      "  -14.014145 ]\n",
      " [ -8.476003  -11.554383  -11.357388  ...  -9.759536   -9.072216\n",
      "  -14.130507 ]\n",
      " [ -6.940793  -11.042113  -11.36012   ...  -9.367313   -8.75265\n",
      "  -13.5389595]]\n",
      "SourceInfo(filepath='/home/mschulist/caples_sound/ARU_data/10-BLACK/Data/BLACK-10-CAP_20230607_080000.wav', shard_num=0, shard_len_s=-1.0)\n"
     ]
    },
    {
     "name": "stderr",
     "output_type": "stream",
     "text": [
      "  1%|▋                                                 | 212/16036 [4:22:28<328:16:52, 74.68s/it]"
     ]
    },
    {
     "name": "stdout",
     "output_type": "stream",
     "text": [
      "[[-17.355892  -11.044267  -13.092937  ...  -7.3072333  -5.585231\n",
      "  -13.160572 ]\n",
      " [-18.243061  -11.689322  -13.5416    ...  -8.561638   -7.0725546\n",
      "  -13.386054 ]\n",
      " [-17.149414  -11.435736  -12.735744  ...  -8.661686   -8.3733\n",
      "  -15.170851 ]\n",
      " ...\n",
      " [-16.115467  -11.095666  -12.993327  ...  -6.0646973  -5.329194\n",
      "  -12.375238 ]\n",
      " [-17.754898  -12.573461  -11.824612  ...  -7.1143594  -5.8442063\n",
      "  -10.911743 ]\n",
      " [-14.270368  -12.438207  -11.988874  ...  -9.133238   -9.969447\n",
      "  -16.98114  ]]\n",
      "SourceInfo(filepath='/home/mschulist/caples_sound/ARU_data/10-BLACK/Data/BLACK-10-CAP_20230611_080000.wav', shard_num=0, shard_len_s=-1.0)\n"
     ]
    },
    {
     "name": "stderr",
     "output_type": "stream",
     "text": [
      "  1%|▋                                                 | 213/16036 [4:23:47<333:48:38, 75.95s/it]"
     ]
    },
    {
     "name": "stdout",
     "output_type": "stream",
     "text": [
      "[[-18.865051  -12.4419565 -13.209596  ... -11.10685   -10.710778\n",
      "  -18.283928 ]\n",
      " [-15.97502   -11.74001   -13.7234535 ...  -6.6515107  -6.3857403\n",
      "  -13.6876   ]\n",
      " [-19.904514  -12.999228  -13.876481  ...  -9.894837   -7.1292944\n",
      "  -15.699051 ]\n",
      " ...\n",
      " [-13.642102  -10.262305  -12.363053  ... -10.197046   -8.361986\n",
      "  -14.783301 ]\n",
      " [-15.609318  -11.441984  -13.977365  ...  -7.9435463  -5.776963\n",
      "  -10.142874 ]\n",
      " [-13.866149   -9.06709    -8.4852495 ...  -9.094265   -6.934744\n",
      "  -13.58412  ]]\n",
      "SourceInfo(filepath='/home/mschulist/caples_sound/ARU_data/10-BLACK/Data/BLACK-10-CAP_20230616_023000.wav', shard_num=0, shard_len_s=-1.0)\n"
     ]
    },
    {
     "name": "stderr",
     "output_type": "stream",
     "text": [
      "  1%|▋                                                 | 214/16036 [4:25:05<336:47:15, 76.63s/it]"
     ]
    },
    {
     "name": "stdout",
     "output_type": "stream",
     "text": [
      "[[-10.561278  -11.68427   -11.8083105 ...  -9.485829   -9.305448\n",
      "  -15.695625 ]\n",
      " [-11.761672  -12.407611  -13.4256115 ... -10.032377   -9.084281\n",
      "  -16.947641 ]\n",
      " [-11.252671  -11.936955  -13.076434  ...  -9.674647   -9.082131\n",
      "  -16.769003 ]\n",
      " ...\n",
      " [-11.72758   -12.276903  -12.46434   ...  -9.803585   -8.816437\n",
      "  -16.632133 ]\n",
      " [-10.932605  -11.861485  -12.159893  ...  -9.688836   -8.576327\n",
      "  -15.829124 ]\n",
      " [-11.8371525 -12.417173  -12.862816  ... -10.4589615  -9.135621\n",
      "  -16.71231  ]]\n",
      "SourceInfo(filepath='/home/mschulist/caples_sound/ARU_data/10-BLACK/Data/BLACK-10-CAP_20230615_223000.wav', shard_num=0, shard_len_s=-1.0)\n"
     ]
    },
    {
     "name": "stderr",
     "output_type": "stream",
     "text": [
      "  1%|▋                                                 | 215/16036 [4:26:24<338:49:17, 77.10s/it]"
     ]
    },
    {
     "name": "stdout",
     "output_type": "stream",
     "text": [
      "[[ -9.511888  -11.564639  -12.281531  ... -10.1108055  -9.556887\n",
      "  -15.725679 ]\n",
      " [ -9.392484  -11.8724    -12.426762  ...  -9.819277   -9.3537445\n",
      "  -16.774534 ]\n",
      " [-10.748156  -11.351586  -12.756257  ...  -9.847958   -9.721057\n",
      "  -16.792458 ]\n",
      " ...\n",
      " [-11.632392  -12.127598  -13.444943  ... -10.325922   -9.489547\n",
      "  -17.856438 ]\n",
      " [-10.665713  -11.162728  -12.32016   ...  -9.760055   -9.264293\n",
      "  -15.929452 ]\n",
      " [-10.951142  -11.113717  -12.125293  ... -10.325741   -8.866086\n",
      "  -16.842415 ]]\n",
      "SourceInfo(filepath='/home/mschulist/caples_sound/ARU_data/10-BLACK/Data/BLACK-10-CAP_20230609_090000.wav', shard_num=0, shard_len_s=-1.0)\n"
     ]
    },
    {
     "name": "stderr",
     "output_type": "stream",
     "text": [
      "  1%|▋                                                 | 216/16036 [4:27:43<342:01:35, 77.83s/it]"
     ]
    },
    {
     "name": "stdout",
     "output_type": "stream",
     "text": [
      "[[-14.810364  -11.494048  -12.372235  ...  -8.782452   -8.609664\n",
      "  -15.3873005]\n",
      " [-15.203258  -12.524107  -12.582292  ...  -8.697402   -6.5348625\n",
      "  -11.083384 ]\n",
      " [-17.082973  -14.09594   -14.548413  ... -11.106417   -9.969379\n",
      "  -18.66557  ]\n",
      " ...\n",
      " [-15.88304   -11.01909   -13.907005  ...  -7.5484357  -5.2910805\n",
      "  -12.776745 ]\n",
      " [-17.274998  -14.901411  -13.112197  ...  -9.218561  -10.978058\n",
      "  -18.06156  ]\n",
      " [-15.294922  -12.384781  -13.716342  ...  -8.320103   -9.387689\n",
      "  -14.9744005]]\n",
      "SourceInfo(filepath='/home/mschulist/caples_sound/ARU_data/10-BLACK/Data/BLACK-10-CAP_20230609_163000.wav', shard_num=0, shard_len_s=-1.0)\n"
     ]
    },
    {
     "name": "stderr",
     "output_type": "stream",
     "text": [
      "  1%|▋                                                 | 217/16036 [4:28:57<336:36:47, 76.60s/it]"
     ]
    },
    {
     "name": "stdout",
     "output_type": "stream",
     "text": [
      "[[-15.090296  -12.179746  -12.659067  ... -10.080074   -7.8220797\n",
      "  -16.648792 ]\n",
      " [-16.735172  -13.435843  -14.081792  ... -11.701303   -9.161955\n",
      "  -17.722168 ]\n",
      " [-15.185145  -10.252775  -13.20804   ...  -9.75959    -8.386676\n",
      "  -15.898244 ]\n",
      " ...\n",
      " [-15.463557  -11.602281  -12.694934  ...  -9.287047   -7.9775896\n",
      "  -14.00183  ]\n",
      " [-15.327948  -10.594724  -10.772336  ...  -9.162495   -8.375394\n",
      "  -13.891104 ]\n",
      " [-14.971077  -10.661877  -12.656101  ...  -9.504164  -10.2591095\n",
      "  -15.544432 ]]\n",
      "SourceInfo(filepath='/home/mschulist/caples_sound/ARU_data/10-BLACK/Data/BLACK-10-CAP_20230611_000000.wav', shard_num=0, shard_len_s=-1.0)\n"
     ]
    },
    {
     "name": "stderr",
     "output_type": "stream",
     "text": [
      "  1%|▋                                                 | 218/16036 [4:30:13<336:23:36, 76.56s/it]"
     ]
    },
    {
     "name": "stdout",
     "output_type": "stream",
     "text": [
      "[[-15.153958  -11.668445  -11.438537  ... -10.01959    -7.5289974\n",
      "  -14.989616 ]\n",
      " [-16.397964  -12.596101  -12.792076  ... -10.077742   -7.9413404\n",
      "  -15.63583  ]\n",
      " [-16.483654  -12.322284  -12.585835  ... -10.379619   -7.876751\n",
      "  -15.99485  ]\n",
      " ...\n",
      " [-15.275071  -11.947753  -11.878122  ...  -9.394334   -7.3312807\n",
      "  -15.126283 ]\n",
      " [-17.71893   -13.591275  -13.943267  ... -11.203078   -9.223598\n",
      "  -16.41969  ]\n",
      " [-15.910068  -11.850666  -11.8924    ...  -8.876095   -6.6924877\n",
      "  -15.22546  ]]\n",
      "SourceInfo(filepath='/home/mschulist/caples_sound/ARU_data/10-BLACK/Data/BLACK-10-CAP_20230609_010000.wav', shard_num=0, shard_len_s=-1.0)\n"
     ]
    },
    {
     "name": "stderr",
     "output_type": "stream",
     "text": [
      "  1%|▋                                                 | 219/16036 [4:31:29<335:35:01, 76.38s/it]"
     ]
    },
    {
     "name": "stdout",
     "output_type": "stream",
     "text": [
      "[[-17.156239  -12.40588   -12.435373  ...  -9.937181   -8.821058\n",
      "  -16.547882 ]\n",
      " [-15.333635  -12.1310625 -11.879474  ...  -9.036457   -7.8914576\n",
      "  -16.092564 ]\n",
      " [-16.471169  -10.96445   -12.269109  ...  -9.227437   -7.831518\n",
      "  -15.372008 ]\n",
      " ...\n",
      " [-17.124325  -12.220408  -12.864124  ...  -9.718287   -7.6361837\n",
      "  -16.270866 ]\n",
      " [-16.06789   -10.589183  -11.907883  ...  -9.223488   -7.4834146\n",
      "  -15.483648 ]\n",
      " [-15.7699995 -11.966144  -13.254079  ...  -9.319019   -8.45546\n",
      "  -15.942975 ]]\n",
      "SourceInfo(filepath='/home/mschulist/caples_sound/ARU_data/10-BLACK/Data/BLACK-10-CAP_20230612_200000.wav', shard_num=0, shard_len_s=-1.0)\n"
     ]
    },
    {
     "name": "stderr",
     "output_type": "stream",
     "text": [
      "  1%|▋                                                 | 220/16036 [4:32:46<336:12:33, 76.53s/it]"
     ]
    },
    {
     "name": "stdout",
     "output_type": "stream",
     "text": [
      "[[ -4.062767  -13.192471   -9.261551  ...  -9.790955   -8.481263\n",
      "  -15.400164 ]\n",
      " [ -3.350372  -12.667187   -9.547814  ...  -9.677753   -7.744565\n",
      "  -15.161944 ]\n",
      " [ -4.018254  -11.981266   -9.362783  ... -10.118513   -7.7886124\n",
      "  -15.032205 ]\n",
      " ...\n",
      " [ -2.9743056 -11.394192   -8.780352  ...  -9.400915   -7.458807\n",
      "  -13.785924 ]\n",
      " [ -3.7957778 -12.841045   -9.34664   ... -10.365297   -8.097955\n",
      "  -15.349598 ]\n",
      " [ -5.4363184 -11.06688    -9.1542635 ...  -9.270375   -7.3149233\n",
      "  -13.766058 ]]\n",
      "SourceInfo(filepath='/home/mschulist/caples_sound/ARU_data/10-BLACK/Data/BLACK-10-CAP_20230611_173000.wav', shard_num=0, shard_len_s=-1.0)\n"
     ]
    },
    {
     "name": "stderr",
     "output_type": "stream",
     "text": [
      "  1%|▋                                                 | 221/16036 [4:34:02<335:27:26, 76.36s/it]"
     ]
    },
    {
     "name": "stdout",
     "output_type": "stream",
     "text": [
      "[[ -8.084673  -10.717592  -11.142223  ...  -8.393759   -9.033435\n",
      "  -14.616993 ]\n",
      " [-11.207665  -11.805678  -12.962319  ...  -9.872513  -12.275386\n",
      "  -12.916161 ]\n",
      " [ -9.866032  -15.250585  -13.786039  ... -10.919231   -9.321743\n",
      "  -13.076598 ]\n",
      " ...\n",
      " [ -8.701526   -9.928646  -11.357752  ...  -8.1540365  -8.23098\n",
      "  -12.677532 ]\n",
      " [-11.06771   -12.502264  -11.994866  ...  -6.8034463  -4.6225348\n",
      "  -10.256332 ]\n",
      " [ -9.222128  -12.638495  -13.00959   ...  -9.359022   -8.014448\n",
      "  -14.258348 ]]\n",
      "SourceInfo(filepath='/home/mschulist/caples_sound/ARU_data/10-BLACK/Data/BLACK-10-CAP_20230607_040000.wav', shard_num=0, shard_len_s=-1.0)\n"
     ]
    },
    {
     "name": "stderr",
     "output_type": "stream",
     "text": [
      "  1%|▋                                                 | 222/16036 [4:35:21<338:23:55, 77.04s/it]"
     ]
    },
    {
     "name": "stdout",
     "output_type": "stream",
     "text": [
      "[[-18.3195    -12.275279  -13.866769  ... -10.309725   -8.2956295\n",
      "  -16.640596 ]\n",
      " [-17.202354  -12.660149  -13.124112  ... -10.337074   -7.953183\n",
      "  -16.53817  ]\n",
      " [-16.509083  -12.255783  -12.702047  ...  -9.894471   -7.343937\n",
      "  -16.119825 ]\n",
      " ...\n",
      " [-18.790813  -12.407055  -14.048374  ... -10.159208   -7.90339\n",
      "  -16.47682  ]\n",
      " [-18.302895  -12.905755  -13.692367  ...  -9.994579   -7.6255846\n",
      "  -16.573837 ]\n",
      " [-17.322433  -12.250356  -13.16039   ...  -9.646116   -7.428978\n",
      "  -15.786619 ]]\n",
      "SourceInfo(filepath='/home/mschulist/caples_sound/ARU_data/10-BLACK/Data/BLACK-10-CAP_20230609_050000.wav', shard_num=0, shard_len_s=-1.0)\n"
     ]
    },
    {
     "name": "stderr",
     "output_type": "stream",
     "text": [
      "  1%|▋                                                 | 223/16036 [4:36:39<339:39:31, 77.33s/it]"
     ]
    },
    {
     "name": "stdout",
     "output_type": "stream",
     "text": [
      "[[-17.636227  -12.514648  -13.087565  ...  -9.442794   -8.494026\n",
      "  -15.590846 ]\n",
      " [-17.183725  -12.386073  -12.820365  ...  -6.442812   -6.5126677\n",
      "  -16.651558 ]\n",
      " [-13.950959   -9.82647   -11.935351  ... -10.590608   -9.292458\n",
      "  -16.591682 ]\n",
      " ...\n",
      " [-13.896371  -11.211802  -10.633253  ...  -8.33893    -7.8518114\n",
      "  -14.166538 ]\n",
      " [-14.647399  -11.197863   -9.388474  ...  -5.847921   -5.419303\n",
      "  -12.895397 ]\n",
      " [-12.259979  -10.88605    -9.13133   ...  -8.454981   -7.7787914\n",
      "  -13.247536 ]]\n",
      "SourceInfo(filepath='/home/mschulist/caples_sound/ARU_data/10-BLACK/Data/BLACK-10-CAP_20230607_000000.wav', shard_num=0, shard_len_s=-1.0)\n"
     ]
    },
    {
     "name": "stderr",
     "output_type": "stream",
     "text": [
      "  1%|▋                                                 | 224/16036 [4:37:51<332:27:34, 75.69s/it]"
     ]
    },
    {
     "name": "stdout",
     "output_type": "stream",
     "text": [
      "[[-16.858068  -11.752939  -13.1066885 ...  -9.707528   -7.7288713\n",
      "  -16.234753 ]\n",
      " [-16.760773  -11.785398  -14.570934  ... -10.180611   -8.723445\n",
      "  -16.816261 ]\n",
      " [-17.631603  -12.728204  -13.215145  ... -10.013      -7.5514936\n",
      "  -15.7270565]\n",
      " ...\n",
      " [-17.43237   -12.017335  -11.582112  ...  -9.187936   -7.5566998\n",
      "  -16.334454 ]\n",
      " [-16.443626  -12.036505  -13.130458  ...  -9.166889   -7.586957\n",
      "  -16.25646  ]\n",
      " [-17.286232  -11.685994  -12.33511   ...  -9.27335    -7.2158184\n",
      "  -15.074535 ]]\n",
      "SourceInfo(filepath='/home/mschulist/caples_sound/ARU_data/10-BLACK/Data/BLACK-10-CAP_20230611_040000.wav', shard_num=0, shard_len_s=-1.0)\n"
     ]
    },
    {
     "name": "stderr",
     "output_type": "stream",
     "text": [
      "  1%|▋                                                 | 225/16036 [4:39:10<336:49:20, 76.69s/it]"
     ]
    },
    {
     "name": "stdout",
     "output_type": "stream",
     "text": [
      "[[-15.968179  -11.924845  -12.029932  ... -10.018289   -7.18384\n",
      "  -16.23682  ]\n",
      " [-16.368896  -11.897506  -13.356782  ...  -9.99059    -8.02398\n",
      "  -16.051373 ]\n",
      " [-17.298382  -12.915412  -13.574173  ... -10.727665   -8.304626\n",
      "  -16.420725 ]\n",
      " ...\n",
      " [-16.035343  -12.487478  -12.385263  ...  -9.675878   -7.5291004\n",
      "  -15.414202 ]\n",
      " [-17.557796  -12.062873  -12.879497  ... -10.422907   -7.6064835\n",
      "  -16.062973 ]\n",
      " [-16.612965  -12.713768  -12.633324  ... -10.127364   -8.408965\n",
      "  -16.331573 ]]\n",
      "SourceInfo(filepath='/home/mschulist/caples_sound/ARU_data/10-BLACK/Data/BLACK-10-CAP_20230607_173000.wav', shard_num=0, shard_len_s=-1.0)\n"
     ]
    },
    {
     "name": "stderr",
     "output_type": "stream",
     "text": [
      "  1%|▋                                                 | 226/16036 [4:40:27<337:07:43, 76.77s/it]"
     ]
    },
    {
     "name": "stdout",
     "output_type": "stream",
     "text": [
      "[[-14.660861   -9.576337  -12.345949  ...  -5.3126655   1.6562216\n",
      "  -10.010317 ]\n",
      " [-11.092826  -11.584589  -10.3646345 ...  -7.0703254  -2.421474\n",
      "  -13.106615 ]\n",
      " [-15.080384   -9.251784  -13.105612  ...  -7.2164755  -3.9609625\n",
      "  -13.718424 ]\n",
      " ...\n",
      " [-15.222912  -11.523153  -12.005015  ...  -9.898624   -7.687316\n",
      "  -16.176926 ]\n",
      " [-16.434029  -12.205248  -12.4375515 ... -10.716913   -8.461827\n",
      "  -15.775705 ]\n",
      " [-13.881176  -11.483794  -11.345948  ...  -9.523339   -7.211643\n",
      "  -14.613798 ]]\n",
      "SourceInfo(filepath='/home/mschulist/caples_sound/ARU_data/10-BLACK/Data/BLACK-10-CAP_20230604_200000.wav', shard_num=0, shard_len_s=-1.0)\n"
     ]
    },
    {
     "name": "stderr",
     "output_type": "stream",
     "text": [
      "  1%|▋                                                 | 227/16036 [4:41:43<336:57:49, 76.73s/it]"
     ]
    },
    {
     "name": "stdout",
     "output_type": "stream",
     "text": [
      "[[-11.880046  -11.601435  -14.040448  ...  -7.07907    -6.547142\n",
      "  -15.662136 ]\n",
      " [-11.303491  -12.374866  -11.913271  ...  -7.976568   -7.005245\n",
      "  -11.566287 ]\n",
      " [-11.471919  -11.068148  -11.049345  ...  -6.9172277  -4.8148384\n",
      "  -13.036074 ]\n",
      " ...\n",
      " [-10.806801  -10.153997  -13.227554  ...  -7.9711328  -9.40453\n",
      "  -14.35601  ]\n",
      " [-12.312504  -15.961765  -15.141937  ... -13.648706  -12.032313\n",
      "  -16.683594 ]\n",
      " [-15.742151  -15.09805   -15.083095  ... -11.706551  -11.984186\n",
      "  -18.116337 ]]\n",
      "SourceInfo(filepath='/home/mschulist/caples_sound/ARU_data/10-BLACK/Data/BLACK-10-CAP_20230604_183000.wav', shard_num=0, shard_len_s=-1.0)\n"
     ]
    },
    {
     "name": "stderr",
     "output_type": "stream",
     "text": [
      "  1%|▋                                                 | 228/16036 [4:43:01<337:44:07, 76.91s/it]"
     ]
    },
    {
     "name": "stdout",
     "output_type": "stream",
     "text": [
      "[[-14.651729   -9.818455  -12.595559  ...  -8.228788   -7.7231846\n",
      "  -13.151001 ]\n",
      " [-14.087094   -9.201229  -12.380367  ...  -6.3292956  -4.969146\n",
      "  -12.026157 ]\n",
      " [-14.651099  -10.14002   -12.214586  ...  -6.9144106  -7.3014116\n",
      "  -10.958242 ]\n",
      " ...\n",
      " [-11.427532  -11.685263  -12.391148  ...  -8.81221    -7.7597876\n",
      "  -16.405136 ]\n",
      " [ -7.154767  -10.903091  -10.777388  ...  -7.8350835  -6.5507445\n",
      "  -14.09137  ]\n",
      " [ -8.283216  -10.458913  -10.453104  ...  -9.807989   -8.738418\n",
      "  -14.777064 ]]\n",
      "SourceInfo(filepath='/home/mschulist/caples_sound/ARU_data/10-BLACK/Data/BLACK-10-CAP_20230615_013000.wav', shard_num=0, shard_len_s=-1.0)\n"
     ]
    },
    {
     "name": "stderr",
     "output_type": "stream",
     "text": [
      "  1%|▋                                                 | 229/16036 [4:44:17<336:33:18, 76.65s/it]"
     ]
    },
    {
     "name": "stdout",
     "output_type": "stream",
     "text": [
      "[[ -9.055034  -11.14792   -10.429831  ...  -9.752747   -8.450685\n",
      "  -15.838014 ]\n",
      " [-12.064932  -11.64572   -13.6133375 ... -10.115946  -10.129143\n",
      "  -17.075174 ]\n",
      " [-12.406515  -11.917665  -12.831881  ... -10.514277   -9.443041\n",
      "  -17.14262  ]\n",
      " ...\n",
      " [-10.380656  -11.780677  -12.665608  ...  -9.446494   -9.215737\n",
      "  -16.035385 ]\n",
      " [-11.6743765 -12.532132  -13.816361  ... -10.658951  -10.2025585\n",
      "  -17.600567 ]\n",
      " [-10.416243  -11.835162  -13.124935  ... -10.085122   -9.435394\n",
      "  -17.054478 ]]\n",
      "SourceInfo(filepath='/home/mschulist/caples_sound/ARU_data/10-BLACK/Data/BLACK-10-CAP_20230615_160000.wav', shard_num=0, shard_len_s=-1.0)\n"
     ]
    },
    {
     "name": "stderr",
     "output_type": "stream",
     "text": [
      "  1%|▋                                                 | 230/16036 [4:45:33<336:11:01, 76.57s/it]"
     ]
    },
    {
     "name": "stdout",
     "output_type": "stream",
     "text": [
      "[[ -9.571723  -13.827281  -13.545885  ... -10.495424  -10.036499\n",
      "  -17.826271 ]\n",
      " [ -8.767485  -10.767261  -10.307904  ...  -9.353679   -9.997733\n",
      "  -14.110487 ]\n",
      " [-10.000052  -11.466984  -12.423317  ... -10.349884   -7.378233\n",
      "  -16.19182  ]\n",
      " ...\n",
      " [ -9.873668   -9.938992  -10.733892  ...  -9.315033   -9.276333\n",
      "  -15.343013 ]\n",
      " [-10.90299   -10.064744  -11.912328  ...  -8.7297     -7.9440804\n",
      "  -15.00924  ]\n",
      " [-10.088091  -10.4758005 -12.928335  ... -10.099607   -9.848145\n",
      "  -15.195884 ]]\n",
      "SourceInfo(filepath='/home/mschulist/caples_sound/ARU_data/10-BLACK/Data/BLACK-10-CAP_20230612_183000.wav', shard_num=0, shard_len_s=-1.0)\n"
     ]
    },
    {
     "name": "stderr",
     "output_type": "stream",
     "text": [
      "  1%|▋                                                 | 231/16036 [4:46:53<340:11:25, 77.49s/it]"
     ]
    },
    {
     "name": "stdout",
     "output_type": "stream",
     "text": [
      "[[ -3.1153023 -11.573199   -8.694311  ...  -9.137312   -7.4455357\n",
      "  -15.879035 ]\n",
      " [ -4.333543  -10.468258   -7.4706593 ...  -9.233157   -6.9523573\n",
      "  -14.241759 ]\n",
      " [ -5.3353405 -11.507092   -8.907706  ...  -9.9924965  -7.724905\n",
      "  -15.200431 ]\n",
      " ...\n",
      " [ -4.1298447 -11.085038   -8.137906  ...  -9.557625   -7.6696196\n",
      "  -15.685746 ]\n",
      " [ -4.166609  -10.549809   -7.972373  ...  -9.772762   -7.2844553\n",
      "  -14.754972 ]\n",
      " [ -3.733057  -10.638086   -7.6298933 ...  -9.106146   -6.894131\n",
      "  -15.145132 ]]\n",
      "SourceInfo(filepath='/home/mschulist/caples_sound/ARU_data/10-BLACK/Data/BLACK-10-CAP_20230615_053000.wav', shard_num=0, shard_len_s=-1.0)\n"
     ]
    },
    {
     "name": "stderr",
     "output_type": "stream",
     "text": [
      "  1%|▋                                                 | 232/16036 [4:48:06<334:55:54, 76.29s/it]"
     ]
    },
    {
     "name": "stdout",
     "output_type": "stream",
     "text": [
      "[[ -8.687257  -10.633611  -11.690291  ...  -9.714113  -10.1121855\n",
      "  -15.997593 ]\n",
      " [ -7.300757  -11.72556   -11.967175  ...  -9.774158   -8.712254\n",
      "  -11.946953 ]\n",
      " [-10.166838  -10.907772  -11.957607  ... -10.84013    -9.645083\n",
      "  -15.570898 ]\n",
      " ...\n",
      " [ -9.379416  -11.846383  -12.913846  ...  -9.192898   -9.578483\n",
      "  -15.52732  ]\n",
      " [-10.22641   -11.65894   -10.94406   ...  -9.123051   -8.397507\n",
      "  -14.229391 ]\n",
      " [ -8.716845  -12.539925  -12.988444  ...  -9.914779   -8.313585\n",
      "  -13.8156395]]\n",
      "SourceInfo(filepath='/home/mschulist/caples_sound/ARU_data/10-BLACK/Data/BLACK-10-CAP_20230612_070000.wav', shard_num=0, shard_len_s=-1.0)\n"
     ]
    },
    {
     "name": "stderr",
     "output_type": "stream",
     "text": [
      "  1%|▋                                                 | 233/16036 [4:49:22<334:43:24, 76.25s/it]"
     ]
    },
    {
     "name": "stdout",
     "output_type": "stream",
     "text": [
      "[[-11.87263   -10.426028  -12.59767   ...  -7.3668213  -9.499258\n",
      "  -16.962482 ]\n",
      " [-11.456584  -14.162816  -13.274701  ...  -9.879301  -12.28432\n",
      "  -15.090223 ]\n",
      " [-10.843869  -11.123165  -12.662319  ...  -9.72687    -9.221994\n",
      "  -16.463564 ]\n",
      " ...\n",
      " [ -8.596769  -10.114655   -9.677137  ...  -9.142544  -10.128323\n",
      "  -14.711374 ]\n",
      " [ -8.831543   -9.595537  -10.327175  ...  -9.801847   -7.0632286\n",
      "  -14.513027 ]\n",
      " [ -7.684004   -8.599945   -9.84949   ...  -9.740053   -6.2414713\n",
      "  -12.520278 ]]\n",
      "SourceInfo(filepath='/home/mschulist/caples_sound/ARU_data/10-BLACK/Data/BLACK-10-CAP_20230607_230000.wav', shard_num=0, shard_len_s=-1.0)\n"
     ]
    },
    {
     "name": "stderr",
     "output_type": "stream",
     "text": [
      "  1%|▋                                                 | 234/16036 [4:50:39<335:13:35, 76.37s/it]"
     ]
    },
    {
     "name": "stdout",
     "output_type": "stream",
     "text": [
      "[[-15.142229   -9.796323  -10.709994  ...  -8.771836   -6.713063\n",
      "  -13.685732 ]\n",
      " [-16.56567   -11.568796  -12.857347  ... -10.3761215  -8.066985\n",
      "  -16.765587 ]\n",
      " [-16.511864  -11.233985  -12.237593  ...  -9.674168   -7.710805\n",
      "  -16.212753 ]\n",
      " ...\n",
      " [-15.002053  -10.969407  -11.436131  ...  -9.156962   -7.2303953\n",
      "  -15.550082 ]\n",
      " [-15.776485  -11.320339  -12.266814  ...  -9.860956   -7.74457\n",
      "  -16.023182 ]\n",
      " [-15.705649  -11.610953  -12.364039  ...  -9.508144   -7.700841\n",
      "  -15.967266 ]]\n",
      "SourceInfo(filepath='/home/mschulist/caples_sound/ARU_data/10-BLACK/Data/BLACK-10-CAP_20230615_093000.wav', shard_num=0, shard_len_s=-1.0)\n"
     ]
    },
    {
     "name": "stderr",
     "output_type": "stream",
     "text": [
      "  1%|▋                                                 | 235/16036 [4:51:56<336:00:08, 76.55s/it]"
     ]
    },
    {
     "name": "stdout",
     "output_type": "stream",
     "text": [
      "[[-10.241554  -13.213293  -12.540168  ... -10.641729   -7.7128277\n",
      "  -12.984556 ]\n",
      " [ -8.985086  -12.21518   -11.3618765 ... -11.121424   -8.383545\n",
      "  -13.538621 ]\n",
      " [ -9.47344   -10.505707  -12.957014  ... -11.02996    -7.891368\n",
      "  -13.828915 ]\n",
      " ...\n",
      " [-10.098072  -11.239397  -12.417123  ...  -9.704307   -8.651894\n",
      "  -16.454063 ]\n",
      " [ -9.110843  -10.355402  -12.14928   ...  -9.553318   -8.666385\n",
      "  -16.285652 ]\n",
      " [ -9.428739  -12.395116  -11.66177   ...  -9.366889  -10.702601\n",
      "  -15.251022 ]]\n",
      "SourceInfo(filepath='/home/mschulist/caples_sound/ARU_data/10-BLACK/Data/BLACK-10-CAP_20230609_220000.wav', shard_num=0, shard_len_s=-1.0)\n"
     ]
    },
    {
     "name": "stderr",
     "output_type": "stream",
     "text": [
      "  1%|▋                                                 | 236/16036 [4:53:13<336:05:58, 76.58s/it]"
     ]
    },
    {
     "name": "stdout",
     "output_type": "stream",
     "text": [
      "[[-17.90897   -11.897856  -13.729924  ... -10.1275425  -7.7689056\n",
      "  -16.555384 ]\n",
      " [-17.678091  -11.520022  -12.987766  ...  -9.547381   -7.9275627\n",
      "  -16.109745 ]\n",
      " [-16.286083  -11.357038  -12.209045  ...  -9.2443495  -7.7090654\n",
      "  -16.083431 ]\n",
      " ...\n",
      " [-18.63873   -11.618018  -13.870258  ... -10.068991   -7.8762283\n",
      "  -16.982605 ]\n",
      " [-17.372227  -12.187025  -13.55832   ... -10.25844    -8.247137\n",
      "  -16.8068   ]\n",
      " [-15.797141  -11.493241  -11.751488  ...  -8.706929   -7.3074684\n",
      "  -14.936145 ]]\n",
      "SourceInfo(filepath='/home/mschulist/caples_sound/ARU_data/10-BLACK/Data/BLACK-10-CAP_20230612_030000.wav', shard_num=0, shard_len_s=-1.0)\n"
     ]
    },
    {
     "name": "stderr",
     "output_type": "stream",
     "text": [
      "  1%|▋                                                 | 237/16036 [4:54:28<334:07:27, 76.13s/it]"
     ]
    },
    {
     "name": "stdout",
     "output_type": "stream",
     "text": [
      "[[ -9.811354  -10.909016  -12.51767   ...  -9.66644    -9.397717\n",
      "  -15.433409 ]\n",
      " [ -9.97274   -11.334377  -12.171079  ...  -9.50816    -9.515574\n",
      "  -15.508459 ]\n",
      " [ -9.485833  -10.954703  -12.211802  ...  -9.422094   -8.321592\n",
      "  -15.859483 ]\n",
      " ...\n",
      " [-10.818444  -11.20477   -12.410847  ...  -9.886588   -9.5803585\n",
      "  -15.715853 ]\n",
      " [-10.826551  -11.097026  -12.723148  ... -10.103321   -9.193244\n",
      "  -16.248062 ]\n",
      " [ -9.901116  -10.885694  -11.744064  ...  -9.139116   -8.942557\n",
      "  -14.883748 ]]\n",
      "SourceInfo(filepath='/home/mschulist/caples_sound/ARU_data/10-BLACK/Data/BLACK-10-CAP_20230611_230000.wav', shard_num=0, shard_len_s=-1.0)\n"
     ]
    },
    {
     "name": "stderr",
     "output_type": "stream",
     "text": [
      "  1%|▋                                                 | 238/16036 [4:55:48<339:15:27, 77.31s/it]"
     ]
    },
    {
     "name": "stdout",
     "output_type": "stream",
     "text": [
      "[[-10.076217 -11.513388 -12.381798 ...  -8.616943  -9.340783 -15.368396]\n",
      " [ -9.393312 -11.504324 -11.51574  ... -10.817112  -9.062983 -16.360424]\n",
      " [ -8.661116 -10.865524 -11.270787 ...  -8.717289  -9.077837 -15.009999]\n",
      " ...\n",
      " [ -9.560963 -10.995757 -12.221553 ...  -9.161597  -9.033123 -15.871639]\n",
      " [-10.536021 -10.817136 -13.255321 ...  -9.769056  -9.350553 -15.999479]\n",
      " [ -9.70189  -11.312228 -12.054723 ...  -9.341616  -9.272847 -15.450791]]\n",
      "SourceInfo(filepath='/home/mschulist/caples_sound/ARU_data/10-BLACK/Data/BLACK-10-CAP_20230612_073000.wav', shard_num=0, shard_len_s=-1.0)\n"
     ]
    },
    {
     "name": "stderr",
     "output_type": "stream",
     "text": [
      "  1%|▋                                                 | 239/16036 [4:57:03<336:55:40, 76.78s/it]"
     ]
    },
    {
     "name": "stdout",
     "output_type": "stream",
     "text": [
      "[[-12.11229   -12.609474  -12.842361  ... -10.43491   -10.1185465\n",
      "  -14.415137 ]\n",
      " [ -8.641639  -10.258182  -10.488342  ...  -8.851029   -8.531123\n",
      "  -14.902781 ]\n",
      " [ -9.732705  -10.479147  -11.335584  ...  -9.310607   -8.775924\n",
      "  -15.589098 ]\n",
      " ...\n",
      " [ -9.274294   -8.687468  -12.151834  ...  -7.272629   -5.894371\n",
      "  -13.806413 ]\n",
      " [ -9.169187   -9.417308  -11.834472  ...  -6.9616194  -8.052714\n",
      "  -12.580415 ]\n",
      " [ -8.917456   -8.689284  -12.841927  ... -10.700227   -9.499282\n",
      "  -13.669596 ]]\n",
      "SourceInfo(filepath='/home/mschulist/caples_sound/ARU_data/10-BLACK/Data/BLACK-10-CAP_20230607_233000.wav', shard_num=0, shard_len_s=-1.0)\n"
     ]
    },
    {
     "name": "stderr",
     "output_type": "stream",
     "text": [
      "  1%|▋                                                 | 240/16036 [4:58:23<340:45:55, 77.66s/it]"
     ]
    },
    {
     "name": "stdout",
     "output_type": "stream",
     "text": [
      "[[-12.638698  -10.471482  -10.859276  ...  -8.7496805  -7.2652617\n",
      "  -14.291859 ]\n",
      " [-14.046951  -10.637269  -10.680259  ...  -9.337257   -7.1732607\n",
      "  -14.747299 ]\n",
      " [-15.799697  -11.332351  -11.932637  ... -10.308466   -8.078371\n",
      "  -15.857617 ]\n",
      " ...\n",
      " [-15.828553  -11.360478  -12.075294  ...  -9.572899   -7.9662743\n",
      "  -15.598959 ]\n",
      " [-15.857659  -10.773615  -11.622955  ...  -9.25783    -7.4959087\n",
      "  -15.607784 ]\n",
      " [-15.4537    -11.776326  -12.293278  ...  -9.939679   -8.3944\n",
      "  -17.118042 ]]\n",
      "SourceInfo(filepath='/home/mschulist/caples_sound/ARU_data/10-BLACK/Data/BLACK-10-CAP_20230612_100000.wav', shard_num=0, shard_len_s=-1.0)\n"
     ]
    },
    {
     "name": "stderr",
     "output_type": "stream",
     "text": [
      "  2%|▊                                                 | 241/16036 [4:59:41<341:25:57, 77.82s/it]"
     ]
    },
    {
     "name": "stdout",
     "output_type": "stream",
     "text": [
      "[[-11.273681  -13.275143  -11.367293  ...  -9.428158   -8.362673\n",
      "  -12.7304945]\n",
      " [ -8.430868  -11.162542  -10.108217  ...  -9.692907   -8.020072\n",
      "  -16.377659 ]\n",
      " [ -8.876326  -11.074928  -10.93389   ...  -9.166714   -8.049665\n",
      "  -15.634872 ]\n",
      " ...\n",
      " [ -7.888023  -12.108937  -12.640336  ... -10.605871   -7.687729\n",
      "  -12.880844 ]\n",
      " [ -8.165812  -11.60714   -12.27593   ...  -9.587664   -8.866497\n",
      "  -15.288547 ]\n",
      " [ -6.591305   -9.957934  -10.570667  ...  -8.904417   -8.319391\n",
      "  -14.391335 ]]\n",
      "SourceInfo(filepath='/home/mschulist/caples_sound/ARU_data/10-BLACK/Data/BLACK-10-CAP_20230611_233000.wav', shard_num=0, shard_len_s=-1.0)\n"
     ]
    },
    {
     "name": "stderr",
     "output_type": "stream",
     "text": [
      "  2%|▊                                                 | 242/16036 [5:00:57<339:22:20, 77.35s/it]"
     ]
    },
    {
     "name": "stdout",
     "output_type": "stream",
     "text": [
      "[[-10.765421  -11.436708  -13.051419  ...  -9.804943   -9.668229\n",
      "  -16.967007 ]\n",
      " [ -9.7356205 -11.067181  -12.0858345 ...  -9.4916525  -9.044986\n",
      "  -15.62416  ]\n",
      " [ -9.926917  -10.904271  -12.263286  ...  -9.501907   -9.64803\n",
      "  -15.311483 ]\n",
      " ...\n",
      " [-10.12139   -10.904483  -12.868719  ...  -9.611457   -9.458508\n",
      "  -16.449387 ]\n",
      " [ -9.126846  -10.65663   -11.417881  ...  -8.959211   -8.548678\n",
      "  -14.776686 ]\n",
      " [-10.705201  -11.497482  -12.387819  ...  -9.696336   -9.582283\n",
      "  -16.235035 ]]\n",
      "SourceInfo(filepath='/home/mschulist/caples_sound/ARU_data/10-BLACK/Data/BLACK-10-CAP_20230615_090000.wav', shard_num=0, shard_len_s=-1.0)\n"
     ]
    },
    {
     "name": "stderr",
     "output_type": "stream",
     "text": [
      "  2%|▊                                                 | 243/16036 [5:02:14<338:06:03, 77.07s/it]"
     ]
    },
    {
     "name": "stdout",
     "output_type": "stream",
     "text": [
      "[[ -7.943331   -9.892205  -12.218115  ... -10.602837   -9.364666\n",
      "  -15.954084 ]\n",
      " [ -7.4156756 -10.946141  -12.795071  ...  -9.703743   -9.915438\n",
      "  -15.988388 ]\n",
      " [ -8.143959  -10.402372  -12.001507  ... -10.866679   -7.017565\n",
      "  -15.438398 ]\n",
      " ...\n",
      " [-11.769348  -12.031869  -11.790769  ... -10.456047  -10.019101\n",
      "  -15.5317745]\n",
      " [ -9.803371  -10.744056  -12.640213  ...  -9.274374   -8.114909\n",
      "  -16.009819 ]\n",
      " [ -8.777838  -10.465447  -11.066242  ... -10.245497   -8.509806\n",
      "  -15.367786 ]]\n",
      "SourceInfo(filepath='/home/mschulist/caples_sound/ARU_data/10-BLACK/Data/BLACK-10-CAP_20230609_223000.wav', shard_num=0, shard_len_s=-1.0)\n"
     ]
    },
    {
     "name": "stderr",
     "output_type": "stream",
     "text": [
      "  2%|▊                                                 | 244/16036 [5:03:36<344:30:43, 78.54s/it]"
     ]
    },
    {
     "name": "stdout",
     "output_type": "stream",
     "text": [
      "[[-17.364483  -11.210128  -12.957271  ... -10.156708   -7.316348\n",
      "  -15.427286 ]\n",
      " [-17.257385  -11.374716  -12.462814  ...  -9.737317   -7.5022573\n",
      "  -15.039613 ]\n",
      " [-16.438354  -12.162956  -12.687675  ...  -9.98275    -7.502219\n",
      "  -15.7977   ]\n",
      " ...\n",
      " [-16.573812  -11.768439  -12.438273  ... -10.123224   -7.8425274\n",
      "  -15.524394 ]\n",
      " [-17.863667  -12.32656   -13.724447  ...  -9.94635    -7.948328\n",
      "  -16.72493  ]\n",
      " [-15.821019  -11.321928  -12.301501  ...  -9.519194   -7.6061754\n",
      "  -15.30653  ]]\n",
      "SourceInfo(filepath='/home/mschulist/caples_sound/ARU_data/10-BLACK/Data/BLACK-10-CAP_20230612_033000.wav', shard_num=0, shard_len_s=-1.0)\n"
     ]
    },
    {
     "name": "stderr",
     "output_type": "stream",
     "text": [
      "  2%|▊                                                 | 245/16036 [5:04:59<350:49:26, 79.98s/it]"
     ]
    },
    {
     "name": "stdout",
     "output_type": "stream",
     "text": [
      "[[-11.107955  -11.427926  -12.451487  ... -10.00465    -9.449712\n",
      "  -16.277887 ]\n",
      " [-12.316434  -11.055971  -13.097854  ...  -9.618161   -9.328621\n",
      "  -16.003769 ]\n",
      " [-10.774034  -11.1763735 -12.4057455 ...  -9.803543   -9.322065\n",
      "  -15.482412 ]\n",
      " ...\n",
      " [-10.424342  -11.2139845 -12.747434  ...  -9.556414   -9.622642\n",
      "  -16.133884 ]\n",
      " [-10.108971  -10.789294  -12.387852  ...  -8.924593   -9.311571\n",
      "  -15.649476 ]\n",
      " [-11.564171  -11.288698  -13.348732  ...  -9.967122   -9.684118\n",
      "  -16.571894 ]]\n",
      "SourceInfo(filepath='/home/mschulist/caples_sound/ARU_data/10-BLACK/Data/BLACK-10-CAP_20230604_100000.wav', shard_num=0, shard_len_s=-1.0)\n"
     ]
    },
    {
     "name": "stderr",
     "output_type": "stream",
     "text": [
      "  2%|▊                                                 | 246/16036 [5:06:27<361:16:22, 82.37s/it]"
     ]
    },
    {
     "name": "stdout",
     "output_type": "stream",
     "text": [
      "[[-15.713507  -11.0626745 -11.139333  ...  -8.133825   -6.9928083\n",
      "  -15.024759 ]\n",
      " [-14.91414   -10.747577  -13.0873995 ...  -9.417311   -7.8285418\n",
      "  -15.465587 ]\n",
      " [-14.936189  -10.271302   -9.632191  ...  -6.261752   -5.035594\n",
      "  -15.113149 ]\n",
      " ...\n",
      " [-17.596018  -12.669456  -12.494511  ... -10.05592    -9.244183\n",
      "  -17.497776 ]\n",
      " [-14.762786  -11.605128  -11.393069  ...  -6.680068   -6.947648\n",
      "  -12.153109 ]\n",
      " [-16.573067  -11.336525  -13.375734  ...  -8.402967   -8.494277\n",
      "  -14.890086 ]]\n",
      "SourceInfo(filepath='/home/mschulist/caples_sound/ARU_data/10-BLACK/Data/BLACK-10-CAP_20230615_163000.wav', shard_num=0, shard_len_s=-1.0)\n"
     ]
    },
    {
     "name": "stderr",
     "output_type": "stream",
     "text": [
      "  2%|▊                                                 | 247/16036 [5:07:52<364:50:06, 83.18s/it]"
     ]
    },
    {
     "name": "stdout",
     "output_type": "stream",
     "text": [
      "[[ -7.696726   -9.718124  -12.080776  ...  -7.9151025  -9.204544\n",
      "  -13.974709 ]\n",
      " [-10.888293  -10.945458  -13.186483  ... -11.920893   -9.963456\n",
      "  -18.016172 ]\n",
      " [ -8.132956  -11.168416  -12.229128  ...  -9.211613   -9.270293\n",
      "  -16.329803 ]\n",
      " ...\n",
      " [ -8.323011  -10.927062  -11.243886  ...  -8.527025   -7.500787\n",
      "  -15.133885 ]\n",
      " [ -9.524126  -10.448375  -10.997153  ...  -9.7047825  -8.332666\n",
      "  -14.845318 ]\n",
      " [ -8.543026  -10.143411  -10.92403   ...  -9.282925   -8.690415\n",
      "  -12.150579 ]]\n",
      "SourceInfo(filepath='/home/mschulist/caples_sound/ARU_data/10-BLACK/Data/BLACK-10-CAP_20230604_180000.wav', shard_num=0, shard_len_s=-1.0)\n"
     ]
    },
    {
     "name": "stderr",
     "output_type": "stream",
     "text": [
      "  2%|▊                                                 | 248/16036 [5:09:12<360:42:48, 82.25s/it]"
     ]
    },
    {
     "name": "stdout",
     "output_type": "stream",
     "text": [
      "[[-15.264062  -12.110063  -12.892018  ... -11.615735  -10.660997\n",
      "  -16.323193 ]\n",
      " [-12.45245   -12.102941  -11.520355  ...  -7.820989   -6.5161877\n",
      "  -15.554584 ]\n",
      " [-11.12056   -12.306228  -10.983326  ...  -9.400463   -8.119105\n",
      "  -15.887174 ]\n",
      " ...\n",
      " [-16.124016  -12.88503   -15.152133  ... -10.648789   -9.267705\n",
      "  -17.103336 ]\n",
      " [-14.789898  -11.951505  -11.806048  ... -10.050581   -8.776998\n",
      "  -15.674005 ]\n",
      " [-15.738847  -12.851502  -13.213256  ... -10.317141   -8.18777\n",
      "  -17.130463 ]]\n",
      "SourceInfo(filepath='/home/mschulist/caples_sound/ARU_data/10-BLACK/Data/BLACK-10-CAP_20230615_010000.wav', shard_num=0, shard_len_s=-1.0)\n"
     ]
    },
    {
     "name": "stderr",
     "output_type": "stream",
     "text": [
      "  2%|▊                                                 | 249/16036 [5:10:29<353:42:00, 80.66s/it]"
     ]
    },
    {
     "name": "stdout",
     "output_type": "stream",
     "text": [
      "[[-10.921852  -11.191924  -12.560856  ...  -9.407103   -8.839826\n",
      "  -16.111912 ]\n",
      " [ -9.943522  -11.137799  -12.465077  ...  -9.765238   -9.2838545\n",
      "  -16.63117  ]\n",
      " [-10.9675045 -11.71598   -13.456346  ... -10.311882   -9.559799\n",
      "  -17.642933 ]\n",
      " ...\n",
      " [-11.494661  -11.313624  -13.0002985 ...  -9.7357855  -9.068733\n",
      "  -16.227406 ]\n",
      " [-10.524622  -11.247288  -12.4448185 ... -10.242953   -9.334666\n",
      "  -16.92001  ]\n",
      " [-11.700988  -11.24918   -13.089809  ... -10.406088   -9.452427\n",
      "  -16.959688 ]]\n",
      "SourceInfo(filepath='/home/mschulist/caples_sound/ARU_data/10-BLACK/Data/BLACK-10-CAP_20230611_094302.wav', shard_num=0, shard_len_s=-1.0)\n"
     ]
    },
    {
     "name": "stderr",
     "output_type": "stream",
     "text": [
      "W0000 00:00:1717992443.543738 1542259 assert_op.cc:38] Ignoring Assert operator jax2tf_infer_fn_/assert_equal_1/Assert/AssertGuard/Assert\n",
      "  2%|▊                                                 | 250/16036 [5:10:58<285:25:48, 65.09s/it]"
     ]
    },
    {
     "name": "stdout",
     "output_type": "stream",
     "text": [
      "[[-11.074458   -8.911213  -10.932375  ...  -8.644608   -8.215314\n",
      "  -11.237942 ]\n",
      " [-12.93735   -10.386759  -11.553835  ...  -8.8614025  -7.3656893\n",
      "  -11.294107 ]\n",
      " [-13.667066  -10.987429  -11.364264  ... -10.466906   -8.5658655\n",
      "  -13.139919 ]\n",
      " ...\n",
      " [-10.963493  -10.360262  -13.031718  ... -10.81859    -6.7615566\n",
      "  -13.67263  ]\n",
      " [ -8.58822    -9.485588  -10.075255  ...  -8.468024   -5.788718\n",
      "  -11.622164 ]\n",
      " [-10.711923  -10.772836  -12.609418  ... -10.75811    -9.169551\n",
      "  -17.100971 ]]\n",
      "SourceInfo(filepath='/home/mschulist/caples_sound/ARU_data/10-BLACK/Data/BLACK-10-CAP_20230615_050000.wav', shard_num=0, shard_len_s=-1.0)\n"
     ]
    },
    {
     "name": "stderr",
     "output_type": "stream",
     "text": [
      "  2%|▊                                                 | 251/16036 [5:12:13<298:41:08, 68.12s/it]"
     ]
    },
    {
     "name": "stdout",
     "output_type": "stream",
     "text": [
      "[[-14.138164  -14.515504  -15.551076  ... -13.497999  -12.28691\n",
      "  -18.512957 ]\n",
      " [-11.545882  -13.423436  -14.399257  ... -13.646924  -11.952828\n",
      "  -16.178854 ]\n",
      " [-12.720376  -13.398037  -13.875986  ... -12.161675  -11.558954\n",
      "  -17.036827 ]\n",
      " ...\n",
      " [-11.220921  -11.02467   -10.306786  ... -10.69062   -10.272718\n",
      "  -18.605362 ]\n",
      " [ -4.051134  -11.1563835 -10.523264  ...  -9.077829   -8.995848\n",
      "  -12.479334 ]\n",
      " [ -6.5944543 -11.715848  -10.278738  ...  -9.9309025  -8.937376\n",
      "  -15.758202 ]]\n",
      "SourceInfo(filepath='/home/mschulist/caples_sound/ARU_data/10-BLACK/Data/BLACK-10-CAP_20230612_180000.wav', shard_num=0, shard_len_s=-1.0)\n"
     ]
    },
    {
     "name": "stderr",
     "output_type": "stream",
     "text": [
      "  2%|▊                                                 | 252/16036 [5:13:30<310:27:26, 70.81s/it]"
     ]
    },
    {
     "name": "stdout",
     "output_type": "stream",
     "text": [
      "[[ -3.5636122 -12.07456    -8.301241  ...  -9.042093   -6.5577583\n",
      "  -14.79793  ]\n",
      " [ -6.0276585 -13.890393   -7.908721  ... -10.61488    -7.8332205\n",
      "  -16.559319 ]\n",
      " [ -3.8825316 -11.647073   -6.882556  ...  -9.391308   -6.60441\n",
      "  -14.45721  ]\n",
      " ...\n",
      " [ -3.7206497 -11.914904   -8.201939  ...  -9.498179   -7.1511974\n",
      "  -14.257402 ]\n",
      " [ -4.835646  -12.446537   -8.9057455 ... -11.0642185  -7.787301\n",
      "  -16.208427 ]\n",
      " [ -6.442034  -11.314768   -8.266753  ...  -9.876154   -6.6890554\n",
      "  -14.348497 ]]\n",
      "SourceInfo(filepath='/home/mschulist/caples_sound/ARU_data/10-BLACK/Data/BLACK-10-CAP_20230609_013000.wav', shard_num=0, shard_len_s=-1.0)\n"
     ]
    },
    {
     "name": "stderr",
     "output_type": "stream",
     "text": [
      "  2%|▊                                                 | 253/16036 [5:14:47<318:27:18, 72.64s/it]"
     ]
    },
    {
     "name": "stdout",
     "output_type": "stream",
     "text": [
      "[[-17.390984  -11.006209  -12.3457985 ...  -9.800235   -7.480423\n",
      "  -15.877998 ]\n",
      " [-18.062408  -11.7588825 -13.420117  ...  -9.94338    -8.044897\n",
      "  -16.16809  ]\n",
      " [-18.302937  -12.371759  -14.183486  ... -10.341183   -7.7410936\n",
      "  -16.671396 ]\n",
      " ...\n",
      " [-17.31839   -11.998582  -12.616188  ...  -9.71407    -7.4908743\n",
      "  -16.111729 ]\n",
      " [-18.121704  -11.603733  -13.59258   ...  -9.316859   -7.2483416\n",
      "  -16.144527 ]\n",
      " [-19.2033    -12.422773  -14.951752  ... -11.1358185  -9.866775\n",
      "  -16.27151  ]]\n",
      "SourceInfo(filepath='/home/mschulist/caples_sound/ARU_data/10-BLACK/Data/BLACK-10-CAP_20230612_203000.wav', shard_num=0, shard_len_s=-1.0)\n"
     ]
    },
    {
     "name": "stderr",
     "output_type": "stream",
     "text": [
      "  2%|▊                                                 | 254/16036 [5:16:01<320:18:56, 73.07s/it]"
     ]
    },
    {
     "name": "stdout",
     "output_type": "stream",
     "text": [
      "[[ -5.600481  -11.774695   -8.963649  ... -10.287317   -7.9303217\n",
      "  -15.536297 ]\n",
      " [ -4.8289003 -11.670855  -10.518895  ...  -9.919204   -8.315653\n",
      "  -14.743048 ]\n",
      " [ -4.381793  -12.340468   -9.881973  ...  -8.98767    -7.7659836\n",
      "  -14.951269 ]\n",
      " ...\n",
      " [ -2.558183  -11.502843   -8.742969  ...  -9.73992    -7.3866253\n",
      "  -14.306699 ]\n",
      " [ -4.002118  -11.928448   -9.877866  ...  -9.3922825  -7.90839\n",
      "  -15.115612 ]\n",
      " [ -4.1389217 -11.2892885  -8.826876  ...  -9.382333   -7.299222\n",
      "  -13.476041 ]]\n",
      "SourceInfo(filepath='/home/mschulist/caples_sound/ARU_data/10-BLACK/Data/BLACK-10-CAP_20230611_170000.wav', shard_num=0, shard_len_s=-1.0)\n"
     ]
    },
    {
     "name": "stderr",
     "output_type": "stream",
     "text": [
      "  2%|▊                                                 | 255/16036 [5:17:13<318:56:52, 72.76s/it]"
     ]
    },
    {
     "name": "stdout",
     "output_type": "stream",
     "text": [
      "[[ -8.671436  -10.465245  -11.422158  ...  -8.958187   -8.551161\n",
      "  -14.617074 ]\n",
      " [ -9.362108  -10.713465  -12.187699  ...  -8.987544   -8.6282835\n",
      "  -15.763952 ]\n",
      " [ -8.748611  -10.931641  -12.272334  ...  -9.206595   -8.143459\n",
      "  -15.274987 ]\n",
      " ...\n",
      " [ -9.218192  -13.741515  -13.403858  ... -10.826038  -10.648254\n",
      "  -15.34118  ]\n",
      " [ -8.21184   -11.684424  -12.825922  ... -10.266544  -11.03526\n",
      "  -15.420763 ]\n",
      " [ -8.982939  -11.704982  -12.141753  ... -10.903113  -11.140806\n",
      "  -13.037664 ]]\n",
      "SourceInfo(filepath='/home/mschulist/caples_sound/ARU_data/10-BLACK/Data/BLACK-10-CAP_20230607_043000.wav', shard_num=0, shard_len_s=-1.0)\n"
     ]
    },
    {
     "name": "stderr",
     "output_type": "stream",
     "text": [
      "  2%|▊                                                 | 256/16036 [5:18:23<314:26:22, 71.74s/it]"
     ]
    },
    {
     "name": "stdout",
     "output_type": "stream",
     "text": [
      "[[-19.005768  -13.709258  -14.434103  ... -11.292749   -9.058365\n",
      "  -18.94816  ]\n",
      " [-18.708538  -13.033822  -14.059998  ... -10.332771   -8.357351\n",
      "  -16.320166 ]\n",
      " [-18.539104  -15.2171755 -13.844501  ... -13.785594  -12.022469\n",
      "  -18.792027 ]\n",
      " ...\n",
      " [-14.951255  -12.756917  -13.245498  ... -11.094274   -8.494488\n",
      "  -16.64986  ]\n",
      " [-16.520393  -13.244314  -14.320319  ... -10.85095   -11.244225\n",
      "  -17.239899 ]\n",
      " [-16.411758  -13.193973  -14.027088  ... -11.115777   -8.7282295\n",
      "  -16.211212 ]]\n",
      "SourceInfo(filepath='/home/mschulist/caples_sound/ARU_data/10-BLACK/Data/BLACK-10-CAP_20230609_160000.wav', shard_num=0, shard_len_s=-1.0)\n"
     ]
    },
    {
     "name": "stderr",
     "output_type": "stream",
     "text": [
      "  2%|▊                                                 | 257/16036 [5:19:37<317:22:00, 72.41s/it]"
     ]
    },
    {
     "name": "stdout",
     "output_type": "stream",
     "text": [
      "[[-13.4803095 -12.111505  -12.177939  ...  -9.868267   -7.9429293\n",
      "  -16.004946 ]\n",
      " [-11.2553835 -12.181487  -11.938444  ...  -8.379431   -6.343464\n",
      "  -15.203696 ]\n",
      " [-13.096731  -11.200385  -11.069013  ...  -8.950647   -7.0022078\n",
      "  -13.772269 ]\n",
      " ...\n",
      " [-15.723166  -12.065189  -12.67734   ...  -9.746622   -7.9580183\n",
      "  -16.444656 ]\n",
      " [-14.425082  -11.427305  -11.182649  ...  -7.895952   -6.8845825\n",
      "  -15.352318 ]\n",
      " [-15.008086  -11.333233  -12.741118  ...  -9.540211   -7.912737\n",
      "  -16.06979  ]]\n",
      "SourceInfo(filepath='/home/mschulist/caples_sound/ARU_data/10-BLACK/Data/BLACK-10-CAP_20230611_003000.wav', shard_num=0, shard_len_s=-1.0)\n"
     ]
    },
    {
     "name": "stderr",
     "output_type": "stream",
     "text": [
      "  2%|▊                                                 | 258/16036 [5:20:52<321:28:12, 73.35s/it]"
     ]
    },
    {
     "name": "stdout",
     "output_type": "stream",
     "text": [
      "[[-16.609938  -12.21804   -12.863617  ... -10.237491   -7.8543453\n",
      "  -15.92729  ]\n",
      " [-16.339138  -12.4189415 -12.536456  ... -10.434205   -7.9660234\n",
      "  -16.31962  ]\n",
      " [-15.638745  -12.151105  -12.676012  ... -10.360188   -8.260713\n",
      "  -16.469595 ]\n",
      " ...\n",
      " [-16.630203  -12.32458   -12.3316965 ... -10.120499   -7.270359\n",
      "  -16.147688 ]\n",
      " [-16.253414  -12.73324   -12.379315  ... -10.243275   -8.495908\n",
      "  -16.1805   ]\n",
      " [-16.14729   -12.713554  -12.834624  ... -10.475777   -8.013894\n",
      "  -16.374886 ]]\n",
      "SourceInfo(filepath='/home/mschulist/caples_sound/ARU_data/10-BLACK/Data/BLACK-10-CAP_20230611_043000.wav', shard_num=0, shard_len_s=-1.0)\n"
     ]
    },
    {
     "name": "stderr",
     "output_type": "stream",
     "text": [
      "  2%|▊                                                 | 259/16036 [5:22:05<320:28:41, 73.13s/it]"
     ]
    },
    {
     "name": "stdout",
     "output_type": "stream",
     "text": [
      "[[-16.952534 -11.549144 -12.543693 ... -10.044052  -8.5186   -15.153395]\n",
      " [-14.832379 -12.48196  -12.793629 ...  -9.604113  -7.892702 -16.183033]\n",
      " [-16.526081 -12.306943 -13.119122 ... -10.842693  -8.636883 -17.040121]\n",
      " ...\n",
      " [-16.801357 -14.060064 -15.465815 ... -15.697004 -11.26334  -18.41123 ]\n",
      " [-17.942478 -16.056713 -17.104479 ... -17.000872 -13.930208 -18.304632]\n",
      " [-16.861015 -15.500329 -17.973864 ... -17.46798  -13.62632  -19.002167]]\n",
      "SourceInfo(filepath='/home/mschulist/caples_sound/ARU_data/10-BLACK/Data/BLACK-10-CAP_20230607_170000.wav', shard_num=0, shard_len_s=-1.0)\n"
     ]
    },
    {
     "name": "stderr",
     "output_type": "stream",
     "text": [
      "  2%|▊                                                 | 260/16036 [5:23:21<324:54:00, 74.14s/it]"
     ]
    },
    {
     "name": "stdout",
     "output_type": "stream",
     "text": [
      "[[-17.523561  -15.030412  -11.706894  ... -12.093325   -9.922188\n",
      "  -18.408247 ]\n",
      " [-14.652443  -12.002747  -13.171057  ...  -9.056746  -10.557716\n",
      "  -17.147728 ]\n",
      " [-13.986542  -10.542208  -10.056289  ...  -8.642595   -6.4330263\n",
      "  -14.295851 ]\n",
      " ...\n",
      " [-14.128827  -12.045748  -11.740217  ...  -9.846356   -8.17833\n",
      "  -15.64733  ]\n",
      " [-11.464415   -9.930538  -14.39747   ...  -9.121627   -8.312515\n",
      "  -12.91997  ]\n",
      " [-14.939648  -11.365512  -11.400508  ...  -8.983734   -8.101537\n",
      "  -15.001764 ]]\n",
      "SourceInfo(filepath='/home/mschulist/caples_sound/ARU_data/10-BLACK/Data/BLACK-10-CAP_20230604_203000.wav', shard_num=0, shard_len_s=-1.0)\n"
     ]
    },
    {
     "name": "stderr",
     "output_type": "stream",
     "text": [
      "  2%|▊                                                 | 261/16036 [5:24:37<326:47:01, 74.58s/it]"
     ]
    },
    {
     "name": "stdout",
     "output_type": "stream",
     "text": [
      "[[-18.610828  -14.578991  -16.707964  ... -16.30485   -14.171226\n",
      "  -19.472685 ]\n",
      " [-19.220665  -14.785796  -13.904637  ... -12.409518  -10.410389\n",
      "  -19.288094 ]\n",
      " [-16.372234  -14.764447  -14.896305  ... -12.4161825 -10.765466\n",
      "  -17.822603 ]\n",
      " ...\n",
      " [-14.2833605 -12.111552  -11.9429245 ...  -9.589155   -6.916375\n",
      "  -15.101043 ]\n",
      " [-13.230675  -11.262272  -11.29558   ...  -8.966203   -7.3979483\n",
      "  -14.662832 ]\n",
      " [-19.262794  -16.774643  -16.547222  ... -16.09544   -14.473255\n",
      "  -20.417217 ]]\n",
      "SourceInfo(filepath='/home/mschulist/caples_sound/ARU_data/10-BLACK/Data/BLACK-10-CAP_20230609_053000.wav', shard_num=0, shard_len_s=-1.0)\n"
     ]
    },
    {
     "name": "stderr",
     "output_type": "stream",
     "text": [
      "  2%|▊                                                 | 262/16036 [5:25:53<328:56:10, 75.07s/it]"
     ]
    },
    {
     "name": "stdout",
     "output_type": "stream",
     "text": [
      "[[-13.240529  -11.9293785  -8.929133  ...  -6.9160004  -6.8539906\n",
      "  -14.22756  ]\n",
      " [-14.86992   -11.0695095 -12.956464  ...  -5.8173494  -4.6281376\n",
      "  -12.082428 ]\n",
      " [-14.225786  -11.3047285 -12.160143  ...  -9.210209   -8.850844\n",
      "  -14.723844 ]\n",
      " ...\n",
      " [-14.704551  -11.2549515 -11.778889  ...  -8.27413    -8.558539\n",
      "  -15.02499  ]\n",
      " [-12.0293045  -9.998827  -12.898089  ... -10.274655   -6.58887\n",
      "  -13.974637 ]\n",
      " [-14.373683   -9.447718  -10.8746395 ...  -5.4759693  -3.4050245\n",
      "  -12.507185 ]]\n",
      "SourceInfo(filepath='/home/mschulist/caples_sound/ARU_data/10-BLACK/Data/BLACK-10-CAP_20230607_003000.wav', shard_num=0, shard_len_s=-1.0)\n"
     ]
    },
    {
     "name": "stderr",
     "output_type": "stream",
     "text": [
      "  2%|▊                                                 | 263/16036 [5:27:10<331:31:35, 75.67s/it]"
     ]
    },
    {
     "name": "stdout",
     "output_type": "stream",
     "text": [
      "[[-17.522486  -12.268723  -13.673876  ...  -9.849804   -8.541117\n",
      "  -16.852816 ]\n",
      " [-17.977482  -12.038107  -14.371402  ... -10.291021   -8.886235\n",
      "  -15.992198 ]\n",
      " [-16.600384  -12.19368   -12.525312  ...  -9.080082   -7.2801294\n",
      "  -15.28497  ]\n",
      " ...\n",
      " [-16.34239   -11.149041  -12.047068  ...  -8.679263   -7.552223\n",
      "  -14.936872 ]\n",
      " [-17.486813  -11.629334  -13.189977  ...  -9.811186   -8.234558\n",
      "  -16.396135 ]\n",
      " [-17.607975  -12.576887  -14.031836  ...  -9.720708   -8.015296\n",
      "  -16.733671 ]]\n",
      "SourceInfo(filepath='/home/mschulist/caples_sound/ARU_data/10-BLACK/Data/BLACK-10-CAP_20230616_060000.wav', shard_num=0, shard_len_s=-1.0)\n"
     ]
    },
    {
     "name": "stderr",
     "output_type": "stream",
     "text": [
      "  2%|▊                                                 | 264/16036 [5:28:24<329:14:52, 75.15s/it]"
     ]
    },
    {
     "name": "stdout",
     "output_type": "stream",
     "text": [
      "[[ -9.715149   -8.849059  -14.173091  ... -10.301604  -10.623707\n",
      "  -13.298922 ]\n",
      " [-12.873553  -11.837955  -13.711996  ... -10.705332  -10.192909\n",
      "  -17.99447  ]\n",
      " [ -8.2436495 -10.399698  -10.759704  ...  -8.851212   -8.308821\n",
      "  -13.552255 ]\n",
      " ...\n",
      " [-12.081477  -14.586116  -14.922973  ... -11.660487  -10.964386\n",
      "  -15.722321 ]\n",
      " [-10.238458  -12.387264  -12.57401   ...  -8.586592   -8.891044\n",
      "  -16.944508 ]\n",
      " [-12.715074  -12.089374  -13.426053  ... -10.260139  -10.037845\n",
      "  -18.386238 ]]\n",
      "SourceInfo(filepath='/home/mschulist/caples_sound/ARU_data/10-BLACK/Data/BLACK-10-CAP_20230607_083000.wav', shard_num=0, shard_len_s=-1.0)\n"
     ]
    },
    {
     "name": "stderr",
     "output_type": "stream",
     "text": [
      "  2%|▊                                                 | 265/16036 [5:29:40<329:37:48, 75.24s/it]"
     ]
    },
    {
     "name": "stdout",
     "output_type": "stream",
     "text": [
      "[[-19.087772  -12.708112  -15.650837  ...  -8.201934   -8.947456\n",
      "  -17.626484 ]\n",
      " [-16.817791  -12.022923  -15.560915  ...  -8.554523   -6.178894\n",
      "  -13.655252 ]\n",
      " [-15.213641  -12.948277  -12.584073  ...  -7.302623   -7.956031\n",
      "  -14.524821 ]\n",
      " ...\n",
      " [-15.333402  -11.094145  -13.586164  ...  -7.627936   -4.780448\n",
      "  -11.372949 ]\n",
      " [-15.518184  -12.9137335 -13.951771  ... -12.45279    -8.378705\n",
      "  -18.763096 ]\n",
      " [-15.559549  -10.713513  -14.400133  ...  -6.5214815  -4.9100595\n",
      "  -13.775476 ]]\n",
      "SourceInfo(filepath='/home/mschulist/caples_sound/ARU_data/10-BLACK/Data/BLACK-10-CAP_20230615_220000.wav', shard_num=0, shard_len_s=-1.0)\n"
     ]
    },
    {
     "name": "stderr",
     "output_type": "stream",
     "text": [
      "  2%|▊                                                 | 266/16036 [5:31:00<336:17:36, 76.77s/it]"
     ]
    },
    {
     "name": "stdout",
     "output_type": "stream",
     "text": [
      "[[ -9.908994  -11.1763    -12.73829   ... -10.058628   -9.216304\n",
      "  -16.381577 ]\n",
      " [ -9.173186  -11.185002  -11.870218  ...  -9.8061695  -8.961063\n",
      "  -15.953799 ]\n",
      " [-10.203578  -11.026964  -12.157493  ...  -9.644335   -9.021855\n",
      "  -15.931739 ]\n",
      " ...\n",
      " [-10.467463  -11.444177  -12.746333  ... -10.080669   -9.183518\n",
      "  -16.877947 ]\n",
      " [-10.379933  -11.517642  -13.060829  ...  -9.986843   -9.494895\n",
      "  -16.681812 ]\n",
      " [-10.681443  -11.693183  -12.563461  ...  -9.83846    -9.283322\n",
      "  -17.17957  ]]\n",
      "SourceInfo(filepath='/home/mschulist/caples_sound/ARU_data/10-BLACK/Data/BLACK-10-CAP_20230609_093000.wav', shard_num=0, shard_len_s=-1.0)\n"
     ]
    },
    {
     "name": "stderr",
     "output_type": "stream",
     "text": [
      "  2%|▊                                                 | 267/16036 [5:32:17<337:03:02, 76.95s/it]"
     ]
    },
    {
     "name": "stdout",
     "output_type": "stream",
     "text": [
      "[[-14.913062 -10.274529 -12.814838 ...  -8.953763  -5.183077 -11.996048]\n",
      " [-15.799375 -11.574774 -12.755236 ...  -9.835651  -7.36045  -16.338873]\n",
      " [-17.716122 -13.394507 -14.339236 ...  -8.471527  -5.532076 -11.59332 ]\n",
      " ...\n",
      " [-14.032017 -11.716446 -10.545418 ...  -9.873056  -7.735503 -15.326396]\n",
      " [-13.400971 -12.104309 -13.029175 ...  -8.177151  -8.412071 -13.869329]\n",
      " [-17.248583 -11.608203 -12.698225 ... -10.52224   -9.896495 -14.818973]]\n",
      "SourceInfo(filepath='/home/mschulist/caples_sound/ARU_data/10-BLACK/Data/BLACK-10-CAP_20230611_083000.wav', shard_num=0, shard_len_s=-1.0)\n"
     ]
    },
    {
     "name": "stderr",
     "output_type": "stream",
     "text": [
      "  2%|▊                                                 | 268/16036 [5:33:33<335:34:31, 76.62s/it]"
     ]
    },
    {
     "name": "stdout",
     "output_type": "stream",
     "text": [
      "[[-14.923357  -12.163521  -14.346769  ...  -7.3266683  -5.6483297\n",
      "  -11.354233 ]\n",
      " [-19.771873  -15.833741  -17.354742  ... -12.849026   -9.616509\n",
      "  -16.23464  ]\n",
      " [-18.95068    -9.964847  -14.214796  ...  -9.088675   -4.4029746\n",
      "  -12.333677 ]\n",
      " ...\n",
      " [-19.569798  -11.849321  -15.766956  ... -11.9512415 -11.252789\n",
      "  -16.40313  ]\n",
      " [-18.501804  -11.876059  -14.592136  ... -11.025852  -11.840283\n",
      "  -19.43345  ]\n",
      " [-14.211062  -14.106856  -12.466165  ... -10.264421  -10.354789\n",
      "  -17.999731 ]]\n",
      "SourceInfo(filepath='/home/mschulist/caples_sound/ARU_data/10-BLACK/Data/BLACK-10-CAP_20230616_020000.wav', shard_num=0, shard_len_s=-1.0)\n"
     ]
    },
    {
     "name": "stderr",
     "output_type": "stream",
     "text": [
      "  2%|▊                                                 | 269/16036 [5:34:50<335:38:25, 76.64s/it]"
     ]
    },
    {
     "name": "stdout",
     "output_type": "stream",
     "text": [
      "[[-10.927565 -12.214863 -12.485277 ...  -9.559873  -8.736236 -15.857555]\n",
      " [-10.507308 -12.164769 -12.320049 ...  -9.61335   -8.798725 -15.952441]\n",
      " [-10.425794 -11.778509 -11.752577 ...  -9.303265  -8.550017 -16.316341]\n",
      " ...\n",
      " [-12.049498 -12.671845 -13.41832  ... -10.557575  -9.675832 -17.539122]\n",
      " [-11.844923 -11.830342 -12.734618 ...  -9.895763  -8.834201 -16.659634]\n",
      " [ -9.506634 -11.869452 -12.010816 ...  -9.315117  -8.889083 -15.358375]]\n",
      "SourceInfo(filepath='/home/mschulist/caples_sound/ARU_data/10-BLACK/Data/BLACK-10-CAP_20230605_030000.wav', shard_num=0, shard_len_s=-1.0)\n"
     ]
    },
    {
     "name": "stderr",
     "output_type": "stream",
     "text": [
      "  2%|▊                                                 | 270/16036 [5:36:01<328:26:38, 75.00s/it]"
     ]
    },
    {
     "name": "stdout",
     "output_type": "stream",
     "text": [
      "[[-18.962105  -12.267576  -13.876253  ...  -9.350491   -7.7570353\n",
      "  -16.63903  ]\n",
      " [-19.053692  -12.517318  -14.347389  ... -10.122175   -8.46538\n",
      "  -16.929941 ]\n",
      " [-19.200642  -12.543637  -14.405213  ... -10.329604   -8.580786\n",
      "  -17.07535  ]\n",
      " ...\n",
      " [ -6.975546  -12.3571005  -8.955377  ...  -9.922842   -6.941221\n",
      "  -14.947761 ]\n",
      " [ -8.038256  -11.280031   -9.864901  ...  -8.927951   -7.049881\n",
      "  -13.709955 ]\n",
      " [ -8.373861  -12.877535  -10.447986  ...  -9.103939   -6.3005586\n",
      "  -15.271984 ]]\n",
      "SourceInfo(filepath='/home/mschulist/caples_sound/ARU_data/10-BLACK/Data/BLACK-10-CAP_20230613_070000.wav', shard_num=0, shard_len_s=-1.0)\n"
     ]
    },
    {
     "name": "stderr",
     "output_type": "stream",
     "text": [
      "  2%|▊                                                 | 271/16036 [5:37:19<332:17:46, 75.88s/it]"
     ]
    },
    {
     "name": "stdout",
     "output_type": "stream",
     "text": [
      "[[ -9.043351  -10.451525  -12.943756  ...  -8.867004  -10.044425\n",
      "  -14.761345 ]\n",
      " [-10.73326   -13.159419  -12.560118  ... -11.607558  -10.529033\n",
      "  -13.072505 ]\n",
      " [-12.5666485 -14.801234  -14.077261  ... -12.786296  -10.957669\n",
      "  -16.921299 ]\n",
      " ...\n",
      " [ -8.159662  -12.605224  -11.434317  ...  -8.729155   -9.528555\n",
      "  -13.639592 ]\n",
      " [ -6.984994  -12.296318  -11.512416  ... -11.008213   -9.081946\n",
      "  -12.612491 ]\n",
      " [ -5.9316616  -8.22787    -7.815956  ...  -9.358683   -6.573027\n",
      "  -11.389281 ]]\n",
      "SourceInfo(filepath='/home/mschulist/caples_sound/ARU_data/10-BLACK/Data/BLACK-10-CAP_20230606_230000.wav', shard_num=0, shard_len_s=-1.0)\n"
     ]
    },
    {
     "name": "stderr",
     "output_type": "stream",
     "text": [
      "  2%|▊                                                 | 272/16036 [5:38:34<330:48:45, 75.55s/it]"
     ]
    },
    {
     "name": "stdout",
     "output_type": "stream",
     "text": [
      "[[-15.53052   -11.746015  -11.403476  ...  -9.153236   -6.8435793\n",
      "  -14.64297  ]\n",
      " [-17.719925  -12.02193   -13.223837  ... -10.013662   -7.8664055\n",
      "  -16.031506 ]\n",
      " [-17.012829  -12.366643  -12.875599  ...  -9.690996   -7.898328\n",
      "  -16.102829 ]\n",
      " ...\n",
      " [-15.058272  -11.931714  -11.6129265 ...  -9.522096   -7.800913\n",
      "  -14.324922 ]\n",
      " [-16.553135  -11.845906  -11.99031   ...  -9.419664   -7.35557\n",
      "  -15.575531 ]\n",
      " [-16.697746  -12.240733  -12.245706  ... -10.110866   -7.707225\n",
      "  -16.260231 ]]\n",
      "SourceInfo(filepath='/home/mschulist/caples_sound/ARU_data/10-BLACK/Data/BLACK-10-CAP_20230620_003000.wav', shard_num=0, shard_len_s=-1.0)\n"
     ]
    },
    {
     "name": "stderr",
     "output_type": "stream",
     "text": [
      "  2%|▊                                                 | 273/16036 [5:39:52<333:52:09, 76.25s/it]"
     ]
    },
    {
     "name": "stdout",
     "output_type": "stream",
     "text": [
      "[[-11.313287 -11.215405 -12.504649 ... -10.094933  -9.103109 -15.7754  ]\n",
      " [ -9.939509 -10.625118 -12.400428 ...  -9.330433  -8.432704 -16.008152]\n",
      " [-10.811589 -11.705914 -12.698179 ...  -9.574686  -8.844482 -15.872143]\n",
      " ...\n",
      " [-10.59336  -11.212876 -12.596698 ...  -9.621024  -8.375436 -16.106476]\n",
      " [-11.537701 -12.072873 -13.398327 ... -10.526837  -9.197947 -17.132954]\n",
      " [-10.922843 -11.581708 -12.683092 ...  -9.605348  -8.625708 -16.278238]]\n",
      "SourceInfo(filepath='/home/mschulist/caples_sound/ARU_data/10-BLACK/Data/BLACK-10-CAP_20230614_093000.wav', shard_num=0, shard_len_s=-1.0)\n"
     ]
    },
    {
     "name": "stderr",
     "output_type": "stream",
     "text": [
      "  2%|▊                                                 | 274/16036 [5:41:04<328:24:22, 75.01s/it]"
     ]
    },
    {
     "name": "stdout",
     "output_type": "stream",
     "text": [
      "[[ -9.026903  -9.572723 -11.91291  ...  -8.878725  -8.722652 -15.209104]\n",
      " [ -9.744154 -10.461185 -13.755697 ... -10.428966  -9.159476 -14.009969]\n",
      " [ -9.404707  -9.744389 -11.047265 ...  -8.89279   -8.794401 -14.824818]\n",
      " ...\n",
      " [-11.217976 -10.216449 -12.409145 ...  -9.053267  -8.938885 -14.901197]\n",
      " [-10.097095  -9.767326 -11.465046 ...  -9.52086   -9.18609  -15.177388]\n",
      " [ -6.300445  -8.927864 -12.158774 ...  -9.814356  -9.767435 -15.10305 ]]\n",
      "SourceInfo(filepath='/home/mschulist/caples_sound/ARU_data/10-BLACK/Data/BLACK-10-CAP_20230608_220000.wav', shard_num=0, shard_len_s=-1.0)\n"
     ]
    },
    {
     "name": "stderr",
     "output_type": "stream",
     "text": [
      "  2%|▊                                                 | 275/16036 [5:42:20<330:36:02, 75.51s/it]"
     ]
    },
    {
     "name": "stdout",
     "output_type": "stream",
     "text": [
      "[[-13.059824   -9.426584  -11.272717  ...  -8.79558    -7.1349964\n",
      "  -14.583481 ]\n",
      " [-15.165071  -10.837144  -11.7914295 ...  -9.005203   -7.1924458\n",
      "  -16.329298 ]\n",
      " [-14.44695   -11.02755   -11.252446  ...  -9.173237   -7.6720657\n",
      "  -15.097349 ]\n",
      " ...\n",
      " [-15.629447  -11.222576  -12.5380745 ...  -9.741316   -8.044996\n",
      "  -16.325626 ]\n",
      " [-13.869431  -10.52439   -11.196307  ...  -9.234564   -7.2416162\n",
      "  -15.086104 ]\n",
      " [-16.0624    -11.411445  -12.310843  ...  -9.592172   -7.796853\n",
      "  -15.743628 ]]\n",
      "SourceInfo(filepath='/home/mschulist/caples_sound/ARU_data/10-BLACK/Data/BLACK-10-CAP_20230620_043000.wav', shard_num=0, shard_len_s=-1.0)\n"
     ]
    },
    {
     "name": "stderr",
     "output_type": "stream",
     "text": [
      "  2%|▊                                                 | 276/16036 [5:43:32<325:34:02, 74.37s/it]"
     ]
    },
    {
     "name": "stdout",
     "output_type": "stream",
     "text": [
      "[[-10.951491  -10.633714  -11.9559    ...  -9.195652   -8.777289\n",
      "  -15.5630245]\n",
      " [-11.6439085 -11.2060995 -12.806703  ...  -9.572793   -8.382855\n",
      "  -15.931665 ]\n",
      " [-11.192422  -10.4967165 -11.910694  ...  -8.846241   -8.239591\n",
      "  -14.645708 ]\n",
      " ...\n",
      " [-12.154965  -11.341477  -12.782081  ...  -9.220655   -8.903209\n",
      "  -15.422659 ]\n",
      " [-11.737959  -11.386068  -12.590063  ...  -9.387362   -8.306938\n",
      "  -15.164262 ]\n",
      " [-12.629827  -11.12244   -13.115284  ...  -9.137235   -8.800347\n",
      "  -14.886164 ]]\n",
      "SourceInfo(filepath='/home/mschulist/caples_sound/ARU_data/10-BLACK/Data/BLACK-10-CAP_20230613_030000.wav', shard_num=0, shard_len_s=-1.0)\n"
     ]
    },
    {
     "name": "stderr",
     "output_type": "stream",
     "text": [
      "  2%|▊                                                 | 277/16036 [5:44:49<328:21:06, 75.01s/it]"
     ]
    },
    {
     "name": "stdout",
     "output_type": "stream",
     "text": [
      "[[ -6.87967   -11.575218  -11.120227  ... -10.39522    -9.232073\n",
      "  -14.505823 ]\n",
      " [ -6.0837164 -11.062969  -11.377914  ...  -9.582985   -8.182769\n",
      "  -14.342138 ]\n",
      " [ -6.426594  -10.683931  -10.027543  ...  -9.3524475  -7.788965\n",
      "  -13.458034 ]\n",
      " ...\n",
      " [ -6.883229  -11.578782  -10.709459  ...  -9.551735   -8.782427\n",
      "  -13.682295 ]\n",
      " [ -5.750394  -10.703294   -9.718229  ...  -9.550891   -8.1587515\n",
      "  -14.550492 ]\n",
      " [ -7.20303   -11.986635  -11.143237  ...  -9.097471   -9.002564\n",
      "  -14.009758 ]]\n",
      "SourceInfo(filepath='/home/mschulist/caples_sound/ARU_data/10-BLACK/Data/BLACK-10-CAP_20230610_230000.wav', shard_num=0, shard_len_s=-1.0)\n"
     ]
    },
    {
     "name": "stderr",
     "output_type": "stream",
     "text": [
      "  2%|▊                                                 | 278/16036 [5:46:07<333:02:24, 76.08s/it]"
     ]
    },
    {
     "name": "stdout",
     "output_type": "stream",
     "text": [
      "[[-15.919579  -12.10663   -11.781332  ...  -9.621607   -7.1759663\n",
      "  -16.08485  ]\n",
      " [-16.54892   -12.1822195 -12.739374  ... -10.908227   -8.23771\n",
      "  -16.146744 ]\n",
      " [-16.345272  -12.013755  -12.780643  ... -10.083441   -8.09436\n",
      "  -15.716557 ]\n",
      " ...\n",
      " [-17.129204  -11.835151  -12.842844  ...  -9.963041   -7.72859\n",
      "  -16.601229 ]\n",
      " [-16.83601   -11.954412  -13.130277  ... -10.4153595  -8.240713\n",
      "  -16.74593  ]\n",
      " [-16.656818  -11.955287  -13.161483  ... -10.09226    -7.8344107\n",
      "  -16.12693  ]]\n",
      "SourceInfo(filepath='/home/mschulist/caples_sound/ARU_data/10-BLACK/Data/BLACK-10-CAP_20230605_070000.wav', shard_num=0, shard_len_s=-1.0)\n"
     ]
    },
    {
     "name": "stderr",
     "output_type": "stream",
     "text": [
      "  2%|▊                                                 | 279/16036 [5:47:21<329:40:49, 75.32s/it]"
     ]
    },
    {
     "name": "stdout",
     "output_type": "stream",
     "text": [
      "[[-16.712704  -12.047528  -14.685503  ...  -9.006157   -8.212497\n",
      "  -14.137286 ]\n",
      " [-18.575974  -12.013074  -14.768663  ... -10.074803   -9.444753\n",
      "  -15.497256 ]\n",
      " [-17.344753   -7.539397  -12.914672  ...  -9.882601   -7.1077404\n",
      "  -12.187138 ]\n",
      " ...\n",
      " [-17.090797   -9.700104  -12.659145  ...  -5.917365   -5.23324\n",
      "  -10.802824 ]\n",
      " [-15.32465    -8.998661  -12.040751  ...  -6.133828   -6.6316423\n",
      "  -12.553343 ]\n",
      " [-17.873554  -11.002998  -14.873418  ...  -6.3337297  -6.309725\n",
      "  -14.676811 ]]\n",
      "SourceInfo(filepath='/home/mschulist/caples_sound/ARU_data/10-BLACK/Data/BLACK-10-CAP_20230605_183000.wav', shard_num=0, shard_len_s=-1.0)\n"
     ]
    },
    {
     "name": "stderr",
     "output_type": "stream",
     "text": [
      "  2%|▊                                                 | 280/16036 [5:48:37<330:36:37, 75.54s/it]"
     ]
    },
    {
     "name": "stdout",
     "output_type": "stream",
     "text": [
      "[[-11.592222  -10.8807745 -10.527714  ...  -5.53163    -5.1420565\n",
      "  -12.194757 ]\n",
      " [-15.536861  -12.850576  -12.493116  ...  -8.77953    -7.5637255\n",
      "  -16.017223 ]\n",
      " [-16.114054  -11.960517  -14.427151  ...  -6.986438   -6.5275927\n",
      "  -12.095377 ]\n",
      " ...\n",
      " [-18.804478  -14.953298  -13.454201  ... -11.995486  -12.089578\n",
      "  -19.852743 ]\n",
      " [-11.661866  -13.192845  -11.525587  ... -11.846776   -9.965122\n",
      "  -16.833033 ]\n",
      " [-19.193039  -13.432818  -14.520994  ...  -8.61532    -6.423539\n",
      "  -13.571182 ]]\n",
      "SourceInfo(filepath='/home/mschulist/caples_sound/ARU_data/10-BLACK/Data/BLACK-10-CAP_20230614_013000.wav', shard_num=0, shard_len_s=-1.0)\n"
     ]
    },
    {
     "name": "stderr",
     "output_type": "stream",
     "text": [
      "  2%|▉                                                 | 281/16036 [5:49:50<327:33:07, 74.85s/it]"
     ]
    },
    {
     "name": "stdout",
     "output_type": "stream",
     "text": [
      "[[-10.663352 -10.980583 -13.940938 ...  -9.728562  -9.646812 -16.31285 ]\n",
      " [ -9.867175 -10.661283 -13.091011 ...  -8.926548  -9.130634 -15.760128]\n",
      " [-10.662971 -11.36047  -13.427715 ...  -9.751272  -9.549645 -16.185694]\n",
      " ...\n",
      " [-10.988226 -10.791901 -12.984728 ...  -9.744913  -9.709343 -15.911419]\n",
      " [-10.391633 -10.086665 -12.458748 ...  -8.925198  -8.681863 -14.834613]\n",
      " [-10.487054 -10.432698 -13.043308 ...  -8.774852  -9.121542 -15.687234]]\n",
      "SourceInfo(filepath='/home/mschulist/caples_sound/ARU_data/10-BLACK/Data/BLACK-10-CAP_20230614_160000.wav', shard_num=0, shard_len_s=-1.0)\n"
     ]
    },
    {
     "name": "stderr",
     "output_type": "stream",
     "text": [
      "  2%|▉                                                 | 282/16036 [5:51:06<329:28:43, 75.29s/it]"
     ]
    },
    {
     "name": "stdout",
     "output_type": "stream",
     "text": [
      "[[-10.198108  -10.25563   -12.800609  ...  -9.114429  -10.3443\n",
      "  -15.116234 ]\n",
      " [-10.650362  -11.959058  -12.416946  ...  -9.018176   -7.944523\n",
      "  -15.321119 ]\n",
      " [ -9.925214  -11.624278  -12.636369  ...  -9.468623   -9.180465\n",
      "  -16.795624 ]\n",
      " ...\n",
      " [ -6.8694415 -10.972578  -10.755683  ... -10.417524   -9.995933\n",
      "  -14.598232 ]\n",
      " [ -8.31307   -11.389168  -13.567608  ... -11.154201   -9.559146\n",
      "  -16.582493 ]\n",
      " [ -7.380027  -10.084672  -13.7477865 ...  -9.795328   -8.529473\n",
      "  -13.945335 ]]\n",
      "SourceInfo(filepath='/home/mschulist/caples_sound/ARU_data/10-BLACK/Data/BLACK-10-CAP_20230619_203000.wav', shard_num=0, shard_len_s=-1.0)\n"
     ]
    },
    {
     "name": "stderr",
     "output_type": "stream",
     "text": [
      "  2%|▉                                                 | 283/16036 [5:52:22<329:53:12, 75.39s/it]"
     ]
    },
    {
     "name": "stdout",
     "output_type": "stream",
     "text": [
      "[[-12.518073  -16.015156  -15.302244  ... -15.225742  -11.849761\n",
      "  -15.397953 ]\n",
      " [-12.506913  -11.026811  -13.6493    ... -11.0458765  -9.068115\n",
      "  -17.680029 ]\n",
      " [ -9.632063  -10.934054  -12.588673  ...  -9.6465     -8.375281\n",
      "  -15.090635 ]\n",
      " ...\n",
      " [ -7.440671  -10.487874   -8.365654  ...  -8.9542675  -4.1926312\n",
      "  -11.734012 ]\n",
      " [ -4.9672513 -10.444743   -8.354203  ...  -9.223253   -4.5061145\n",
      "  -12.458068 ]\n",
      " [ -6.6039124  -9.681721   -9.379871  ...  -8.429216   -6.4834557\n",
      "  -13.517466 ]]\n",
      "SourceInfo(filepath='/home/mschulist/caples_sound/ARU_data/10-BLACK/Data/BLACK-10-CAP_20230613_183000.wav', shard_num=0, shard_len_s=-1.0)\n"
     ]
    },
    {
     "name": "stderr",
     "output_type": "stream",
     "text": [
      "  2%|▉                                                 | 284/16036 [5:53:38<330:25:47, 75.52s/it]"
     ]
    },
    {
     "name": "stdout",
     "output_type": "stream",
     "text": [
      "[[-10.849544  -12.145995  -13.699496  ...  -9.016787   -8.705855\n",
      "  -16.16069  ]\n",
      " [ -7.937583  -10.7777405 -11.741855  ...  -7.815119   -7.3165226\n",
      "  -15.166013 ]\n",
      " [ -8.502445  -10.683381  -12.064982  ...  -9.129766   -8.833344\n",
      "  -15.870918 ]\n",
      " ...\n",
      " [-10.238196  -11.562767  -13.782692  ...  -9.710613   -9.616868\n",
      "  -15.71792  ]\n",
      " [ -9.2174425 -10.15792   -11.849681  ...  -9.653669   -8.721327\n",
      "  -15.587408 ]\n",
      " [ -9.277254  -12.199626  -12.098905  ...  -9.210352   -8.675366\n",
      "  -14.49252  ]]\n",
      "SourceInfo(filepath='/home/mschulist/caples_sound/ARU_data/10-BLACK/Data/BLACK-10-CAP_20230620_083000.wav', shard_num=0, shard_len_s=-1.0)\n"
     ]
    },
    {
     "name": "stderr",
     "output_type": "stream",
     "text": [
      "  2%|▉                                                 | 285/16036 [5:54:51<327:04:07, 74.75s/it]"
     ]
    },
    {
     "name": "stdout",
     "output_type": "stream",
     "text": [
      "[[-10.311763  -11.485517  -10.623438  ...  -8.335482   -7.315467\n",
      "  -11.635533 ]\n",
      " [-11.184681  -11.119369  -10.5707035 ...  -9.412858   -7.591612\n",
      "  -11.998892 ]\n",
      " [-10.062242  -11.396572  -12.858032  ... -10.1886835  -6.962413\n",
      "  -13.528278 ]\n",
      " ...\n",
      " [-10.211958  -10.71667   -11.007941  ...  -8.429864   -5.9477043\n",
      "  -14.134177 ]\n",
      " [-12.011039  -12.5509815 -13.044483  ... -11.865097  -11.231635\n",
      "  -12.873182 ]\n",
      " [-12.80712   -11.532924  -12.998016  ... -10.715019   -9.336754\n",
      "  -16.22849  ]]\n",
      "SourceInfo(filepath='/home/mschulist/caples_sound/ARU_data/10-BLACK/Data/BLACK-10-CAP_20230614_053000.wav', shard_num=0, shard_len_s=-1.0)\n"
     ]
    },
    {
     "name": "stderr",
     "output_type": "stream",
     "text": [
      "  2%|▉                                                 | 286/16036 [5:56:05<326:08:06, 74.55s/it]"
     ]
    },
    {
     "name": "stdout",
     "output_type": "stream",
     "text": [
      "[[-10.647479   -8.910372  -12.927212  ...  -7.593381   -9.108859\n",
      "  -13.382519 ]\n",
      " [-12.890101   -9.130443  -11.140371  ...  -9.560305   -9.294337\n",
      "  -16.194767 ]\n",
      " [-11.010318  -11.243291  -12.711287  ...  -9.364827   -9.72571\n",
      "  -16.242981 ]\n",
      " ...\n",
      " [ -3.0157998 -10.397185  -10.828072  ...  -7.1204934  -6.273241\n",
      "  -14.749882 ]\n",
      " [-10.491292  -10.011567  -12.092953  ...  -9.259887   -6.5477114\n",
      "  -11.379934 ]\n",
      " [ -7.148245   -9.998396  -10.697762  ...  -9.20718    -7.656209\n",
      "  -14.042332 ]]\n",
      "SourceInfo(filepath='/home/mschulist/caples_sound/ARU_data/10-BLACK/Data/BLACK-10-CAP_20230608_163000.wav', shard_num=0, shard_len_s=-1.0)\n"
     ]
    },
    {
     "name": "stderr",
     "output_type": "stream",
     "text": [
      "  2%|▉                                                 | 287/16036 [5:57:19<325:26:28, 74.39s/it]"
     ]
    },
    {
     "name": "stdout",
     "output_type": "stream",
     "text": [
      "[[-14.650903  -11.512658  -11.670495  ...  -9.531339   -7.7509823\n",
      "  -16.085556 ]\n",
      " [-14.335753  -10.716939   -6.7033434 ...  -8.029554   -7.806899\n",
      "  -14.016594 ]\n",
      " [-14.211578  -11.002508  -12.230662  ...  -8.50778    -7.7168493\n",
      "  -16.210476 ]\n",
      " ...\n",
      " [-12.659751  -11.258113  -13.069403  ...  -8.033344   -8.898925\n",
      "  -14.244098 ]\n",
      " [-17.214348  -12.483912  -13.382975  ...  -9.442059   -8.09739\n",
      "  -11.70966  ]\n",
      " [-13.13113   -10.224297  -10.584135  ...  -7.5733232  -6.5492153\n",
      "  -14.6561775]]\n",
      "SourceInfo(filepath='/home/mschulist/caples_sound/ARU_data/10-BLACK/Data/BLACK-10-CAP_20230610_000000.wav', shard_num=0, shard_len_s=-1.0)\n"
     ]
    },
    {
     "name": "stderr",
     "output_type": "stream",
     "text": [
      "  2%|▉                                                 | 288/16036 [5:58:32<324:13:03, 74.12s/it]"
     ]
    },
    {
     "name": "stdout",
     "output_type": "stream",
     "text": [
      "[[-15.412781  -10.943738  -11.571966  ...  -9.423578   -7.2011795\n",
      "  -14.888535 ]\n",
      " [-17.64844   -12.520347  -13.661428  ... -10.296773   -8.020477\n",
      "  -17.178377 ]\n",
      " [-19.109844  -12.8777485 -13.8147335 ... -11.081572   -8.544936\n",
      "  -17.688015 ]\n",
      " ...\n",
      " [-17.60115   -11.967794  -13.221721  ... -10.137859   -7.924262\n",
      "  -16.27063  ]\n",
      " [-17.353535  -11.871558  -13.149639  ... -10.057457   -7.6499987\n",
      "  -16.277885 ]\n",
      " [-16.065184  -12.02478   -13.225553  ...  -9.653839   -7.756258\n",
      "  -16.187565 ]]\n",
      "SourceInfo(filepath='/home/mschulist/caples_sound/ARU_data/10-BLACK/Data/BLACK-10-CAP_20230608_010000.wav', shard_num=0, shard_len_s=-1.0)\n"
     ]
    },
    {
     "name": "stderr",
     "output_type": "stream",
     "text": [
      "  2%|▉                                                 | 289/16036 [5:59:48<325:43:22, 74.47s/it]"
     ]
    },
    {
     "name": "stdout",
     "output_type": "stream",
     "text": [
      "[[-13.067715  -10.522485  -10.777056  ...  -8.657408   -7.286828\n",
      "  -15.451753 ]\n",
      " [-15.15207   -10.555051  -11.480797  ...  -9.100249   -7.2857733\n",
      "  -14.563963 ]\n",
      " [-15.937938  -10.141841  -11.737531  ...  -9.861212   -8.74145\n",
      "  -17.06244  ]\n",
      " ...\n",
      " [-16.132986  -11.492473  -12.413287  ...  -9.238924   -7.9858694\n",
      "  -15.585748 ]\n",
      " [-15.637929  -11.48928   -11.554365  ...  -9.514387   -7.079754\n",
      "  -15.828487 ]\n",
      " [-14.973891  -10.895655  -11.572709  ...  -9.058693   -7.4630175\n",
      "  -15.628557 ]]\n",
      "SourceInfo(filepath='/home/mschulist/caples_sound/ARU_data/10-BLACK/Data/BLACK-10-CAP_20230613_200000.wav', shard_num=0, shard_len_s=-1.0)\n"
     ]
    },
    {
     "name": "stderr",
     "output_type": "stream",
     "text": [
      "  2%|▉                                                 | 290/16036 [6:01:03<326:57:54, 74.75s/it]"
     ]
    },
    {
     "name": "stdout",
     "output_type": "stream",
     "text": [
      "[[ -9.18342   -10.182591  -13.380138  ...  -8.938698   -8.816594\n",
      "  -16.083805 ]\n",
      " [-11.705783  -10.811074  -14.316943  ... -10.925772   -9.917196\n",
      "  -16.085938 ]\n",
      " [ -7.5417733  -9.267321  -12.184255  ...  -8.653259   -9.061737\n",
      "  -15.239402 ]\n",
      " ...\n",
      " [ -9.906618   -9.42607   -13.922628  ... -11.091035   -9.786371\n",
      "  -14.627672 ]\n",
      " [ -3.8263755 -10.541465  -13.544836  ...  -9.110053   -8.989525\n",
      "  -13.615724 ]\n",
      " [ -8.241313  -10.829629  -12.202448  ... -10.759357   -9.989447\n",
      "  -14.375349 ]]\n",
      "SourceInfo(filepath='/home/mschulist/caples_sound/ARU_data/10-BLACK/Data/BLACK-10-CAP_20230606_040000.wav', shard_num=0, shard_len_s=-1.0)\n"
     ]
    },
    {
     "name": "stderr",
     "output_type": "stream",
     "text": [
      "  2%|▉                                                 | 291/16036 [6:02:19<329:01:10, 75.23s/it]"
     ]
    },
    {
     "name": "stdout",
     "output_type": "stream",
     "text": [
      "[[-17.52452   -12.132005  -13.130572  ...  -9.925018   -7.9941883\n",
      "  -15.946384 ]\n",
      " [-17.791004  -12.141747  -13.527884  ... -10.240945   -8.227402\n",
      "  -16.374155 ]\n",
      " [-17.946636  -12.134858  -13.627225  ... -10.029397   -7.960614\n",
      "  -16.799335 ]\n",
      " ...\n",
      " [-10.734207  -11.213927  -10.905075  ...  -7.203124   -7.3039494\n",
      "  -12.868568 ]\n",
      " [-14.356925  -12.272057  -11.270526  ...  -8.537041   -7.777115\n",
      "  -15.754256 ]\n",
      " [-13.225089  -12.073333  -11.183065  ...  -9.527918   -8.037989\n",
      "  -15.122747 ]]\n",
      "SourceInfo(filepath='/home/mschulist/caples_sound/ARU_data/10-BLACK/Data/BLACK-10-CAP_20230619_180000.wav', shard_num=0, shard_len_s=-1.0)\n"
     ]
    },
    {
     "name": "stderr",
     "output_type": "stream",
     "text": [
      "  2%|▉                                                 | 292/16036 [6:03:32<325:19:58, 74.39s/it]"
     ]
    },
    {
     "name": "stdout",
     "output_type": "stream",
     "text": [
      "[[-11.006518  -11.740861  -12.781453  ...  -8.434405   -8.351057\n",
      "  -15.955685 ]\n",
      " [-12.271698  -11.182036  -11.530098  ...  -7.4921193  -7.8909626\n",
      "  -14.71538  ]\n",
      " [-12.301831  -11.659832  -12.467483  ...  -8.573563   -7.887088\n",
      "  -14.837742 ]\n",
      " ...\n",
      " [-14.505586  -15.403178  -16.188807  ...  -9.878303  -10.289414\n",
      "  -15.887847 ]\n",
      " [-11.32161   -11.319262  -12.508056  ...  -9.783202   -8.431944\n",
      "  -16.220242 ]\n",
      " [-15.634126  -15.700374  -14.237466  ...  -9.373472   -7.942462\n",
      "  -12.818499 ]]\n",
      "SourceInfo(filepath='/home/mschulist/caples_sound/ARU_data/10-BLACK/Data/BLACK-10-CAP_20230610_173000.wav', shard_num=0, shard_len_s=-1.0)\n"
     ]
    },
    {
     "name": "stderr",
     "output_type": "stream",
     "text": [
      "  2%|▉                                                 | 293/16036 [6:04:51<332:12:43, 75.97s/it]"
     ]
    },
    {
     "name": "stdout",
     "output_type": "stream",
     "text": [
      "[[-13.2398615 -13.010448  -11.53924   ...  -9.357393   -8.126545\n",
      "  -16.294533 ]\n",
      " [-13.76639   -13.4374    -11.776687  ...  -8.854147   -7.7702065\n",
      "  -15.888356 ]\n",
      " [-14.05679   -12.605512  -11.1394825 ...  -8.436525   -8.564538\n",
      "  -16.073696 ]\n",
      " ...\n",
      " [-13.573608  -13.376671   -9.679763  ...  -9.455329   -8.121478\n",
      "  -16.373688 ]\n",
      " [-12.569743  -13.090815   -9.8821125 ...  -9.038687   -7.645116\n",
      "  -14.848355 ]\n",
      " [-12.147466  -11.763022   -9.749301  ...  -9.107029   -8.4701395\n",
      "  -15.48499  ]]\n",
      "SourceInfo(filepath='/home/mschulist/caples_sound/ARU_data/10-BLACK/Data/BLACK-10-CAP_20230608_050000.wav', shard_num=0, shard_len_s=-1.0)\n"
     ]
    },
    {
     "name": "stderr",
     "output_type": "stream",
     "text": [
      "  2%|▉                                                 | 294/16036 [6:06:01<324:18:35, 74.17s/it]"
     ]
    },
    {
     "name": "stdout",
     "output_type": "stream",
     "text": [
      "[[-17.556046  -14.696041  -15.344103  ... -14.058757  -11.280648\n",
      "  -18.757675 ]\n",
      " [-15.156104  -11.296704  -13.332731  ...  -9.450351   -6.525873\n",
      "  -14.726757 ]\n",
      " [-16.597916  -12.097497  -14.153135  ... -10.833406   -8.751825\n",
      "  -17.791779 ]\n",
      " ...\n",
      " [ -9.745026  -11.4187765 -10.078306  ...  -7.4625173  -6.5943546\n",
      "  -14.364804 ]\n",
      " [-14.267278   -9.440901   -9.857922  ...  -7.349576   -4.0248857\n",
      "  -13.250818 ]\n",
      " [-10.71843    -9.585207  -10.17709   ...  -6.51235    -6.2611437\n",
      "  -12.953149 ]]\n",
      "SourceInfo(filepath='/home/mschulist/caples_sound/ARU_data/10-BLACK/Data/BLACK-10-CAP_20230606_000000.wav', shard_num=0, shard_len_s=-1.0)\n"
     ]
    },
    {
     "name": "stderr",
     "output_type": "stream",
     "text": [
      "  2%|▉                                                 | 295/16036 [6:07:18<327:33:04, 74.91s/it]"
     ]
    },
    {
     "name": "stdout",
     "output_type": "stream",
     "text": [
      "[[-12.645199  -12.125654  -11.585048  ...  -9.057318   -7.440526\n",
      "  -15.431189 ]\n",
      " [-15.784422  -12.307362  -13.255575  ...  -8.023958   -8.014543\n",
      "  -15.789387 ]\n",
      " [-13.717235  -12.203635  -12.992937  ...  -7.9167123  -6.99137\n",
      "  -16.203167 ]\n",
      " ...\n",
      " [-18.295975  -11.250709  -14.325277  ...  -9.363928   -8.716691\n",
      "  -17.55756  ]\n",
      " [-16.145885  -12.68626   -13.197444  ... -10.435619   -7.4543104\n",
      "  -16.824017 ]\n",
      " [-16.152084  -12.3640785 -12.549874  ...  -9.59501    -7.6032906\n",
      "  -16.32898  ]]\n",
      "SourceInfo(filepath='/home/mschulist/caples_sound/ARU_data/10-BLACK/Data/BLACK-10-CAP_20230606_173000.wav', shard_num=0, shard_len_s=-1.0)\n"
     ]
    },
    {
     "name": "stderr",
     "output_type": "stream",
     "text": [
      "  2%|▉                                                 | 296/16036 [6:08:39<335:25:46, 76.72s/it]"
     ]
    },
    {
     "name": "stdout",
     "output_type": "stream",
     "text": [
      "[[-16.056454  -12.281785  -13.077105  ...  -9.278808   -7.1295223\n",
      "  -16.498478 ]\n",
      " [-16.105247  -13.061826  -13.922471  ...  -8.327915   -7.596387\n",
      "  -14.300316 ]\n",
      " [-20.099152  -14.727485  -15.120588  ... -10.692733  -10.99818\n",
      "  -20.836243 ]\n",
      " ...\n",
      " [-12.106293  -11.70638   -11.55663   ...  -7.7893906  -8.118398\n",
      "  -13.972057 ]\n",
      " [-14.164964  -13.910732  -14.095143  ... -10.859257  -10.04977\n",
      "  -16.41481  ]\n",
      " [-12.577362  -11.41197   -14.20048   ...  -9.151985  -10.820009\n",
      "  -13.417044 ]]\n",
      "SourceInfo(filepath='/home/mschulist/caples_sound/ARU_data/10-BLACK/Data/BLACK-10-CAP_20230610_040000.wav', shard_num=0, shard_len_s=-1.0)\n"
     ]
    },
    {
     "name": "stderr",
     "output_type": "stream",
     "text": [
      "  2%|▉                                                 | 297/16036 [6:09:58<339:01:08, 77.54s/it]"
     ]
    },
    {
     "name": "stdout",
     "output_type": "stream",
     "text": [
      "[[-16.324146  -11.320964  -12.755552  ...  -9.202739   -7.8151045\n",
      "  -15.178709 ]\n",
      " [-16.691269  -11.364456  -12.507912  ...  -9.151041   -8.049342\n",
      "  -15.659061 ]\n",
      " [-15.352425  -11.651236  -11.943094  ...  -9.534292   -7.5543623\n",
      "  -15.411938 ]\n",
      " ...\n",
      " [-16.84031   -11.4166    -12.551554  ...  -9.619864   -7.9471626\n",
      "  -15.804578 ]\n",
      " [-16.36662   -12.093091  -12.869453  ...  -9.827596   -8.262128\n",
      "  -16.568733 ]\n",
      " [-16.81269   -11.952195  -13.283443  ...  -9.697959   -7.7914534\n",
      "  -15.853084 ]]\n",
      "SourceInfo(filepath='/home/mschulist/caples_sound/ARU_data/10-BLACK/Data/BLACK-10-CAP_20230605_200000.wav', shard_num=0, shard_len_s=-1.0)\n"
     ]
    },
    {
     "name": "stderr",
     "output_type": "stream",
     "text": [
      "  2%|▉                                                 | 298/16036 [6:11:13<334:51:50, 76.60s/it]"
     ]
    },
    {
     "name": "stdout",
     "output_type": "stream",
     "text": [
      "[[-15.619525  -12.490027  -16.244957  ... -13.950791  -11.081826\n",
      "  -17.05462  ]\n",
      " [-14.8642645 -12.287642  -12.831407  ... -12.628894   -8.950084\n",
      "  -15.321554 ]\n",
      " [-14.678892   -9.453921  -13.666055  ...  -7.3032846  -5.9668064\n",
      "  -10.924549 ]\n",
      " ...\n",
      " [-16.655718  -11.51774   -14.123612  ...  -9.602184   -8.012045\n",
      "  -16.422844 ]\n",
      " [-17.172474  -10.184619  -15.263458  ...  -7.7027783  -5.381922\n",
      "  -13.926781 ]\n",
      " [-14.308767  -11.705314  -17.584812  ... -13.136121  -11.927826\n",
      "  -17.611115 ]]\n",
      "SourceInfo(filepath='/home/mschulist/caples_sound/ARU_data/10-BLACK/Data/BLACK-10-CAP_20230606_080000.wav', shard_num=0, shard_len_s=-1.0)\n"
     ]
    },
    {
     "name": "stderr",
     "output_type": "stream",
     "text": [
      "  2%|▉                                                 | 299/16036 [6:12:33<340:12:51, 77.83s/it]"
     ]
    },
    {
     "name": "stdout",
     "output_type": "stream",
     "text": [
      "[[-16.703762  -12.423831  -15.50078   ...  -9.1295395  -6.475672\n",
      "  -12.792509 ]\n",
      " [-15.261676   -9.951496  -12.341148  ... -10.360508   -7.614396\n",
      "  -14.97078  ]\n",
      " [-13.356189  -10.3259    -14.526605  ... -10.578238   -9.964111\n",
      "  -14.849015 ]\n",
      " ...\n",
      " [-12.199964  -10.142367  -10.445039  ...  -7.954969   -5.9016695\n",
      "  -14.58255  ]\n",
      " [-14.41263    -8.894213  -11.063763  ...  -7.825072   -5.9551096\n",
      "  -13.693357 ]\n",
      " [-12.856704  -11.3794    -10.755184  ...  -8.830997   -6.468746\n",
      "  -14.443236 ]]\n",
      "SourceInfo(filepath='/home/mschulist/caples_sound/ARU_data/10-BLACK/Data/BLACK-10-CAP_20230610_080000.wav', shard_num=0, shard_len_s=-1.0)\n"
     ]
    },
    {
     "name": "stderr",
     "output_type": "stream",
     "text": [
      "  2%|▉                                                 | 300/16036 [6:13:50<338:48:18, 77.51s/it]"
     ]
    },
    {
     "name": "stdout",
     "output_type": "stream",
     "text": [
      "[[-18.509155  -12.402415  -11.298172  ... -11.846398  -10.45156\n",
      "  -16.67651  ]\n",
      " [-18.179913  -14.3559    -14.3379965 ... -10.975731  -10.254631\n",
      "  -16.46074  ]\n",
      " [-14.49869   -10.28088   -11.049192  ...  -5.880658   -7.2157927\n",
      "  -12.984358 ]\n",
      " ...\n",
      " [-15.827149  -14.893011  -12.89137   ... -10.18234   -12.762691\n",
      "  -12.383577 ]\n",
      " [-15.26229   -13.3200865 -10.6655445 ... -10.624248   -8.509003\n",
      "  -12.306208 ]\n",
      " [-18.503319  -14.9695835 -15.816059  ...  -9.6127405  -9.759005\n",
      "  -11.432402 ]]\n",
      "SourceInfo(filepath='/home/mschulist/caples_sound/ARU_data/10-BLACK/Data/BLACK-10-CAP_20230614_223000.wav', shard_num=0, shard_len_s=-1.0)\n"
     ]
    },
    {
     "name": "stderr",
     "output_type": "stream",
     "text": [
      "  2%|▉                                                 | 301/16036 [6:15:09<340:23:28, 77.88s/it]"
     ]
    },
    {
     "name": "stdout",
     "output_type": "stream",
     "text": [
      "[[-10.527086  -11.359023  -12.919378  ... -10.163836   -9.266826\n",
      "  -16.570362 ]\n",
      " [-11.036253  -11.5788145 -13.172121  ... -10.134665   -9.27387\n",
      "  -16.609797 ]\n",
      " [ -9.807728  -10.869532  -12.68667   ...  -9.759029   -9.025158\n",
      "  -16.420937 ]\n",
      " ...\n",
      " [-10.492223  -11.690955  -13.105315  ... -10.16797    -9.682782\n",
      "  -17.246418 ]\n",
      " [ -9.784479  -11.756694  -12.779785  ... -10.149279   -9.47987\n",
      "  -16.858776 ]\n",
      " [-10.274437  -11.089415  -12.927589  ...  -9.931      -9.368477\n",
      "  -16.663347 ]]\n",
      "SourceInfo(filepath='/home/mschulist/caples_sound/ARU_data/10-BLACK/Data/BLACK-10-CAP_20230608_090000.wav', shard_num=0, shard_len_s=-1.0)\n"
     ]
    },
    {
     "name": "stderr",
     "output_type": "stream",
     "text": [
      "  2%|▉                                                 | 302/16036 [6:16:24<336:13:35, 76.93s/it]"
     ]
    },
    {
     "name": "stdout",
     "output_type": "stream",
     "text": [
      "[[-12.609217  -12.504924  -13.179622  ...  -6.934762   -7.18416\n",
      "  -15.784808 ]\n",
      " [-14.283853  -10.25611   -12.288731  ...  -6.957567   -7.4167013\n",
      "  -13.360063 ]\n",
      " [-15.213183  -12.848525  -13.470423  ...  -8.199446   -9.058082\n",
      "  -16.75562  ]\n",
      " ...\n",
      " [-11.463027   -9.883332  -12.03411   ...  -9.880468   -8.754554\n",
      "  -13.232038 ]\n",
      " [-14.441057  -10.043593  -10.347605  ...  -8.516092   -8.938399\n",
      "  -14.413162 ]\n",
      " [-12.524734   -8.218947  -10.629024  ...  -7.756588   -7.0750504\n",
      "  -12.730795 ]]\n",
      "SourceInfo(filepath='/home/mschulist/caples_sound/ARU_data/10-BLACK/Data/BLACK-10-CAP_20230614_030000.wav', shard_num=0, shard_len_s=-1.0)\n"
     ]
    },
    {
     "name": "stderr",
     "output_type": "stream",
     "text": [
      "  2%|▉                                                 | 303/16036 [6:17:43<339:08:15, 77.60s/it]"
     ]
    },
    {
     "name": "stdout",
     "output_type": "stream",
     "text": [
      "[[ -9.965537  -10.383962  -12.460051  ...  -9.207401   -9.322473\n",
      "  -15.67915  ]\n",
      " [-10.100203  -10.055895  -12.183     ...  -9.105543   -8.886733\n",
      "  -15.312584 ]\n",
      " [-11.011217  -10.178547  -13.090102  ...  -9.047702   -8.860564\n",
      "  -16.250666 ]\n",
      " ...\n",
      " [-10.999915  -11.205651  -13.048264  ...  -9.852078   -9.460201\n",
      "  -16.444923 ]\n",
      " [-10.849507  -11.177514  -12.921981  ...  -9.390175   -9.499791\n",
      "  -15.428654 ]\n",
      " [-11.209229  -11.024761  -13.453171  ...  -9.836437   -9.6229515\n",
      "  -16.904808 ]]\n",
      "SourceInfo(filepath='/home/mschulist/caples_sound/ARU_data/10-BLACK/Data/BLACK-10-CAP_20230613_093000.wav', shard_num=0, shard_len_s=-1.0)\n"
     ]
    },
    {
     "name": "stderr",
     "output_type": "stream",
     "text": [
      "  2%|▉                                                 | 304/16036 [6:19:01<340:23:44, 77.89s/it]"
     ]
    },
    {
     "name": "stdout",
     "output_type": "stream",
     "text": [
      "[[-10.186524  -12.850116  -11.989828  ...  -9.933532  -10.381974\n",
      "  -15.2032   ]\n",
      " [ -7.4641047  -9.718488  -11.357139  ...  -6.272714   -2.6322339\n",
      "  -11.318601 ]\n",
      " [ -8.454763   -8.311438  -12.85621   ...  -8.82411    -8.765664\n",
      "  -14.477595 ]\n",
      " ...\n",
      " [ -8.85427    -9.985098  -12.528785  ...  -8.707697   -8.465021\n",
      "  -14.467499 ]\n",
      " [ -9.533028  -10.227829  -13.334249  ... -10.215378   -9.9307375\n",
      "  -15.046589 ]\n",
      " [-13.54401   -10.263347  -14.649963  ... -12.1721115 -11.487886\n",
      "  -17.270357 ]]\n",
      "SourceInfo(filepath='/home/mschulist/caples_sound/ARU_data/10-BLACK/Data/BLACK-10-CAP_20230614_070000.wav', shard_num=0, shard_len_s=-1.0)\n"
     ]
    },
    {
     "name": "stderr",
     "output_type": "stream",
     "text": [
      "  2%|▉                                                 | 305/16036 [6:20:28<352:12:02, 80.60s/it]"
     ]
    },
    {
     "name": "stdout",
     "output_type": "stream",
     "text": [
      "[[ -9.638008  -11.108761  -12.258994  ...  -9.696587   -7.3182325\n",
      "  -14.380916 ]\n",
      " [-11.467479  -10.850113  -14.068455  ...  -9.87583   -11.881125\n",
      "  -17.039936 ]\n",
      " [-10.897374  -10.307831  -12.979428  ...  -8.973042   -9.211278\n",
      "  -15.326508 ]\n",
      " ...\n",
      " [ -7.9923983  -9.81155   -10.419659  ...  -8.16309    -7.8815556\n",
      "  -14.920956 ]\n",
      " [ -8.510284  -10.696494  -11.892767  ...  -8.121837   -8.142473\n",
      "  -14.533548 ]\n",
      " [ -8.400217  -10.04024   -10.149766  ...  -8.271535   -7.418167\n",
      "  -14.383992 ]]\n",
      "SourceInfo(filepath='/home/mschulist/caples_sound/ARU_data/10-BLACK/Data/BLACK-10-CAP_20230605_093000.wav', shard_num=0, shard_len_s=-1.0)\n"
     ]
    },
    {
     "name": "stderr",
     "output_type": "stream",
     "text": [
      "  2%|▉                                                 | 306/16036 [6:21:57<362:52:38, 83.05s/it]"
     ]
    },
    {
     "name": "stdout",
     "output_type": "stream",
     "text": [
      "[[ -9.173945  -10.936016  -11.765792  ...  -8.970306   -7.6616287\n",
      "  -14.782318 ]\n",
      " [ -9.157823  -11.205367  -12.235133  ...  -9.446928   -7.692588\n",
      "  -15.956746 ]\n",
      " [ -8.999702  -10.905531  -11.750864  ...  -8.6144285  -7.2567825\n",
      "  -14.749814 ]\n",
      " ...\n",
      " [-13.580489  -12.2653675 -10.648185  ...  -6.631696   -5.642124\n",
      "  -15.353202 ]\n",
      " [-12.4823475 -11.748729  -10.304971  ...  -8.308521   -5.42948\n",
      "  -13.715613 ]\n",
      " [-11.2398405 -12.642816  -11.495409  ...  -9.152662   -7.1025906\n",
      "  -15.195439 ]]\n",
      "SourceInfo(filepath='/home/mschulist/caples_sound/ARU_data/10-BLACK/Data/BLACK-10-CAP_20230619_220000.wav', shard_num=0, shard_len_s=-1.0)\n"
     ]
    },
    {
     "name": "stderr",
     "output_type": "stream",
     "text": [
      "  2%|▉                                                 | 307/16036 [6:23:24<368:02:42, 84.24s/it]"
     ]
    },
    {
     "name": "stdout",
     "output_type": "stream",
     "text": [
      "[[-10.267817 -11.59072  -12.708525 ...  -9.543652  -8.267757 -15.353633]\n",
      " [-10.124774 -11.312073 -11.793053 ...  -9.305304  -8.135861 -15.399921]\n",
      " [-11.662799 -10.584721 -12.424108 ...  -9.24468   -8.067695 -15.434553]\n",
      " ...\n",
      " [-11.026234 -11.743184 -12.509686 ... -10.059847  -8.778435 -16.088533]\n",
      " [-10.244487 -10.610487 -11.444208 ...  -8.825582  -8.140484 -13.668021]\n",
      " [-10.822509 -11.211102 -12.472379 ...  -9.531066  -8.396407 -15.85734 ]]\n",
      "SourceInfo(filepath='/home/mschulist/caples_sound/ARU_data/10-BLACK/Data/BLACK-10-CAP_20230606_213000.wav', shard_num=0, shard_len_s=-1.0)\n"
     ]
    },
    {
     "name": "stderr",
     "output_type": "stream",
     "text": [
      "  2%|▉                                                 | 308/16036 [6:25:00<383:49:25, 87.85s/it]"
     ]
    },
    {
     "name": "stdout",
     "output_type": "stream",
     "text": [
      "[[-16.189354  -11.714856  -12.449154  ...  -9.945076   -7.786129\n",
      "  -15.680543 ]\n",
      " [-14.61246   -11.505474  -10.96207   ...  -9.073784   -6.4188957\n",
      "  -14.537188 ]\n",
      " [-15.400102  -11.246807  -12.326202  ...  -9.480238   -8.768097\n",
      "  -15.998701 ]\n",
      " ...\n",
      " [-16.659801  -11.026382  -12.852282  ...  -9.241642   -7.6068764\n",
      "  -16.040745 ]\n",
      " [-16.09568   -11.11411   -12.365353  ...  -9.015005   -7.251609\n",
      "  -15.5157385]\n",
      " [-16.56894   -11.101082  -12.191725  ...  -9.745169   -8.060481\n",
      "  -15.769907 ]]\n",
      "SourceInfo(filepath='/home/mschulist/caples_sound/ARU_data/10-BLACK/Data/BLACK-10-CAP_20230620_020000.wav', shard_num=0, shard_len_s=-1.0)\n"
     ]
    },
    {
     "name": "stderr",
     "output_type": "stream",
     "text": [
      "  2%|▉                                                 | 309/16036 [6:26:26<380:25:20, 87.08s/it]"
     ]
    },
    {
     "name": "stdout",
     "output_type": "stream",
     "text": [
      "[[ -9.874285  -11.063071  -11.869519  ...  -9.267757   -8.193316\n",
      "  -15.135088 ]\n",
      " [-10.266834  -10.918042  -11.1301985 ...  -9.290474   -7.995714\n",
      "  -15.79473  ]\n",
      " [ -9.949764  -11.597569  -12.395755  ...  -9.355601   -8.0152645\n",
      "  -15.660076 ]\n",
      " ...\n",
      " [ -9.77371   -11.245811  -12.081418  ...  -9.52464    -8.331945\n",
      "  -15.588021 ]\n",
      " [-10.721116  -11.506688  -12.0193205 ...  -9.921766   -8.366865\n",
      "  -15.995599 ]\n",
      " [-10.765193  -10.877402  -12.039401  ...  -9.319259   -8.018442\n",
      "  -15.485319 ]]\n",
      "SourceInfo(filepath='/home/mschulist/caples_sound/ARU_data/10-BLACK/Data/BLACK-10-CAP_20230613_053000.wav', shard_num=0, shard_len_s=-1.0)\n"
     ]
    },
    {
     "name": "stderr",
     "output_type": "stream",
     "text": [
      "  2%|▉                                                 | 310/16036 [6:27:58<386:53:07, 88.57s/it]"
     ]
    },
    {
     "name": "stdout",
     "output_type": "stream",
     "text": [
      "[[-10.250725  -12.765702  -12.360899  ... -10.586036   -8.521569\n",
      "  -10.131843 ]\n",
      " [-12.47473   -13.3278055 -13.012262  ...  -9.830927  -10.00137\n",
      "  -12.131039 ]\n",
      " [ -9.670158  -13.91244   -12.014875  ...  -9.632103   -8.34779\n",
      "  -11.370838 ]\n",
      " ...\n",
      " [ -6.3538656 -14.198907  -13.718331  ... -10.200663   -9.793856\n",
      "  -14.07756  ]\n",
      " [-11.889545  -10.032527  -13.286589  ...  -9.560984   -8.1229\n",
      "  -15.73434  ]\n",
      " [ -9.547281  -11.284332  -12.152541  ... -10.404276  -10.181628\n",
      "  -15.351886 ]]\n",
      "SourceInfo(filepath='/home/mschulist/caples_sound/ARU_data/10-BLACK/Data/BLACK-10-CAP_20230605_160000.wav', shard_num=0, shard_len_s=-1.0)\n"
     ]
    },
    {
     "name": "stderr",
     "output_type": "stream",
     "text": [
      "  2%|▉                                                 | 311/16036 [6:29:33<395:04:06, 90.44s/it]"
     ]
    },
    {
     "name": "stdout",
     "output_type": "stream",
     "text": [
      "[[-14.613193  -10.031212  -12.723633  ...  -7.833741   -4.6599884\n",
      "  -13.22826  ]\n",
      " [-15.990214  -12.782578  -12.872105  ... -10.812645   -8.119703\n",
      "  -16.318804 ]\n",
      " [-14.468919  -12.530016  -12.293239  ... -10.526291   -8.35008\n",
      "  -15.863246 ]\n",
      " ...\n",
      " [-16.68078    -9.84909   -12.835843  ...  -8.908964   -7.879917\n",
      "  -16.230658 ]\n",
      " [-16.359573   -9.318922  -15.490231  ...  -6.440006   -6.617412\n",
      "  -13.199398 ]\n",
      " [-16.502794  -12.696136  -14.824572  ...  -7.6582556  -6.0855174\n",
      "  -11.954239 ]]\n",
      "SourceInfo(filepath='/home/mschulist/caples_sound/ARU_data/10-BLACK/Data/BLACK-10-CAP_20230605_013000.wav', shard_num=0, shard_len_s=-1.0)\n"
     ]
    },
    {
     "name": "stderr",
     "output_type": "stream",
     "text": [
      "  2%|▉                                                 | 312/16036 [6:31:09<403:05:45, 92.29s/it]"
     ]
    },
    {
     "name": "stdout",
     "output_type": "stream",
     "text": [
      "[[-18.039474  -12.065131  -14.217913  ... -10.0457735  -8.432035\n",
      "  -17.52222  ]\n",
      " [-19.112972  -12.178542  -13.933361  ... -10.460895   -8.231062\n",
      "  -16.687569 ]\n",
      " [-18.788101  -12.083052  -13.714357  ... -10.029427   -8.404305\n",
      "  -16.178608 ]\n",
      " ...\n",
      " [-17.130291  -11.741169  -13.097257  ...  -8.980744   -7.684325\n",
      "  -15.612098 ]\n",
      " [-18.886559  -13.09634   -14.744713  ... -10.39452    -8.941244\n",
      "  -18.263193 ]\n",
      " [-19.345245  -12.795193  -14.538372  ... -10.625336   -8.630927\n",
      "  -16.713745 ]]\n",
      "SourceInfo(filepath='/home/mschulist/caples_sound/ARU_data/10-BLACK/Data/BLACK-10-CAP_20230614_183000.wav', shard_num=0, shard_len_s=-1.0)\n"
     ]
    },
    {
     "name": "stderr",
     "output_type": "stream",
     "text": [
      "  2%|▉                                                 | 313/16036 [6:32:43<405:35:44, 92.87s/it]"
     ]
    },
    {
     "name": "stdout",
     "output_type": "stream",
     "text": [
      "[[ -9.336678  -11.55516   -10.871437  ...  -8.671703   -8.843323\n",
      "  -15.358431 ]\n",
      " [-11.003816   -9.622865  -12.740022  ...  -9.559872   -7.8159294\n",
      "  -13.522688 ]\n",
      " [ -9.995838  -10.40751   -14.636686  ... -10.778191   -8.021378\n",
      "  -14.787466 ]\n",
      " ...\n",
      " [ -8.901012  -10.789316  -11.591933  ...  -9.64524    -6.174205\n",
      "  -13.801456 ]\n",
      " [ -8.455406  -10.018408  -11.655791  ...  -8.485674   -4.280912\n",
      "  -14.177571 ]\n",
      " [ -7.88696   -10.71351   -11.443914  ...  -9.154543   -8.295512\n",
      "  -15.567424 ]]\n",
      "SourceInfo(filepath='/home/mschulist/caples_sound/ARU_data/10-BLACK/Data/BLACK-10-CAP_20230613_160000.wav', shard_num=0, shard_len_s=-1.0)\n"
     ]
    },
    {
     "name": "stderr",
     "output_type": "stream",
     "text": [
      "  2%|▉                                                 | 314/16036 [6:34:16<405:28:20, 92.84s/it]"
     ]
    },
    {
     "name": "stdout",
     "output_type": "stream",
     "text": [
      "[[ -6.308505  -10.903413  -10.387143  ...  -9.970663   -7.888089\n",
      "  -15.839294 ]\n",
      " [ -6.129859  -10.948811  -10.213917  ...  -8.86363    -7.2058325\n",
      "  -14.906337 ]\n",
      " [ -8.11133   -10.813109  -10.53177   ...  -9.980385   -8.030557\n",
      "  -13.011194 ]\n",
      " ...\n",
      " [ -7.0728006 -12.097348  -11.304266  ... -10.384316   -9.187463\n",
      "  -16.611902 ]\n",
      " [ -8.28162   -11.253957  -12.327453  ...  -9.788524   -8.584409\n",
      "  -16.846546 ]\n",
      " [ -7.450683  -10.437926  -10.859986  ... -10.815971   -8.650591\n",
      "  -15.773189 ]]\n",
      "SourceInfo(filepath='/home/mschulist/caples_sound/ARU_data/10-BLACK/Data/BLACK-10-CAP_20230605_053000.wav', shard_num=0, shard_len_s=-1.0)\n"
     ]
    },
    {
     "name": "stderr",
     "output_type": "stream",
     "text": [
      "  2%|▉                                                 | 315/16036 [6:35:51<408:37:10, 93.57s/it]"
     ]
    },
    {
     "name": "stdout",
     "output_type": "stream",
     "text": [
      "[[-11.798243  -12.252809  -14.274508  ... -10.917209   -8.567274\n",
      "  -15.609431 ]\n",
      " [-14.773044  -11.813808  -11.3474655 ...  -9.177231   -7.207508\n",
      "  -13.661232 ]\n",
      " [-11.913591  -11.768214  -11.915993  ... -10.326366   -9.151855\n",
      "  -14.502505 ]\n",
      " ...\n",
      " [-16.760872  -11.413614  -12.273825  ...  -9.145276   -8.565922\n",
      "  -13.812832 ]\n",
      " [-13.710555  -11.361846  -12.60063   ...  -8.501071   -7.040756\n",
      "  -12.67104  ]\n",
      " [-15.24759    -9.762665  -11.4765835 ...  -8.972155   -8.03997\n",
      "  -13.445265 ]]\n",
      "SourceInfo(filepath='/home/mschulist/caples_sound/ARU_data/10-BLACK/Data/BLACK-10-CAP_20230610_213000.wav', shard_num=0, shard_len_s=-1.0)\n"
     ]
    },
    {
     "name": "stderr",
     "output_type": "stream",
     "text": [
      "  2%|▉                                                 | 316/16036 [6:37:24<406:42:44, 93.14s/it]"
     ]
    },
    {
     "name": "stdout",
     "output_type": "stream",
     "text": [
      "[[-17.047735  -12.5936365 -12.478758  ... -10.508832   -7.516925\n",
      "  -16.278284 ]\n",
      " [-16.291225  -11.87012   -12.878374  ...  -9.748391   -7.4414425\n",
      "  -15.910853 ]\n",
      " [-15.399484  -11.526602  -11.76943   ...  -8.546017   -6.84394\n",
      "  -14.8658905]\n",
      " ...\n",
      " [-15.487271  -12.063249  -12.11337   ... -10.279687   -7.3723984\n",
      "  -15.8663845]\n",
      " [-14.821223  -11.234602  -12.052542  ...  -8.965622   -7.6363935\n",
      "  -15.58594  ]\n",
      " [-16.928505  -12.429462  -12.612276  ... -10.378063   -7.8572226\n",
      "  -16.916082 ]]\n",
      "SourceInfo(filepath='/home/mschulist/caples_sound/ARU_data/10-BLACK/Data/BLACK-10-CAP_20230613_013000.wav', shard_num=0, shard_len_s=-1.0)\n"
     ]
    },
    {
     "name": "stderr",
     "output_type": "stream",
     "text": [
      "  2%|▉                                                 | 317/16036 [6:38:55<405:01:27, 92.76s/it]"
     ]
    },
    {
     "name": "stdout",
     "output_type": "stream",
     "text": [
      "[[ -6.116993  -10.973144  -11.084823  ...  -9.506271   -8.418758\n",
      "  -14.393677 ]\n",
      " [ -5.8973484 -11.287064  -10.299706  ...  -9.600149   -8.281292\n",
      "  -13.776609 ]\n",
      " [ -5.538059  -10.89276    -9.866146  ...  -9.3508005  -8.348621\n",
      "  -13.352686 ]\n",
      " ...\n",
      " [ -7.4914856 -11.555054  -10.830386  ... -10.158611   -8.898796\n",
      "  -14.336814 ]\n",
      " [ -5.33057   -12.016488  -10.135008  ...  -9.700473   -8.6572275\n",
      "  -14.541056 ]\n",
      " [ -6.2846074 -11.287182  -10.485575  ...  -9.478098   -8.613173\n",
      "  -14.106083 ]]\n",
      "SourceInfo(filepath='/home/mschulist/caples_sound/ARU_data/10-BLACK/Data/BLACK-10-CAP_20230620_060000.wav', shard_num=0, shard_len_s=-1.0)\n"
     ]
    },
    {
     "name": "stderr",
     "output_type": "stream",
     "text": [
      "  2%|▉                                                 | 318/16036 [6:40:30<407:59:17, 93.44s/it]"
     ]
    },
    {
     "name": "stdout",
     "output_type": "stream",
     "text": [
      "[[-12.465295  -12.059663  -12.996668  ... -10.206171   -9.1872225\n",
      "  -17.001328 ]\n",
      " [-11.324889  -11.509424  -12.397905  ...  -9.216647   -8.851005\n",
      "  -15.440488 ]\n",
      " [ -7.82283   -10.762913  -12.064339  ...  -9.542667   -6.86721\n",
      "  -12.972611 ]\n",
      " ...\n",
      " [-13.335392  -11.037332  -13.503448  ... -12.10608   -11.031593\n",
      "  -16.966938 ]\n",
      " [-11.537181  -11.821887  -13.099471  ...  -8.770138   -7.5853834\n",
      "  -11.884914 ]\n",
      " [-12.324969  -11.258065  -12.921425  ...  -9.671901   -8.642318\n",
      "  -16.34357  ]]\n",
      "SourceInfo(filepath='/home/mschulist/caples_sound/ARU_data/10-BLACK/Data/BLACK-10-CAP_20230608_203000.wav', shard_num=0, shard_len_s=-1.0)\n"
     ]
    },
    {
     "name": "stderr",
     "output_type": "stream",
     "text": [
      "  2%|▉                                                 | 319/16036 [6:42:00<403:23:30, 92.40s/it]"
     ]
    },
    {
     "name": "stdout",
     "output_type": "stream",
     "text": [
      "[[-12.070103  -10.29554   -10.16922   ...  -7.233487   -7.114544\n",
      "  -13.595411 ]\n",
      " [-14.097617  -11.328232  -11.088521  ...  -9.048639   -7.3840294\n",
      "  -15.652899 ]\n",
      " [-15.039257  -13.892375  -12.449582  ...  -9.633005   -7.5645027\n",
      "  -14.212022 ]\n",
      " ...\n",
      " [-14.118612  -11.928724  -12.158802  ... -13.073229  -11.105279\n",
      "  -17.48461  ]\n",
      " [-12.426359  -10.534636   -9.76933   ...  -8.479198   -7.386219\n",
      "  -14.527037 ]\n",
      " [-12.397337   -9.562517  -10.858922  ...  -9.808567   -8.128686\n",
      "  -15.514973 ]]\n",
      "SourceInfo(filepath='/home/mschulist/caples_sound/ARU_data/10-BLACK/Data/BLACK-10-CAP_20230608_180000.wav', shard_num=0, shard_len_s=-1.0)\n"
     ]
    },
    {
     "name": "stderr",
     "output_type": "stream",
     "text": [
      "  2%|▉                                                 | 320/16036 [6:43:39<411:34:41, 94.28s/it]"
     ]
    },
    {
     "name": "stdout",
     "output_type": "stream",
     "text": [
      "[[-15.010364  -11.982402  -12.077718  ...  -9.656831   -8.243032\n",
      "  -14.941984 ]\n",
      " [-15.681077  -11.109206  -11.460907  ...  -9.018419   -6.619508\n",
      "  -14.313709 ]\n",
      " [-14.8731575 -10.332192   -9.154528  ...  -9.026421   -6.6249437\n",
      "  -13.036436 ]\n",
      " ...\n",
      " [-16.449808  -11.300313  -12.910876  ...  -7.9475956  -6.7793636\n",
      "  -16.156025 ]\n",
      " [-16.30177   -14.039485  -15.661783  ...  -8.737022   -9.774127\n",
      "  -13.652136 ]\n",
      " [-17.92667   -10.071354  -12.2602215 ...  -8.56254    -7.6443243\n",
      "  -16.16013  ]]\n",
      "SourceInfo(filepath='/home/mschulist/caples_sound/ARU_data/10-BLACK/Data/BLACK-10-CAP_20230610_190000.wav', shard_num=0, shard_len_s=-1.0)\n"
     ]
    },
    {
     "name": "stderr",
     "output_type": "stream",
     "text": [
      "  5%|██▎                                              | 752/16036 [15:43:39<316:44:42, 74.61s/it]"
     ]
    },
    {
     "name": "stdout",
     "output_type": "stream",
     "text": [
      "[[-10.8903885 -11.882713  -10.146416  ... -10.799029   -9.501668\n",
      "  -18.33136  ]\n",
      " [ -9.506273  -12.10321   -10.593472  ... -11.023416  -12.005543\n",
      "  -17.444073 ]\n",
      " [-10.916374  -10.716205  -11.20195   ... -11.590539  -11.576564\n",
      "  -18.773567 ]\n",
      " ...\n",
      " [-10.470813  -10.1027975 -10.8527565 ... -10.049334   -7.654377\n",
      "  -13.766771 ]\n",
      " [-11.199245  -10.454519  -10.616512  ...  -9.519115   -7.053091\n",
      "  -14.433086 ]\n",
      " [ -9.731096  -11.359929  -12.214308  ...  -9.63353    -8.741461\n",
      "  -15.468033 ]]\n",
      "SourceInfo(filepath='/home/mschulist/caples_sound/ARU_data/26-LEIA/Data/26-LEIA_20230611_203000.wav', shard_num=0, shard_len_s=-1.0)\n"
     ]
    },
    {
     "name": "stderr",
     "output_type": "stream",
     "text": [
      "  5%|██▎                                              | 753/16036 [15:44:55<319:27:49, 75.25s/it]"
     ]
    },
    {
     "name": "stdout",
     "output_type": "stream",
     "text": [
      "[[-10.359731  -12.52599   -11.889694  ...  -8.909761   -9.335136\n",
      "  -15.017966 ]\n",
      " [-14.335545  -13.178523  -11.986465  ... -10.999165  -12.542579\n",
      "  -18.398056 ]\n",
      " [-10.156754  -12.211518  -11.449391  ...  -9.791922   -9.94657\n",
      "  -14.554371 ]\n",
      " ...\n",
      " [ -8.624     -12.501382  -11.439577  ...  -9.976021   -9.639051\n",
      "  -15.809285 ]\n",
      " [ -7.8840313 -11.553781  -11.894346  ...  -9.096109   -9.755541\n",
      "  -14.8167095]\n",
      " [ -8.42313   -12.141813  -11.585783  ...  -9.295076   -8.556918\n",
      "  -14.901759 ]]\n",
      "SourceInfo(filepath='/home/mschulist/caples_sound/ARU_data/26-LEIA/Data/26-LEIA_20230612_003000.wav', shard_num=0, shard_len_s=-1.0)\n"
     ]
    },
    {
     "name": "stderr",
     "output_type": "stream",
     "text": [
      "  5%|██▎                                              | 754/16036 [15:46:11<319:31:09, 75.27s/it]"
     ]
    },
    {
     "name": "stdout",
     "output_type": "stream",
     "text": [
      "[[-13.087058  -10.812232  -10.956659  ... -10.616767   -7.466484\n",
      "  -14.33448  ]\n",
      " [-14.182723  -12.387108  -12.697945  ... -11.36004    -8.815172\n",
      "  -16.540823 ]\n",
      " [-13.053089  -12.791784  -12.67454   ... -11.397901   -8.463082\n",
      "  -16.570202 ]\n",
      " ...\n",
      " [-13.175704  -11.654944  -11.003889  ... -10.856064   -7.716935\n",
      "  -14.989905 ]\n",
      " [-12.979262  -12.4628935 -11.276642  ... -10.393019   -8.126592\n",
      "  -16.333828 ]\n",
      " [-11.463536  -10.675342  -10.281411  ... -10.12945    -7.355901\n",
      "  -14.561901 ]]\n",
      "SourceInfo(filepath='/home/mschulist/caples_sound/ARU_data/26-LEIA/Data/26-LEIA_20230621_070000.wav', shard_num=0, shard_len_s=-1.0)\n"
     ]
    },
    {
     "name": "stderr",
     "output_type": "stream",
     "text": [
      "  5%|██▎                                              | 755/16036 [15:47:23<316:14:33, 74.50s/it]"
     ]
    },
    {
     "name": "stdout",
     "output_type": "stream",
     "text": [
      "[[-12.968795  -14.2830715 -13.698799  ... -10.800881  -10.244897\n",
      "  -13.202795 ]\n",
      " [-10.735494  -11.635314  -16.477385  ... -11.109316  -10.051071\n",
      "  -14.934169 ]\n",
      " [-11.487187  -10.636707  -11.191642  ...  -8.395464   -7.8722773\n",
      "  -12.768568 ]\n",
      " ...\n",
      " [-15.930663  -10.065795  -14.289516  ... -10.287941  -10.011359\n",
      "  -17.605217 ]\n",
      " [-11.135485   -7.9489865 -12.651775  ...  -7.5338225  -6.4631515\n",
      "  -13.258303 ]\n",
      " [-13.495525  -12.377027  -13.1976795 ... -10.845684   -9.998012\n",
      "  -17.019537 ]]\n",
      "SourceInfo(filepath='/home/mschulist/caples_sound/ARU_data/26-LEIA/Data/26-LEIA_20230609_213000.wav', shard_num=0, shard_len_s=-1.0)\n"
     ]
    },
    {
     "name": "stderr",
     "output_type": "stream",
     "text": [
      "  5%|██▎                                              | 756/16036 [15:48:39<317:57:00, 74.91s/it]"
     ]
    },
    {
     "name": "stdout",
     "output_type": "stream",
     "text": [
      "[[-13.351795  -10.835417  -10.778028  ...  -9.041107   -7.985361\n",
      "  -15.127513 ]\n",
      " [-11.153308  -11.409117  -10.661099  ...  -9.417269   -7.922036\n",
      "  -15.464789 ]\n",
      " [-11.64552   -10.745742  -11.375026  ...  -9.970493   -8.321397\n",
      "  -15.2546215]\n",
      " ...\n",
      " [-14.285042  -11.171798  -12.424702  ... -10.211338   -8.642477\n",
      "  -14.994391 ]\n",
      " [-11.529986  -11.421894  -10.799631  ...  -9.620422   -6.9926386\n",
      "  -14.955767 ]\n",
      " [-12.488993  -10.88774   -11.773068  ...  -9.684256   -7.1535187\n",
      "  -15.5926   ]]\n",
      "SourceInfo(filepath='/home/mschulist/caples_sound/ARU_data/26-LEIA/Data/26-LEIA_20230615_190000.wav', shard_num=0, shard_len_s=-1.0)\n"
     ]
    },
    {
     "name": "stderr",
     "output_type": "stream",
     "text": [
      "  5%|██▎                                              | 757/16036 [15:49:51<314:28:17, 74.10s/it]"
     ]
    },
    {
     "name": "stdout",
     "output_type": "stream",
     "text": [
      "[[-16.582054 -15.441195 -16.457886 ... -12.621439 -10.616108 -19.755053]\n",
      " [-11.49272   -9.853596 -11.288794 ...  -9.106768  -8.183691 -15.619339]\n",
      " [-10.711661 -10.678543 -12.847429 ...  -9.50913   -7.065875 -15.88779 ]\n",
      " ...\n",
      " [-13.45835   -8.091336 -13.545046 ...  -8.741399  -6.028366 -13.572968]\n",
      " [-10.880939 -10.561908 -12.459635 ...  -8.255505  -8.784842 -14.150265]\n",
      " [-12.778461 -10.22231  -14.513909 ... -11.322094  -8.248803 -16.109715]]\n",
      "SourceInfo(filepath='/home/mschulist/caples_sound/ARU_data/26-LEIA/Data/26-LEIA_20230621_033000.wav', shard_num=0, shard_len_s=-1.0)\n"
     ]
    },
    {
     "name": "stderr",
     "output_type": "stream",
     "text": [
      "  5%|██▎                                              | 758/16036 [15:51:04<312:07:54, 73.55s/it]"
     ]
    },
    {
     "name": "stdout",
     "output_type": "stream",
     "text": [
      "[[-15.802762  -11.715588  -13.027056  ...  -9.897939   -8.564792\n",
      "  -16.586185 ]\n",
      " [-14.723392  -11.131612  -12.689243  ...  -9.713545   -8.453254\n",
      "  -15.4371605]\n",
      " [-14.657926  -11.18192   -12.781835  ...  -9.666798   -8.374892\n",
      "  -16.152706 ]\n",
      " ...\n",
      " [-14.887318  -11.328269  -11.59131   ... -10.028076   -8.274318\n",
      "  -16.195904 ]\n",
      " [-14.937356  -11.364181  -12.389174  ...  -9.554442   -8.055076\n",
      "  -16.054579 ]\n",
      " [-15.350642  -11.868259  -13.888472  ... -10.242777   -9.375131\n",
      "  -16.767155 ]]\n",
      "SourceInfo(filepath='/home/mschulist/caples_sound/ARU_data/26-LEIA/Data/26-LEIA_20230607_200000.wav', shard_num=0, shard_len_s=-1.0)\n"
     ]
    },
    {
     "name": "stderr",
     "output_type": "stream",
     "text": [
      "  5%|██▎                                              | 759/16036 [15:52:18<313:03:57, 73.77s/it]"
     ]
    },
    {
     "name": "stdout",
     "output_type": "stream",
     "text": [
      "[[-10.773854  -13.274438  -11.199585  ...  -9.723818   -8.976381\n",
      "  -17.889818 ]\n",
      " [-10.218799  -11.94866   -11.669747  ... -10.097227   -9.423352\n",
      "  -17.118181 ]\n",
      " [-10.692473  -13.561255  -10.604818  ... -10.032255   -8.468101\n",
      "  -16.591766 ]\n",
      " ...\n",
      " [ -9.062189  -14.047065  -11.5261    ...  -8.372309   -8.795477\n",
      "  -16.150602 ]\n",
      " [ -7.053588  -11.490903   -8.424143  ...  -7.666671   -7.1427374\n",
      "  -13.870028 ]\n",
      " [-10.584123  -11.842534  -11.08584   ...  -8.626648   -8.691443\n",
      "  -15.954914 ]]\n",
      "SourceInfo(filepath='/home/mschulist/caples_sound/ARU_data/26-LEIA/Data/26-LEIA_20230612_040000.wav', shard_num=0, shard_len_s=-1.0)\n"
     ]
    },
    {
     "name": "stderr",
     "output_type": "stream",
     "text": [
      "  5%|██▎                                              | 760/16036 [15:53:31<312:40:26, 73.69s/it]"
     ]
    },
    {
     "name": "stdout",
     "output_type": "stream",
     "text": [
      "[[-15.1327505 -12.811888  -13.421822  ... -11.451142   -8.874225\n",
      "  -16.35368  ]\n",
      " [-13.528056  -12.824199  -11.3664255 ... -11.569998   -9.377472\n",
      "  -16.203058 ]\n",
      " [-13.122012  -11.507655  -11.706218  ... -10.670727   -7.8957405\n",
      "  -15.578154 ]\n",
      " ...\n",
      " [-15.144891  -13.108462  -13.558617  ... -11.828581   -8.392842\n",
      "  -17.184856 ]\n",
      " [-15.477603  -12.801037  -13.577424  ... -12.8243885  -9.681978\n",
      "  -17.997942 ]\n",
      " [-14.481019  -12.506116  -12.706906  ... -11.507776   -7.9739056\n",
      "  -15.828404 ]]\n",
      "SourceInfo(filepath='/home/mschulist/caples_sound/ARU_data/26-LEIA/Data/26-LEIA_20230612_000000.wav', shard_num=0, shard_len_s=-1.0)\n"
     ]
    },
    {
     "name": "stderr",
     "output_type": "stream",
     "text": [
      "  5%|██▎                                              | 761/16036 [15:54:43<309:43:50, 73.00s/it]"
     ]
    },
    {
     "name": "stdout",
     "output_type": "stream",
     "text": [
      "[[-12.676111  -11.754015  -11.368894  ... -10.650877   -8.05942\n",
      "  -15.745492 ]\n",
      " [-13.157664  -11.129849  -11.159959  ... -10.49647    -8.0406\n",
      "  -15.073032 ]\n",
      " [-14.110654  -11.476439  -11.673002  ... -10.493298   -9.035651\n",
      "  -16.41763  ]\n",
      " ...\n",
      " [-13.728952  -11.804449  -11.715841  ... -10.966034   -8.451353\n",
      "  -15.551029 ]\n",
      " [-13.78121   -11.124595  -12.913443  ... -11.770576   -8.848917\n",
      "  -16.342945 ]\n",
      " [-11.421516  -10.136121   -8.840827  ...  -9.425894   -7.5123777\n",
      "  -15.424597 ]]\n",
      "SourceInfo(filepath='/home/mschulist/caples_sound/ARU_data/26-LEIA/Data/26-LEIA_20230621_073000.wav', shard_num=0, shard_len_s=-1.0)\n"
     ]
    },
    {
     "name": "stderr",
     "output_type": "stream",
     "text": [
      "  5%|██▎                                              | 762/16036 [15:55:52<305:18:49, 71.96s/it]"
     ]
    },
    {
     "name": "stdout",
     "output_type": "stream",
     "text": [
      "[[-13.058083  -10.024777  -13.558162  ...  -9.208044   -8.938556\n",
      "  -15.062275 ]\n",
      " [-16.557083  -12.281732  -14.605907  ...  -8.088263   -8.48837\n",
      "  -16.720829 ]\n",
      " [-12.360785  -10.676946  -14.427862  ...  -7.2686234  -6.0434527\n",
      "  -15.084509 ]\n",
      " ...\n",
      " [-10.58145    -9.93974   -12.913334  ...  -7.921479   -4.6448298\n",
      "  -13.156168 ]\n",
      " [-13.161801   -9.279089  -12.333725  ...  -8.874559   -6.667443\n",
      "  -15.179509 ]\n",
      " [-12.316721  -10.443183  -13.472902  ...  -9.007128   -7.5305614\n",
      "  -17.936234 ]]\n",
      "SourceInfo(filepath='/home/mschulist/caples_sound/ARU_data/26-LEIA/Data/26-LEIA_20230609_210000.wav', shard_num=0, shard_len_s=-1.0)\n"
     ]
    },
    {
     "name": "stderr",
     "output_type": "stream",
     "text": [
      "  5%|██▎                                              | 763/16036 [15:57:09<311:46:16, 73.49s/it]"
     ]
    },
    {
     "name": "stdout",
     "output_type": "stream",
     "text": [
      "[[-15.174001  -12.775548  -12.427889  ... -10.617834   -8.697324\n",
      "  -16.703846 ]\n",
      " [-14.7832365 -12.434953  -12.191719  ... -10.021082   -8.720611\n",
      "  -16.450817 ]\n",
      " [-13.991502  -11.415454  -11.985367  ... -10.1323395  -8.909802\n",
      "  -16.68033  ]\n",
      " ...\n",
      " [-13.398019  -10.957572  -10.959639  ...  -9.635268   -7.599084\n",
      "  -14.538044 ]\n",
      " [-14.834998  -11.649479  -11.941448  ... -10.2917185  -8.336739\n",
      "  -15.089436 ]\n",
      " [-12.723243  -10.528867  -10.854907  ...  -9.49933    -7.5302544\n",
      "  -14.3097   ]]\n",
      "SourceInfo(filepath='/home/mschulist/caples_sound/ARU_data/26-LEIA/Data/26-LEIA_20230612_173000.wav', shard_num=0, shard_len_s=-1.0)\n"
     ]
    },
    {
     "name": "stderr",
     "output_type": "stream",
     "text": [
      "  5%|██▎                                              | 764/16036 [15:58:26<315:56:55, 74.48s/it]"
     ]
    },
    {
     "name": "stdout",
     "output_type": "stream",
     "text": [
      "[[-11.05593   -11.214665  -10.638441  ...  -7.6063976  -7.22231\n",
      "  -13.406288 ]\n",
      " [-10.7891445 -11.043614  -12.905521  ... -10.294797   -9.761928\n",
      "  -16.67364  ]\n",
      " [-11.8826685 -12.365287  -11.6170025 ...  -9.727296   -8.637026\n",
      "  -15.134761 ]\n",
      " ...\n",
      " [-10.170387  -10.72722   -11.553207  ...  -9.692424   -8.853377\n",
      "  -14.173459 ]\n",
      " [-10.815807  -11.143496  -12.018784  ...  -9.855005   -7.973317\n",
      "  -15.84107  ]\n",
      " [-11.704264  -10.799392  -10.648232  ...  -9.456845   -7.813692\n",
      "  -14.394009 ]]\n",
      "SourceInfo(filepath='/home/mschulist/caples_sound/ARU_data/26-LEIA/Data/26-LEIA_20230621_100000.wav', shard_num=0, shard_len_s=-1.0)\n"
     ]
    },
    {
     "name": "stderr",
     "output_type": "stream",
     "text": [
      "  5%|██▎                                              | 765/16036 [15:59:42<317:48:40, 74.92s/it]"
     ]
    },
    {
     "name": "stdout",
     "output_type": "stream",
     "text": [
      "[[-12.998743  -12.6057    -12.121866  ...  -9.408016   -9.299307\n",
      "  -16.381336 ]\n",
      " [-12.168408  -10.581049  -12.641734  ...  -7.533828   -8.242034\n",
      "  -13.135736 ]\n",
      " [-14.463931  -12.326742  -12.548515  ... -11.503989   -7.249488\n",
      "  -16.746227 ]\n",
      " ...\n",
      " [-16.46291   -15.459614  -14.576604  ... -12.590841   -9.902862\n",
      "  -17.895967 ]\n",
      " [-15.122553  -10.694664  -12.587588  ...  -9.4444895  -8.390389\n",
      "  -16.17374  ]\n",
      " [-13.44711    -9.863244  -12.239534  ... -10.572038   -9.083004\n",
      "  -16.29015  ]]\n",
      "SourceInfo(filepath='/home/mschulist/caples_sound/ARU_data/26-LEIA/Data/26-LEIA_20230611_200000.wav', shard_num=0, shard_len_s=-1.0)\n"
     ]
    },
    {
     "name": "stderr",
     "output_type": "stream",
     "text": [
      "  5%|██▎                                              | 766/16036 [16:01:01<322:35:19, 76.05s/it]"
     ]
    },
    {
     "name": "stdout",
     "output_type": "stream",
     "text": [
      "[[ -9.689969 -10.742489  -9.915609 ... -10.776248  -9.190171 -10.559132]\n",
      " [ -9.575584 -11.786826 -13.501272 ... -10.096035  -9.36171  -13.564028]\n",
      " [ -8.399803 -11.798193 -11.001744 ... -10.626747  -8.898102 -14.417552]\n",
      " ...\n",
      " [ -8.8132   -11.801699  -7.852661 ...  -9.717051  -9.070288 -14.895593]\n",
      " [-12.4893   -14.202733 -10.689104 ... -11.123992  -9.756859 -13.711668]\n",
      " [ -8.367483 -11.714639 -10.552843 ...  -8.973498  -8.866716 -15.356169]]\n",
      "SourceInfo(filepath='/home/mschulist/caples_sound/ARU_data/26-LEIA/Data/26-LEIA_20230615_023000.wav', shard_num=0, shard_len_s=-1.0)\n"
     ]
    },
    {
     "name": "stderr",
     "output_type": "stream",
     "text": [
      "  5%|██▎                                              | 767/16036 [16:02:13<317:10:46, 74.78s/it]"
     ]
    },
    {
     "name": "stdout",
     "output_type": "stream",
     "text": [
      "[[-13.864701  -11.767871  -11.728727  ...  -9.512869   -8.288703\n",
      "  -16.907803 ]\n",
      " [-12.265609  -10.461601  -11.5878315 ...  -8.614208   -7.5926256\n",
      "  -15.841818 ]\n",
      " [-12.896655  -11.132279  -11.6463175 ...  -9.226971   -8.130463\n",
      "  -15.882324 ]\n",
      " ...\n",
      " [-12.979535  -10.874801  -11.411903  ...  -8.726688   -8.012763\n",
      "  -16.021885 ]\n",
      " [-13.356295  -11.240758  -12.209315  ...  -9.36334    -7.9021063\n",
      "  -16.20448  ]\n",
      " [-11.90074   -10.550274  -11.407683  ...  -9.041258   -7.854045\n",
      "  -15.734011 ]]\n",
      "SourceInfo(filepath='/home/mschulist/caples_sound/ARU_data/26-LEIA/Data/26-LEIA_20230612_080000.wav', shard_num=0, shard_len_s=-1.0)\n"
     ]
    },
    {
     "name": "stderr",
     "output_type": "stream",
     "text": [
      "  5%|██▎                                              | 768/16036 [16:03:28<317:45:16, 74.92s/it]"
     ]
    },
    {
     "name": "stdout",
     "output_type": "stream",
     "text": [
      "[[-10.779532  -11.260996  -13.240812  ... -11.40855   -10.688436\n",
      "  -16.400074 ]\n",
      " [ -8.979034   -9.044596  -12.215293  ...  -9.5202875  -9.197652\n",
      "  -13.99781  ]\n",
      " [ -8.522379   -9.823814  -11.336003  ...  -9.270979   -9.381956\n",
      "  -13.829024 ]\n",
      " ...\n",
      " [ -7.331192  -10.121916   -8.609342  ... -12.359555   -9.320611\n",
      "  -17.059412 ]\n",
      " [-12.022548   -9.041892   -9.519387  ... -11.64646   -10.366129\n",
      "  -14.75559  ]\n",
      " [-11.777059  -10.660329   -9.408083  ... -10.773911   -6.764699\n",
      "  -16.818491 ]]\n",
      "SourceInfo(filepath='/home/mschulist/caples_sound/ARU_data/26-LEIA/Data/26-LEIA_20230616_223000.wav', shard_num=0, shard_len_s=-1.0)\n"
     ]
    },
    {
     "name": "stderr",
     "output_type": "stream",
     "text": [
      "  5%|██▎                                              | 769/16036 [16:04:42<317:05:55, 74.77s/it]"
     ]
    },
    {
     "name": "stdout",
     "output_type": "stream",
     "text": [
      "[[-14.261498 -11.205266 -12.219689 ...  -9.970988  -9.096035 -14.179892]\n",
      " [-12.394708 -11.934261 -11.749998 ... -10.836023  -8.125538 -15.054555]\n",
      " [-13.761819 -11.583723 -12.146107 ...  -9.783784  -8.94472  -13.082302]\n",
      " ...\n",
      " [-14.152436 -11.533103 -11.350364 ...  -9.733614  -8.698918 -15.334234]\n",
      " [-14.528793 -11.286619 -11.898606 ...  -9.480976  -8.131049 -15.971849]\n",
      " [-13.933848 -10.677502 -12.248821 ...  -8.923254  -8.407936 -14.680616]]\n",
      "SourceInfo(filepath='/home/mschulist/caples_sound/ARU_data/26-LEIA/Data/26-LEIA_20230621_180000.wav', shard_num=0, shard_len_s=-1.0)\n"
     ]
    },
    {
     "name": "stderr",
     "output_type": "stream",
     "text": [
      "  5%|██▎                                              | 770/16036 [16:05:55<314:04:24, 74.06s/it]"
     ]
    },
    {
     "name": "stdout",
     "output_type": "stream",
     "text": [
      "[[ -7.290471   -9.395814  -10.375917  ...  -8.345833   -7.841772\n",
      "  -11.03237  ]\n",
      " [-10.318982   -8.027769  -11.087291  ...  -9.302068   -7.703105\n",
      "  -11.177863 ]\n",
      " [ -8.064246   -9.92916   -12.130613  ...  -8.992568  -10.165883\n",
      "  -14.092247 ]\n",
      " ...\n",
      " [-11.8412285  -9.500831  -13.35319   ... -10.480579   -8.227483\n",
      "  -11.948818 ]\n",
      " [-12.612498  -12.076468  -14.296919  ...  -8.984222   -9.413654\n",
      "  -13.775284 ]\n",
      " [-11.348052  -10.653151  -14.699392  ...  -9.418775  -10.259575\n",
      "  -14.935437 ]]\n",
      "SourceInfo(filepath='/home/mschulist/caples_sound/ARU_data/26-LEIA/Data/26-LEIA_20230618_233000.wav', shard_num=0, shard_len_s=-1.0)\n"
     ]
    },
    {
     "name": "stderr",
     "output_type": "stream",
     "text": [
      "  5%|██▎                                              | 771/16036 [16:07:08<313:15:05, 73.88s/it]"
     ]
    },
    {
     "name": "stdout",
     "output_type": "stream",
     "text": [
      "[[ -9.2438755 -11.098103  -11.799609  ...  -8.490732   -7.5391064\n",
      "  -14.088861 ]\n",
      " [ -9.383835  -11.497464  -11.907862  ...  -9.174276   -8.307703\n",
      "  -15.716366 ]\n",
      " [ -8.785158  -11.734732  -10.982622  ...  -9.002905   -8.391713\n",
      "  -13.794588 ]\n",
      " ...\n",
      " [ -9.201203  -12.648258  -12.110649  ...  -9.958238   -8.929858\n",
      "  -15.135858 ]\n",
      " [ -7.991857  -11.439643  -11.667939  ...  -9.932321   -9.143457\n",
      "  -13.690952 ]\n",
      " [ -8.073742  -11.150502  -11.138683  ...  -9.21567    -7.9466553\n",
      "  -14.134357 ]]\n",
      "SourceInfo(filepath='/home/mschulist/caples_sound/ARU_data/26-LEIA/Data/26-LEIA_20230615_063000.wav', shard_num=0, shard_len_s=-1.0)\n"
     ]
    },
    {
     "name": "stderr",
     "output_type": "stream",
     "text": [
      "  5%|██▎                                              | 772/16036 [16:08:22<313:39:08, 73.97s/it]"
     ]
    },
    {
     "name": "stdout",
     "output_type": "stream",
     "text": [
      "[[-11.81079  -14.500818 -11.637345 ... -10.936518 -11.227566 -12.033846]\n",
      " [-13.671107 -12.43094  -11.901959 ... -10.80189   -9.448952 -15.105841]\n",
      " [-14.603827 -13.272573 -12.020233 ... -12.65756  -10.157658 -15.57748 ]\n",
      " ...\n",
      " [-13.349576 -13.506781 -13.64142  ... -10.439506  -7.561434  -9.258219]\n",
      " [-11.734083 -11.973522 -12.388456 ... -10.088964  -9.159831 -14.136641]\n",
      " [-14.651131 -13.460563 -12.11838  ... -11.343726  -9.366616 -15.414091]]\n",
      "SourceInfo(filepath='/home/mschulist/caples_sound/ARU_data/26-LEIA/Data/26-LEIA_20230611_030000.wav', shard_num=0, shard_len_s=-1.0)\n"
     ]
    },
    {
     "name": "stderr",
     "output_type": "stream",
     "text": [
      "  5%|██▎                                              | 773/16036 [16:09:37<314:35:51, 74.20s/it]"
     ]
    },
    {
     "name": "stdout",
     "output_type": "stream",
     "text": [
      "[[-12.776448  -12.118846   -9.621966  ... -10.229207   -5.2696643\n",
      "  -10.814825 ]\n",
      " [-13.363036  -11.681682   -5.3996673 ...  -8.449038   -6.047968\n",
      "  -11.123264 ]\n",
      " [-14.186064  -10.507597   -6.225546  ...  -8.260317   -6.806916\n",
      "  -10.758858 ]\n",
      " ...\n",
      " [-14.602246  -11.651814  -12.818205  ... -10.404147   -9.362351\n",
      "  -15.9838295]\n",
      " [-13.739438  -11.690783  -13.080312  ...  -9.721567   -8.762978\n",
      "  -16.216307 ]\n",
      " [-14.371486  -11.691832  -12.608174  ... -10.155226   -8.406285\n",
      "  -16.436008 ]]\n",
      "SourceInfo(filepath='/home/mschulist/caples_sound/ARU_data/26-LEIA/Data/26-LEIA_20230622_043000.wav', shard_num=0, shard_len_s=-1.0)\n"
     ]
    },
    {
     "name": "stderr",
     "output_type": "stream",
     "text": [
      "  5%|██▎                                              | 774/16036 [16:10:49<312:14:46, 73.65s/it]"
     ]
    },
    {
     "name": "stdout",
     "output_type": "stream",
     "text": [
      "[[-15.101766  -11.356057  -12.2594385 ...  -9.847443   -8.142546\n",
      "  -16.219193 ]\n",
      " [-13.50422   -10.129275  -11.207754  ...  -9.022932   -7.6808233\n",
      "  -15.483359 ]\n",
      " [-14.700431  -10.802238  -12.1964245 ...  -9.38353    -8.075944\n",
      "  -16.139942 ]\n",
      " ...\n",
      " [-13.3355    -12.656503  -13.054105  ... -11.688858  -10.769974\n",
      "  -17.242096 ]\n",
      " [-15.900054  -13.219762  -14.685958  ... -11.732179  -10.027382\n",
      "  -18.638813 ]\n",
      " [-13.087132  -11.153203  -12.413716  ...  -9.15601    -8.323065\n",
      "  -15.774052 ]]\n",
      "SourceInfo(filepath='/home/mschulist/caples_sound/ARU_data/26-LEIA/Data/26-LEIA_20230616_093000.wav', shard_num=0, shard_len_s=-1.0)\n"
     ]
    },
    {
     "name": "stderr",
     "output_type": "stream",
     "text": [
      "  5%|██▎                                              | 775/16036 [16:12:01<308:59:20, 72.89s/it]"
     ]
    },
    {
     "name": "stdout",
     "output_type": "stream",
     "text": [
      "[[-11.046022  -12.853814  -14.864454  ... -12.857501   -9.697624\n",
      "  -16.219772 ]\n",
      " [-12.231006  -12.076831  -13.643808  ... -13.336666  -11.954991\n",
      "  -17.110428 ]\n",
      " [ -9.975684   -9.539976  -13.24542   ... -12.456045   -9.7528105\n",
      "  -15.526044 ]\n",
      " ...\n",
      " [-13.679246  -12.510595  -13.266852  ...  -8.602576   -9.159049\n",
      "  -14.749134 ]\n",
      " [-15.050491  -11.068195  -12.791337  ...  -9.51906    -7.632592\n",
      "  -15.979405 ]\n",
      " [-15.324558  -11.317211  -14.34076   ...  -9.831041   -8.646682\n",
      "  -16.745794 ]]\n",
      "SourceInfo(filepath='/home/mschulist/caples_sound/ARU_data/26-LEIA/Data/26-LEIA_20230612_230000.wav', shard_num=0, shard_len_s=-1.0)\n"
     ]
    },
    {
     "name": "stderr",
     "output_type": "stream",
     "text": [
      "  5%|██▎                                              | 776/16036 [16:13:12<306:29:26, 72.30s/it]"
     ]
    },
    {
     "name": "stdout",
     "output_type": "stream",
     "text": [
      "[[-11.02621   -10.834584  -12.420937  ...  -8.841037   -7.1479692\n",
      "  -14.218256 ]\n",
      " [-14.034016  -11.75406   -12.922991  ... -10.38546    -9.107151\n",
      "  -17.261465 ]\n",
      " [-11.728197  -11.523635  -12.802811  ... -10.115134   -9.056312\n",
      "  -15.5398855]\n",
      " ...\n",
      " [-11.489164  -12.033736  -10.814031  ...  -9.657856   -8.431277\n",
      "  -15.222733 ]\n",
      " [-11.386407  -10.251425  -12.671101  ...  -9.358536   -8.39893\n",
      "  -14.126744 ]\n",
      " [-13.641599  -12.077289  -11.182383  ...  -9.944763   -8.369066\n",
      "  -15.211543 ]]\n",
      "SourceInfo(filepath='/home/mschulist/caples_sound/ARU_data/26-LEIA/Data/26-LEIA_20230609_020000.wav', shard_num=0, shard_len_s=-1.0)\n"
     ]
    },
    {
     "name": "stderr",
     "output_type": "stream",
     "text": [
      "  5%|██▎                                              | 777/16036 [16:14:21<303:04:51, 71.50s/it]"
     ]
    },
    {
     "name": "stdout",
     "output_type": "stream",
     "text": [
      "[[-15.292655  -12.70132   -13.46044   ... -11.207401   -9.004888\n",
      "  -17.443047 ]\n",
      " [-15.480168  -12.482177  -12.851612  ... -11.119154   -9.0356455\n",
      "  -17.70045  ]\n",
      " [-16.414349  -13.643319  -14.129122  ... -11.547305   -8.91465\n",
      "  -17.450115 ]\n",
      " ...\n",
      " [-13.745509  -11.762006  -12.252468  ... -10.3498535  -8.335375\n",
      "  -15.573641 ]\n",
      " [-15.214969  -13.047455  -12.881834  ... -11.328883   -8.892099\n",
      "  -17.227903 ]\n",
      " [-15.010789  -13.206146  -12.990951  ... -11.611494   -8.77666\n",
      "  -17.202143 ]]\n",
      "SourceInfo(filepath='/home/mschulist/caples_sound/ARU_data/26-LEIA/Data/26-LEIA_20230621_203000.wav', shard_num=0, shard_len_s=-1.0)\n"
     ]
    },
    {
     "name": "stderr",
     "output_type": "stream",
     "text": [
      "  5%|██▍                                              | 778/16036 [16:15:32<302:32:39, 71.38s/it]"
     ]
    },
    {
     "name": "stdout",
     "output_type": "stream",
     "text": [
      "[[-12.084723   -9.696456  -12.89836   ...  -6.6190066  -6.126767\n",
      "  -12.733856 ]\n",
      " [-12.231065  -10.449551  -11.344011  ...  -7.625439   -6.5269547\n",
      "  -14.325429 ]\n",
      " [-12.223967  -11.28157   -12.796209  ...  -8.643988   -7.657831\n",
      "  -13.330887 ]\n",
      " ...\n",
      " [-12.25824   -10.619587  -11.223725  ...  -8.862684   -7.69118\n",
      "  -15.449849 ]\n",
      " [-13.175562  -10.797801  -11.446545  ...  -9.558711   -7.822233\n",
      "  -15.516994 ]\n",
      " [-12.761487  -11.4036455 -11.077727  ...  -9.658134   -7.3655577\n",
      "  -16.048607 ]]\n",
      "SourceInfo(filepath='/home/mschulist/caples_sound/ARU_data/26-LEIA/Data/26-LEIA_20230609_060000.wav', shard_num=0, shard_len_s=-1.0)\n"
     ]
    },
    {
     "name": "stderr",
     "output_type": "stream",
     "text": [
      "  5%|██▍                                              | 779/16036 [16:16:46<305:08:04, 72.00s/it]"
     ]
    },
    {
     "name": "stdout",
     "output_type": "stream",
     "text": [
      "[[-11.999726  -13.011292  -11.1395035 ...  -8.729092   -6.6228075\n",
      "  -15.371222 ]\n",
      " [ -8.588479   -9.110503  -12.38659   ...  -9.421537   -6.6455245\n",
      "  -14.069941 ]\n",
      " [-13.376399  -12.828395  -11.11157   ... -10.490437   -8.994635\n",
      "  -13.20461  ]\n",
      " ...\n",
      " [-12.141599  -11.554079  -10.933197  ... -11.396127  -12.017581\n",
      "  -13.344424 ]\n",
      " [ -9.435541   -9.500769  -10.121043  ... -11.267185   -6.9688654\n",
      "  -13.30712  ]\n",
      " [-11.640473  -10.9393    -12.638023  ... -10.11138    -9.262629\n",
      "  -14.975536 ]]\n",
      "SourceInfo(filepath='/home/mschulist/caples_sound/ARU_data/26-LEIA/Data/26-LEIA_20230622_003000.wav', shard_num=0, shard_len_s=-1.0)\n"
     ]
    },
    {
     "name": "stderr",
     "output_type": "stream",
     "text": [
      "  5%|██▍                                              | 780/16036 [16:17:59<307:24:52, 72.54s/it]"
     ]
    },
    {
     "name": "stdout",
     "output_type": "stream",
     "text": [
      "[[-14.304793  -10.751197  -11.849188  ...  -9.301504   -7.8013916\n",
      "  -15.429567 ]\n",
      " [-15.034941  -12.160348  -13.234431  ...  -9.70051    -8.695376\n",
      "  -16.794437 ]\n",
      " [-15.138841  -11.183433  -12.550114  ...  -9.422083   -8.465348\n",
      "  -15.533606 ]\n",
      " ...\n",
      " [-14.442999  -11.123143  -12.663801  ...  -9.35104    -7.981884\n",
      "  -16.113129 ]\n",
      " [-15.373179  -11.490999  -12.95607   ... -10.019924   -8.068795\n",
      "  -16.797268 ]\n",
      " [-13.429919  -10.19111   -12.342509  ...  -9.380436   -8.669054\n",
      "  -15.704802 ]]\n",
      "SourceInfo(filepath='/home/mschulist/caples_sound/ARU_data/26-LEIA/Data/26-LEIA_20230618_083000.wav', shard_num=0, shard_len_s=-1.0)\n"
     ]
    },
    {
     "name": "stderr",
     "output_type": "stream",
     "text": [
      "  5%|██▍                                              | 781/16036 [16:19:15<310:57:37, 73.38s/it]"
     ]
    },
    {
     "name": "stdout",
     "output_type": "stream",
     "text": [
      "[[-11.43392   -11.224941  -14.032267  ...  -7.0647163  -7.880295\n",
      "  -12.564486 ]\n",
      " [-11.199143  -13.62231   -13.227627  ... -10.574255   -8.576207\n",
      "  -13.18917  ]\n",
      " [-12.739439  -13.963278  -12.851967  ... -10.021114   -8.398545\n",
      "  -12.471479 ]\n",
      " ...\n",
      " [-10.150227  -11.686038  -11.794815  ...  -8.85457    -7.7313166\n",
      "  -14.665279 ]\n",
      " [ -6.93358   -11.650355  -12.127203  ...  -9.12274    -8.479055\n",
      "  -14.191218 ]\n",
      " [ -8.354718  -11.889311  -11.947659  ...  -9.433239   -8.734813\n",
      "  -14.835601 ]]\n",
      "SourceInfo(filepath='/home/mschulist/caples_sound/ARU_data/26-LEIA/Data/26-LEIA_20230611_070000.wav', shard_num=0, shard_len_s=-1.0)\n"
     ]
    },
    {
     "name": "stderr",
     "output_type": "stream",
     "text": [
      "  5%|██▍                                              | 782/16036 [16:20:31<314:33:56, 74.24s/it]"
     ]
    },
    {
     "name": "stdout",
     "output_type": "stream",
     "text": [
      "[[-12.1504135 -10.952256  -12.598583  ...  -9.247399   -8.488683\n",
      "  -10.685049 ]\n",
      " [ -9.531757  -13.776479  -12.206044  ... -10.573837   -8.188288\n",
      "  -12.859415 ]\n",
      " [ -9.882992  -13.24868   -13.189522  ... -11.294268   -9.765952\n",
      "  -12.409616 ]\n",
      " ...\n",
      " [-13.530463  -14.081244  -12.188354  ...  -9.197017   -8.656087\n",
      "   -7.4014378]\n",
      " [-11.182018   -9.853784  -12.3616295 ...  -8.880838   -7.095001\n",
      "  -12.308981 ]\n",
      " [-13.40664   -12.724457  -12.462631  ...  -9.655043   -7.192071\n",
      "  -11.353063 ]]\n",
      "SourceInfo(filepath='/home/mschulist/caples_sound/ARU_data/26-LEIA/Data/26-LEIA_20230618_170000.wav', shard_num=0, shard_len_s=-1.0)\n"
     ]
    },
    {
     "name": "stderr",
     "output_type": "stream",
     "text": [
      "  5%|██▍                                              | 783/16036 [16:21:46<314:54:29, 74.32s/it]"
     ]
    },
    {
     "name": "stdout",
     "output_type": "stream",
     "text": [
      "[[ -7.022524  -11.071425   -8.450902  ...  -9.092721   -7.324251\n",
      "  -14.166513 ]\n",
      " [ -8.492555  -10.839646  -11.456153  ...  -8.40212    -7.448921\n",
      "  -12.776594 ]\n",
      " [ -9.968564  -12.113414  -12.195612  ...  -9.361081   -7.9390574\n",
      "  -14.61754  ]\n",
      " ...\n",
      " [ -8.588339  -11.51065   -11.643214  ...  -8.741636   -7.525997\n",
      "  -14.944478 ]\n",
      " [ -7.108636  -11.062015  -10.309514  ...  -8.279904   -6.74088\n",
      "  -13.524463 ]\n",
      " [ -7.512238  -11.122331  -12.755347  ...  -9.94994    -8.6362705\n",
      "  -12.594154 ]]\n",
      "SourceInfo(filepath='/home/mschulist/caples_sound/ARU_data/26-LEIA/Data/26-LEIA_20230611_183000.wav', shard_num=0, shard_len_s=-1.0)\n"
     ]
    },
    {
     "name": "stderr",
     "output_type": "stream",
     "text": [
      "  5%|██▍                                              | 784/16036 [16:22:59<313:20:06, 73.96s/it]"
     ]
    },
    {
     "name": "stdout",
     "output_type": "stream",
     "text": [
      "[[-11.623573  -11.046546   -6.724888  ...  -7.936598   -6.658974\n",
      "  -12.931398 ]\n",
      " [-13.23121   -10.952889   -7.999634  ...  -8.1370945  -7.083379\n",
      "  -12.82575  ]\n",
      " [-13.360817  -10.054166   -7.5063562 ...  -7.9570622  -6.771119\n",
      "  -13.256538 ]\n",
      " ...\n",
      " [ -7.389715  -10.747934   -9.3223    ... -10.358701   -9.0794\n",
      "  -15.592407 ]\n",
      " [ -5.851863  -10.146045   -8.771667  ...  -9.814642   -9.129073\n",
      "  -14.614014 ]\n",
      " [ -7.030319  -11.031643   -8.714909  ... -10.209848   -8.902358\n",
      "  -16.25587  ]]\n",
      "SourceInfo(filepath='/home/mschulist/caples_sound/ARU_data/26-LEIA/Data/26-LEIA_20230609_193000.wav', shard_num=0, shard_len_s=-1.0)\n"
     ]
    },
    {
     "name": "stderr",
     "output_type": "stream",
     "text": [
      "  5%|██▍                                              | 785/16036 [16:24:15<316:13:50, 74.65s/it]"
     ]
    },
    {
     "name": "stdout",
     "output_type": "stream",
     "text": [
      "[[ -8.653206  -11.250203  -11.643092  ... -13.285182  -11.720435\n",
      "  -12.491995 ]\n",
      " [-10.823899   -8.515055  -10.267592  ... -12.428587   -8.663924\n",
      "  -12.522152 ]\n",
      " [ -7.8945665  -9.728355  -13.136377  ... -10.032255  -10.629939\n",
      "  -11.815659 ]\n",
      " ...\n",
      " [ -9.93386   -10.759776  -13.337321  ...  -9.946978   -8.307686\n",
      "  -12.703837 ]\n",
      " [-10.655343  -10.514716  -10.931447  ...  -9.143163   -7.220463\n",
      "  -12.374706 ]\n",
      " [ -9.843326  -11.343647   -9.176141  ... -10.429754   -7.942175\n",
      "  -11.441183 ]]\n",
      "SourceInfo(filepath='/home/mschulist/caples_sound/ARU_data/26-LEIA/Data/26-LEIA_20230616_053000.wav', shard_num=0, shard_len_s=-1.0)\n"
     ]
    },
    {
     "name": "stderr",
     "output_type": "stream",
     "text": [
      "  5%|██▍                                              | 786/16036 [16:25:28<314:46:32, 74.31s/it]"
     ]
    },
    {
     "name": "stdout",
     "output_type": "stream",
     "text": [
      "[[-11.733426  -12.1947565 -13.789965  ...  -8.584485   -9.194631\n",
      "  -14.71607  ]\n",
      " [-15.221992  -10.134237  -13.713502  ...  -8.70245    -5.976633\n",
      "  -12.634453 ]\n",
      " [-15.3035    -12.81654   -14.04655   ... -10.635883   -9.545143\n",
      "  -16.945534 ]\n",
      " ...\n",
      " [-13.542576   -9.717949  -14.224811  ...  -8.776003   -9.01563\n",
      "  -16.858994 ]\n",
      " [-15.31392   -11.252449  -13.747186  ... -11.447843  -10.572929\n",
      "  -17.663054 ]\n",
      " [-12.787649  -12.555974  -13.0107975 ... -11.942126  -10.447704\n",
      "  -14.486149 ]]\n",
      "SourceInfo(filepath='/home/mschulist/caples_sound/ARU_data/26-LEIA/Data/26-LEIA_20230618_003000.wav', shard_num=0, shard_len_s=-1.0)\n"
     ]
    },
    {
     "name": "stderr",
     "output_type": "stream",
     "text": [
      "  5%|██▍                                              | 787/16036 [16:26:44<315:44:33, 74.54s/it]"
     ]
    },
    {
     "name": "stdout",
     "output_type": "stream",
     "text": [
      "[[-12.213035  -10.707955  -11.182639  ...  -8.943232   -7.6255217\n",
      "  -14.132771 ]\n",
      " [-13.03367   -11.727444  -11.919182  ...  -9.430521   -8.1556835\n",
      "  -16.272732 ]\n",
      " [-13.107028  -11.481464  -11.855374  ...  -9.696529   -8.053141\n",
      "  -15.621609 ]\n",
      " ...\n",
      " [-13.288938  -11.944634  -12.083766  ...  -9.691387   -8.261756\n",
      "  -15.75185  ]\n",
      " [-14.885079  -12.616409  -12.768681  ... -10.158415   -8.661624\n",
      "  -17.216972 ]\n",
      " [-13.608167  -11.503781  -11.515133  ...  -9.77059    -8.021956\n",
      "  -15.531322 ]]\n",
      "SourceInfo(filepath='/home/mschulist/caples_sound/ARU_data/26-LEIA/Data/26-LEIA_20230622_083000.wav', shard_num=0, shard_len_s=-1.0)\n"
     ]
    },
    {
     "name": "stderr",
     "output_type": "stream",
     "text": [
      "  5%|██▍                                              | 788/16036 [16:27:59<317:03:18, 74.86s/it]"
     ]
    },
    {
     "name": "stdout",
     "output_type": "stream",
     "text": [
      "[[-10.398877  -10.642694  -13.4363365 ...  -7.698927   -7.7008696\n",
      "  -13.07351  ]\n",
      " [-12.3526325 -10.805291  -12.305508  ...  -8.303326   -7.341734\n",
      "  -15.204594 ]\n",
      " [-10.192102   -7.8796606 -10.743898  ...  -8.1333065  -8.170966\n",
      "  -13.777622 ]\n",
      " ...\n",
      " [-12.859142   -9.822491  -14.092722  ...  -6.316361   -6.121784\n",
      "  -13.48914  ]\n",
      " [-11.676571  -12.407418  -15.980283  ...  -8.122549   -6.7663116\n",
      "  -14.150457 ]\n",
      " [-11.398783  -10.703099  -14.252884  ...  -7.9833446  -7.3304987\n",
      "  -12.284534 ]]\n",
      "SourceInfo(filepath='/home/mschulist/caples_sound/ARU_data/26-LEIA/Data/26-LEIA_20230616_013000.wav', shard_num=0, shard_len_s=-1.0)\n"
     ]
    },
    {
     "name": "stderr",
     "output_type": "stream",
     "text": [
      "  5%|██▍                                              | 789/16036 [16:29:10<312:06:23, 73.69s/it]"
     ]
    },
    {
     "name": "stdout",
     "output_type": "stream",
     "text": [
      "[[-10.987714  -12.823689  -10.916403  ...  -8.789125   -7.353403\n",
      "  -14.420268 ]\n",
      " [-12.471068  -11.72347   -11.20801   ...  -8.869005   -7.5984993\n",
      "  -14.254051 ]\n",
      " [-12.053564  -13.000995  -11.37126   ...  -9.015301   -7.9996347\n",
      "  -14.621195 ]\n",
      " ...\n",
      " [-10.194714  -12.312922  -11.313756  ...  -9.862621   -7.969836\n",
      "  -14.057502 ]\n",
      " [-10.523112  -12.243854  -11.487442  ...  -9.18112    -7.8434772\n",
      "  -14.178615 ]\n",
      " [-10.457235  -12.693679  -10.4403925 ...  -9.32552    -7.3548775\n",
      "  -14.14126  ]]\n",
      "SourceInfo(filepath='/home/mschulist/caples_sound/ARU_data/26-LEIA/Data/26-LEIA_20230607_183000.wav', shard_num=0, shard_len_s=-1.0)\n"
     ]
    },
    {
     "name": "stderr",
     "output_type": "stream",
     "text": [
      "  5%|██▍                                              | 790/16036 [16:30:25<313:14:42, 73.97s/it]"
     ]
    },
    {
     "name": "stdout",
     "output_type": "stream",
     "text": [
      "[[ -9.154134  -11.375897   -9.878804  ...  -9.480049   -8.105081\n",
      "  -16.308867 ]\n",
      " [ -8.160047  -11.888547  -10.467297  ...  -9.152177   -8.267085\n",
      "  -15.917174 ]\n",
      " [-12.105226  -12.28123    -8.467563  ... -10.702284   -8.143075\n",
      "  -15.194483 ]\n",
      " ...\n",
      " [-11.409105  -12.755344  -11.864419  ...  -8.063753   -5.6332254\n",
      "  -13.842279 ]\n",
      " [ -8.756483  -10.928948  -10.347311  ...  -8.766636   -7.6803656\n",
      "  -14.696601 ]\n",
      " [ -9.6637    -12.2965555  -9.545252  ...  -9.957798   -8.470953\n",
      "  -16.951735 ]]\n",
      "SourceInfo(filepath='/home/mschulist/caples_sound/ARU_data/26-LEIA/Data/26-LEIA_20230618_043000.wav', shard_num=0, shard_len_s=-1.0)\n"
     ]
    },
    {
     "name": "stderr",
     "output_type": "stream",
     "text": [
      "  5%|██▍                                              | 791/16036 [16:31:40<314:16:28, 74.21s/it]"
     ]
    },
    {
     "name": "stdout",
     "output_type": "stream",
     "text": [
      "[[ -9.667127  -12.200913  -10.891505  ...  -8.558569   -7.7101593\n",
      "  -13.863007 ]\n",
      " [ -7.991603  -12.960207  -11.325721  ...  -8.174891   -7.9333\n",
      "  -14.100436 ]\n",
      " [ -8.088673  -12.901448  -10.679712  ...  -8.383793   -6.726054\n",
      "  -12.645813 ]\n",
      " ...\n",
      " [-10.00188   -11.835176  -10.990611  ...  -8.9118     -7.638747\n",
      "  -14.739801 ]\n",
      " [ -9.523086  -12.209814  -11.643234  ...  -9.155397   -8.273996\n",
      "  -15.451818 ]\n",
      " [ -8.431696  -12.489917  -11.163449  ...  -8.004955   -7.802372\n",
      "  -13.543171 ]]\n",
      "SourceInfo(filepath='/home/mschulist/caples_sound/ARU_data/26-LEIA/Data/26-LEIA_20230616_160000.wav', shard_num=0, shard_len_s=-1.0)\n"
     ]
    },
    {
     "name": "stderr",
     "output_type": "stream",
     "text": [
      "  5%|██▍                                              | 792/16036 [16:32:53<313:36:46, 74.06s/it]"
     ]
    },
    {
     "name": "stdout",
     "output_type": "stream",
     "text": [
      "[[-13.60776   -11.977764  -12.867603  ... -11.724325   -9.356405\n",
      "  -13.803324 ]\n",
      " [-14.296694  -11.979984  -12.797825  ... -12.078906  -10.297241\n",
      "  -15.5569515]\n",
      " [-13.622762  -12.666814  -14.620328  ... -13.650693   -8.190705\n",
      "  -16.931152 ]\n",
      " ...\n",
      " [-20.093384  -17.369839  -17.619463  ... -16.886047  -13.088321\n",
      "  -20.29333  ]\n",
      " [-20.863377  -16.905985  -16.639135  ... -16.558552  -13.599058\n",
      "  -20.844355 ]\n",
      " [-19.064636  -15.800347  -16.23767   ... -16.486324  -12.027535\n",
      "  -19.818722 ]]\n",
      "SourceInfo(filepath='/home/mschulist/caples_sound/ARU_data/26-LEIA/Data/26-LEIA_20230615_213000.wav', shard_num=0, shard_len_s=-1.0)\n"
     ]
    },
    {
     "name": "stderr",
     "output_type": "stream",
     "text": [
      "  5%|██▍                                              | 793/16036 [16:34:08<313:57:59, 74.15s/it]"
     ]
    },
    {
     "name": "stdout",
     "output_type": "stream",
     "text": [
      "[[-16.100075 -11.915758 -13.51633  ... -10.187254  -8.904694 -16.67818 ]\n",
      " [-14.998761 -11.714488 -12.501348 ...  -9.568219  -8.764108 -15.784147]\n",
      " [-16.515366 -11.985413 -13.641979 ... -10.32564   -9.055204 -16.060791]\n",
      " ...\n",
      " [-16.367321 -12.203891 -14.16345  ... -10.233303  -9.641781 -16.510227]\n",
      " [-15.381381 -11.66289  -12.710972 ...  -9.755072  -8.673518 -16.58211 ]\n",
      " [-16.096779 -11.272452 -13.366551 ... -10.249716  -8.592661 -16.566753]]\n",
      "SourceInfo(filepath='/home/mschulist/caples_sound/ARU_data/26-LEIA/Data/26-LEIA_20230620_030000.wav', shard_num=0, shard_len_s=-1.0)\n"
     ]
    },
    {
     "name": "stderr",
     "output_type": "stream",
     "text": [
      "  5%|██▍                                              | 794/16036 [16:35:24<317:11:34, 74.92s/it]"
     ]
    },
    {
     "name": "stdout",
     "output_type": "stream",
     "text": [
      "[[-14.869987  -11.116155  -11.989271  ...  -9.592484   -7.9512587\n",
      "  -16.18746  ]\n",
      " [-13.179068  -10.754134  -11.608279  ...  -9.04839    -7.794276\n",
      "  -14.821412 ]\n",
      " [-15.897965  -11.309673  -12.713078  ... -10.068524   -8.05619\n",
      "  -15.817087 ]\n",
      " ...\n",
      " [-14.512567  -10.638883   -9.488896  ...  -8.711748   -6.2957306\n",
      "  -13.37359  ]\n",
      " [-13.860184  -10.951087  -10.100194  ...  -8.867838   -7.0091286\n",
      "  -13.314362 ]\n",
      " [-14.754092  -12.272568  -12.679579  ...  -9.848249   -8.051917\n",
      "  -16.388138 ]]\n",
      "SourceInfo(filepath='/home/mschulist/caples_sound/ARU_data/26-LEIA/Data/26-LEIA_20230613_043000.wav', shard_num=0, shard_len_s=-1.0)\n"
     ]
    },
    {
     "name": "stderr",
     "output_type": "stream",
     "text": [
      "  5%|██▍                                              | 795/16036 [16:36:39<316:33:21, 74.77s/it]"
     ]
    },
    {
     "name": "stdout",
     "output_type": "stream",
     "text": [
      "[[-13.909445  -12.43839   -13.532031  ... -10.800539   -9.240121\n",
      "  -16.747597 ]\n",
      " [-11.397876  -11.26449    -9.743209  ...  -9.165876   -7.3919067\n",
      "  -14.713291 ]\n",
      " [-10.784837  -11.159297  -11.291555  ...  -9.24979    -7.343046\n",
      "  -15.165348 ]\n",
      " ...\n",
      " [-13.0880575 -13.087092  -14.137778  ... -11.054255   -9.946575\n",
      "  -13.441937 ]\n",
      " [-13.803541  -13.601478  -14.212245  ... -11.89172   -10.182582\n",
      "  -14.664014 ]\n",
      " [-14.087449  -15.072379  -13.247055  ... -12.626697   -9.689999\n",
      "  -15.429724 ]]\n",
      "SourceInfo(filepath='/home/mschulist/caples_sound/ARU_data/26-LEIA/Data/26-LEIA_20230614_193000.wav', shard_num=0, shard_len_s=-1.0)\n"
     ]
    },
    {
     "name": "stderr",
     "output_type": "stream",
     "text": [
      "  5%|██▍                                              | 796/16036 [16:37:52<314:32:19, 74.30s/it]"
     ]
    },
    {
     "name": "stdout",
     "output_type": "stream",
     "text": [
      "[[-16.71273   -14.411299  -16.71354   ... -13.801991  -11.607337\n",
      "  -16.701721 ]\n",
      " [-13.613843  -12.898765  -14.916959  ... -11.704227   -7.337288\n",
      "  -13.5457535]\n",
      " [-14.321517  -13.002158  -14.365432  ... -12.264563   -9.191231\n",
      "  -14.01357  ]\n",
      " ...\n",
      " [-11.317475  -12.548751  -13.148487  ... -10.392235   -8.504415\n",
      "  -15.07613  ]\n",
      " [-15.020946  -14.013074  -16.860334  ... -12.2289915  -9.842502\n",
      "  -16.315878 ]\n",
      " [-14.729102  -14.73252   -14.377434  ... -11.801418  -10.748939\n",
      "  -18.005497 ]]\n",
      "SourceInfo(filepath='/home/mschulist/caples_sound/ARU_data/26-LEIA/Data/26-LEIA_20230613_170000.wav', shard_num=0, shard_len_s=-1.0)\n"
     ]
    },
    {
     "name": "stderr",
     "output_type": "stream",
     "text": [
      "  5%|██▍                                              | 797/16036 [16:39:07<314:59:07, 74.41s/it]"
     ]
    },
    {
     "name": "stdout",
     "output_type": "stream",
     "text": [
      "[[-10.596282   -9.91611   -11.4306555 ...  -9.893598   -8.399524\n",
      "  -15.387348 ]\n",
      " [-10.805365   -9.823225  -10.753471  ...  -9.403938   -7.6402664\n",
      "  -14.466958 ]\n",
      " [-11.378432  -12.141772  -12.304429  ... -10.114636   -7.8071394\n",
      "  -15.835414 ]\n",
      " ...\n",
      " [-12.626105  -13.074172  -12.112052  ... -11.071102   -7.2165976\n",
      "  -15.228434 ]\n",
      " [ -9.614859   -9.578097  -10.7604065 ... -10.1176     -8.210082\n",
      "  -14.638748 ]\n",
      " [-11.6339655 -13.799254  -11.5689    ... -11.34285   -11.511345\n",
      "  -16.912163 ]]\n",
      "SourceInfo(filepath='/home/mschulist/caples_sound/ARU_data/26-LEIA/Data/26-LEIA_20230610_203000.wav', shard_num=0, shard_len_s=-1.0)\n"
     ]
    },
    {
     "name": "stderr",
     "output_type": "stream",
     "text": [
      "  5%|██▍                                              | 798/16036 [16:40:23<317:53:36, 75.10s/it]"
     ]
    },
    {
     "name": "stdout",
     "output_type": "stream",
     "text": [
      "[[-13.54715   -11.140672  -12.3145895 ... -12.061939  -10.941448\n",
      "  -15.61971  ]\n",
      " [-13.372463  -11.057418  -12.079848  ... -10.642376   -9.283504\n",
      "  -16.820675 ]\n",
      " [-12.29308   -11.528449  -12.868394  ...  -8.6736965  -7.572256\n",
      "  -13.315017 ]\n",
      " ...\n",
      " [-12.61968   -10.400001  -13.690714  ... -10.572462   -8.856981\n",
      "  -15.192913 ]\n",
      " [-14.692034  -12.531814  -16.249504  ... -11.476341  -11.643422\n",
      "  -16.087334 ]\n",
      " [-11.958611  -10.902707  -16.174053  ... -10.744019   -9.989375\n",
      "  -16.253094 ]]\n",
      "SourceInfo(filepath='/home/mschulist/caples_sound/ARU_data/26-LEIA/Data/26-LEIA_20230613_003000.wav', shard_num=0, shard_len_s=-1.0)\n"
     ]
    },
    {
     "name": "stderr",
     "output_type": "stream",
     "text": [
      "  5%|██▍                                              | 799/16036 [16:41:39<318:55:54, 75.35s/it]"
     ]
    },
    {
     "name": "stdout",
     "output_type": "stream",
     "text": [
      "[[ -9.146458 -10.65506   -9.673386 ...  -8.619813  -6.34311  -13.032691]\n",
      " [-11.67788  -10.07427  -11.096744 ... -10.07298   -7.919242 -13.753658]\n",
      " [-13.422886 -11.180369 -12.360133 ... -10.875587  -8.721124 -13.983665]\n",
      " ...\n",
      " [ -7.733208 -10.36131  -10.202897 ...  -9.00947   -5.881411 -13.755469]\n",
      " [-11.224847 -10.577198 -10.181644 ... -10.119648  -8.226791 -15.444391]\n",
      " [-12.273417 -10.302534  -9.442794 ...  -8.081999  -7.054596 -13.203509]]\n",
      "SourceInfo(filepath='/home/mschulist/caples_sound/ARU_data/26-LEIA/Data/26-LEIA_20230620_070000.wav', shard_num=0, shard_len_s=-1.0)\n"
     ]
    },
    {
     "name": "stderr",
     "output_type": "stream",
     "text": [
      "  5%|██▍                                              | 800/16036 [16:42:54<318:06:00, 75.16s/it]"
     ]
    },
    {
     "name": "stdout",
     "output_type": "stream",
     "text": [
      "[[-13.644101  -12.925187  -14.91963   ... -11.827191  -10.633108\n",
      "  -16.94311  ]\n",
      " [-12.986469  -10.801236  -11.110449  ...  -8.227648   -6.5904555\n",
      "  -14.93638  ]\n",
      " [-10.249213   -9.474267  -12.255242  ...  -8.144894   -7.155407\n",
      "  -13.888731 ]\n",
      " ...\n",
      " [-13.338283  -11.276911  -13.755201  ...  -7.7527285  -8.467926\n",
      "  -14.6646805]\n",
      " [-12.331214  -12.0422535 -11.091514  ...  -9.295107   -9.99614\n",
      "  -15.324406 ]\n",
      " [-14.040988  -12.362623   -8.930108  ...  -9.661058   -9.58856\n",
      "  -14.691147 ]]\n",
      "SourceInfo(filepath='/home/mschulist/caples_sound/ARU_data/26-LEIA/Data/26-LEIA_20230608_213000.wav', shard_num=0, shard_len_s=-1.0)\n"
     ]
    },
    {
     "name": "stderr",
     "output_type": "stream",
     "text": [
      "  5%|██▍                                              | 801/16036 [16:44:08<317:11:28, 74.95s/it]"
     ]
    },
    {
     "name": "stdout",
     "output_type": "stream",
     "text": [
      "[[-13.362769  -11.55502   -11.678108  ... -10.072576   -7.9960794\n",
      "  -16.019073 ]\n",
      " [-13.583325  -11.54612   -11.534561  ... -10.213544   -8.761424\n",
      "  -17.11713  ]\n",
      " [-14.809191  -11.681918  -11.625323  ... -10.70108    -8.112514\n",
      "  -16.37257  ]\n",
      " ...\n",
      " [-14.182392  -11.871352  -12.394471  ... -10.335918   -8.021625\n",
      "  -16.125648 ]\n",
      " [-16.552853  -13.080168  -13.401349  ... -11.975877   -9.265527\n",
      "  -17.148819 ]\n",
      " [-14.478841  -11.534188  -11.902097  ... -10.473043   -7.9253654\n",
      "  -15.579096 ]]\n",
      "SourceInfo(filepath='/home/mschulist/caples_sound/ARU_data/26-LEIA/Data/26-LEIA_20230617_220000.wav', shard_num=0, shard_len_s=-1.0)\n"
     ]
    },
    {
     "name": "stderr",
     "output_type": "stream",
     "text": [
      "  5%|██▍                                              | 802/16036 [16:45:23<316:18:24, 74.75s/it]"
     ]
    },
    {
     "name": "stdout",
     "output_type": "stream",
     "text": [
      "[[-13.257447  -12.355445  -11.968367  ... -10.178233   -8.543837\n",
      "  -16.07812  ]\n",
      " [-12.398871  -12.333896  -11.644917  ...  -7.5682216  -7.837718\n",
      "  -14.909961 ]\n",
      " [-12.274791  -11.5366    -11.291878  ...  -9.799721   -8.800649\n",
      "  -15.225008 ]\n",
      " ...\n",
      " [-12.389129  -11.577476  -12.527573  ...  -9.267207   -8.218227\n",
      "  -16.147976 ]\n",
      " [-14.280615  -13.4650955 -12.680547  ... -10.254117   -9.472399\n",
      "  -17.85562  ]\n",
      " [-10.530364  -11.5962305 -10.714733  ...  -9.154794   -7.2615023\n",
      "  -14.972798 ]]\n",
      "SourceInfo(filepath='/home/mschulist/caples_sound/ARU_data/26-LEIA/Data/26-LEIA_20230620_183000.wav', shard_num=0, shard_len_s=-1.0)\n"
     ]
    },
    {
     "name": "stderr",
     "output_type": "stream",
     "text": [
      "  5%|██▍                                              | 803/16036 [16:46:37<316:20:42, 74.76s/it]"
     ]
    },
    {
     "name": "stdout",
     "output_type": "stream",
     "text": [
      "[[-14.12304   -12.539192  -11.327435  ...  -9.654142   -9.477273\n",
      "  -14.379922 ]\n",
      " [-10.882598  -10.033998   -9.832158  ...  -9.46006    -6.9707384\n",
      "  -13.587951 ]\n",
      " [-11.877233  -10.874237  -11.438695  ...  -8.9526615  -8.1207905\n",
      "  -15.048268 ]\n",
      " ...\n",
      " [-13.392541  -11.135248  -12.149876  ...  -9.334007   -7.583205\n",
      "  -14.678879 ]\n",
      " [-16.876202  -12.805647  -13.177813  ... -11.417923   -7.33492\n",
      "  -16.76197  ]\n",
      " [-12.7358675 -11.02189   -10.406192  ... -10.294466   -7.5130444\n",
      "  -16.079659 ]]\n",
      "SourceInfo(filepath='/home/mschulist/caples_sound/ARU_data/26-LEIA/Data/26-LEIA_20230614_020000.wav', shard_num=0, shard_len_s=-1.0)\n"
     ]
    },
    {
     "name": "stderr",
     "output_type": "stream",
     "text": [
      "  5%|██▍                                              | 804/16036 [16:47:51<314:51:48, 74.42s/it]"
     ]
    },
    {
     "name": "stdout",
     "output_type": "stream",
     "text": [
      "[[-13.362599  -11.693339  -12.065504  ...  -9.288171   -8.104683\n",
      "  -15.97792  ]\n",
      " [-14.695235  -11.649846  -12.420706  ...  -9.835669   -8.233329\n",
      "  -16.737095 ]\n",
      " [-12.481564   -9.771329  -12.276574  ...  -8.400076   -7.8279552\n",
      "  -15.395641 ]\n",
      " ...\n",
      " [-13.1198435 -10.545098  -12.805979  ...  -9.288047   -8.228882\n",
      "  -15.625738 ]\n",
      " [-12.171669  -11.173148  -11.683817  ...  -9.904141   -7.502866\n",
      "  -15.872691 ]\n",
      " [-14.440926  -11.0677395 -11.994034  ...  -9.682068   -8.242436\n",
      "  -15.022282 ]]\n",
      "SourceInfo(filepath='/home/mschulist/caples_sound/ARU_data/26-LEIA/Data/26-LEIA_20230613_083000.wav', shard_num=0, shard_len_s=-1.0)\n"
     ]
    },
    {
     "name": "stderr",
     "output_type": "stream",
     "text": [
      "  5%|██▍                                              | 805/16036 [16:49:05<313:39:15, 74.14s/it]"
     ]
    },
    {
     "name": "stdout",
     "output_type": "stream",
     "text": [
      "[[-13.977967  -12.182506  -14.254235  ...  -8.477626   -6.7392435\n",
      "  -11.292948 ]\n",
      " [-12.520442  -13.71901   -13.359284  ...  -7.9059806  -7.8279123\n",
      "  -10.825153 ]\n",
      " [-13.648999  -11.442062  -13.415335  ...  -6.477668   -5.649342\n",
      "  -11.008757 ]\n",
      " ...\n",
      " [-11.814136  -13.128266  -12.272792  ... -11.050888  -10.355382\n",
      "  -15.6166315]\n",
      " [-14.263753  -10.730933  -12.37926   ... -11.376082   -9.450652\n",
      "  -15.61164  ]\n",
      " [-12.073791  -11.99487   -13.150463  ... -11.941683  -10.792011\n",
      "  -15.747654 ]]\n",
      "SourceInfo(filepath='/home/mschulist/caples_sound/ARU_data/26-LEIA/Data/26-LEIA_20230614_060000.wav', shard_num=0, shard_len_s=-1.0)\n"
     ]
    },
    {
     "name": "stderr",
     "output_type": "stream",
     "text": [
      "  5%|██▍                                              | 806/16036 [16:50:17<311:36:09, 73.66s/it]"
     ]
    },
    {
     "name": "stdout",
     "output_type": "stream",
     "text": [
      "[[-13.263602  -11.789853  -14.300952  ... -12.647643   -8.562171\n",
      "  -14.336397 ]\n",
      " [-14.754956  -11.873435  -11.6347475 ...  -7.733761   -4.5642796\n",
      "  -14.041006 ]\n",
      " [-14.695263  -12.956704  -14.516996  ... -13.697575  -11.572097\n",
      "  -17.224174 ]\n",
      " ...\n",
      " [-12.910836  -12.953786  -12.377148  ...  -9.7998295  -9.636928\n",
      "  -16.173107 ]\n",
      " [-15.009629  -12.926005  -14.410571  ...  -9.802657   -7.9811316\n",
      "  -15.830435 ]\n",
      " [-11.9800205 -10.997445  -12.482471  ...  -8.100674   -5.3594236\n",
      "  -13.272833 ]]\n",
      "SourceInfo(filepath='/home/mschulist/caples_sound/ARU_data/26-LEIA/Data/26-LEIA_20230619_230000.wav', shard_num=0, shard_len_s=-1.0)\n"
     ]
    },
    {
     "name": "stderr",
     "output_type": "stream",
     "text": [
      "  5%|██▍                                              | 807/16036 [16:51:30<310:05:53, 73.30s/it]"
     ]
    },
    {
     "name": "stdout",
     "output_type": "stream",
     "text": [
      "[[-12.520836  -10.45715   -10.995528  ...  -9.162206   -8.841729\n",
      "  -15.162703 ]\n",
      " [-11.666611  -11.71715   -10.82621   ...  -9.561354   -7.5491495\n",
      "  -14.935671 ]\n",
      " [-12.210426  -12.663324  -10.502213  ...  -7.8263493  -6.656739\n",
      "  -14.901334 ]\n",
      " ...\n",
      " [-12.818318  -10.718303  -10.798324  ...  -8.501384   -7.1543427\n",
      "  -14.21853  ]\n",
      " [-11.903201  -11.167853  -10.667376  ...  -9.44059    -7.281971\n",
      "  -15.237982 ]\n",
      " [-13.291474  -12.422052  -11.467706  ...  -8.758395   -8.082254\n",
      "  -15.929067 ]]\n",
      "SourceInfo(filepath='/home/mschulist/caples_sound/ARU_data/26-LEIA/Data/26-LEIA_20230613_233000.wav', shard_num=0, shard_len_s=-1.0)\n"
     ]
    },
    {
     "name": "stderr",
     "output_type": "stream",
     "text": [
      "  5%|██▍                                              | 808/16036 [16:52:38<304:21:16, 71.95s/it]"
     ]
    },
    {
     "name": "stdout",
     "output_type": "stream",
     "text": [
      "[[-13.485819  -11.684806  -11.923775  ... -10.304106   -9.130075\n",
      "  -15.963709 ]\n",
      " [-13.355126  -10.464124  -11.320562  ...  -9.186081   -7.960166\n",
      "  -15.636555 ]\n",
      " [-13.101528  -10.838314  -11.83147   ...  -9.556198   -7.3948135\n",
      "  -15.617223 ]\n",
      " ...\n",
      " [-12.95608   -10.695544  -11.368528  ...  -8.399871   -7.7729797\n",
      "  -14.618271 ]\n",
      " [-13.352294  -10.827478  -12.072175  ...  -9.50629    -8.186854\n",
      "  -15.62448  ]\n",
      " [-14.465781  -11.254156  -12.819013  ...  -9.404345   -8.006303\n",
      "  -15.8971405]]\n",
      "SourceInfo(filepath='/home/mschulist/caples_sound/ARU_data/26-LEIA/Data/26-LEIA_20230608_023000.wav', shard_num=0, shard_len_s=-1.0)\n"
     ]
    },
    {
     "name": "stderr",
     "output_type": "stream",
     "text": [
      "  5%|██▍                                              | 809/16036 [16:53:50<303:31:00, 71.76s/it]"
     ]
    },
    {
     "name": "stdout",
     "output_type": "stream",
     "text": [
      "[[-11.391713  -11.351899  -10.684996  ...  -9.487963   -8.263802\n",
      "  -15.1136055]\n",
      " [-12.517776  -11.77052   -12.25418   ... -10.2215805  -8.406255\n",
      "  -15.278868 ]\n",
      " [-14.826722  -12.476609  -12.5218935 ... -10.929081   -7.8903074\n",
      "  -16.815304 ]\n",
      " ...\n",
      " [-13.230905  -10.751642  -10.069532  ... -11.433741   -8.292208\n",
      "  -15.665205 ]\n",
      " [-14.406791  -12.060468  -12.280287  ... -10.842913   -7.731124\n",
      "  -16.613083 ]\n",
      " [-13.189851  -11.731874  -11.842647  ... -10.141014   -7.81804\n",
      "  -15.747135 ]]\n",
      "SourceInfo(filepath='/home/mschulist/caples_sound/ARU_data/26-LEIA/Data/26-LEIA_20230610_033000.wav', shard_num=0, shard_len_s=-1.0)\n"
     ]
    },
    {
     "name": "stderr",
     "output_type": "stream",
     "text": [
      "  5%|██▍                                              | 810/16036 [16:55:04<307:19:42, 72.66s/it]"
     ]
    },
    {
     "name": "stdout",
     "output_type": "stream",
     "text": [
      "[[-15.674907  -12.2960615 -13.291607  ... -10.831187   -9.110032\n",
      "  -16.558535 ]\n",
      " [-15.02052   -12.591777  -12.615369  ... -11.040642   -8.757953\n",
      "  -16.254467 ]\n",
      " [-16.800285  -13.2696295 -14.363538  ... -11.385035   -9.608162\n",
      "  -17.327791 ]\n",
      " ...\n",
      " [-15.348561  -11.68175   -13.04258   ... -10.857665   -9.396092\n",
      "  -16.622087 ]\n",
      " [-14.936706  -11.841824  -12.337084  ... -10.592936   -9.166253\n",
      "  -15.870029 ]\n",
      " [-14.622573  -11.755683  -12.593313  ... -10.669789   -8.05511\n",
      "  -16.077736 ]]\n",
      "SourceInfo(filepath='/home/mschulist/caples_sound/ARU_data/26-LEIA/Data/26-LEIA_20230617_090000.wav', shard_num=0, shard_len_s=-1.0)\n"
     ]
    },
    {
     "name": "stderr",
     "output_type": "stream",
     "text": [
      "  5%|██▍                                              | 811/16036 [16:56:18<308:04:42, 72.85s/it]"
     ]
    },
    {
     "name": "stdout",
     "output_type": "stream",
     "text": [
      "[[-10.523896  -10.92939   -14.013741  ... -12.001096   -8.120987\n",
      "  -12.171863 ]\n",
      " [-11.820404  -10.252749  -11.55976   ...  -8.776066   -7.340398\n",
      "  -15.837942 ]\n",
      " [-12.850181  -12.231747  -14.906641  ... -10.381859   -6.9665937\n",
      "  -12.874857 ]\n",
      " ...\n",
      " [-12.331934  -11.559094  -14.105239  ...  -8.306938   -6.5403786\n",
      "  -12.724867 ]\n",
      " [-10.749572   -9.559064  -11.811616  ...  -8.675968   -9.692769\n",
      "  -13.863878 ]\n",
      " [-11.058174   -9.304433  -11.083673  ... -10.592051   -4.9626427\n",
      "  -11.2414   ]]\n",
      "SourceInfo(filepath='/home/mschulist/caples_sound/ARU_data/26-LEIA/Data/26-LEIA_20230610_073000.wav', shard_num=0, shard_len_s=-1.0)\n"
     ]
    },
    {
     "name": "stderr",
     "output_type": "stream",
     "text": [
      "  5%|██▍                                              | 812/16036 [16:57:31<308:50:20, 73.03s/it]"
     ]
    },
    {
     "name": "stdout",
     "output_type": "stream",
     "text": [
      "[[-10.622109  -10.547477   -9.65328   ...  -9.20046    -8.9010725\n",
      "  -11.16766  ]\n",
      " [ -8.976067  -11.082916  -10.486944  ...  -8.010374   -6.559504\n",
      "  -13.130129 ]\n",
      " [-10.692553   -9.905586  -10.026223  ...  -9.698996   -8.125855\n",
      "  -14.371347 ]\n",
      " ...\n",
      " [-10.276126  -11.123976  -12.493967  ...  -8.721516   -8.156694\n",
      "  -15.714071 ]\n",
      " [-11.566445  -11.994205  -13.1524105 ...  -9.321223  -11.293148\n",
      "  -13.587022 ]\n",
      " [-10.692451   -6.011677  -12.362797  ...  -9.826124  -10.10402\n",
      "  -12.111938 ]]\n",
      "SourceInfo(filepath='/home/mschulist/caples_sound/ARU_data/26-LEIA/Data/26-LEIA_20230619_080000.wav', shard_num=0, shard_len_s=-1.0)\n"
     ]
    },
    {
     "name": "stderr",
     "output_type": "stream",
     "text": [
      "  5%|██▍                                              | 813/16036 [16:58:45<309:27:00, 73.18s/it]"
     ]
    },
    {
     "name": "stdout",
     "output_type": "stream",
     "text": [
      "[[ -9.70159   -11.230234  -12.702331  ...  -9.570049   -9.258761\n",
      "  -16.289917 ]\n",
      " [-10.726268  -11.678125  -13.632249  ... -10.0285225  -8.94674\n",
      "  -17.4398   ]\n",
      " [-10.796756  -11.792624  -12.771099  ...  -9.37388    -8.324561\n",
      "  -16.20434  ]\n",
      " ...\n",
      " [ -9.25642   -11.796029  -13.362497  ...  -9.585789   -7.8896265\n",
      "  -16.455227 ]\n",
      " [ -9.430292  -10.971159  -12.261742  ...  -8.66901    -8.52507\n",
      "  -15.437403 ]\n",
      " [ -9.969886  -12.8205385 -13.035787  ...  -8.188759  -10.118317\n",
      "  -15.76113  ]]\n",
      "SourceInfo(filepath='/home/mschulist/caples_sound/ARU_data/26-LEIA/Data/26-LEIA_20230610_100000.wav', shard_num=0, shard_len_s=-1.0)\n"
     ]
    },
    {
     "name": "stderr",
     "output_type": "stream",
     "text": [
      "  5%|██▍                                              | 814/16036 [16:59:56<307:31:19, 72.73s/it]"
     ]
    },
    {
     "name": "stdout",
     "output_type": "stream",
     "text": [
      "[[-11.227691 -10.839641 -14.049901 ...  -9.217672  -9.776075 -14.874374]\n",
      " [-14.579789 -12.59986  -13.2036   ... -13.588999 -11.73175  -16.971874]\n",
      " [-11.936748 -11.207655 -13.506847 ... -10.392228  -9.849206 -13.689093]\n",
      " ...\n",
      " [-11.268462 -13.100597 -12.956148 ...  -9.715215  -8.131052 -17.92138 ]\n",
      " [-12.436827 -11.149934 -12.024862 ... -10.226574  -7.560874 -18.290915]\n",
      " [ -9.72629  -11.020329 -11.73211  ...  -9.389439  -9.359493 -15.662491]]\n",
      "SourceInfo(filepath='/home/mschulist/caples_sound/ARU_data/26-LEIA/Data/26-LEIA_20230620_200000.wav', shard_num=0, shard_len_s=-1.0)\n"
     ]
    },
    {
     "name": "stderr",
     "output_type": "stream",
     "text": [
      "  5%|██▍                                              | 815/16036 [17:01:11<309:34:21, 73.22s/it]"
     ]
    },
    {
     "name": "stdout",
     "output_type": "stream",
     "text": [
      "[[-20.536083  -18.966873  -15.0414715 ... -15.399902  -12.517911\n",
      "  -20.519676 ]\n",
      " [-14.765789  -12.792642  -13.596502  ... -12.2613735  -6.5409193\n",
      "  -13.392096 ]\n",
      " [-14.995579  -14.200535  -12.80798   ... -11.951886   -8.607036\n",
      "  -14.445785 ]\n",
      " ...\n",
      " [-12.824389  -11.0199175  -9.785312  ... -10.978548   -9.7917385\n",
      "  -15.255028 ]\n",
      " [-16.735378  -13.465854  -15.246056  ... -12.014485   -6.0681825\n",
      "  -13.859705 ]\n",
      " [-14.86114   -12.6067295 -16.243383  ... -11.537131   -8.999091\n",
      "  -13.82742  ]]\n",
      "SourceInfo(filepath='/home/mschulist/caples_sound/ARU_data/26-LEIA/Data/26-LEIA_20230608_063000.wav', shard_num=0, shard_len_s=-1.0)\n"
     ]
    },
    {
     "name": "stderr",
     "output_type": "stream",
     "text": [
      "  5%|██▍                                              | 816/16036 [17:02:26<312:21:18, 73.88s/it]"
     ]
    },
    {
     "name": "stdout",
     "output_type": "stream",
     "text": [
      "[[-11.57734   -10.659323  -10.870398  ... -11.58532    -9.804173\n",
      "  -12.335248 ]\n",
      " [-11.259036   -7.4516096  -9.156443  ... -12.716099  -10.146565\n",
      "   -9.499996 ]\n",
      " [-13.709384  -10.690485  -10.79616   ... -10.124239   -9.536295\n",
      "   -9.54618  ]\n",
      " ...\n",
      " [-10.49917    -9.2137375 -10.628413  ...  -9.624131   -8.682932\n",
      "  -13.325711 ]\n",
      " [-10.37585   -11.624362  -10.834507  ...  -9.575541   -7.200389\n",
      "   -8.551193 ]\n",
      " [ -9.308044  -11.017892  -10.880136  ... -11.544986   -9.899704\n",
      "  -11.509193 ]]\n",
      "SourceInfo(filepath='/home/mschulist/caples_sound/ARU_data/26-LEIA/Data/26-LEIA_20230617_050000.wav', shard_num=0, shard_len_s=-1.0)\n"
     ]
    },
    {
     "name": "stderr",
     "output_type": "stream",
     "text": [
      "  5%|██▍                                              | 817/16036 [17:03:39<311:07:46, 73.60s/it]"
     ]
    },
    {
     "name": "stdout",
     "output_type": "stream",
     "text": [
      "[[-13.632986  -12.5885    -15.061325  ...  -9.610844   -8.853079\n",
      "  -12.120134 ]\n",
      " [-13.174677  -11.995591  -12.964847  ...  -9.51227    -9.655851\n",
      "  -14.052807 ]\n",
      " [-17.182983  -11.392765  -15.763489  ... -12.706107  -11.392283\n",
      "  -14.868212 ]\n",
      " ...\n",
      " [-12.901998  -13.524965  -13.816712  ... -10.553087   -9.005265\n",
      "  -15.061569 ]\n",
      " [-14.961492  -12.566232  -12.0714655 ...  -8.351557   -5.4226284\n",
      "  -12.15638  ]\n",
      " [-14.646089  -12.223558  -14.985796  ... -10.889517   -8.9626665\n",
      "  -16.683146 ]]\n",
      "SourceInfo(filepath='/home/mschulist/caples_sound/ARU_data/26-LEIA/Data/26-LEIA_20230608_190000.wav', shard_num=0, shard_len_s=-1.0)\n"
     ]
    },
    {
     "name": "stderr",
     "output_type": "stream",
     "text": [
      "  5%|██▍                                              | 818/16036 [17:04:54<312:38:16, 73.96s/it]"
     ]
    },
    {
     "name": "stdout",
     "output_type": "stream",
     "text": [
      "[[-10.543728  -11.48403   -12.106626  ... -10.528988   -8.696724\n",
      "  -15.896395 ]\n",
      " [-11.8830185 -12.369277  -11.764479  ... -12.988657  -12.887556\n",
      "  -15.084821 ]\n",
      " [-13.222156  -15.2328205 -12.365939  ... -11.506475  -11.036518\n",
      "  -15.391627 ]\n",
      " ...\n",
      " [-17.133125  -12.181797  -14.20981   ... -12.047832  -10.749522\n",
      "  -18.556217 ]\n",
      " [-15.251172  -10.912379  -14.262166  ... -11.13599   -10.837139\n",
      "  -17.669567 ]\n",
      " [-14.861368  -10.531157  -12.351684  ... -10.448881   -8.71686\n",
      "  -16.369667 ]]\n",
      "SourceInfo(filepath='/home/mschulist/caples_sound/ARU_data/26-LEIA/Data/26-LEIA_20230619_000000.wav', shard_num=0, shard_len_s=-1.0)\n"
     ]
    },
    {
     "name": "stderr",
     "output_type": "stream",
     "text": [
      "  5%|██▌                                              | 819/16036 [17:06:06<309:38:29, 73.25s/it]"
     ]
    },
    {
     "name": "stdout",
     "output_type": "stream",
     "text": [
      "[[ -8.203487  -10.453254  -11.408518  ...  -8.357225   -7.741416\n",
      "  -13.747154 ]\n",
      " [ -9.469309  -12.009492  -12.824382  ...  -9.167637   -8.162096\n",
      "  -15.004976 ]\n",
      " [ -9.184855  -10.849382  -11.936116  ...  -9.18473    -8.134615\n",
      "  -15.079973 ]\n",
      " ...\n",
      " [ -8.055641  -12.034679  -11.646978  ...  -8.988878   -8.452666\n",
      "  -13.796219 ]\n",
      " [ -9.331558  -11.971272  -12.20138   ...  -9.420959   -8.32704\n",
      "  -15.351274 ]\n",
      " [ -9.02604   -11.740327  -12.623395  ...  -9.330118   -8.573657\n",
      "  -15.5045185]]\n",
      "SourceInfo(filepath='/home/mschulist/caples_sound/ARU_data/26-LEIA/Data/26-LEIA_20230610_180000.wav', shard_num=0, shard_len_s=-1.0)\n"
     ]
    },
    {
     "name": "stderr",
     "output_type": "stream",
     "text": [
      "  5%|██▌                                              | 820/16036 [17:07:20<311:18:50, 73.65s/it]"
     ]
    },
    {
     "name": "stdout",
     "output_type": "stream",
     "text": [
      "[[-15.009105 -12.118188 -12.585146 ... -10.921969  -9.415729 -16.292267]\n",
      " [-13.621173 -11.69642  -12.36177  ...  -9.890522  -9.00161  -16.230446]\n",
      " [-13.814733 -11.778763 -11.725194 ...  -9.911596  -8.479357 -15.449274]\n",
      " ...\n",
      " [-14.203348 -11.84809  -11.958288 ...  -9.924084  -8.69327  -16.159805]\n",
      " [-11.221011 -10.299594 -11.314492 ...  -8.939532  -8.495577 -13.173107]\n",
      " [-12.57071  -10.64965  -10.518724 ...  -9.292589  -7.999242 -14.054818]]\n",
      "SourceInfo(filepath='/home/mschulist/caples_sound/ARU_data/26-LEIA/Data/26-LEIA_20230619_173000.wav', shard_num=0, shard_len_s=-1.0)\n"
     ]
    },
    {
     "name": "stderr",
     "output_type": "stream",
     "text": [
      "  5%|██▌                                              | 821/16036 [17:08:36<314:25:15, 74.39s/it]"
     ]
    },
    {
     "name": "stdout",
     "output_type": "stream",
     "text": [
      "[[ -9.059884  -11.760059  -10.98245   ...  -9.153046   -9.742259\n",
      "  -15.770713 ]\n",
      " [ -9.7827835 -11.923352  -13.273925  ... -10.343449   -7.78353\n",
      "  -13.342427 ]\n",
      " [-10.165332  -12.812699  -14.222216  ...  -9.321361   -8.040978\n",
      "  -14.721329 ]\n",
      " ...\n",
      " [-11.850546  -11.4062195 -14.313551  ...  -6.912176   -8.899574\n",
      "  -13.834007 ]\n",
      " [-12.832701  -12.083993  -11.588281  ...  -9.704602   -8.191176\n",
      "  -15.357104 ]\n",
      " [-13.008974  -13.022326  -12.787349  ...  -9.940799   -8.199318\n",
      "  -16.527157 ]]\n",
      "SourceInfo(filepath='/home/mschulist/caples_sound/ARU_data/26-LEIA/Data/26-LEIA_20230617_163000.wav', shard_num=0, shard_len_s=-1.0)\n"
     ]
    },
    {
     "name": "stderr",
     "output_type": "stream",
     "text": [
      "  5%|██▌                                              | 822/16036 [17:09:52<315:43:04, 74.71s/it]"
     ]
    },
    {
     "name": "stdout",
     "output_type": "stream",
     "text": [
      "[[-13.661889  -14.278853  -18.301586  ... -13.6774235 -10.236102\n",
      "  -16.595558 ]\n",
      " [-11.863029  -11.3821945 -12.282668  ...  -8.369206   -8.899886\n",
      "  -14.686657 ]\n",
      " [-10.7347975 -11.284064  -10.8368845 ...  -9.984571   -7.598489\n",
      "  -14.674211 ]\n",
      " ...\n",
      " [-10.312598  -12.668246  -13.762088  ... -10.043645   -8.8526325\n",
      "  -16.907364 ]\n",
      " [-11.8434105 -12.059938  -13.0639105 ...  -9.572004   -9.119551\n",
      "  -15.306847 ]\n",
      " [-11.22582   -11.19329   -11.820776  ...  -5.9428177  -7.092869\n",
      "  -13.071156 ]]\n",
      "SourceInfo(filepath='/home/mschulist/caples_sound/ARU_data/26-LEIA/Data/26-LEIA_20230614_210000.wav', shard_num=0, shard_len_s=-1.0)\n"
     ]
    },
    {
     "name": "stderr",
     "output_type": "stream",
     "text": [
      "  5%|██▌                                              | 823/16036 [17:11:07<315:59:07, 74.77s/it]"
     ]
    },
    {
     "name": "stdout",
     "output_type": "stream",
     "text": [
      "[[-13.227784  -11.245129  -11.738728  ...  -9.095331   -8.257354\n",
      "  -15.844697 ]\n",
      " [-11.9465    -10.596296  -11.064508  ...  -8.654351   -7.703904\n",
      "  -15.360899 ]\n",
      " [-14.812729  -11.409711  -12.452215  ... -10.248367   -8.619352\n",
      "  -16.341835 ]\n",
      " ...\n",
      " [-13.919766  -12.108345  -12.132088  ...  -9.82992    -8.434292\n",
      "  -16.868965 ]\n",
      " [-11.724473  -10.102266  -10.524274  ...  -8.630316   -7.6395903\n",
      "  -14.757977 ]\n",
      " [-12.581204  -10.691059  -11.24592   ...  -9.201037   -8.152677\n",
      "  -15.692854 ]]\n",
      "SourceInfo(filepath='/home/mschulist/caples_sound/ARU_data/26-LEIA/Data/26-LEIA_20230617_010000.wav', shard_num=0, shard_len_s=-1.0)\n"
     ]
    },
    {
     "name": "stderr",
     "output_type": "stream",
     "text": [
      "  5%|██▌                                              | 824/16036 [17:12:19<313:13:34, 74.13s/it]"
     ]
    },
    {
     "name": "stdout",
     "output_type": "stream",
     "text": [
      "[[-14.326379  -11.341783  -11.010332  ...  -9.753618   -8.665941\n",
      "  -13.669102 ]\n",
      " [-14.549018  -10.807885   -9.509472  ...  -9.069845   -7.5821085\n",
      "  -12.805271 ]\n",
      " [-15.412969  -10.297677  -10.379923  ...  -9.928155   -8.933212\n",
      "  -12.325564 ]\n",
      " ...\n",
      " [-14.912454  -11.547016  -12.9304495 ...  -9.582804   -8.907243\n",
      "  -16.306786 ]\n",
      " [-15.903649  -12.110358  -13.827948  ... -10.458694   -9.265667\n",
      "  -16.427979 ]\n",
      " [-14.956613  -11.224676  -13.270125  ...  -9.671871   -9.318274\n",
      "  -16.214066 ]]\n",
      "SourceInfo(filepath='/home/mschulist/caples_sound/ARU_data/26-LEIA/Data/26-LEIA_20230619_040000.wav', shard_num=0, shard_len_s=-1.0)\n"
     ]
    },
    {
     "name": "stderr",
     "output_type": "stream",
     "text": [
      "  5%|██▌                                              | 825/16036 [17:13:34<313:25:52, 74.18s/it]"
     ]
    },
    {
     "name": "stdout",
     "output_type": "stream",
     "text": [
      "[[-11.151701  -12.396517  -11.28417   ... -10.072302   -8.363789\n",
      "  -14.951657 ]\n",
      " [-10.608571  -12.080215  -12.127652  ...  -9.360089   -7.7196074\n",
      "  -14.931633 ]\n",
      " [-11.578321  -12.531258  -11.529661  ...  -9.60738    -8.505872\n",
      "  -15.313906 ]\n",
      " ...\n",
      " [-10.2400465 -11.769725  -13.017704  ...  -9.396198   -8.222642\n",
      "  -16.116865 ]\n",
      " [ -9.947097  -11.323327  -12.650887  ...  -8.825792   -7.7706842\n",
      "  -15.67722  ]\n",
      " [-11.196122  -12.113122  -12.288118  ...  -9.666599   -8.745677\n",
      "  -16.10784  ]]\n",
      "SourceInfo(filepath='/home/mschulist/caples_sound/ARU_data/26-LEIA/Data/26-LEIA_20230614_003000.wav', shard_num=0, shard_len_s=-1.0)\n"
     ]
    },
    {
     "name": "stderr",
     "output_type": "stream",
     "text": [
      "  5%|██▌                                              | 826/16036 [17:14:48<313:11:59, 74.13s/it]"
     ]
    },
    {
     "name": "stdout",
     "output_type": "stream",
     "text": [
      "[[-12.943186  -10.8874445 -11.544683  ...  -9.486183   -8.238223\n",
      "  -14.79103  ]\n",
      " [-13.461291  -11.369394  -12.094241  ...  -9.09648    -7.5822744\n",
      "  -16.332525 ]\n",
      " [-11.526291  -10.3146105 -10.3987255 ...  -8.507036   -7.427374\n",
      "  -15.041876 ]\n",
      " ...\n",
      " [-13.119077  -11.034806  -11.670216  ...  -8.841477   -7.725274\n",
      "  -15.11663  ]\n",
      " [-13.866014  -11.960869  -11.965263  ...  -9.358279   -7.898411\n",
      "  -16.462307 ]\n",
      " [-12.872186  -11.400509  -11.538495  ...  -8.868896   -8.05975\n",
      "  -15.637806 ]]\n",
      "SourceInfo(filepath='/home/mschulist/caples_sound/ARU_data/26-LEIA/Data/26-LEIA_20230617_203000.wav', shard_num=0, shard_len_s=-1.0)\n"
     ]
    },
    {
     "name": "stderr",
     "output_type": "stream",
     "text": [
      "  5%|██▌                                              | 827/16036 [17:16:02<314:03:24, 74.34s/it]"
     ]
    },
    {
     "name": "stdout",
     "output_type": "stream",
     "text": [
      "[[-15.302064  -13.3680105 -15.756907  ... -11.876572  -10.248545\n",
      "  -16.384846 ]\n",
      " [-14.815945   -8.420401  -14.887672  ...  -7.65986    -7.4403152\n",
      "  -14.638036 ]\n",
      " [-14.695126  -12.406233  -17.16466   ...  -9.498863   -6.755534\n",
      "  -11.330841 ]\n",
      " ...\n",
      " [-14.507794  -11.6633415 -12.701927  ...  -8.964054   -4.9387026\n",
      "  -13.108555 ]\n",
      " [-14.50674   -13.51314   -11.144336  ...  -7.3815985  -5.997905\n",
      "  -12.866642 ]\n",
      " [-10.697273  -10.204174  -10.994936  ...  -7.2615433  -6.0396795\n",
      "  -11.58363  ]]\n",
      "SourceInfo(filepath='/home/mschulist/caples_sound/ARU_data/26-LEIA/Data/26-LEIA_20230614_170000.wav', shard_num=0, shard_len_s=-1.0)\n"
     ]
    },
    {
     "name": "stderr",
     "output_type": "stream",
     "text": [
      "  5%|██▌                                              | 828/16036 [17:17:18<315:24:22, 74.66s/it]"
     ]
    },
    {
     "name": "stdout",
     "output_type": "stream",
     "text": [
      "[[-11.532947  -10.95475   -11.913269  ... -11.86276    -8.880212\n",
      "  -14.630179 ]\n",
      " [-12.716847  -13.642934  -13.916311  ... -12.186699  -10.692843\n",
      "  -18.303164 ]\n",
      " [-13.9353895 -11.553303  -12.77663   ... -10.353373   -8.862584\n",
      "  -15.918776 ]\n",
      " ...\n",
      " [-14.77764   -12.016204  -13.137072  ...  -9.461822   -8.058273\n",
      "  -15.945783 ]\n",
      " [-15.194797  -11.580236  -12.9276705 ...  -9.20723    -7.7240934\n",
      "  -16.468113 ]\n",
      " [-14.158329  -11.399455  -11.33198   ...  -9.47609    -7.208521\n",
      "  -15.304905 ]]\n",
      "SourceInfo(filepath='/home/mschulist/caples_sound/ARU_data/26-LEIA/Data/26-LEIA_20230619_213000.wav', shard_num=0, shard_len_s=-1.0)\n"
     ]
    },
    {
     "name": "stderr",
     "output_type": "stream",
     "text": [
      "  5%|██▌                                              | 829/16036 [17:18:29<310:29:35, 73.50s/it]"
     ]
    },
    {
     "name": "stdout",
     "output_type": "stream",
     "text": [
      "[[-14.394129  -11.247948  -12.273969  ...  -9.466533   -7.9747934\n",
      "  -15.888811 ]\n",
      " [-13.75663   -10.975339  -11.852016  ...  -9.063752   -7.4968805\n",
      "  -15.45734  ]\n",
      " [-13.580563  -11.218249  -11.893361  ...  -8.909246   -7.524472\n",
      "  -15.534829 ]\n",
      " ...\n",
      " [-13.3110285 -12.04515   -12.098139  ...  -9.810415   -8.534416\n",
      "  -15.53492  ]\n",
      " [-13.74681   -11.383172  -12.077517  ...  -9.300264   -7.396472\n",
      "  -15.211091 ]\n",
      " [-13.465883  -11.617111  -11.943754  ...  -9.495499   -8.053671\n",
      "  -15.803176 ]]\n",
      "SourceInfo(filepath='/home/mschulist/caples_sound/ARU_data/26-LEIA/Data/26-LEIA_20230613_193000.wav', shard_num=0, shard_len_s=-1.0)\n"
     ]
    },
    {
     "name": "stderr",
     "output_type": "stream",
     "text": [
      "  5%|██▌                                              | 830/16036 [17:19:44<313:25:22, 74.20s/it]"
     ]
    },
    {
     "name": "stdout",
     "output_type": "stream",
     "text": [
      "[[-14.852023  -10.874104  -12.815434  ...  -9.06863    -8.084381\n",
      "  -15.63497  ]\n",
      " [-15.695573  -11.439986  -15.49549   ... -10.1651745  -7.6281223\n",
      "  -15.547665 ]\n",
      " [-15.49336    -9.209707  -13.142683  ...  -7.9490294  -6.566537\n",
      "  -11.739034 ]\n",
      " ...\n",
      " [ -9.41558    -9.115221  -11.611822  ...  -9.013678   -6.027568\n",
      "   -9.879931 ]\n",
      " [-13.902083  -13.161307  -15.0247965 ...  -9.140805   -6.2035255\n",
      "  -12.147957 ]\n",
      " [-14.085493  -10.652668  -13.100458  ...  -8.50137    -5.600975\n",
      "  -13.010164 ]]\n",
      "SourceInfo(filepath='/home/mschulist/caples_sound/ARU_data/26-LEIA/Data/26-LEIA_20230620_093000.wav', shard_num=0, shard_len_s=-1.0)\n"
     ]
    },
    {
     "name": "stderr",
     "output_type": "stream",
     "text": [
      "  5%|██▌                                              | 831/16036 [17:21:02<317:17:18, 75.12s/it]"
     ]
    },
    {
     "name": "stdout",
     "output_type": "stream",
     "text": [
      "[[-14.150711  -10.021961  -12.574731  ...  -7.5655327  -8.958825\n",
      "  -12.050815 ]\n",
      " [-11.917954  -10.493531  -13.494434  ... -11.119076  -10.439276\n",
      "  -13.314974 ]\n",
      " [-13.380568  -10.585927  -13.415944  ...  -8.150658   -9.953483\n",
      "  -14.350915 ]\n",
      " ...\n",
      " [-14.285137  -11.436746  -12.481238  ...  -9.532283   -8.479168\n",
      "  -16.98171  ]\n",
      " [-10.939565   -9.607969  -11.435968  ...  -9.204169   -9.372301\n",
      "  -15.398094 ]\n",
      " [-13.543807  -10.548923  -12.281708  ...  -8.8107605  -8.4176035\n",
      "  -16.203552 ]]\n",
      "SourceInfo(filepath='/home/mschulist/caples_sound/ARU_data/26-LEIA/Data/26-LEIA_20230614_043000.wav', shard_num=0, shard_len_s=-1.0)\n"
     ]
    },
    {
     "name": "stderr",
     "output_type": "stream",
     "text": [
      "  5%|██▌                                              | 832/16036 [17:22:15<314:56:45, 74.57s/it]"
     ]
    },
    {
     "name": "stdout",
     "output_type": "stream",
     "text": [
      "[[-14.365127 -11.777566 -12.301126 ...  -9.699731  -8.107622 -15.737114]\n",
      " [-14.841666 -11.642331 -13.377361 ...  -9.789002  -8.838169 -17.177769]\n",
      " [-14.463538 -11.609571 -12.578998 ...  -9.866277  -8.501313 -16.240263]\n",
      " ...\n",
      " [-17.203918 -14.704409 -16.155222 ... -13.068641 -10.470443 -15.712933]\n",
      " [-14.647628 -13.76957  -13.979181 ... -10.314415  -9.909028 -13.924454]\n",
      " [-15.64377  -12.403948 -12.557239 ... -10.159599  -8.392906 -14.829415]]\n",
      "SourceInfo(filepath='/home/mschulist/caples_sound/ARU_data/26-LEIA/Data/26-LEIA_20230620_160000.wav', shard_num=0, shard_len_s=-1.0)\n"
     ]
    },
    {
     "name": "stderr",
     "output_type": "stream",
     "text": [
      "  5%|██▌                                              | 833/16036 [17:23:28<312:48:24, 74.07s/it]"
     ]
    },
    {
     "name": "stdout",
     "output_type": "stream",
     "text": [
      "[[-15.557926  -12.895193  -14.7749405 ... -10.454981  -10.705513\n",
      "  -17.857492 ]\n",
      " [-15.593548  -11.959361  -13.037413  ... -10.158047   -8.684132\n",
      "  -16.406101 ]\n",
      " [-12.7443075 -11.172811  -11.840285  ...  -8.89217    -8.052769\n",
      "  -16.075268 ]\n",
      " ...\n",
      " [-14.614845  -11.058389  -13.216307  ... -10.9214945  -8.903831\n",
      "  -17.225842 ]\n",
      " [-15.461949  -12.130159  -12.991282  ... -10.087028   -8.390247\n",
      "  -16.35122  ]\n",
      " [-14.871593  -11.252911  -12.341301  ...  -9.673926   -8.877287\n",
      "  -17.325542 ]]\n",
      "SourceInfo(filepath='/home/mschulist/caples_sound/ARU_data/26-LEIA/Data/26-LEIA_20230613_060000.wav', shard_num=0, shard_len_s=-1.0)\n"
     ]
    },
    {
     "name": "stderr",
     "output_type": "stream",
     "text": [
      "  5%|██▌                                              | 834/16036 [17:24:42<313:14:24, 74.18s/it]"
     ]
    },
    {
     "name": "stdout",
     "output_type": "stream",
     "text": [
      "[[-10.93846   -11.155629   -8.404189  ... -11.102002   -9.843978\n",
      "  -14.898585 ]\n",
      " [-11.881673  -12.4082365 -15.155487  ... -11.775966   -9.885996\n",
      "  -13.267382 ]\n",
      " [ -7.6059084 -12.353347  -13.696976  ... -15.665163  -15.834149\n",
      "  -18.803404 ]\n",
      " ...\n",
      " [ -9.966019  -12.81726   -14.540704  ... -12.567044  -10.135214\n",
      "  -15.491496 ]\n",
      " [-11.269497  -12.664138  -10.443726  ...  -9.551096   -7.255083\n",
      "  -14.349126 ]\n",
      " [-11.790654  -10.54292   -14.3620615 ... -11.899485  -10.310365\n",
      "  -17.34775  ]]\n",
      "SourceInfo(filepath='/home/mschulist/caples_sound/ARU_data/26-LEIA/Data/26-LEIA_20230620_013000.wav', shard_num=0, shard_len_s=-1.0)\n"
     ]
    },
    {
     "name": "stderr",
     "output_type": "stream",
     "text": [
      "  5%|██▌                                              | 835/16036 [17:25:57<313:23:13, 74.22s/it]"
     ]
    },
    {
     "name": "stdout",
     "output_type": "stream",
     "text": [
      "[[-14.448865  -10.989154  -11.19684   ...  -9.551004   -7.6358337\n",
      "  -14.817565 ]\n",
      " [-15.773658  -11.649226  -13.236511  ... -10.225581   -8.1623335\n",
      "  -16.340054 ]\n",
      " [-14.914512  -11.05476   -12.652421  ...  -9.75204    -8.317361\n",
      "  -16.277206 ]\n",
      " ...\n",
      " [-15.611908  -12.144248  -12.624205  ... -10.004636   -9.399372\n",
      "  -17.19643  ]\n",
      " [-13.438582  -11.076913  -11.898368  ...  -9.549873   -7.865572\n",
      "  -15.147856 ]\n",
      " [-14.3650055 -11.450389  -12.337296  ... -10.211311   -8.548065\n",
      "  -16.302538 ]]\n",
      "SourceInfo(filepath='/home/mschulist/caples_sound/ARU_data/26-LEIA/Data/26-LEIA_20230614_083000.wav', shard_num=0, shard_len_s=-1.0)\n"
     ]
    },
    {
     "name": "stderr",
     "output_type": "stream",
     "text": [
      "  5%|██▌                                              | 836/16036 [17:27:12<314:16:22, 74.43s/it]"
     ]
    },
    {
     "name": "stdout",
     "output_type": "stream",
     "text": [
      "[[-10.96076  -11.199492 -11.016994 ... -11.556231 -10.488005 -16.66169 ]\n",
      " [-11.949261 -12.116582 -15.422003 ... -10.154783  -7.917266 -14.574616]\n",
      " [ -9.669242 -11.292841 -12.537032 ... -11.921077 -10.05842  -17.393286]\n",
      " ...\n",
      " [-11.541824 -13.091985 -13.298853 ...  -9.037046  -8.155611 -14.421211]\n",
      " [-11.030436 -10.218941 -11.078102 ...  -9.200232  -8.04867  -16.144394]\n",
      " [-11.743971 -10.832812 -12.598836 ... -11.700753  -9.520008 -15.062103]]\n",
      "SourceInfo(filepath='/home/mschulist/caples_sound/ARU_data/26-LEIA/Data/26-LEIA_20230608_230000.wav', shard_num=0, shard_len_s=-1.0)\n"
     ]
    },
    {
     "name": "stderr",
     "output_type": "stream",
     "text": [
      "  5%|██▌                                              | 837/16036 [17:28:26<314:31:20, 74.50s/it]"
     ]
    },
    {
     "name": "stdout",
     "output_type": "stream",
     "text": [
      "[[-16.124012 -13.345609 -14.237705 ... -11.642728  -8.833192 -18.138435]\n",
      " [-16.3157   -11.947417 -13.487655 ... -11.555378  -9.162539 -16.95147 ]\n",
      " [-17.305256 -12.693765 -14.38773  ... -11.36295   -9.474656 -17.141567]\n",
      " ...\n",
      " [-15.429553 -12.749917 -12.885765 ... -10.457317  -8.881064 -16.028664]\n",
      " [-15.712695 -12.743352 -13.001484 ... -11.297508  -9.004305 -17.339146]\n",
      " [-15.208643 -12.429159 -12.849292 ... -10.757425  -8.530748 -16.597126]]\n",
      "SourceInfo(filepath='/home/mschulist/caples_sound/ARU_data/26-LEIA/Data/26-LEIA_20230620_053000.wav', shard_num=0, shard_len_s=-1.0)\n"
     ]
    },
    {
     "name": "stderr",
     "output_type": "stream",
     "text": [
      "  5%|██▌                                              | 838/16036 [17:29:42<315:36:35, 74.76s/it]"
     ]
    },
    {
     "name": "stdout",
     "output_type": "stream",
     "text": [
      "[[-16.155178  -10.616721  -15.628393  ... -11.640965   -7.283119\n",
      "  -14.73622  ]\n",
      " [-17.445736   -9.546327  -16.512075  ...  -9.658379   -6.9334474\n",
      "  -11.483764 ]\n",
      " [-16.0867    -13.947366  -15.933409  ... -11.870088   -9.485814\n",
      "  -15.216635 ]\n",
      " ...\n",
      " [-13.051956  -11.613325  -10.167918  ... -11.846734   -8.100089\n",
      "  -12.367321 ]\n",
      " [-16.779354  -12.50816   -16.172026  ... -12.11305    -5.563344\n",
      "  -13.381376 ]\n",
      " [-13.353294  -11.757481  -11.522509  ...  -8.629939   -6.6950555\n",
      "  -11.484752 ]]\n",
      "SourceInfo(filepath='/home/mschulist/caples_sound/ARU_data/26-LEIA/Data/26-LEIA_20230613_020000.wav', shard_num=0, shard_len_s=-1.0)\n"
     ]
    },
    {
     "name": "stderr",
     "output_type": "stream",
     "text": [
      "  5%|██▌                                              | 839/16036 [17:30:56<315:05:39, 74.64s/it]"
     ]
    },
    {
     "name": "stdout",
     "output_type": "stream",
     "text": [
      "[[ -9.275362   -9.934385   -9.526528  ...  -9.131403   -7.61475\n",
      "  -14.734128 ]\n",
      " [-12.968057  -12.1384735 -11.55884   ...  -8.940605   -7.4412365\n",
      "  -14.786565 ]\n",
      " [-13.832085  -11.703138  -11.507268  ...  -9.887449   -7.855057\n",
      "  -13.804903 ]\n",
      " ...\n",
      " [-12.058867  -11.128599  -13.10631   ...  -9.822234   -9.074571\n",
      "  -15.016122 ]\n",
      " [-15.177866  -15.015761  -13.397108  ... -10.666196  -10.893007\n",
      "  -16.537664 ]\n",
      " [-11.428748  -12.907959  -11.012529  ...  -9.151752   -6.823473\n",
      "  -14.776982 ]]\n",
      "SourceInfo(filepath='/home/mschulist/caples_sound/ARU_data/26-LEIA/Data/26-LEIA_20230610_220000.wav', shard_num=0, shard_len_s=-1.0)\n"
     ]
    },
    {
     "name": "stderr",
     "output_type": "stream",
     "text": [
      "  5%|██▌                                              | 840/16036 [17:32:10<314:00:23, 74.39s/it]"
     ]
    },
    {
     "name": "stdout",
     "output_type": "stream",
     "text": [
      "[[-13.500901  -12.106484  -12.055802  ... -10.182197   -7.7837973\n",
      "  -16.048487 ]\n",
      " [-14.399508  -12.061348  -13.196497  ... -10.29105    -8.792354\n",
      "  -16.016602 ]\n",
      " [-14.180934  -11.830998  -12.403586  ...  -9.979439   -8.854796\n",
      "  -15.809148 ]\n",
      " ...\n",
      " [-13.565937  -10.909368   -9.357625  ...  -9.380131   -7.37891\n",
      "  -12.228703 ]\n",
      " [-13.621658  -11.682052   -9.951186  ...  -9.687998   -7.2794104\n",
      "  -14.530825 ]\n",
      " [-13.072054  -10.962515   -8.281688  ...  -8.881103   -6.7584257\n",
      "  -12.88872  ]]\n",
      "SourceInfo(filepath='/home/mschulist/caples_sound/ARU_data/26-LEIA/Data/26-LEIA_20230617_100000.wav', shard_num=0, shard_len_s=-1.0)\n"
     ]
    },
    {
     "name": "stderr",
     "output_type": "stream",
     "text": [
      "  5%|██▌                                              | 841/16036 [17:33:26<316:23:05, 74.96s/it]"
     ]
    },
    {
     "name": "stdout",
     "output_type": "stream",
     "text": [
      "[[-12.192858  -10.535285  -12.904587  ...  -8.5777645  -7.687293\n",
      "  -13.806253 ]\n",
      " [ -9.578602  -10.089934  -11.800931  ...  -8.038561   -7.022895\n",
      "  -14.207355 ]\n",
      " [-12.98084    -8.770435  -13.907038  ...  -8.224932   -5.601218\n",
      "  -11.466473 ]\n",
      " ...\n",
      " [-13.221735  -11.497422  -12.59921   ...  -9.559459   -8.139864\n",
      "  -16.998007 ]\n",
      " [-16.707588  -14.815684  -16.181526  ... -11.4704485 -11.31426\n",
      "  -18.239452 ]\n",
      " [-11.93744   -11.231213  -12.729869  ...  -9.339789   -7.7867155\n",
      "  -15.937343 ]]\n",
      "SourceInfo(filepath='/home/mschulist/caples_sound/ARU_data/26-LEIA/Data/26-LEIA_20230619_023000.wav', shard_num=0, shard_len_s=-1.0)\n"
     ]
    },
    {
     "name": "stderr",
     "output_type": "stream",
     "text": [
      "  5%|██▌                                              | 842/16036 [17:34:44<319:37:15, 75.73s/it]"
     ]
    },
    {
     "name": "stdout",
     "output_type": "stream",
     "text": [
      "[[ -6.870509  -12.325488  -11.46308   ...  -9.525658   -9.018979\n",
      "  -15.526343 ]\n",
      " [ -6.8462553 -12.824253  -11.657651  ... -10.604121   -8.929235\n",
      "  -16.196136 ]\n",
      " [ -7.2010546 -11.819354  -11.990145  ...  -8.984392   -8.906823\n",
      "  -14.408915 ]\n",
      " ...\n",
      " [ -8.637397  -10.5900135 -11.275999  ...  -8.730114   -7.816086\n",
      "  -14.458626 ]\n",
      " [ -9.149572  -12.091519  -11.669615  ...  -8.624699   -8.164937\n",
      "  -14.2953825]\n",
      " [ -8.212229  -11.897063  -11.863107  ...  -9.488718   -8.697638\n",
      "  -14.5881   ]]\n",
      "SourceInfo(filepath='/home/mschulist/caples_sound/ARU_data/26-LEIA/Data/26-LEIA_20230617_073000.wav', shard_num=0, shard_len_s=-1.0)\n"
     ]
    },
    {
     "name": "stderr",
     "output_type": "stream",
     "text": [
      "  5%|██▌                                              | 843/16036 [17:36:01<321:55:13, 76.28s/it]"
     ]
    },
    {
     "name": "stdout",
     "output_type": "stream",
     "text": [
      "[[ -9.425051  -11.761233  -11.605004  ... -11.041555   -8.08199\n",
      "  -14.114944 ]\n",
      " [-11.24657   -10.8639    -14.412583  ...  -8.754557   -9.479103\n",
      "  -14.492895 ]\n",
      " [-13.650081  -10.537837  -14.875849  ... -10.433441   -8.093496\n",
      "  -13.373798 ]\n",
      " ...\n",
      " [-13.7319    -11.380155  -13.210535  ...  -6.6686077  -7.0491467\n",
      "  -13.477565 ]\n",
      " [-12.317858   -9.949335  -14.891434  ... -10.811932   -7.252969\n",
      "  -11.983885 ]\n",
      " [-11.12969   -10.8892355 -11.217962  ...  -8.107206   -7.5079346\n",
      "  -13.358836 ]]\n",
      "SourceInfo(filepath='/home/mschulist/caples_sound/ARU_data/26-LEIA/Data/26-LEIA_20230619_063000.wav', shard_num=0, shard_len_s=-1.0)\n"
     ]
    },
    {
     "name": "stderr",
     "output_type": "stream",
     "text": [
      "  5%|██▌                                              | 844/16036 [17:37:14<317:34:57, 75.26s/it]"
     ]
    },
    {
     "name": "stdout",
     "output_type": "stream",
     "text": [
      "[[-10.068646  -11.457249  -13.210005  ...  -9.93533    -9.194402\n",
      "  -16.33641  ]\n",
      " [-10.956954  -11.950364  -13.180168  ...  -9.1732025  -8.593061\n",
      "  -15.874559 ]\n",
      " [ -9.611012  -10.934161  -12.326226  ...  -9.134114   -7.9957447\n",
      "  -15.762119 ]\n",
      " ...\n",
      " [-10.603713  -12.216271  -12.925906  ...  -9.463116   -8.800742\n",
      "  -16.338482 ]\n",
      " [ -9.991238  -11.556433  -12.192393  ...  -9.413161   -8.473159\n",
      "  -15.771807 ]\n",
      " [ -7.8600016 -10.697053  -10.066688  ...  -8.549507   -7.2429276\n",
      "  -14.738873 ]]\n",
      "SourceInfo(filepath='/home/mschulist/caples_sound/ARU_data/26-LEIA/Data/26-LEIA_20230610_090000.wav', shard_num=0, shard_len_s=-1.0)\n"
     ]
    },
    {
     "name": "stderr",
     "output_type": "stream",
     "text": [
      "  5%|██▌                                              | 845/16036 [17:38:27<314:33:52, 74.55s/it]"
     ]
    },
    {
     "name": "stdout",
     "output_type": "stream",
     "text": [
      "[[ -9.646711  -11.534702   -8.829874  ... -10.330278   -9.363754\n",
      "  -12.7013645]\n",
      " [-13.546372  -14.201196  -13.340017  ... -12.215996  -10.727187\n",
      "  -15.790138 ]\n",
      " [-11.437016  -12.67201    -8.645444  ...  -9.865602   -9.256936\n",
      "  -13.259107 ]\n",
      " ...\n",
      " [-10.449901  -10.393099  -11.859726  ... -10.211486   -8.808329\n",
      "  -16.180346 ]\n",
      " [ -9.636068  -11.133113   -9.939879  ...  -9.142473   -7.8504496\n",
      "  -10.984816 ]\n",
      " [ -9.007256  -11.385585   -9.494405  ... -10.548975   -8.167291\n",
      "  -13.108351 ]]\n",
      "SourceInfo(filepath='/home/mschulist/caples_sound/ARU_data/26-LEIA/Data/26-LEIA_20230617_033000.wav', shard_num=0, shard_len_s=-1.0)\n"
     ]
    },
    {
     "name": "stderr",
     "output_type": "stream",
     "text": [
      "  5%|██▌                                              | 846/16036 [17:39:43<316:24:20, 74.99s/it]"
     ]
    },
    {
     "name": "stdout",
     "output_type": "stream",
     "text": [
      "[[-14.1921215 -10.988099  -11.892173  ...  -8.761634   -8.165927\n",
      "  -15.797993 ]\n",
      " [-15.043741  -11.489826  -12.892639  ...  -9.290113   -8.430663\n",
      "  -16.755127 ]\n",
      " [-14.039525  -11.445369  -12.207238  ...  -9.03271    -8.5345\n",
      "  -16.223984 ]\n",
      " ...\n",
      " [-13.778789  -11.158608  -12.1926365 ...  -9.336671   -8.399706\n",
      "  -16.347435 ]\n",
      " [-13.98362   -11.114548  -11.452421  ...  -8.80986    -7.855113\n",
      "  -15.799859 ]\n",
      " [-13.64092   -10.529724  -12.076141  ...  -9.006206   -8.427326\n",
      "  -15.683727 ]]\n",
      "SourceInfo(filepath='/home/mschulist/caples_sound/ARU_data/26-LEIA/Data/26-LEIA_20230614_233000.wav', shard_num=0, shard_len_s=-1.0)\n"
     ]
    },
    {
     "name": "stderr",
     "output_type": "stream",
     "text": [
      "  5%|██▌                                              | 847/16036 [17:40:58<316:54:15, 75.11s/it]"
     ]
    },
    {
     "name": "stdout",
     "output_type": "stream",
     "text": [
      "[[-12.519866  -10.938044  -11.52466   ...  -9.024131   -8.449381\n",
      "  -15.484962 ]\n",
      " [-13.328304  -10.039406  -10.79203   ...  -7.6414285  -8.064775\n",
      "  -13.47798  ]\n",
      " [-14.158596  -11.436618  -11.971454  ...  -9.463139   -8.288897\n",
      "  -15.803456 ]\n",
      " ...\n",
      " [-16.54575   -12.228343  -13.604522  ... -10.8714695  -9.071607\n",
      "  -17.290298 ]\n",
      " [-14.709658  -11.4476595 -12.659943  ... -10.187484   -9.046066\n",
      "  -16.025372 ]\n",
      " [-15.682601  -12.984121  -13.02637   ... -11.113798  -10.453899\n",
      "  -16.801327 ]]\n",
      "SourceInfo(filepath='/home/mschulist/caples_sound/ARU_data/26-LEIA/Data/26-LEIA_20230608_080000.wav', shard_num=0, shard_len_s=-1.0)\n"
     ]
    },
    {
     "name": "stderr",
     "output_type": "stream",
     "text": [
      "  5%|██▌                                              | 848/16036 [17:42:10<312:36:26, 74.10s/it]"
     ]
    },
    {
     "name": "stdout",
     "output_type": "stream",
     "text": [
      "[[-12.161097  -12.607342  -12.27435   ...  -9.736116  -11.222441\n",
      "  -14.178281 ]\n",
      " [-11.323216  -11.171745   -8.623249  ...  -9.176453   -6.710782\n",
      "  -13.472488 ]\n",
      " [-11.780866  -10.182885  -10.573399  ...  -9.668839   -9.5977335\n",
      "  -13.099915 ]\n",
      " ...\n",
      " [-12.321578  -10.168794  -11.209004  ...  -9.892281  -11.044084\n",
      "  -16.882149 ]\n",
      " [-14.550806  -13.351803  -12.783398  ... -10.489104  -11.98976\n",
      "  -14.981967 ]\n",
      " [-11.086294  -11.419512  -12.168984  ... -10.452393   -5.3530235\n",
      "  -13.721815 ]]\n",
      "SourceInfo(filepath='/home/mschulist/caples_sound/ARU_data/26-LEIA/Data/26-LEIA_20230608_173000.wav', shard_num=0, shard_len_s=-1.0)\n"
     ]
    },
    {
     "name": "stderr",
     "output_type": "stream",
     "text": [
      "  5%|██▌                                              | 849/16036 [17:43:26<314:28:28, 74.54s/it]"
     ]
    },
    {
     "name": "stdout",
     "output_type": "stream",
     "text": [
      "[[-16.225033  -13.06228   -15.359983  ... -12.273824   -9.909204\n",
      "  -16.967596 ]\n",
      " [-12.530326  -11.086909  -11.341319  ...  -8.7488     -9.494054\n",
      "  -15.164561 ]\n",
      " [-13.927908  -10.065964  -12.1175995 ... -11.9776535  -9.983147\n",
      "  -16.437473 ]\n",
      " ...\n",
      " [-16.165373  -11.973416  -14.8802805 ... -12.71283   -13.558888\n",
      "  -17.596252 ]\n",
      " [-17.561745  -13.743613  -13.899841  ... -13.690496  -13.039336\n",
      "  -17.739431 ]\n",
      " [-16.965157  -15.492604  -15.175324  ... -11.876831  -11.083591\n",
      "  -17.66275  ]]\n",
      "SourceInfo(filepath='/home/mschulist/caples_sound/ARU_data/26-LEIA/Data/26-LEIA_20230610_010000.wav', shard_num=0, shard_len_s=-1.0)\n"
     ]
    },
    {
     "name": "stderr",
     "output_type": "stream",
     "text": [
      "  5%|██▌                                              | 850/16036 [17:44:37<310:20:49, 73.57s/it]"
     ]
    },
    {
     "name": "stdout",
     "output_type": "stream",
     "text": [
      "[[-14.846684  -12.018982  -13.489882  ... -10.254051   -8.852742\n",
      "  -16.023344 ]\n",
      " [-15.990884  -12.736309  -13.4748535 ... -10.757913   -9.414451\n",
      "  -16.41066  ]\n",
      " [-17.028591  -13.120906  -13.961319  ... -11.706624   -9.989817\n",
      "  -17.576601 ]\n",
      " ...\n",
      " [-15.689719  -11.948851  -13.172707  ... -11.241352   -9.140965\n",
      "  -16.439606 ]\n",
      " [-18.046677  -13.712733  -14.540094  ... -10.930383  -10.199656\n",
      "  -18.100513 ]\n",
      " [-13.625122  -11.705881  -11.436432  ...  -9.5729065  -8.076055\n",
      "  -15.230699 ]]\n",
      "SourceInfo(filepath='/home/mschulist/caples_sound/ARU_data/26-LEIA/Data/26-LEIA_20230608_000000.wav', shard_num=0, shard_len_s=-1.0)\n"
     ]
    },
    {
     "name": "stderr",
     "output_type": "stream",
     "text": [
      "  5%|██▌                                              | 851/16036 [17:45:50<309:10:14, 73.30s/it]"
     ]
    },
    {
     "name": "stdout",
     "output_type": "stream",
     "text": [
      "[[-14.519938  -12.289519  -12.641808  ... -10.711346   -9.158381\n",
      "  -16.448708 ]\n",
      " [-14.57506   -12.18905   -12.937205  ... -10.805034   -8.418687\n",
      "  -16.431627 ]\n",
      " [-13.751722  -11.718751  -12.34501   ... -10.364142   -9.164196\n",
      "  -16.915283 ]\n",
      " ...\n",
      " [-12.900683  -11.070638   -7.9653997 ...  -8.816746   -7.1238823\n",
      "  -11.741385 ]\n",
      " [-17.106285  -12.793459   -9.498595  ... -10.120971   -8.717264\n",
      "  -13.110108 ]\n",
      " [-16.207844  -12.088555   -9.249624  ...  -9.279309   -8.987925\n",
      "  -12.5315895]]\n",
      "SourceInfo(filepath='/home/mschulist/caples_sound/ARU_data/26-LEIA/Data/26-LEIA_20230613_210000.wav', shard_num=0, shard_len_s=-1.0)\n"
     ]
    },
    {
     "name": "stderr",
     "output_type": "stream",
     "text": [
      "  5%|██▌                                              | 852/16036 [17:47:04<310:05:37, 73.52s/it]"
     ]
    },
    {
     "name": "stdout",
     "output_type": "stream",
     "text": [
      "[[-13.096386  -11.365588  -11.498141  ...  -9.735798   -8.487457\n",
      "  -15.730229 ]\n",
      " [-13.850178  -11.89783   -11.463953  ... -11.0358095  -8.293162\n",
      "  -17.118198 ]\n",
      " [-13.623099  -11.597798  -11.812714  ... -10.047171   -8.589091\n",
      "  -15.83895  ]\n",
      " ...\n",
      " [-13.233753  -10.843342  -11.468667  ... -10.356411   -8.0958395\n",
      "  -14.067134 ]\n",
      " [-13.44653   -10.899976  -12.020201  ...  -9.588896   -7.858574\n",
      "  -15.580539 ]\n",
      " [-13.078342  -11.174998   -9.165346  ...  -8.227732   -6.5362988\n",
      "  -13.883474 ]]\n",
      "SourceInfo(filepath='/home/mschulist/caples_sound/ARU_data/26-LEIA/Data/26-LEIA_20230619_190000.wav', shard_num=0, shard_len_s=-1.0)\n"
     ]
    },
    {
     "name": "stderr",
     "output_type": "stream",
     "text": [
      "  5%|██▌                                              | 853/16036 [17:48:15<307:53:40, 73.00s/it]"
     ]
    },
    {
     "name": "stdout",
     "output_type": "stream",
     "text": [
      "[[-15.647055 -13.373685 -13.210339 ... -12.701955  -9.430577 -17.393467]\n",
      " [-13.324822 -11.625836 -12.832661 ...  -9.035868  -8.338764 -16.25641 ]\n",
      " [-14.722644 -11.822133 -13.86971  ... -11.709111  -8.711601 -18.021362]\n",
      " ...\n",
      " [-13.214597 -10.949137 -12.510061 ...  -9.179785  -8.4932   -15.207891]\n",
      " [-11.584988 -13.360006 -14.285122 ... -10.058447 -11.24383  -14.745746]\n",
      " [-14.044726 -12.06815  -12.65967  ... -10.01813   -8.5394   -16.718227]]\n",
      "SourceInfo(filepath='/home/mschulist/caples_sound/ARU_data/26-LEIA/Data/26-LEIA_20230610_163000.wav', shard_num=0, shard_len_s=-1.0)\n"
     ]
    },
    {
     "name": "stderr",
     "output_type": "stream",
     "text": [
      "  5%|██▌                                              | 854/16036 [17:49:26<304:42:00, 72.25s/it]"
     ]
    },
    {
     "name": "stdout",
     "output_type": "stream",
     "text": [
      "[[ -7.916939  -11.655613  -11.334035  ...  -8.309973   -5.2051067\n",
      "  -14.432221 ]\n",
      " [ -8.227985  -13.218806  -11.148504  ...  -9.436354   -7.818301\n",
      "  -16.15743  ]\n",
      " [ -8.109615  -12.558881   -9.3785715 ...  -9.314045   -7.9003916\n",
      "  -14.198795 ]\n",
      " ...\n",
      " [-10.528835  -11.633985  -12.510452  ...  -9.465061   -9.2355585\n",
      "  -16.186619 ]\n",
      " [ -6.432864  -12.00707    -9.435514  ...  -8.757078   -7.9570446\n",
      "  -14.654134 ]\n",
      " [-11.803909  -12.024155  -13.876726  ...  -6.6016874  -9.847448\n",
      "  -16.30648  ]]\n",
      "SourceInfo(filepath='/home/mschulist/caples_sound/ARU_data/26-LEIA/Data/26-LEIA_20230608_040000.wav', shard_num=0, shard_len_s=-1.0)\n"
     ]
    },
    {
     "name": "stderr",
     "output_type": "stream",
     "text": [
      "  5%|██▌                                              | 855/16036 [17:50:39<305:50:23, 72.53s/it]"
     ]
    },
    {
     "name": "stdout",
     "output_type": "stream",
     "text": [
      "[[-11.420169   -9.550142  -11.312632  ... -10.49118    -8.822933\n",
      "  -14.992132 ]\n",
      " [-11.351085  -11.113055  -10.442701  ...  -9.3203     -7.6278696\n",
      "  -14.555945 ]\n",
      " [-14.017953  -12.261338  -11.754015  ...  -8.70603    -8.450211\n",
      "  -15.464503 ]\n",
      " ...\n",
      " [-14.186812  -11.457275  -11.242756  ... -11.735058   -9.389517\n",
      "  -15.907726 ]\n",
      " [-14.751116  -11.999213  -12.101489  ... -10.171073   -8.474745\n",
      "  -16.334282 ]\n",
      " [-15.2633295 -12.051789  -12.864208  ... -11.063339   -9.105802\n",
      "  -16.58008  ]]\n",
      "SourceInfo(filepath='/home/mschulist/caples_sound/ARU_data/26-LEIA/Data/26-LEIA_20230617_180000.wav', shard_num=0, shard_len_s=-1.0)\n"
     ]
    },
    {
     "name": "stderr",
     "output_type": "stream",
     "text": [
      "  5%|██▌                                              | 856/16036 [17:51:51<304:47:46, 72.28s/it]"
     ]
    },
    {
     "name": "stdout",
     "output_type": "stream",
     "text": [
      "[[-10.658572  -10.524568  -14.133687  ...  -6.930314   -7.0328283\n",
      "  -13.059608 ]\n",
      " [-11.993972  -11.145974  -14.582734  ...  -8.31073    -8.039654\n",
      "  -14.590862 ]\n",
      " [-12.868163  -12.2877035 -13.49585   ...  -9.411255   -8.591079\n",
      "  -17.021744 ]\n",
      " ...\n",
      " [-11.536641   -8.922572  -14.881797  ...  -8.338335   -7.434804\n",
      "  -10.378134 ]\n",
      " [-13.053749  -11.706301  -14.391903  ... -10.237896   -8.537985\n",
      "  -14.467013 ]\n",
      " [-10.219826  -10.245237  -11.65134   ...  -8.957412   -8.741948\n",
      "  -14.346257 ]]\n",
      "SourceInfo(filepath='/home/mschulist/caples_sound/ARU_data/26-LEIA/Data/26-LEIA_20230620_223000.wav', shard_num=0, shard_len_s=-1.0)\n"
     ]
    },
    {
     "name": "stderr",
     "output_type": "stream",
     "text": [
      "  5%|██▌                                              | 857/16036 [17:53:00<301:16:33, 71.45s/it]"
     ]
    },
    {
     "name": "stdout",
     "output_type": "stream",
     "text": [
      "[[-14.940913  -11.470207  -12.680653  ...  -9.453842   -8.47897\n",
      "  -15.907555 ]\n",
      " [-15.576186  -12.2144    -13.443904  ... -10.265498   -8.809046\n",
      "  -17.246054 ]\n",
      " [-15.440023  -11.811641  -12.474584  ... -10.65085    -8.969006\n",
      "  -16.454609 ]\n",
      " ...\n",
      " [-14.26067    -9.67634   -11.402126  ...  -8.6681795  -8.094586\n",
      "  -15.828704 ]\n",
      " [-14.984696  -11.6955185 -12.487967  ... -10.250416   -8.667565\n",
      "  -16.812382 ]\n",
      " [-14.9676075 -12.256602  -13.064351  ...  -9.566015   -8.660432\n",
      "  -16.992    ]]\n",
      "SourceInfo(filepath='/home/mschulist/caples_sound/ARU_data/26-LEIA/Data/26-LEIA_20230610_050000.wav', shard_num=0, shard_len_s=-1.0)\n"
     ]
    },
    {
     "name": "stderr",
     "output_type": "stream",
     "text": [
      "  5%|██▌                                              | 858/16036 [17:54:11<300:19:53, 71.23s/it]"
     ]
    },
    {
     "name": "stdout",
     "output_type": "stream",
     "text": [
      "[[-13.872011  -11.645111  -13.092912  ...  -7.252142   -6.172862\n",
      "  -15.63794  ]\n",
      " [-14.090991  -11.577555  -14.749899  ...  -9.938369   -9.441907\n",
      "  -15.836929 ]\n",
      " [-13.188249  -10.787043  -13.904521  ...  -8.551509   -8.29778\n",
      "  -15.190865 ]\n",
      " ...\n",
      " [-13.350892  -12.267961  -12.945248  ...  -8.803007   -7.68394\n",
      "  -16.835289 ]\n",
      " [-11.205703  -10.690982  -13.045991  ...  -8.790766  -11.292742\n",
      "  -12.187643 ]\n",
      " [-10.564689   -8.652726  -10.451342  ...  -7.227764   -8.3252325\n",
      "  -10.119136 ]]\n",
      "SourceInfo(filepath='/home/mschulist/caples_sound/ARU_data/26-LEIA/Data/26-LEIA_20230616_200000.wav', shard_num=0, shard_len_s=-1.0)\n"
     ]
    },
    {
     "name": "stderr",
     "output_type": "stream",
     "text": [
      "  5%|██▌                                              | 859/16036 [17:55:23<301:33:13, 71.53s/it]"
     ]
    },
    {
     "name": "stdout",
     "output_type": "stream",
     "text": [
      "[[-16.982231  -14.071209  -13.830407  ... -13.139698  -11.560497\n",
      "  -15.472435 ]\n",
      " [-16.661594  -14.423934  -15.649082  ... -13.469724  -10.242649\n",
      "  -16.513725 ]\n",
      " [-13.769317  -12.692708  -12.993942  ... -13.212341   -9.908638\n",
      "  -15.970942 ]\n",
      " ...\n",
      " [-11.514244  -12.802191  -12.12919   ... -10.773778   -8.916983\n",
      "  -15.385572 ]\n",
      " [-11.839436   -9.596124  -13.471577  ...  -8.854806   -5.0753217\n",
      "  -11.643966 ]\n",
      " [-12.064131  -11.9738245 -13.334855  ... -11.967483   -8.6382065\n",
      "  -17.000309 ]]\n",
      "SourceInfo(filepath='/home/mschulist/caples_sound/ARU_data/26-LEIA/Data/26-LEIA_20230615_173000.wav', shard_num=0, shard_len_s=-1.0)\n"
     ]
    },
    {
     "name": "stderr",
     "output_type": "stream",
     "text": [
      "  5%|██▋                                              | 860/16036 [17:56:32<298:06:53, 70.72s/it]"
     ]
    },
    {
     "name": "stdout",
     "output_type": "stream",
     "text": [
      "[[-15.186875  -11.215644  -10.654699  ... -10.285107   -7.778097\n",
      "  -10.291641 ]\n",
      " [-12.808006  -13.52108   -11.072965  ...  -8.200571   -6.5125666\n",
      "  -11.9928665]\n",
      " [-11.373836  -14.283028  -10.831549  ... -10.081305   -7.5755415\n",
      "  -10.331001 ]\n",
      " ...\n",
      " [ -9.296252  -11.128013  -10.106396  ...  -9.5559635  -8.621589\n",
      "  -14.5306015]\n",
      " [ -9.47447   -10.779579  -10.695934  ...  -9.929144   -8.2629595\n",
      "  -14.953325 ]\n",
      " [ -8.045873  -12.599746  -13.407381  ... -10.364702   -9.860706\n",
      "  -16.823547 ]]\n",
      "SourceInfo(filepath='/home/mschulist/caples_sound/ARU_data/26-LEIA/Data/26-LEIA_20230615_000000.wav', shard_num=0, shard_len_s=-1.0)\n"
     ]
    },
    {
     "name": "stderr",
     "output_type": "stream",
     "text": [
      "  5%|██▋                                              | 861/16036 [17:57:42<297:05:20, 70.48s/it]"
     ]
    },
    {
     "name": "stdout",
     "output_type": "stream",
     "text": [
      "[[-14.258893  -11.038846  -11.87616   ...  -8.957368   -8.300723\n",
      "  -15.39601  ]\n",
      " [-14.756409  -11.389347  -12.900875  ...  -9.567171   -8.907562\n",
      "  -16.38839  ]\n",
      " [-14.287023  -11.114669  -11.978804  ...  -9.509867   -8.390345\n",
      "  -15.311447 ]\n",
      " ...\n",
      " [-13.347456  -10.580376  -12.278133  ...  -9.044357   -8.47125\n",
      "  -14.531621 ]\n",
      " [-14.015965  -11.334166  -11.664751  ...  -9.370884   -8.1155405\n",
      "  -15.509992 ]\n",
      " [-14.445161  -10.904115  -11.785263  ...  -9.577554   -8.235987\n",
      "  -15.43305  ]]\n",
      "SourceInfo(filepath='/home/mschulist/caples_sound/ARU_data/26-LEIA/Data/26-LEIA_20230621_090000.wav', shard_num=0, shard_len_s=-1.0)\n"
     ]
    },
    {
     "name": "stderr",
     "output_type": "stream",
     "text": [
      "  5%|██▋                                              | 862/16036 [17:58:55<300:41:24, 71.34s/it]"
     ]
    },
    {
     "name": "stdout",
     "output_type": "stream",
     "text": [
      "[[-11.628816  -12.021124  -13.939734  ...  -8.04709    -7.1874933\n",
      "  -15.549816 ]\n",
      " [-15.659732  -11.938364  -13.331194  ...  -9.404285   -8.262497\n",
      "  -16.862553 ]\n",
      " [-14.694326  -11.99554   -12.757346  ...  -9.105763   -9.124305\n",
      "  -17.056585 ]\n",
      " ...\n",
      " [-12.686454  -11.89136   -12.156475  ... -10.4177065  -9.2607355\n",
      "  -18.39804  ]\n",
      " [-15.511447  -10.521139  -15.262064  ...  -8.453946  -10.058208\n",
      "  -17.59391  ]\n",
      " [-14.474153  -11.239753  -12.800111  ...  -6.795714   -7.566332\n",
      "  -14.961412 ]]\n",
      "SourceInfo(filepath='/home/mschulist/caples_sound/ARU_data/26-LEIA/Data/26-LEIA_20230615_040000.wav', shard_num=0, shard_len_s=-1.0)\n"
     ]
    },
    {
     "name": "stderr",
     "output_type": "stream",
     "text": [
      "  5%|██▋                                              | 863/16036 [18:00:05<297:55:26, 70.69s/it]"
     ]
    },
    {
     "name": "stdout",
     "output_type": "stream",
     "text": [
      "[[-12.884645  -10.755393  -11.215376  ...  -8.72537    -7.6662874\n",
      "  -15.851202 ]\n",
      " [-12.698518  -11.087941  -11.135641  ...  -9.080568   -8.28471\n",
      "  -15.32277  ]\n",
      " [-13.1641035 -11.082437  -11.783629  ...  -9.213522   -7.7153406\n",
      "  -16.085487 ]\n",
      " ...\n",
      " [-13.222171  -11.047933  -11.825573  ...  -9.668477   -8.158861\n",
      "  -16.652048 ]\n",
      " [-11.770509  -10.578776  -11.992771  ...  -8.9496565  -7.932189\n",
      "  -15.789248 ]\n",
      " [-13.717769  -11.476023  -11.469739  ...  -8.936886   -8.068021\n",
      "  -15.420002 ]]\n",
      "SourceInfo(filepath='/home/mschulist/caples_sound/ARU_data/26-LEIA/Data/26-LEIA_20230618_210000.wav', shard_num=0, shard_len_s=-1.0)\n"
     ]
    },
    {
     "name": "stderr",
     "output_type": "stream",
     "text": [
      "  5%|██▋                                              | 864/16036 [18:01:18<301:06:18, 71.45s/it]"
     ]
    },
    {
     "name": "stdout",
     "output_type": "stream",
     "text": [
      "[[ -9.912265  -12.524981  -12.26313   ...  -9.453722   -7.6250906\n",
      "  -14.355012 ]\n",
      " [ -9.41692   -11.9555235 -11.398294  ...  -9.181077   -7.9650717\n",
      "  -15.330356 ]\n",
      " [ -9.544651  -11.281669  -11.94449   ...  -9.40596    -8.492669\n",
      "  -14.904725 ]\n",
      " ...\n",
      " [-10.450156  -12.193725  -10.319446  ...  -8.837778   -7.134701\n",
      "  -14.112868 ]\n",
      " [-10.229173  -12.870746  -10.787453  ...  -9.102247   -7.744919\n",
      "  -14.164129 ]\n",
      " [-10.882072  -12.29988   -11.093381  ...  -9.318944   -7.6641264\n",
      "  -15.088951 ]]\n",
      "SourceInfo(filepath='/home/mschulist/caples_sound/ARU_data/26-LEIA/Data/26-LEIA_20230612_190000.wav', shard_num=0, shard_len_s=-1.0)\n"
     ]
    },
    {
     "name": "stderr",
     "output_type": "stream",
     "text": [
      "  5%|██▋                                              | 865/16036 [18:02:31<303:42:21, 72.07s/it]"
     ]
    },
    {
     "name": "stdout",
     "output_type": "stream",
     "text": [
      "[[-13.355466  -12.209556  -12.897728  ...  -8.222902   -6.8537292\n",
      "  -12.399393 ]\n",
      " [-11.682147  -11.889609  -11.781206  ...  -9.58369    -6.9956493\n",
      "  -12.065706 ]\n",
      " [-10.943065  -11.433255  -12.321293  ... -10.252806   -8.52038\n",
      "  -13.477512 ]\n",
      " ...\n",
      " [-15.619731  -11.825597  -11.7948065 ...  -9.446337   -5.6021338\n",
      "   -6.475868 ]\n",
      " [-15.284294  -11.255973  -12.607174  ...  -8.823242   -8.486459\n",
      "   -9.939106 ]\n",
      " [-14.43281   -12.12695   -12.145823  ...  -8.805109   -5.495455\n",
      "   -8.458106 ]]\n",
      "SourceInfo(filepath='/home/mschulist/caples_sound/ARU_data/26-LEIA/Data/26-LEIA_20230612_063000.wav', shard_num=0, shard_len_s=-1.0)\n"
     ]
    },
    {
     "name": "stderr",
     "output_type": "stream",
     "text": [
      "  5%|██▋                                              | 866/16036 [18:03:40<298:52:48, 70.93s/it]"
     ]
    },
    {
     "name": "stdout",
     "output_type": "stream",
     "text": [
      "[[-13.620266  -12.266877  -13.270107  ...  -9.928715  -10.233055\n",
      "  -13.260704 ]\n",
      " [-11.393548  -13.508109  -12.949297  ...  -9.555515   -7.839155\n",
      "  -13.273993 ]\n",
      " [-11.877243  -10.078691  -14.059982  ... -11.301542  -10.293982\n",
      "  -13.23443  ]\n",
      " ...\n",
      " [-13.474427  -12.765429  -11.287216  ... -10.109984   -9.955476\n",
      "  -13.536146 ]\n",
      " [ -9.840507  -13.567141  -11.317534  ...  -8.426155   -5.0208917\n",
      "  -15.852868 ]\n",
      " [-12.427378  -11.945531  -13.61215   ...  -8.926651   -7.5228844\n",
      "  -14.036066 ]]\n",
      "SourceInfo(filepath='/home/mschulist/caples_sound/ARU_data/26-LEIA/Data/26-LEIA_20230621_010000.wav', shard_num=0, shard_len_s=-1.0)\n"
     ]
    },
    {
     "name": "stderr",
     "output_type": "stream",
     "text": [
      "  5%|██▋                                              | 867/16036 [18:04:53<302:25:17, 71.77s/it]"
     ]
    },
    {
     "name": "stdout",
     "output_type": "stream",
     "text": [
      "[[-15.270868  -11.4080925 -12.338935  ... -10.015533   -8.532693\n",
      "  -15.987466 ]\n",
      " [-15.157382  -10.931064  -12.346748  ...  -9.376704   -8.279143\n",
      "  -15.178758 ]\n",
      " [-14.825043  -11.211974  -12.464044  ...  -9.094208   -8.169679\n",
      "  -16.428625 ]\n",
      " ...\n",
      " [-14.793311  -11.456493  -11.827263  ...  -9.949215   -8.715711\n",
      "  -15.411556 ]\n",
      " [-15.00924   -11.557623  -12.84387   ... -10.005508   -8.244912\n",
      "  -16.6282   ]\n",
      " [-15.683282  -11.766125  -13.997257  ... -10.367825   -9.211466\n",
      "  -17.23078  ]]\n",
      "SourceInfo(filepath='/home/mschulist/caples_sound/ARU_data/26-LEIA/Data/26-LEIA_20230607_223000.wav', shard_num=0, shard_len_s=-1.0)\n"
     ]
    },
    {
     "name": "stderr",
     "output_type": "stream",
     "text": [
      "  5%|██▋                                              | 868/16036 [18:06:04<301:33:42, 71.57s/it]"
     ]
    },
    {
     "name": "stdout",
     "output_type": "stream",
     "text": [
      "[[-12.331342  -12.88384   -11.6819315 ...  -9.62532    -8.289606\n",
      "  -15.57212  ]\n",
      " [-11.894728  -12.695884  -11.049035  ... -10.533628   -7.0251474\n",
      "  -16.589    ]\n",
      " [-11.759638  -11.563667  -11.293571  ...  -9.458454   -8.785722\n",
      "  -15.499211 ]\n",
      " ...\n",
      " [-11.599191  -12.48285   -12.041708  ... -10.338972   -8.114353\n",
      "  -16.786865 ]\n",
      " [-12.074567  -12.41957   -12.559163  ...  -9.996513   -8.107699\n",
      "  -16.462315 ]\n",
      " [-11.290033  -11.284845  -11.034048  ...  -8.999777   -7.455244\n",
      "  -14.777248 ]]\n",
      "SourceInfo(filepath='/home/mschulist/caples_sound/ARU_data/26-LEIA/Data/26-LEIA_20230621_163000.wav', shard_num=0, shard_len_s=-1.0)\n"
     ]
    },
    {
     "name": "stderr",
     "output_type": "stream",
     "text": [
      "  5%|██▋                                              | 869/16036 [18:07:15<300:50:21, 71.41s/it]"
     ]
    },
    {
     "name": "stdout",
     "output_type": "stream",
     "text": [
      "[[-10.772498  -12.565092  -10.851491  ...  -8.927981   -7.0427914\n",
      "  -14.214553 ]\n",
      " [-11.921521  -13.325306  -11.569567  ...  -8.42573    -7.888796\n",
      "  -15.386759 ]\n",
      " [-11.84839   -12.540292  -13.193691  ... -12.428862   -8.912077\n",
      "  -17.578999 ]\n",
      " ...\n",
      " [-11.63981   -12.643913  -12.080186  ... -11.609003   -8.6243105\n",
      "  -15.091326 ]\n",
      " [-10.03209   -12.050996  -11.643685  ... -10.1398535  -7.4895754\n",
      "  -15.333376 ]\n",
      " [-10.094342  -12.409721  -10.89388   ...  -9.443273   -8.253455\n",
      "  -15.2298   ]]\n",
      "SourceInfo(filepath='/home/mschulist/caples_sound/ARU_data/26-LEIA/Data/26-LEIA_20230611_223000.wav', shard_num=0, shard_len_s=-1.0)\n"
     ]
    },
    {
     "name": "stderr",
     "output_type": "stream",
     "text": [
      "  5%|██▋                                              | 870/16036 [18:08:29<304:08:51, 72.20s/it]"
     ]
    },
    {
     "name": "stdout",
     "output_type": "stream",
     "text": [
      "[[ -7.431157  -12.6336355  -9.799243  ...  -9.330297   -8.9616375\n",
      "  -15.6426115]\n",
      " [ -9.144401  -15.061649   -9.723781  ... -10.7323065 -10.140024\n",
      "  -16.889282 ]\n",
      " [ -8.653449  -13.537282  -10.800102  ...  -9.459342   -9.002531\n",
      "  -16.170815 ]\n",
      " ...\n",
      " [ -8.3926115 -12.88338   -10.115375  ...  -9.672222   -9.146719\n",
      "  -15.214341 ]\n",
      " [-10.20405   -15.8537855 -11.754857  ... -10.902124  -10.519601\n",
      "  -16.843462 ]\n",
      " [ -9.655812  -11.69389   -10.020011  ... -10.023715   -9.82576\n",
      "  -14.608614 ]]\n",
      "SourceInfo(filepath='/home/mschulist/caples_sound/ARU_data/26-LEIA/Data/26-LEIA_20230615_080000.wav', shard_num=0, shard_len_s=-1.0)\n"
     ]
    },
    {
     "name": "stderr",
     "output_type": "stream",
     "text": [
      "  5%|██▋                                              | 871/16036 [18:09:43<305:37:04, 72.55s/it]"
     ]
    },
    {
     "name": "stdout",
     "output_type": "stream",
     "text": [
      "[[-12.171454  -11.150668  -11.456893  ... -10.500837   -8.570255\n",
      "  -16.830051 ]\n",
      " [-12.044335  -10.544181  -14.721004  ...  -8.790088   -7.7931795\n",
      "  -15.3109665]\n",
      " [-14.261689  -10.820629  -11.821528  ...  -9.879194   -7.39023\n",
      "  -12.515112 ]\n",
      " ...\n",
      " [-13.000137  -12.330939  -15.337867  ... -11.680148  -12.67497\n",
      "  -16.871761 ]\n",
      " [-13.51074   -12.239896  -13.044622  ... -11.1268635 -11.554798\n",
      "   -9.815361 ]\n",
      " [-10.501476  -10.82244   -13.977472  ...  -6.4388347  -6.5434904\n",
      "  -15.380633 ]]\n",
      "SourceInfo(filepath='/home/mschulist/caples_sound/ARU_data/26-LEIA/Data/26-LEIA_20230609_233000.wav', shard_num=0, shard_len_s=-1.0)\n"
     ]
    },
    {
     "name": "stderr",
     "output_type": "stream",
     "text": [
      "  5%|██▋                                              | 872/16036 [18:10:55<304:51:32, 72.37s/it]"
     ]
    },
    {
     "name": "stdout",
     "output_type": "stream",
     "text": [
      "[[-15.842414  -12.585758  -13.387978  ... -11.236914   -8.880824\n",
      "  -17.07025  ]\n",
      " [-14.766489  -11.974227  -12.536445  ... -10.403755   -8.536343\n",
      "  -16.560043 ]\n",
      " [-14.409356  -11.4893675 -12.5373    ... -10.1046715  -8.2664795\n",
      "  -15.793679 ]\n",
      " ...\n",
      " [-16.096653  -12.7599    -12.949942  ... -10.963186   -8.615271\n",
      "  -17.724428 ]\n",
      " [-13.857923  -11.905859  -12.90215   ... -10.29883    -8.373402\n",
      "  -16.553322 ]\n",
      " [-16.372759  -13.074031  -13.523134  ... -10.771475   -8.9422035\n",
      "  -17.228218 ]]\n",
      "SourceInfo(filepath='/home/mschulist/caples_sound/ARU_data/26-LEIA/Data/26-LEIA_20230621_050000.wav', shard_num=0, shard_len_s=-1.0)\n"
     ]
    },
    {
     "name": "stderr",
     "output_type": "stream",
     "text": [
      "  5%|██▋                                              | 873/16036 [18:12:01<297:12:59, 70.57s/it]"
     ]
    },
    {
     "name": "stdout",
     "output_type": "stream",
     "text": [
      "[[-15.039042   -8.684357  -16.288654  ...  -9.70369    -9.403974\n",
      "  -13.2295475]\n",
      " [-12.893458  -12.314451  -14.24535   ...  -9.964676   -9.424688\n",
      "  -14.711685 ]\n",
      " [-14.647456   -4.6412163 -14.887675  ... -11.223079   -8.661844\n",
      "  -12.100592 ]\n",
      " ...\n",
      " [-13.979825  -11.567379  -14.095835  ... -13.394635  -11.058452\n",
      "  -16.434504 ]\n",
      " [-12.341564   -8.979929  -15.569395  ... -12.174137   -8.696938\n",
      "  -10.700442 ]\n",
      " [-11.771152  -11.719181  -13.293911  ... -10.655207  -10.619852\n",
      "  -13.513405 ]]\n",
      "SourceInfo(filepath='/home/mschulist/caples_sound/ARU_data/26-LEIA/Data/26-LEIA_20230612_023000.wav', shard_num=0, shard_len_s=-1.0)\n"
     ]
    },
    {
     "name": "stderr",
     "output_type": "stream",
     "text": [
      "  5%|██▋                                              | 874/16036 [18:13:10<295:13:46, 70.10s/it]"
     ]
    },
    {
     "name": "stdout",
     "output_type": "stream",
     "text": [
      "[[-15.403352  -12.785922  -13.175775  ... -11.497602   -9.0150385\n",
      "  -17.535305 ]\n",
      " [-14.918972  -13.234019  -12.770893  ... -11.436242   -8.19356\n",
      "  -16.308666 ]\n",
      " [-13.987204  -12.485671  -12.424999  ... -11.227873   -8.145224\n",
      "  -15.846727 ]\n",
      " ...\n",
      " [-15.5450945 -12.80419   -13.311833  ... -11.388999   -9.278044\n",
      "  -16.302166 ]\n",
      " [-13.743786  -12.108593  -12.664417  ... -11.443954   -8.996488\n",
      "  -16.884068 ]\n",
      " [-15.464741  -12.934417  -12.845484  ... -11.01406    -8.623228\n",
      "  -17.000645 ]]\n",
      "SourceInfo(filepath='/home/mschulist/caples_sound/ARU_data/26-LEIA/Data/26-LEIA_20230618_020000.wav', shard_num=0, shard_len_s=-1.0)\n"
     ]
    },
    {
     "name": "stderr",
     "output_type": "stream",
     "text": [
      "  5%|██▋                                              | 875/16036 [18:14:23<299:17:34, 71.07s/it]"
     ]
    },
    {
     "name": "stdout",
     "output_type": "stream",
     "text": [
      "[[-12.807906  -12.385941  -12.18001   ...  -9.967935   -8.323238\n",
      "  -16.30016  ]\n",
      " [-14.5479765 -12.73709   -12.155912  ... -10.067306   -8.535432\n",
      "  -16.569984 ]\n",
      " [-13.926598  -12.6146345 -12.90245   ...  -9.314315   -8.03121\n",
      "  -15.989374 ]\n",
      " ...\n",
      " [-14.1049595 -12.231706  -12.567442  ... -10.074072   -8.236552\n",
      "  -15.780415 ]\n",
      " [-13.606105  -11.935947  -11.727838  ... -10.037477   -8.302449\n",
      "  -15.203031 ]\n",
      " [-13.088634  -12.432884  -11.533099  ...  -9.892847   -7.7173796\n",
      "  -15.149115 ]]\n",
      "SourceInfo(filepath='/home/mschulist/caples_sound/ARU_data/26-LEIA/Data/26-LEIA_20230616_070000.wav', shard_num=0, shard_len_s=-1.0)\n"
     ]
    },
    {
     "name": "stderr",
     "output_type": "stream",
     "text": [
      "  5%|██▋                                              | 876/16036 [18:15:32<296:31:10, 70.41s/it]"
     ]
    },
    {
     "name": "stdout",
     "output_type": "stream",
     "text": [
      "[[-14.194787  -13.749977  -13.884813  ... -13.77355    -8.968465\n",
      "  -16.714396 ]\n",
      " [-14.039256  -10.731545  -15.443486  ... -10.190773   -9.392975\n",
      "  -14.885126 ]\n",
      " [-12.5863905 -13.164433  -14.461879  ... -11.444743  -10.057643\n",
      "  -15.666431 ]\n",
      " ...\n",
      " [-16.687954  -12.4519615 -14.58302   ... -10.889697   -9.441401\n",
      "  -17.812187 ]\n",
      " [-15.747779  -11.315026  -14.294992  ... -10.113961   -9.248112\n",
      "  -17.224007 ]\n",
      " [-16.505936  -11.920996  -15.156046  ... -11.557052   -9.875872\n",
      "  -16.796495 ]]\n",
      "SourceInfo(filepath='/home/mschulist/caples_sound/ARU_data/26-LEIA/Data/26-LEIA_20230607_093000.wav', shard_num=0, shard_len_s=-1.0)\n"
     ]
    }
   ],
   "source": [
    "min_file_size = 10_000_000\n",
    "\n",
    "embed_fn.min_audio_s = 1.0\n",
    "record_file = (output_dir / 'embeddings.tfrecord').as_posix()\n",
    "succ, fail = 0, 0\n",
    "\n",
    "existing_embedding_ids = embed_lib.get_existing_source_ids(\n",
    "    output_dir, 'embeddings-*')\n",
    "\n",
    "new_source_infos = embed_lib.get_new_source_infos(\n",
    "    source_infos, existing_embedding_ids, config.embed_fn_config.file_id_depth)\n",
    "\n",
    "print(f'Found {len(existing_embedding_ids)} existing embedding ids.'\n",
    "      f'Processing {len(new_source_infos)} new source infos. ')\n",
    "\n",
    "with tf_examples.EmbeddingsTFRecordMultiWriter(\n",
    "    output_dir=output_dir, num_files=config.get('tf_record_shards', 1)) as file_writer:\n",
    "    for source_info in tqdm.tqdm(new_source_infos, total=len(new_source_infos)):\n",
    "        print(source_info, flush=True)\n",
    "        file_id = source_info.filepath\n",
    "        file_size = os.stat(file_id).st_size\n",
    "        if file_size < min_file_size:\n",
    "            fail += 1\n",
    "            continue\n",
    "        offset_s = source_info.shard_num * source_info.shard_len_s\n",
    "        audio = audio_utils.load_audio_file(filepath=file_id, target_sample_rate=-1)\n",
    "        # Unpack embed_fn.audio_to_example(file_id, offset_s, audio)\n",
    "        # into 2 steps: embed(), model_outputs_to_tf_example()\n",
    "        model_outputs = embed_fn.embedding_model.embed(audio)\n",
    "        # prune the list of logits\n",
    "        model_outputs.logits['label'] = model_outputs.logits['label'][:, list(species_indicies.keys())]\n",
    "        print(model_outputs.logits['label'])\n",
    "        example = tf_examples.model_outputs_to_tf_example(\n",
    "            model_outputs=model_outputs,\n",
    "            file_id=file_id,\n",
    "            audio=audio,\n",
    "            timestamp_offset_s=offset_s,\n",
    "            write_raw_audio=embed_fn.write_raw_audio,\n",
    "            write_separated_audio=embed_fn.write_separated_audio,\n",
    "            write_embeddings=embed_fn.write_embeddings,\n",
    "            write_logits=embed_fn.write_logits,\n",
    "            write_frontend=embed_fn.write_frontend,\n",
    "            tensor_dtype=embed_fn.tensor_dtype,\n",
    "        )\n",
    "        if example is None:\n",
    "          fail += 1\n",
    "          continue\n",
    "        file_writer.write(example.SerializeToString())\n",
    "        succ += 1\n",
    "    file_writer.flush()\n",
    "\n",
    "print(f'\\n\\nSuccessfully processed {succ} source_infos, failed {fail} times.')"
   ]
  },
  {
   "cell_type": "markdown",
   "id": "3d77ca4f-53cb-46d2-a51d-7005f265bb04",
   "metadata": {},
   "source": [
    "# OLD STUFF BELOW!!"
   ]
  },
  {
   "cell_type": "code",
   "execution_count": null,
   "id": "b894faf6-53e3-40f9-91a9-38522d3b8d6a",
   "metadata": {},
   "outputs": [],
   "source": [
    "min_file_size = 10_000_000\n",
    "\n",
    "embed_fn.min_audio_s = 1.0\n",
    "record_file = (output_dir / 'embeddings.tfrecord').as_posix()\n",
    "succ, fail = 0, 0\n",
    "\n",
    "existing_embedding_ids = embed_lib.get_existing_source_ids(\n",
    "    output_dir, 'embeddings-*')\n",
    "\n",
    "new_source_infos = embed_lib.get_new_source_infos(\n",
    "    source_infos, existing_embedding_ids, config.embed_fn_config.file_id_depth)\n",
    "\n",
    "print(f'Found {len(new_source_infos)} existing embedding ids.'\n",
    "      f'Processing {len(new_source_infos)} new source infos. ')\n",
    "\n",
    "with tf_examples.EmbeddingsTFRecordMultiWriter(\n",
    "    output_dir=output_dir, num_files=config.get('tf_record_shards', 1)) as file_writer:\n",
    "    for source_info in new_source_infos:\n",
    "        print(source_info, flush=True)\n",
    "        file_id = source_info.filepath\n",
    "        file_size = os.stat(file_id).st_size\n",
    "        if file_size < min_file_size:\n",
    "            fail += 1\n",
    "            continue\n",
    "        offset_s = source_info.shard_num * source_info.shard_len_s\n",
    "        audio = audio_utils.load_audio_file(filepath=file_id, target_sample_rate=-1)\n",
    "        example = embed_fn.audio_to_example(file_id, offset_s, audio)\n",
    "        # example = None\n",
    "        if example is None:\n",
    "          fail += 1\n",
    "          continue\n",
    "        file_writer.write(example.SerializeToString())\n",
    "        succ += 1\n",
    "    file_writer.flush()\n",
    "\n",
    "print(f'\\n\\nSuccessfully processed {succ} source_infos, failed {fail} times.')"
   ]
  },
  {
   "cell_type": "code",
   "execution_count": 6,
   "id": "c2d61c0f-52fe-4af5-93c4-756bab6037a7",
   "metadata": {},
   "outputs": [
    {
     "data": {
      "text/plain": [
       "SourceInfo(filepath='ARU_data/10-BLACK/Data/BLACK-10-CAP_20230608_003000.wav', shard_num=0, shard_len_s=-1.0)"
      ]
     },
     "execution_count": 6,
     "metadata": {},
     "output_type": "execute_result"
    }
   ],
   "source": [
    "new_source_infos[0]"
   ]
  },
  {
   "cell_type": "code",
   "execution_count": null,
   "id": "c18526d1-da9c-46c8-8752-d5c8ceee59f7",
   "metadata": {},
   "outputs": [],
   "source": [
    "print(os.stat(new_source_infos[0].filepath))\n",
    "print(os.stat(new_source_infos[1].filepath))"
   ]
  },
  {
   "cell_type": "code",
   "execution_count": 8,
   "id": "5ae30ba5-12c4-436c-9339-20f04cdcfe5f",
   "metadata": {},
   "outputs": [
    {
     "name": "stdout",
     "output_type": "stream",
     "text": [
      "b'10-BLACK/Data/BLACK-10-CAP_20230608_003000.wav'\n",
      "(179, 1, 1280)\n"
     ]
    }
   ],
   "source": [
    "fns = [fn for fn in epath.Path('./embeddings').glob('embeddings-*')]\n",
    "ds = tf.data.TFRecordDataset(fns)\n",
    "parser = tf_examples.get_example_parser(['label'])\n",
    "ds = ds.map(parser)\n",
    "for ex in ds.as_numpy_iterator():\n",
    "  print(ex['filename'])\n",
    "  print(ex['embedding'].shape, flush=True)\n",
    "  break"
   ]
  },
  {
   "cell_type": "code",
   "execution_count": 5,
   "id": "339861e0-17d5-44fe-9c4c-db47b410965d",
   "metadata": {},
   "outputs": [
    {
     "name": "stdout",
     "output_type": "stream",
     "text": [
      "Found 15759 existing embedding ids.Processing 15759 new source infos. \n"
     ]
    },
    {
     "name": "stderr",
     "output_type": "stream",
     "text": [
      "  0%|                                                 | 0/15759 [00:00<?, ?it/s]2024-05-21 11:53:26.968554: W tensorflow/compiler/tf2xla/kernels/assert_op.cc:38] Ignoring Assert operator jax2tf_infer_fn_/assert_equal_1/Assert/AssertGuard/Assert\n",
      "2024-05-21 11:53:30.890136: E external/local_xla/xla/service/slow_operation_alarm.cc:65] Trying algorithm eng0{} for conv (f32[179,640,501,1]{3,2,1,0}, u8[0]{0}) custom-call(f32[179,1,160640,1]{3,2,1,0}, f32[640,1,640,1]{3,2,1,0}), window={size=640x1 stride=320x1}, dim_labels=bf01_oi01->bf01, custom_call_target=\"__cudnn$convForward\", backend_config={\"conv_result_scale\":1,\"activation_mode\":\"kNone\",\"side_input_scale\":0,\"leakyrelu_alpha\":0} is taking a while...\n",
      "2024-05-21 11:53:31.866393: E external/local_xla/xla/service/slow_operation_alarm.cc:133] The operation took 1.976444696s\n",
      "Trying algorithm eng0{} for conv (f32[179,640,501,1]{3,2,1,0}, u8[0]{0}) custom-call(f32[179,1,160640,1]{3,2,1,0}, f32[640,1,640,1]{3,2,1,0}), window={size=640x1 stride=320x1}, dim_labels=bf01_oi01->bf01, custom_call_target=\"__cudnn$convForward\", backend_config={\"conv_result_scale\":1,\"activation_mode\":\"kNone\",\"side_input_scale\":0,\"leakyrelu_alpha\":0} is taking a while...\n",
      "2024-05-21 11:53:33.335544: E external/local_xla/xla/service/slow_operation_alarm.cc:65] Trying algorithm eng0{} for conv (f32[179,640,501,1]{3,2,1,0}, u8[0]{0}) custom-call(f32[179,1,160640,1]{3,2,1,0}, f32[640,1,640,1]{3,2,1,0}), window={size=640x1 stride=320x1}, dim_labels=bf01_oi01->bf01, custom_call_target=\"__cudnn$convForward\", backend_config={\"conv_result_scale\":1,\"activation_mode\":\"kNone\",\"side_input_scale\":0,\"leakyrelu_alpha\":0} is taking a while...\n",
      "2024-05-21 11:53:34.330490: E external/local_xla/xla/service/slow_operation_alarm.cc:133] The operation took 1.995193607s\n",
      "Trying algorithm eng0{} for conv (f32[179,640,501,1]{3,2,1,0}, u8[0]{0}) custom-call(f32[179,1,160640,1]{3,2,1,0}, f32[640,1,640,1]{3,2,1,0}), window={size=640x1 stride=320x1}, dim_labels=bf01_oi01->bf01, custom_call_target=\"__cudnn$convForward\", backend_config={\"conv_result_scale\":1,\"activation_mode\":\"kNone\",\"side_input_scale\":0,\"leakyrelu_alpha\":0} is taking a while...\n",
      "2024-05-21 11:53:38.806646: E external/local_xla/xla/service/slow_operation_alarm.cc:65] Trying algorithm eng3{k11=2} for conv (f32[179,32,249,79]{3,2,1,0}, u8[0]{0}) custom-call(f32[179,32,249,79]{3,2,1,0}, f32[32,1,3,3]{3,2,1,0}), window={size=3x3 pad=1_1x1_1}, dim_labels=bf01_oi01->bf01, feature_group_count=32, custom_call_target=\"__cudnn$convForward\", backend_config={\"conv_result_scale\":1,\"activation_mode\":\"kNone\",\"side_input_scale\":0,\"leakyrelu_alpha\":0} is taking a while...\n",
      "2024-05-21 11:53:38.999800: E external/local_xla/xla/service/slow_operation_alarm.cc:133] The operation took 1.193324761s\n",
      "Trying algorithm eng3{k11=2} for conv (f32[179,32,249,79]{3,2,1,0}, u8[0]{0}) custom-call(f32[179,32,249,79]{3,2,1,0}, f32[32,1,3,3]{3,2,1,0}), window={size=3x3 pad=1_1x1_1}, dim_labels=bf01_oi01->bf01, feature_group_count=32, custom_call_target=\"__cudnn$convForward\", backend_config={\"conv_result_scale\":1,\"activation_mode\":\"kNone\",\"side_input_scale\":0,\"leakyrelu_alpha\":0} is taking a while...\n",
      "W0000 00:00:1716317649.124766 1461466 graph_launch.cc:671] Fallback to op-by-op mode because memset node breaks graph update\n",
      "  2%|▌                                    | 247/15759 [06:51<4:50:35,  1.12s/it]2024-05-21 12:00:07.695484: W tensorflow/compiler/tf2xla/kernels/assert_op.cc:38] Ignoring Assert operator jax2tf_infer_fn_/assert_equal_1/Assert/AssertGuard/Assert\n",
      "W0000 00:00:1716318016.837292 1461466 graph_launch.cc:671] Fallback to op-by-op mode because memset node breaks graph update\n",
      "  4%|█▎                                   | 582/15759 [14:14<4:27:15,  1.06s/it]2024-05-21 12:07:31.060420: W tensorflow/compiler/tf2xla/kernels/assert_op.cc:38] Ignoring Assert operator jax2tf_infer_fn_/assert_equal_1/Assert/AssertGuard/Assert\n",
      "2024-05-21 12:07:33.205717: E external/local_xla/xla/service/slow_operation_alarm.cc:65] Trying algorithm eng0{} for conv (f32[131,640,501,1]{3,2,1,0}, u8[0]{0}) custom-call(f32[131,1,160640,1]{3,2,1,0}, f32[640,1,640,1]{3,2,1,0}), window={size=640x1 stride=320x1}, dim_labels=bf01_oi01->bf01, custom_call_target=\"__cudnn$convForward\", backend_config={\"conv_result_scale\":1,\"activation_mode\":\"kNone\",\"side_input_scale\":0,\"leakyrelu_alpha\":0} is taking a while...\n",
      "2024-05-21 12:07:33.657850: E external/local_xla/xla/service/slow_operation_alarm.cc:133] The operation took 1.45229086s\n",
      "Trying algorithm eng0{} for conv (f32[131,640,501,1]{3,2,1,0}, u8[0]{0}) custom-call(f32[131,1,160640,1]{3,2,1,0}, f32[640,1,640,1]{3,2,1,0}), window={size=640x1 stride=320x1}, dim_labels=bf01_oi01->bf01, custom_call_target=\"__cudnn$convForward\", backend_config={\"conv_result_scale\":1,\"activation_mode\":\"kNone\",\"side_input_scale\":0,\"leakyrelu_alpha\":0} is taking a while...\n",
      "2024-05-21 12:07:34.952029: E external/local_xla/xla/service/slow_operation_alarm.cc:65] Trying algorithm eng0{} for conv (f32[131,640,501,1]{3,2,1,0}, u8[0]{0}) custom-call(f32[131,1,160640,1]{3,2,1,0}, f32[640,1,640,1]{3,2,1,0}), window={size=640x1 stride=320x1}, dim_labels=bf01_oi01->bf01, custom_call_target=\"__cudnn$convForward\", backend_config={\"conv_result_scale\":1,\"activation_mode\":\"kNone\",\"side_input_scale\":0,\"leakyrelu_alpha\":0} is taking a while...\n",
      "2024-05-21 12:07:35.405834: E external/local_xla/xla/service/slow_operation_alarm.cc:133] The operation took 1.453960701s\n",
      "Trying algorithm eng0{} for conv (f32[131,640,501,1]{3,2,1,0}, u8[0]{0}) custom-call(f32[131,1,160640,1]{3,2,1,0}, f32[640,1,640,1]{3,2,1,0}), window={size=640x1 stride=320x1}, dim_labels=bf01_oi01->bf01, custom_call_target=\"__cudnn$convForward\", backend_config={\"conv_result_scale\":1,\"activation_mode\":\"kNone\",\"side_input_scale\":0,\"leakyrelu_alpha\":0} is taking a while...\n",
      "W0000 00:00:1716318472.161180 1461466 graph_launch.cc:671] Fallback to op-by-op mode because memset node breaks graph update\n",
      "  4%|█▌                                   | 660/15759 [16:29<9:52:44,  2.36s/it]2024-05-21 12:09:47.962088: W tensorflow/compiler/tf2xla/kernels/assert_op.cc:38] Ignoring Assert operator jax2tf_infer_fn_/assert_equal_1/Assert/AssertGuard/Assert\n",
      "W0000 00:00:1716318603.916451 1461466 graph_launch.cc:671] Fallback to op-by-op mode because memset node breaks graph update\n",
      "  5%|█▋                                   | 721/15759 [18:01<5:41:31,  1.36s/it]2024-05-21 12:11:18.495210: W tensorflow/compiler/tf2xla/kernels/assert_op.cc:38] Ignoring Assert operator jax2tf_infer_fn_/assert_equal_1/Assert/AssertGuard/Assert\n",
      "W0000 00:00:1716318686.413458 1461466 graph_launch.cc:671] Fallback to op-by-op mode because memset node breaks graph update\n",
      " 13%|████▌                               | 1989/15759 [46:34<5:22:28,  1.41s/it]\n"
     ]
    },
    {
     "ename": "KeyboardInterrupt",
     "evalue": "",
     "output_type": "error",
     "traceback": [
      "\u001b[0;31m---------------------------------------------------------------------------\u001b[0m",
      "\u001b[0;31mKeyboardInterrupt\u001b[0m                         Traceback (most recent call last)",
      "Cell \u001b[0;32mIn[5], line 48\u001b[0m\n\u001b[1;32m     46\u001b[0m file_id \u001b[38;5;241m=\u001b[39m source_info\u001b[38;5;241m.\u001b[39mfile_id(config\u001b[38;5;241m.\u001b[39membed_fn_config\u001b[38;5;241m.\u001b[39mfile_id_depth)\n\u001b[1;32m     47\u001b[0m offset_s \u001b[38;5;241m=\u001b[39m source_info\u001b[38;5;241m.\u001b[39mshard_num \u001b[38;5;241m*\u001b[39m source_info\u001b[38;5;241m.\u001b[39mshard_len_s\n\u001b[0;32m---> 48\u001b[0m example \u001b[38;5;241m=\u001b[39m \u001b[43membed_fn\u001b[49m\u001b[38;5;241;43m.\u001b[39;49m\u001b[43maudio_to_example\u001b[49m\u001b[43m(\u001b[49m\u001b[43mfile_id\u001b[49m\u001b[43m,\u001b[49m\u001b[43m \u001b[49m\u001b[43moffset_s\u001b[49m\u001b[43m,\u001b[49m\u001b[43m \u001b[49m\u001b[43maudio\u001b[49m\u001b[43m)\u001b[49m\n\u001b[1;32m     49\u001b[0m \u001b[38;5;28;01mif\u001b[39;00m example \u001b[38;5;129;01mis\u001b[39;00m \u001b[38;5;28;01mNone\u001b[39;00m:\n\u001b[1;32m     50\u001b[0m   fail \u001b[38;5;241m+\u001b[39m\u001b[38;5;241m=\u001b[39m \u001b[38;5;241m1\u001b[39m\n",
      "File \u001b[0;32m~/miniconda3/lib/python3.10/site-packages/chirp/inference/embed_lib.py:265\u001b[0m, in \u001b[0;36mEmbedFn.audio_to_example\u001b[0;34m(self, file_id, timestamp_offset_s, audio)\u001b[0m\n\u001b[1;32m    261\u001b[0m \u001b[38;5;28;01mif\u001b[39;00m \u001b[38;5;28mself\u001b[39m\u001b[38;5;241m.\u001b[39membedding_model \u001b[38;5;129;01mis\u001b[39;00m \u001b[38;5;28;01mNone\u001b[39;00m:\n\u001b[1;32m    262\u001b[0m   \u001b[38;5;28;01mraise\u001b[39;00m \u001b[38;5;167;01mValueError\u001b[39;00m(\n\u001b[1;32m    263\u001b[0m       \u001b[38;5;124m'\u001b[39m\u001b[38;5;124mEmbedding model undefined; you must run setup to load the model.\u001b[39m\u001b[38;5;124m'\u001b[39m\n\u001b[1;32m    264\u001b[0m   )\n\u001b[0;32m--> 265\u001b[0m model_outputs \u001b[38;5;241m=\u001b[39m \u001b[38;5;28;43mself\u001b[39;49m\u001b[38;5;241;43m.\u001b[39;49m\u001b[43membedding_model\u001b[49m\u001b[38;5;241;43m.\u001b[39;49m\u001b[43membed\u001b[49m\u001b[43m(\u001b[49m\u001b[43maudio\u001b[49m\u001b[43m)\u001b[49m\n\u001b[1;32m    266\u001b[0m \u001b[38;5;28;01mif\u001b[39;00m \u001b[38;5;28mself\u001b[39m\u001b[38;5;241m.\u001b[39mlogits_head \u001b[38;5;129;01mis\u001b[39;00m \u001b[38;5;129;01mnot\u001b[39;00m \u001b[38;5;28;01mNone\u001b[39;00m:\n\u001b[1;32m    267\u001b[0m   \u001b[38;5;66;03m# Update model outputs with logits from the secondary classifier.\u001b[39;00m\n\u001b[1;32m    268\u001b[0m   model_outputs \u001b[38;5;241m=\u001b[39m \u001b[38;5;28mself\u001b[39m\u001b[38;5;241m.\u001b[39mlogits_head\u001b[38;5;241m.\u001b[39madd_logits(\n\u001b[1;32m    269\u001b[0m       model_outputs, keep_original\u001b[38;5;241m=\u001b[39m\u001b[38;5;28mself\u001b[39m\u001b[38;5;241m.\u001b[39mwrite_logits\n\u001b[1;32m    270\u001b[0m   )\n",
      "File \u001b[0;32m~/miniconda3/lib/python3.10/site-packages/chirp/inference/models.py:352\u001b[0m, in \u001b[0;36mTaxonomyModelTF.embed\u001b[0;34m(self, audio_array)\u001b[0m\n\u001b[1;32m    351\u001b[0m \u001b[38;5;28;01mdef\u001b[39;00m \u001b[38;5;21membed\u001b[39m(\u001b[38;5;28mself\u001b[39m, audio_array: np\u001b[38;5;241m.\u001b[39mndarray) \u001b[38;5;241m-\u001b[39m\u001b[38;5;241m>\u001b[39m interface\u001b[38;5;241m.\u001b[39mInferenceOutputs:\n\u001b[0;32m--> 352\u001b[0m   \u001b[38;5;28;01mreturn\u001b[39;00m \u001b[43minterface\u001b[49m\u001b[38;5;241;43m.\u001b[39;49m\u001b[43membed_from_batch_embed_fn\u001b[49m\u001b[43m(\u001b[49m\u001b[38;5;28;43mself\u001b[39;49m\u001b[38;5;241;43m.\u001b[39;49m\u001b[43mbatch_embed\u001b[49m\u001b[43m,\u001b[49m\u001b[43m \u001b[49m\u001b[43maudio_array\u001b[49m\u001b[43m)\u001b[49m\n",
      "File \u001b[0;32m~/miniconda3/lib/python3.10/site-packages/chirp/inference/interface.py:262\u001b[0m, in \u001b[0;36membed_from_batch_embed_fn\u001b[0;34m(embed_fn, audio_array)\u001b[0m\n\u001b[1;32m    260\u001b[0m \u001b[38;5;250m\u001b[39m\u001b[38;5;124;03m\"\"\"Embed a single example using a batch_embed_fn.\"\"\"\u001b[39;00m\n\u001b[1;32m    261\u001b[0m audio_batch \u001b[38;5;241m=\u001b[39m audio_array[np\u001b[38;5;241m.\u001b[39mnewaxis, :]\n\u001b[0;32m--> 262\u001b[0m outputs \u001b[38;5;241m=\u001b[39m \u001b[43membed_fn\u001b[49m\u001b[43m(\u001b[49m\u001b[43maudio_batch\u001b[49m\u001b[43m)\u001b[49m\n\u001b[1;32m    264\u001b[0m unbatched_outputs \u001b[38;5;241m=\u001b[39m {}\n\u001b[1;32m    265\u001b[0m \u001b[38;5;28;01mfor\u001b[39;00m k \u001b[38;5;129;01min\u001b[39;00m [\u001b[38;5;124m'\u001b[39m\u001b[38;5;124membeddings\u001b[39m\u001b[38;5;124m'\u001b[39m, \u001b[38;5;124m'\u001b[39m\u001b[38;5;124mseparated_audio\u001b[39m\u001b[38;5;124m'\u001b[39m, \u001b[38;5;124m'\u001b[39m\u001b[38;5;124mfrontend\u001b[39m\u001b[38;5;124m'\u001b[39m]:\n",
      "File \u001b[0;32m~/miniconda3/lib/python3.10/site-packages/chirp/inference/models.py:381\u001b[0m, in \u001b[0;36mTaxonomyModelTF.batch_embed\u001b[0;34m(self, audio_batch)\u001b[0m\n\u001b[1;32m    375\u001b[0m \u001b[38;5;28;01mdef\u001b[39;00m \u001b[38;5;21mbatch_embed\u001b[39m(\n\u001b[1;32m    376\u001b[0m     \u001b[38;5;28mself\u001b[39m, audio_batch: np\u001b[38;5;241m.\u001b[39mndarray[Any, Any]\n\u001b[1;32m    377\u001b[0m ) \u001b[38;5;241m-\u001b[39m\u001b[38;5;241m>\u001b[39m interface\u001b[38;5;241m.\u001b[39mInferenceOutputs:\n\u001b[1;32m    378\u001b[0m   framed_audio \u001b[38;5;241m=\u001b[39m \u001b[38;5;28mself\u001b[39m\u001b[38;5;241m.\u001b[39mframe_audio(\n\u001b[1;32m    379\u001b[0m       audio_batch, \u001b[38;5;28mself\u001b[39m\u001b[38;5;241m.\u001b[39mwindow_size_s, \u001b[38;5;28mself\u001b[39m\u001b[38;5;241m.\u001b[39mhop_size_s\n\u001b[1;32m    380\u001b[0m   )\n\u001b[0;32m--> 381\u001b[0m   framed_audio \u001b[38;5;241m=\u001b[39m \u001b[38;5;28;43mself\u001b[39;49m\u001b[38;5;241;43m.\u001b[39;49m\u001b[43mnormalize_audio\u001b[49m\u001b[43m(\u001b[49m\u001b[43mframed_audio\u001b[49m\u001b[43m,\u001b[49m\u001b[43m \u001b[49m\u001b[38;5;28;43mself\u001b[39;49m\u001b[38;5;241;43m.\u001b[39;49m\u001b[43mtarget_peak\u001b[49m\u001b[43m)\u001b[49m\n\u001b[1;32m    382\u001b[0m   rebatched_audio \u001b[38;5;241m=\u001b[39m framed_audio\u001b[38;5;241m.\u001b[39mreshape([\u001b[38;5;241m-\u001b[39m\u001b[38;5;241m1\u001b[39m, framed_audio\u001b[38;5;241m.\u001b[39mshape[\u001b[38;5;241m-\u001b[39m\u001b[38;5;241m1\u001b[39m]])\n\u001b[1;32m    384\u001b[0m   \u001b[38;5;28;01mif\u001b[39;00m \u001b[38;5;129;01mnot\u001b[39;00m \u001b[38;5;28mself\u001b[39m\u001b[38;5;241m.\u001b[39mbatchable:\n",
      "\u001b[0;31mKeyboardInterrupt\u001b[0m: "
     ]
    }
   ],
   "source": [
    "#@title Run embedding. { vertical-output: true }\n",
    "\n",
    "# Uses multiple threads to load audio before embedding.\n",
    "# This tends to be faster, but can fail if any audio files are corrupt.\n",
    "\n",
    "min_file_size = 10_000_000\n",
    "\n",
    "\n",
    "\n",
    "embed_fn.min_audio_s = 1.0\n",
    "record_file = (output_dir / 'embeddings.tfrecord').as_posix()\n",
    "succ, fail = 0, 0\n",
    "\n",
    "existing_embedding_ids = embed_lib.get_existing_source_ids(\n",
    "    output_dir, 'embeddings-*')\n",
    "\n",
    "new_source_infos = embed_lib.get_new_source_infos(\n",
    "    source_infos, existing_embedding_ids, config.embed_fn_config.file_id_depth)\n",
    "\n",
    "filtered_source_infos = []\n",
    "\n",
    "for s in new_source_infos:\n",
    "    size = os.stat(s.filepath).st_size\n",
    "    if size < min_file_size:\n",
    "        continue\n",
    "    filtered_source_infos.append(s)\n",
    "\n",
    "new_source_infos = filtered_source_infos\n",
    "\n",
    "print(f'Found {len(new_source_infos)} existing embedding ids.'\n",
    "      f'Processing {len(new_source_infos)} new source infos. ')\n",
    "\n",
    "try:\n",
    "  audio_loader = lambda fp, offset: audio_utils.load_audio_window(\n",
    "      fp, offset, sample_rate=config.embed_fn_config.model_config.sample_rate,\n",
    "      window_size_s=config.get('shard_len_s', -1.0))\n",
    "  audio_iterator = audio_utils.multi_load_audio_window(\n",
    "      filepaths=[s.filepath for s in new_source_infos],\n",
    "      offsets=[s.shard_num * s.shard_len_s for s in new_source_infos],\n",
    "      audio_loader=audio_loader,\n",
    "  )\n",
    "  with tf_examples.EmbeddingsTFRecordMultiWriter(\n",
    "      output_dir=output_dir, num_files=config.get('tf_record_shards', 1)) as file_writer:\n",
    "    for source_info, audio in tqdm.tqdm(\n",
    "        zip(new_source_infos, audio_iterator), total=len(new_source_infos)):\n",
    "      file_id = source_info.file_id(config.embed_fn_config.file_id_depth)\n",
    "      offset_s = source_info.shard_num * source_info.shard_len_s\n",
    "      example = embed_fn.audio_to_example(file_id, offset_s, audio)\n",
    "      if example is None:\n",
    "        fail += 1\n",
    "        continue\n",
    "      file_writer.write(example.SerializeToString())\n",
    "      succ += 1\n",
    "    file_writer.flush()\n",
    "finally:\n",
    "  del(audio_iterator)\n",
    "print(f'\\n\\nSuccessfully processed {succ} source_infos, failed {fail} times.')\n",
    "\n",
    "fns = [fn for fn in output_dir.glob('embeddings-*')]\n",
    "ds = tf.data.TFRecordDataset(fns)\n",
    "parser = tf_examples.get_example_parser()\n",
    "ds = ds.map(parser)\n",
    "for ex in ds.as_numpy_iterator():\n",
    "  print(ex['filename'])\n",
    "  print(ex['embedding'].shape, flush=True)\n",
    "  break"
   ]
  },
  {
   "cell_type": "code",
   "execution_count": null,
   "id": "5749919c-a6b5-4133-a256-1bcf83d36685",
   "metadata": {},
   "outputs": [],
   "source": []
  },
  {
   "cell_type": "code",
   "execution_count": 5,
   "id": "7f2780ed-61c6-4f59-aaa1-b2e6bcf59481",
   "metadata": {},
   "outputs": [
    {
     "name": "stdout",
     "output_type": "stream",
     "text": [
      "Found 14949 existing embedding ids.Processing 14949 new source infos. \n",
      "SourceInfo(filepath='/home/mschulist/caples_sound/ARU_data/10-BLACK/Data/BLACK-10-CAP_20230608_003000.wav', shard_num=0, shard_len_s=-1.0)\n"
     ]
    },
    {
     "ename": "TypeError",
     "evalue": "multi_load_audio_window() got an unexpected keyword argument 'sample_rate'",
     "output_type": "error",
     "traceback": [
      "\u001b[0;31m---------------------------------------------------------------------------\u001b[0m",
      "\u001b[0;31mTypeError\u001b[0m                                 Traceback (most recent call last)",
      "Cell \u001b[0;32mIn[5], line 31\u001b[0m\n\u001b[1;32m     27\u001b[0m new_source_infos \u001b[38;5;241m=\u001b[39m filtered_source_infos\n\u001b[1;32m     29\u001b[0m \u001b[38;5;28mprint\u001b[39m(new_source_infos[\u001b[38;5;241m0\u001b[39m])\n\u001b[0;32m---> 31\u001b[0m audio_iterator \u001b[38;5;241m=\u001b[39m \u001b[43maudio_utils\u001b[49m\u001b[38;5;241;43m.\u001b[39;49m\u001b[43mmulti_load_audio_window\u001b[49m\u001b[43m(\u001b[49m\n\u001b[1;32m     32\u001b[0m \u001b[43m    \u001b[49m\u001b[43mfilepaths\u001b[49m\u001b[38;5;241;43m=\u001b[39;49m\u001b[43m[\u001b[49m\u001b[43ms\u001b[49m\u001b[38;5;241;43m.\u001b[39;49m\u001b[43mfilepath\u001b[49m\u001b[43m \u001b[49m\u001b[38;5;28;43;01mfor\u001b[39;49;00m\u001b[43m \u001b[49m\u001b[43ms\u001b[49m\u001b[43m \u001b[49m\u001b[38;5;129;43;01min\u001b[39;49;00m\u001b[43m \u001b[49m\u001b[43mnew_source_infos\u001b[49m\u001b[43m]\u001b[49m\u001b[43m,\u001b[49m\n\u001b[1;32m     33\u001b[0m \u001b[43m    \u001b[49m\u001b[43moffsets\u001b[49m\u001b[38;5;241;43m=\u001b[39;49m\u001b[43m[\u001b[49m\u001b[43ms\u001b[49m\u001b[38;5;241;43m.\u001b[39;49m\u001b[43mshard_num\u001b[49m\u001b[43m \u001b[49m\u001b[38;5;241;43m*\u001b[39;49m\u001b[43m \u001b[49m\u001b[43ms\u001b[49m\u001b[38;5;241;43m.\u001b[39;49m\u001b[43mshard_len_s\u001b[49m\u001b[43m \u001b[49m\u001b[38;5;28;43;01mfor\u001b[39;49;00m\u001b[43m \u001b[49m\u001b[43ms\u001b[49m\u001b[43m \u001b[49m\u001b[38;5;129;43;01min\u001b[39;49;00m\u001b[43m \u001b[49m\u001b[43mnew_source_infos\u001b[49m\u001b[43m]\u001b[49m\u001b[43m,\u001b[49m\n\u001b[1;32m     34\u001b[0m \u001b[43m    \u001b[49m\u001b[43msample_rate\u001b[49m\u001b[38;5;241;43m=\u001b[39;49m\u001b[43mconfig\u001b[49m\u001b[38;5;241;43m.\u001b[39;49m\u001b[43membed_fn_config\u001b[49m\u001b[38;5;241;43m.\u001b[39;49m\u001b[43mmodel_config\u001b[49m\u001b[38;5;241;43m.\u001b[39;49m\u001b[43msample_rate\u001b[49m\u001b[43m,\u001b[49m\n\u001b[1;32m     35\u001b[0m \u001b[43m    \u001b[49m\u001b[43mwindow_size_s\u001b[49m\u001b[38;5;241;43m=\u001b[39;49m\u001b[43mconfig\u001b[49m\u001b[38;5;241;43m.\u001b[39;49m\u001b[43mget\u001b[49m\u001b[43m(\u001b[49m\u001b[38;5;124;43m'\u001b[39;49m\u001b[38;5;124;43mshard_len_s\u001b[39;49m\u001b[38;5;124;43m'\u001b[39;49m\u001b[43m,\u001b[49m\u001b[43m \u001b[49m\u001b[38;5;241;43m-\u001b[39;49m\u001b[38;5;241;43m1.0\u001b[39;49m\u001b[43m)\u001b[49m\u001b[43m,\u001b[49m\n\u001b[1;32m     36\u001b[0m \u001b[43m)\u001b[49m\n\u001b[1;32m     38\u001b[0m \u001b[38;5;28;01mwith\u001b[39;00m tf_examples\u001b[38;5;241m.\u001b[39mEmbeddingsTFRecordMultiWriter(\n\u001b[1;32m     39\u001b[0m     output_dir\u001b[38;5;241m=\u001b[39moutput_dir, num_files\u001b[38;5;241m=\u001b[39mconfig\u001b[38;5;241m.\u001b[39mget(\u001b[38;5;124m'\u001b[39m\u001b[38;5;124mtf_record_shards\u001b[39m\u001b[38;5;124m'\u001b[39m, \u001b[38;5;241m1\u001b[39m)) \u001b[38;5;28;01mas\u001b[39;00m file_writer:\n\u001b[1;32m     40\u001b[0m   \u001b[38;5;28;01mfor\u001b[39;00m source_info, audio \u001b[38;5;129;01min\u001b[39;00m tqdm\u001b[38;5;241m.\u001b[39mtqdm(\n\u001b[1;32m     41\u001b[0m       \u001b[38;5;28mzip\u001b[39m(new_source_infos, audio_iterator), total\u001b[38;5;241m=\u001b[39m\u001b[38;5;28mlen\u001b[39m(new_source_infos)):\n",
      "\u001b[0;31mTypeError\u001b[0m: multi_load_audio_window() got an unexpected keyword argument 'sample_rate'"
     ]
    }
   ],
   "source": [
    "# Uses multiple threads to load audio before embedding.\n",
    "# This tends to be faster, but can fail if any audio files are corrupt.\n",
    "\n",
    "min_file_size = 10_000_000\n",
    "\n",
    "embed_fn.min_audio_s = 1.0\n",
    "record_file = (output_dir / 'embeddings.tfrecord').as_posix()\n",
    "succ, fail = 0, 0\n",
    "\n",
    "existing_embedding_ids = embed_lib.get_existing_source_ids(\n",
    "    output_dir, 'embeddings-*')\n",
    "\n",
    "new_source_infos = embed_lib.get_new_source_infos(\n",
    "    source_infos, existing_embedding_ids, config.embed_fn_config.file_id_depth)\n",
    "\n",
    "print(f'Found {len(new_source_infos)} existing embedding ids.'\n",
    "      f'Processing {len(new_source_infos)} new source infos. ')\n",
    "\n",
    "filtered_source_infos = []\n",
    "\n",
    "for s in new_source_infos:\n",
    "    size = os.stat(s.filepath).st_size\n",
    "    if size < min_file_size:\n",
    "        continue\n",
    "    filtered_source_infos.append(s)\n",
    "\n",
    "new_source_infos = filtered_source_infos\n",
    "\n",
    "\n",
    "audio_iterator = audio_utils.multi_load_audio_window(\n",
    "    filepaths=[s.filepath for s in new_source_infos],\n",
    "    offsets=[s.shard_num * s.shard_len_s for s in new_source_infos],\n",
    "    sample_rate=config.embed_fn_config.model_config.sample_rate,\n",
    "    window_size_s=config.get('shard_len_s', -1.0),\n",
    ")\n",
    "\n",
    "with tf_examples.EmbeddingsTFRecordMultiWriter(\n",
    "    output_dir=output_dir, num_files=config.get('tf_record_shards', 1)) as file_writer:\n",
    "  for source_info, audio in tqdm.tqdm(\n",
    "      zip(new_source_infos, audio_iterator), total=len(new_source_infos)):\n",
    "    file_id = source_info.file_id(config.embed_fn_config.file_id_depth)\n",
    "    file_size = os.stat(source_info.filepath).st_size\n",
    "    if file_size < min_file_size:\n",
    "        fail += 1\n",
    "        continue\n",
    "    offset_s = source_info.shard_num * source_info.shard_len_s\n",
    "    example = embed_fn.audio_to_example(file_id, offset_s, audio)\n",
    "    # example = None\n",
    "    if example is None:\n",
    "      fail += 1\n",
    "      continue\n",
    "    file_writer.write(example.SerializeToString())\n",
    "    succ += 1\n",
    "  file_writer.flush()\n",
    "print(f'\\n\\nSuccessfully processed {succ} source_infos, failed {fail} times.')\n",
    "\n",
    "fns = [fn for fn in output_dir.glob('embeddings-*')]\n",
    "ds = tf.data.TFRecordDataset(fns)\n",
    "parser = tf_examples.get_example_parser()\n",
    "ds = ds.map(parser)\n",
    "for ex in ds.as_numpy_iterator():\n",
    "  print(ex['filename'])\n",
    "  print(ex['embedding'].shape, flush=True)\n",
    "  break"
   ]
  },
  {
   "cell_type": "code",
   "execution_count": null,
   "id": "86afd1fd-4f95-4794-a6b2-63b4797dcff6",
   "metadata": {},
   "outputs": [],
   "source": []
  }
 ],
 "metadata": {
  "kernelspec": {
   "display_name": "Python 3 (ipykernel)",
   "language": "python",
   "name": "python3"
  },
  "language_info": {
   "codemirror_mode": {
    "name": "ipython",
    "version": 3
   },
   "file_extension": ".py",
   "mimetype": "text/x-python",
   "name": "python",
   "nbconvert_exporter": "python",
   "pygments_lexer": "ipython3",
   "version": "3.10.14"
  }
 },
 "nbformat": 4,
 "nbformat_minor": 5
}
