{
 "cells": [
  {
   "cell_type": "code",
   "execution_count": 18,
   "metadata": {},
   "outputs": [],
   "source": [
    "import pandas as pd\n",
    "import os\n",
    "import shutil"
   ]
  },
  {
   "cell_type": "code",
   "execution_count": 5,
   "metadata": {},
   "outputs": [],
   "source": [
    "precomputed_all = os.listdir('../comparison/precomputed_raven_all')\n",
    "precomputed_all = [x for x in precomputed_all if x.endswith('.wav')]"
   ]
  },
  {
   "cell_type": "code",
   "execution_count": 6,
   "metadata": {},
   "outputs": [
    {
     "data": {
      "text/plain": [
       "'RED-4-CAPL_20190609_093000.wav^_^40.0^_^stejay.wav'"
      ]
     },
     "execution_count": 6,
     "metadata": {},
     "output_type": "execute_result"
    }
   ],
   "source": [
    "precomputed_all[0]"
   ]
  },
  {
   "cell_type": "code",
   "execution_count": 14,
   "metadata": {},
   "outputs": [],
   "source": [
    "pcdf = pd.DataFrame([x.split('^_^') for x in precomputed_all], columns=['filename', 'timestamp_s', 'species'])\n",
    "pcdf['species'] = pcdf['species'].str.replace('.wav', '')\n",
    "pcdf['full_name'] = precomputed_all"
   ]
  },
  {
   "cell_type": "code",
   "execution_count": 15,
   "metadata": {},
   "outputs": [],
   "source": [
    "pc_small = pcdf.groupby('species').head(25).reset_index(drop=True)"
   ]
  },
  {
   "cell_type": "code",
   "execution_count": 20,
   "metadata": {},
   "outputs": [],
   "source": [
    "for _, row in pc_small.iterrows():\n",
    "    shutil.copy(\n",
    "        src=f'../comparison/precomputed_raven_all/{row[\"full_name\"]}',\n",
    "        dst=f'../comparison/precomputed_raven/{row[\"full_name\"]}'\n",
    "    )\n",
    "    shutil.copy(\n",
    "        src=f'../comparison/precomputed_raven_all/{row[\"full_name\"][:-4]}.png',\n",
    "        dst=f'../comparison/precomputed_raven/{row[\"full_name\"][:-4]}.png'\n",
    "    )"
   ]
  }
 ],
 "metadata": {
  "kernelspec": {
   "display_name": "perch_gpu",
   "language": "python",
   "name": "python3"
  },
  "language_info": {
   "codemirror_mode": {
    "name": "ipython",
    "version": 3
   },
   "file_extension": ".py",
   "mimetype": "text/x-python",
   "name": "python",
   "nbconvert_exporter": "python",
   "pygments_lexer": "ipython3",
   "version": "3.10.14"
  }
 },
 "nbformat": 4,
 "nbformat_minor": 2
}
