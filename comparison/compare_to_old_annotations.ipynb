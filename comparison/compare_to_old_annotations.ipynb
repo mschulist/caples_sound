{
 "cells": [
  {
   "cell_type": "code",
   "execution_count": 1,
   "metadata": {},
   "outputs": [],
   "source": [
    "import polars as pl\n",
    "import numpy as np\n",
    "import matplotlib.pyplot as plt"
   ]
  },
  {
   "cell_type": "code",
   "execution_count": 2,
   "metadata": {},
   "outputs": [],
   "source": [
    "raven = pl.read_csv(\"raven_annotations.csv\")"
   ]
  },
  {
   "cell_type": "code",
   "execution_count": 3,
   "metadata": {},
   "outputs": [
    {
     "data": {
      "text/html": [
       "<div><style>\n",
       ".dataframe > thead > tr,\n",
       ".dataframe > tbody > tr {\n",
       "  text-align: right;\n",
       "  white-space: pre-wrap;\n",
       "}\n",
       "</style>\n",
       "<small>shape: (11_492, 6)</small><table border=\"1\" class=\"dataframe\"><thead><tr><th>filename</th><th>begin_time_s</th><th>end_time_s</th><th>id</th><th>label</th><th>timestamp_s</th></tr><tr><td>str</td><td>f64</td><td>f64</td><td>str</td><td>str</td><td>f64</td></tr></thead><tbody><tr><td>&quot;BLUE-6-CAPLE_20180606_070000.w…</td><td>1.227414</td><td>3.657139</td><td>&quot;moch&quot;</td><td>&quot;mouchi&quot;</td><td>0.0</td></tr><tr><td>&quot;BLUE-6-CAPLE_20180606_070000.w…</td><td>0.074323</td><td>1.14505</td><td>&quot;moch&quot;</td><td>&quot;mouchi&quot;</td><td>0.0</td></tr><tr><td>&quot;BLUE-6-CAPLE_20180606_070000.w…</td><td>5.040054</td><td>6.632416</td><td>&quot;stja&quot;</td><td>&quot;stejay&quot;</td><td>5.0</td></tr><tr><td>&quot;BLUE-6-CAPLE_20180606_070000.w…</td><td>9.405324</td><td>10.832959</td><td>&quot;stja&quot;</td><td>&quot;stejay&quot;</td><td>10.0</td></tr><tr><td>&quot;BLUE-6-CAPLE_20180606_070000.w…</td><td>90.914068</td><td>92.198867</td><td>&quot;rbnu&quot;</td><td>&quot;rebnut&quot;</td><td>90.0</td></tr><tr><td>&hellip;</td><td>&hellip;</td><td>&hellip;</td><td>&hellip;</td><td>&hellip;</td><td>&hellip;</td></tr><tr><td>&quot;RED-4-CAPL_20190624_093000.wav&quot;</td><td>293.455127</td><td>294.813289</td><td>&quot;gcki&quot;</td><td>&quot;gockin&quot;</td><td>290.0</td></tr><tr><td>&quot;RED-4-CAPL_20190624_093000.wav&quot;</td><td>298.820286</td><td>299.999977</td><td>&quot;stja&quot;</td><td>&quot;stejay&quot;</td><td>295.0</td></tr><tr><td>&quot;RED-4-CAPL_20190624_093000.wav&quot;</td><td>298.116952</td><td>299.790402</td><td>&quot;gcki&quot;</td><td>&quot;gockin&quot;</td><td>295.0</td></tr><tr><td>&quot;RED-4-CAPL_20190624_093000.wav&quot;</td><td>296.176721</td><td>298.771781</td><td>&quot;gcki&quot;</td><td>&quot;gockin&quot;</td><td>295.0</td></tr><tr><td>&quot;RED-4-CAPL_20190624_093000.wav&quot;</td><td>299.087068</td><td>299.999977</td><td>&quot;hewa&quot;</td><td>&quot;herwar&quot;</td><td>295.0</td></tr></tbody></table></div>"
      ],
      "text/plain": [
       "shape: (11_492, 6)\n",
       "┌─────────────────────────────────┬──────────────┬────────────┬──────┬────────┬─────────────┐\n",
       "│ filename                        ┆ begin_time_s ┆ end_time_s ┆ id   ┆ label  ┆ timestamp_s │\n",
       "│ ---                             ┆ ---          ┆ ---        ┆ ---  ┆ ---    ┆ ---         │\n",
       "│ str                             ┆ f64          ┆ f64        ┆ str  ┆ str    ┆ f64         │\n",
       "╞═════════════════════════════════╪══════════════╪════════════╪══════╪════════╪═════════════╡\n",
       "│ BLUE-6-CAPLE_20180606_070000.w… ┆ 1.227414     ┆ 3.657139   ┆ moch ┆ mouchi ┆ 0.0         │\n",
       "│ BLUE-6-CAPLE_20180606_070000.w… ┆ 0.074323     ┆ 1.14505    ┆ moch ┆ mouchi ┆ 0.0         │\n",
       "│ BLUE-6-CAPLE_20180606_070000.w… ┆ 5.040054     ┆ 6.632416   ┆ stja ┆ stejay ┆ 5.0         │\n",
       "│ BLUE-6-CAPLE_20180606_070000.w… ┆ 9.405324     ┆ 10.832959  ┆ stja ┆ stejay ┆ 10.0        │\n",
       "│ BLUE-6-CAPLE_20180606_070000.w… ┆ 90.914068    ┆ 92.198867  ┆ rbnu ┆ rebnut ┆ 90.0        │\n",
       "│ …                               ┆ …            ┆ …          ┆ …    ┆ …      ┆ …           │\n",
       "│ RED-4-CAPL_20190624_093000.wav  ┆ 293.455127   ┆ 294.813289 ┆ gcki ┆ gockin ┆ 290.0       │\n",
       "│ RED-4-CAPL_20190624_093000.wav  ┆ 298.820286   ┆ 299.999977 ┆ stja ┆ stejay ┆ 295.0       │\n",
       "│ RED-4-CAPL_20190624_093000.wav  ┆ 298.116952   ┆ 299.790402 ┆ gcki ┆ gockin ┆ 295.0       │\n",
       "│ RED-4-CAPL_20190624_093000.wav  ┆ 296.176721   ┆ 298.771781 ┆ gcki ┆ gockin ┆ 295.0       │\n",
       "│ RED-4-CAPL_20190624_093000.wav  ┆ 299.087068   ┆ 299.999977 ┆ hewa ┆ herwar ┆ 295.0       │\n",
       "└─────────────────────────────────┴──────────────┴────────────┴──────┴────────┴─────────────┘"
      ]
     },
     "execution_count": 3,
     "metadata": {},
     "output_type": "execute_result"
    }
   ],
   "source": [
    "raven"
   ]
  },
  {
   "cell_type": "code",
   "execution_count": 4,
   "metadata": {},
   "outputs": [],
   "source": [
    "outputs = pl.read_parquet('../outputs_all/inference_custom.parquet')"
   ]
  },
  {
   "cell_type": "code",
   "execution_count": 5,
   "metadata": {},
   "outputs": [],
   "source": [
    "outputs_2018_2019 = outputs.filter(\n",
    "    (pl.col('filename').str.starts_with('2018/')) | \n",
    "    (pl.col('filename').str.starts_with('2019/'))\n",
    ")"
   ]
  },
  {
   "cell_type": "code",
   "execution_count": 6,
   "metadata": {},
   "outputs": [],
   "source": [
    "outputs_2018_2019 = outputs_2018_2019.with_columns(\n",
    "    (\n",
    "        outputs_2018_2019['filename']\n",
    "        .str.splitn('/', 2)\n",
    "        .struct.rename_fields(['year', 'filename'])\n",
    "        .alias('fields')\n",
    "        .to_frame()\n",
    "        .unnest('fields')\n",
    "    )\n",
    ")"
   ]
  },
  {
   "cell_type": "code",
   "execution_count": 7,
   "metadata": {},
   "outputs": [],
   "source": [
    "outputs_2018_2019 = outputs_2018_2019.with_columns(\n",
    "    pl.col('label').str.head(6).alias('label_sp')\n",
    ")"
   ]
  },
  {
   "cell_type": "code",
   "execution_count": 8,
   "metadata": {},
   "outputs": [],
   "source": [
    "merged = outputs_2018_2019.join(raven, \n",
    "                                left_on=['filename', 'label_sp', 'timestamp_s'], \n",
    "                                right_on=['filename', 'label', 'timestamp_s'], \n",
    "                                how='inner')"
   ]
  },
  {
   "cell_type": "code",
   "execution_count": 14,
   "metadata": {},
   "outputs": [],
   "source": [
    "merged_dup = merged.unique(subset=['filename', 'timestamp_s', 'label'])"
   ]
  },
  {
   "cell_type": "code",
   "execution_count": 15,
   "metadata": {},
   "outputs": [
    {
     "data": {
      "text/html": [
       "<div><style>\n",
       ".dataframe > thead > tr,\n",
       ".dataframe > tbody > tr {\n",
       "  text-align: right;\n",
       "  white-space: pre-wrap;\n",
       "}\n",
       "</style>\n",
       "<small>shape: (7_746, 9)</small><table border=\"1\" class=\"dataframe\"><thead><tr><th>filename</th><th>timestamp_s</th><th>label</th><th>logit</th><th>year</th><th>label_sp</th><th>begin_time_s</th><th>end_time_s</th><th>id</th></tr><tr><td>str</td><td>f64</td><td>str</td><td>f64</td><td>str</td><td>str</td><td>f64</td><td>f64</td><td>str</td></tr></thead><tbody><tr><td>&quot;BROWN-9-CAPL_20190621_093000.w…</td><td>180.0</td><td>&quot;gockin_song&quot;</td><td>-5.15</td><td>&quot;2019&quot;</td><td>&quot;gockin&quot;</td><td>181.657152</td><td>183.647388</td><td>&quot;gcki_c_song&quot;</td></tr><tr><td>&quot;BLKFR-10-CPL_20190628_093000.w…</td><td>70.0</td><td>&quot;herthr_song&quot;</td><td>-6.04</td><td>&quot;2019&quot;</td><td>&quot;herthr&quot;</td><td>70.056942</td><td>71.30534</td><td>&quot;heth_c_song&quot;</td></tr><tr><td>&quot;BLUE-6-CAPLE_20180605_183000.w…</td><td>535.0</td><td>&quot;amerob_song&quot;</td><td>-6.44</td><td>&quot;2018&quot;</td><td>&quot;amerob&quot;</td><td>538.541474</td><td>539.80819</td><td>&quot;amro&quot;</td></tr><tr><td>&quot;GREEN-5-CAPL_20190614_083000.w…</td><td>135.0</td><td>&quot;herthr_call&quot;</td><td>-6.93</td><td>&quot;2019&quot;</td><td>&quot;herthr&quot;</td><td>135.634373</td><td>137.718982</td><td>&quot;heth_c_song&quot;</td></tr><tr><td>&quot;WHITE-2-CAPL_20190611_093000.w…</td><td>150.0</td><td>&quot;gockin_call&quot;</td><td>-0.46</td><td>&quot;2019&quot;</td><td>&quot;gockin&quot;</td><td>151.404935</td><td>152.451047</td><td>&quot;gcki&quot;</td></tr><tr><td>&hellip;</td><td>&hellip;</td><td>&hellip;</td><td>&hellip;</td><td>&hellip;</td><td>&hellip;</td><td>&hellip;</td><td>&hellip;</td><td>&hellip;</td></tr><tr><td>&quot;ORANGE-7-CAP_20190614_093000.w…</td><td>250.0</td><td>&quot;naswar_song&quot;</td><td>-6.93</td><td>&quot;2019&quot;</td><td>&quot;naswar&quot;</td><td>250.684406</td><td>252.306368</td><td>&quot;nawa&quot;</td></tr><tr><td>&quot;CLEAR-1-CAPL_20190609_093000.w…</td><td>25.0</td><td>&quot;mouchi_song&quot;</td><td>-0.51</td><td>&quot;2019&quot;</td><td>&quot;mouchi&quot;</td><td>28.351429</td><td>29.718217</td><td>&quot;moch_c_song&quot;</td></tr><tr><td>&quot;ORANGE-7-CAP_20190606_093000.w…</td><td>295.0</td><td>&quot;westan_call&quot;</td><td>-6.27</td><td>&quot;2019&quot;</td><td>&quot;westan&quot;</td><td>296.614276</td><td>299.295811</td><td>&quot;weta&quot;</td></tr><tr><td>&quot;BLUE-6-CAPLE_20180609_070000.w…</td><td>240.0</td><td>&quot;macwar_song&quot;</td><td>-7.75</td><td>&quot;2018&quot;</td><td>&quot;macwar&quot;</td><td>243.433318</td><td>245.253045</td><td>&quot;mgwa&quot;</td></tr><tr><td>&quot;PURPLE-8-CAP_20190611_093000.w…</td><td>240.0</td><td>&quot;westan_call&quot;</td><td>-4.41</td><td>&quot;2019&quot;</td><td>&quot;westan&quot;</td><td>241.48778</td><td>241.985621</td><td>&quot;weta_c_call&quot;</td></tr></tbody></table></div>"
      ],
      "text/plain": [
       "shape: (7_746, 9)\n",
       "┌────────────┬────────────┬────────────┬───────┬───┬──────────┬────────────┬───────────┬───────────┐\n",
       "│ filename   ┆ timestamp_ ┆ label      ┆ logit ┆ … ┆ label_sp ┆ begin_time ┆ end_time_ ┆ id        │\n",
       "│ ---        ┆ s          ┆ ---        ┆ ---   ┆   ┆ ---      ┆ _s         ┆ s         ┆ ---       │\n",
       "│ str        ┆ ---        ┆ str        ┆ f64   ┆   ┆ str      ┆ ---        ┆ ---       ┆ str       │\n",
       "│            ┆ f64        ┆            ┆       ┆   ┆          ┆ f64        ┆ f64       ┆           │\n",
       "╞════════════╪════════════╪════════════╪═══════╪═══╪══════════╪════════════╪═══════════╪═══════════╡\n",
       "│ BROWN-9-CA ┆ 180.0      ┆ gockin_son ┆ -5.15 ┆ … ┆ gockin   ┆ 181.657152 ┆ 183.64738 ┆ gcki_c_so │\n",
       "│ PL_2019062 ┆            ┆ g          ┆       ┆   ┆          ┆            ┆ 8         ┆ ng        │\n",
       "│ 1_093000.w ┆            ┆            ┆       ┆   ┆          ┆            ┆           ┆           │\n",
       "│ …          ┆            ┆            ┆       ┆   ┆          ┆            ┆           ┆           │\n",
       "│ BLKFR-10-C ┆ 70.0       ┆ herthr_son ┆ -6.04 ┆ … ┆ herthr   ┆ 70.056942  ┆ 71.30534  ┆ heth_c_so │\n",
       "│ PL_2019062 ┆            ┆ g          ┆       ┆   ┆          ┆            ┆           ┆ ng        │\n",
       "│ 8_093000.w ┆            ┆            ┆       ┆   ┆          ┆            ┆           ┆           │\n",
       "│ …          ┆            ┆            ┆       ┆   ┆          ┆            ┆           ┆           │\n",
       "│ BLUE-6-CAP ┆ 535.0      ┆ amerob_son ┆ -6.44 ┆ … ┆ amerob   ┆ 538.541474 ┆ 539.80819 ┆ amro      │\n",
       "│ LE_2018060 ┆            ┆ g          ┆       ┆   ┆          ┆            ┆           ┆           │\n",
       "│ 5_183000.w ┆            ┆            ┆       ┆   ┆          ┆            ┆           ┆           │\n",
       "│ …          ┆            ┆            ┆       ┆   ┆          ┆            ┆           ┆           │\n",
       "│ GREEN-5-CA ┆ 135.0      ┆ herthr_cal ┆ -6.93 ┆ … ┆ herthr   ┆ 135.634373 ┆ 137.71898 ┆ heth_c_so │\n",
       "│ PL_2019061 ┆            ┆ l          ┆       ┆   ┆          ┆            ┆ 2         ┆ ng        │\n",
       "│ 4_083000.w ┆            ┆            ┆       ┆   ┆          ┆            ┆           ┆           │\n",
       "│ …          ┆            ┆            ┆       ┆   ┆          ┆            ┆           ┆           │\n",
       "│ WHITE-2-CA ┆ 150.0      ┆ gockin_cal ┆ -0.46 ┆ … ┆ gockin   ┆ 151.404935 ┆ 152.45104 ┆ gcki      │\n",
       "│ PL_2019061 ┆            ┆ l          ┆       ┆   ┆          ┆            ┆ 7         ┆           │\n",
       "│ 1_093000.w ┆            ┆            ┆       ┆   ┆          ┆            ┆           ┆           │\n",
       "│ …          ┆            ┆            ┆       ┆   ┆          ┆            ┆           ┆           │\n",
       "│ …          ┆ …          ┆ …          ┆ …     ┆ … ┆ …        ┆ …          ┆ …         ┆ …         │\n",
       "│ ORANGE-7-C ┆ 250.0      ┆ naswar_son ┆ -6.93 ┆ … ┆ naswar   ┆ 250.684406 ┆ 252.30636 ┆ nawa      │\n",
       "│ AP_2019061 ┆            ┆ g          ┆       ┆   ┆          ┆            ┆ 8         ┆           │\n",
       "│ 4_093000.w ┆            ┆            ┆       ┆   ┆          ┆            ┆           ┆           │\n",
       "│ …          ┆            ┆            ┆       ┆   ┆          ┆            ┆           ┆           │\n",
       "│ CLEAR-1-CA ┆ 25.0       ┆ mouchi_son ┆ -0.51 ┆ … ┆ mouchi   ┆ 28.351429  ┆ 29.718217 ┆ moch_c_so │\n",
       "│ PL_2019060 ┆            ┆ g          ┆       ┆   ┆          ┆            ┆           ┆ ng        │\n",
       "│ 9_093000.w ┆            ┆            ┆       ┆   ┆          ┆            ┆           ┆           │\n",
       "│ …          ┆            ┆            ┆       ┆   ┆          ┆            ┆           ┆           │\n",
       "│ ORANGE-7-C ┆ 295.0      ┆ westan_cal ┆ -6.27 ┆ … ┆ westan   ┆ 296.614276 ┆ 299.29581 ┆ weta      │\n",
       "│ AP_2019060 ┆            ┆ l          ┆       ┆   ┆          ┆            ┆ 1         ┆           │\n",
       "│ 6_093000.w ┆            ┆            ┆       ┆   ┆          ┆            ┆           ┆           │\n",
       "│ …          ┆            ┆            ┆       ┆   ┆          ┆            ┆           ┆           │\n",
       "│ BLUE-6-CAP ┆ 240.0      ┆ macwar_son ┆ -7.75 ┆ … ┆ macwar   ┆ 243.433318 ┆ 245.25304 ┆ mgwa      │\n",
       "│ LE_2018060 ┆            ┆ g          ┆       ┆   ┆          ┆            ┆ 5         ┆           │\n",
       "│ 9_070000.w ┆            ┆            ┆       ┆   ┆          ┆            ┆           ┆           │\n",
       "│ …          ┆            ┆            ┆       ┆   ┆          ┆            ┆           ┆           │\n",
       "│ PURPLE-8-C ┆ 240.0      ┆ westan_cal ┆ -4.41 ┆ … ┆ westan   ┆ 241.48778  ┆ 241.98562 ┆ weta_c_ca │\n",
       "│ AP_2019061 ┆            ┆ l          ┆       ┆   ┆          ┆            ┆ 1         ┆ ll        │\n",
       "│ 1_093000.w ┆            ┆            ┆       ┆   ┆          ┆            ┆           ┆           │\n",
       "│ …          ┆            ┆            ┆       ┆   ┆          ┆            ┆           ┆           │\n",
       "└────────────┴────────────┴────────────┴───────┴───┴──────────┴────────────┴───────────┴───────────┘"
      ]
     },
     "execution_count": 15,
     "metadata": {},
     "output_type": "execute_result"
    }
   ],
   "source": [
    "merged_dup"
   ]
  },
  {
   "cell_type": "code",
   "execution_count": 10,
   "metadata": {},
   "outputs": [
    {
     "data": {
      "image/png": "[encoded data removed]",
      "text/plain": [
       "<Figure size 640x480 with 1 Axes>"
      ]
     },
     "metadata": {},
     "output_type": "display_data"
    }
   ],
   "source": [
    "# merged['logit'].hist()\n",
    "plt.hist(merged['logit'])\n",
    "plt.show()"
   ]
  },
  {
   "cell_type": "code",
   "execution_count": null,
   "metadata": {},
   "outputs": [],
   "source": []
  }
 ],
 "metadata": {
  "kernelspec": {
   "display_name": "perch_gpu",
   "language": "python",
   "name": "python3"
  },
  "language_info": {
   "codemirror_mode": {
    "name": "ipython",
    "version": 3
   },
   "file_extension": ".py",
   "mimetype": "text/x-python",
   "name": "python",
   "nbconvert_exporter": "python",
   "pygments_lexer": "ipython3",
   "version": "3.10.14"
  }
 },
 "nbformat": 4,
 "nbformat_minor": 2
}
