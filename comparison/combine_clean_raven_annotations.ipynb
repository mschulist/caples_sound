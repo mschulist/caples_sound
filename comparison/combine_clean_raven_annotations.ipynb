{
 "cells": [
  {
   "cell_type": "code",
   "execution_count": 41,
   "metadata": {},
   "outputs": [],
   "source": [
    "import pandas as pd\n",
    "import numpy as np\n",
    "import matplotlib.pyplot as plt\n",
    "import os"
   ]
  },
  {
   "cell_type": "code",
   "execution_count": 2,
   "metadata": {},
   "outputs": [],
   "source": [
    "files = os.listdir('raven_annotations')\n",
    "files = [f for f in files if f.endswith('.txt')]"
   ]
  },
  {
   "cell_type": "code",
   "execution_count": 3,
   "metadata": {},
   "outputs": [],
   "source": [
    "annotations = pd.DataFrame()\n",
    "\n",
    "for file in files:\n",
    "    recording_name = f\"{'_'.join(file.split('_')[0:3])}.wav\"\n",
    "    table = pd.read_table(f'raven_annotations/{file}')\n",
    "    table['filename'] = recording_name\n",
    "    id_column = 'ID'\n",
    "    if 'ID' in table.columns:\n",
    "        id_column = 'ID'\n",
    "    elif 'Annotation' in table.columns:\n",
    "        id_column = 'Annotation'\n",
    "    elif 'Bird ID' in table.columns:\n",
    "        id_column = 'Bird ID'\n",
    "    elif 'fBirdID' in table.columns:\n",
    "        id_column = 'fBirdID'\n",
    "    else:\n",
    "        raise ValueError(f'No ID column found, cols: {table.columns}')\n",
    "    out = table[['filename', 'Begin Time (s)', 'End Time (s)', id_column]]\n",
    "    out.columns = ['filename', 'begin_time_s', 'end_time_s', 'id']\n",
    "    out.loc[:, 'id'] = out['id'].str.lower()\n",
    "    annotations = pd.concat([annotations, out]).reset_index(drop=True)\n",
    "\n",
    "annotations = annotations.dropna(subset=['id'])"
   ]
  },
  {
   "cell_type": "code",
   "execution_count": 4,
   "metadata": {},
   "outputs": [],
   "source": [
    "bird_codes = pd.read_csv('bird_codes.csv')\n",
    "bird_codes.loc[:, 'four_code'] = bird_codes['four_code'].str.lower()"
   ]
  },
  {
   "cell_type": "code",
   "execution_count": 5,
   "metadata": {},
   "outputs": [],
   "source": [
    "codes_dict = dict(zip(bird_codes['four_code'], bird_codes['code']))"
   ]
  },
  {
   "cell_type": "code",
   "execution_count": 6,
   "metadata": {},
   "outputs": [],
   "source": [
    "for i, row in annotations.iterrows():\n",
    "    four_code_plus = row['id']\n",
    "    if '*' in four_code_plus:\n",
    "            continue\n",
    "    for code in codes_dict:\n",
    "        if code in four_code_plus:\n",
    "            annotations.loc[i, 'label'] = codes_dict[code]"
   ]
  },
  {
   "cell_type": "code",
   "execution_count": 7,
   "metadata": {},
   "outputs": [],
   "source": [
    "annotations = annotations.dropna(subset=['label']).reset_index(drop=True)"
   ]
  },
  {
   "cell_type": "code",
   "execution_count": 8,
   "metadata": {},
   "outputs": [],
   "source": [
    "annotations['timestamp_s'] = ((annotations['begin_time_s'] + annotations['end_time_s']) / 2) - (((annotations['begin_time_s'] + annotations['end_time_s']) / 2) % 5)"
   ]
  },
  {
   "cell_type": "code",
   "execution_count": 38,
   "metadata": {},
   "outputs": [],
   "source": [
    "for i, row in annotations.iterrows():\n",
    "    if len(row['filename'].split('_')[2]) == 9:\n",
    "        annotations.at[i, 'filename'] = row['filename'].split('_')[0] + '_' + row['filename'].split('_')[1] + '_' + '0' + row['filename'].split('_')[2]\n"
   ]
  },
  {
   "cell_type": "code",
   "execution_count": 39,
   "metadata": {},
   "outputs": [
    {
     "data": {
      "text/html": [
       "<div>\n",
       "<style scoped>\n",
       "    .dataframe tbody tr th:only-of-type {\n",
       "        vertical-align: middle;\n",
       "    }\n",
       "\n",
       "    .dataframe tbody tr th {\n",
       "        vertical-align: top;\n",
       "    }\n",
       "\n",
       "    .dataframe thead th {\n",
       "        text-align: right;\n",
       "    }\n",
       "</style>\n",
       "<table border=\"1\" class=\"dataframe\">\n",
       "  <thead>\n",
       "    <tr style=\"text-align: right;\">\n",
       "      <th></th>\n",
       "      <th>filename</th>\n",
       "      <th>begin_time_s</th>\n",
       "      <th>end_time_s</th>\n",
       "      <th>id</th>\n",
       "      <th>label</th>\n",
       "      <th>timestamp_s</th>\n",
       "    </tr>\n",
       "  </thead>\n",
       "  <tbody>\n",
       "    <tr>\n",
       "      <th>0</th>\n",
       "      <td>BLUE-6-CAPLE_20180606_070000.wav</td>\n",
       "      <td>1.227414</td>\n",
       "      <td>3.657139</td>\n",
       "      <td>moch</td>\n",
       "      <td>mouchi</td>\n",
       "      <td>0.0</td>\n",
       "    </tr>\n",
       "    <tr>\n",
       "      <th>1</th>\n",
       "      <td>BLUE-6-CAPLE_20180606_070000.wav</td>\n",
       "      <td>0.074323</td>\n",
       "      <td>1.145050</td>\n",
       "      <td>moch</td>\n",
       "      <td>mouchi</td>\n",
       "      <td>0.0</td>\n",
       "    </tr>\n",
       "    <tr>\n",
       "      <th>2</th>\n",
       "      <td>BLUE-6-CAPLE_20180606_070000.wav</td>\n",
       "      <td>5.040054</td>\n",
       "      <td>6.632416</td>\n",
       "      <td>stja</td>\n",
       "      <td>stejay</td>\n",
       "      <td>5.0</td>\n",
       "    </tr>\n",
       "    <tr>\n",
       "      <th>3</th>\n",
       "      <td>BLUE-6-CAPLE_20180606_070000.wav</td>\n",
       "      <td>9.405324</td>\n",
       "      <td>10.832959</td>\n",
       "      <td>stja</td>\n",
       "      <td>stejay</td>\n",
       "      <td>10.0</td>\n",
       "    </tr>\n",
       "    <tr>\n",
       "      <th>4</th>\n",
       "      <td>BLUE-6-CAPLE_20180606_070000.wav</td>\n",
       "      <td>90.914068</td>\n",
       "      <td>92.198867</td>\n",
       "      <td>rbnu</td>\n",
       "      <td>rebnut</td>\n",
       "      <td>90.0</td>\n",
       "    </tr>\n",
       "    <tr>\n",
       "      <th>...</th>\n",
       "      <td>...</td>\n",
       "      <td>...</td>\n",
       "      <td>...</td>\n",
       "      <td>...</td>\n",
       "      <td>...</td>\n",
       "      <td>...</td>\n",
       "    </tr>\n",
       "    <tr>\n",
       "      <th>11487</th>\n",
       "      <td>RED-4-CAPL_20190624_093000.wav</td>\n",
       "      <td>293.455127</td>\n",
       "      <td>294.813289</td>\n",
       "      <td>gcki</td>\n",
       "      <td>gockin</td>\n",
       "      <td>290.0</td>\n",
       "    </tr>\n",
       "    <tr>\n",
       "      <th>11488</th>\n",
       "      <td>RED-4-CAPL_20190624_093000.wav</td>\n",
       "      <td>298.820286</td>\n",
       "      <td>299.999977</td>\n",
       "      <td>stja</td>\n",
       "      <td>stejay</td>\n",
       "      <td>295.0</td>\n",
       "    </tr>\n",
       "    <tr>\n",
       "      <th>11489</th>\n",
       "      <td>RED-4-CAPL_20190624_093000.wav</td>\n",
       "      <td>298.116952</td>\n",
       "      <td>299.790402</td>\n",
       "      <td>gcki</td>\n",
       "      <td>gockin</td>\n",
       "      <td>295.0</td>\n",
       "    </tr>\n",
       "    <tr>\n",
       "      <th>11490</th>\n",
       "      <td>RED-4-CAPL_20190624_093000.wav</td>\n",
       "      <td>296.176721</td>\n",
       "      <td>298.771781</td>\n",
       "      <td>gcki</td>\n",
       "      <td>gockin</td>\n",
       "      <td>295.0</td>\n",
       "    </tr>\n",
       "    <tr>\n",
       "      <th>11491</th>\n",
       "      <td>RED-4-CAPL_20190624_093000.wav</td>\n",
       "      <td>299.087068</td>\n",
       "      <td>299.999977</td>\n",
       "      <td>hewa</td>\n",
       "      <td>herwar</td>\n",
       "      <td>295.0</td>\n",
       "    </tr>\n",
       "  </tbody>\n",
       "</table>\n",
       "<p>11492 rows × 6 columns</p>\n",
       "</div>"
      ],
      "text/plain": [
       "                               filename  begin_time_s  end_time_s    id  \\\n",
       "0      BLUE-6-CAPLE_20180606_070000.wav      1.227414    3.657139  moch   \n",
       "1      BLUE-6-CAPLE_20180606_070000.wav      0.074323    1.145050  moch   \n",
       "2      BLUE-6-CAPLE_20180606_070000.wav      5.040054    6.632416  stja   \n",
       "3      BLUE-6-CAPLE_20180606_070000.wav      9.405324   10.832959  stja   \n",
       "4      BLUE-6-CAPLE_20180606_070000.wav     90.914068   92.198867  rbnu   \n",
       "...                                 ...           ...         ...   ...   \n",
       "11487    RED-4-CAPL_20190624_093000.wav    293.455127  294.813289  gcki   \n",
       "11488    RED-4-CAPL_20190624_093000.wav    298.820286  299.999977  stja   \n",
       "11489    RED-4-CAPL_20190624_093000.wav    298.116952  299.790402  gcki   \n",
       "11490    RED-4-CAPL_20190624_093000.wav    296.176721  298.771781  gcki   \n",
       "11491    RED-4-CAPL_20190624_093000.wav    299.087068  299.999977  hewa   \n",
       "\n",
       "        label  timestamp_s  \n",
       "0      mouchi          0.0  \n",
       "1      mouchi          0.0  \n",
       "2      stejay          5.0  \n",
       "3      stejay         10.0  \n",
       "4      rebnut         90.0  \n",
       "...       ...          ...  \n",
       "11487  gockin        290.0  \n",
       "11488  stejay        295.0  \n",
       "11489  gockin        295.0  \n",
       "11490  gockin        295.0  \n",
       "11491  herwar        295.0  \n",
       "\n",
       "[11492 rows x 6 columns]"
      ]
     },
     "execution_count": 39,
     "metadata": {},
     "output_type": "execute_result"
    }
   ],
   "source": [
    "annotations"
   ]
  },
  {
   "cell_type": "code",
   "execution_count": 40,
   "metadata": {},
   "outputs": [],
   "source": [
    "annotations.to_csv('raven_annotations.csv', index=False)"
   ]
  }
 ],
 "metadata": {
  "kernelspec": {
   "display_name": "perch_gpu",
   "language": "python",
   "name": "python3"
  },
  "language_info": {
   "codemirror_mode": {
    "name": "ipython",
    "version": 3
   },
   "file_extension": ".py",
   "mimetype": "text/x-python",
   "name": "python",
   "nbconvert_exporter": "python",
   "pygments_lexer": "ipython3",
   "version": "3.10.14"
  }
 },
 "nbformat": 4,
 "nbformat_minor": 2
}
