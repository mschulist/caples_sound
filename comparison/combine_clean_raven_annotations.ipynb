{
 "cells": [
  {
   "cell_type": "code",
   "execution_count": 21,
   "metadata": {},
   "outputs": [],
   "source": [
    "import pandas as pd\n",
    "import numpy as np\n",
    "import matplotlib.pyplot as plt\n",
    "import os\n",
    "from sklearn.model_selection import train_test_split\n",
    "from sklearn.utils import resample"
   ]
  },
  {
   "cell_type": "code",
   "execution_count": 2,
   "metadata": {},
   "outputs": [],
   "source": [
    "files = os.listdir('raven_annotations')\n",
    "files = [f for f in files if f.endswith('.txt')]"
   ]
  },
  {
   "cell_type": "code",
   "execution_count": 3,
   "metadata": {},
   "outputs": [],
   "source": [
    "annotations = pd.DataFrame()\n",
    "\n",
    "for file in files:\n",
    "    recording_name = f\"{'_'.join(file.split('_')[0:3])}.wav\"\n",
    "    table = pd.read_table(f'raven_annotations/{file}')\n",
    "    table['filename'] = recording_name\n",
    "    id_column = 'ID'\n",
    "    if 'ID' in table.columns:\n",
    "        id_column = 'ID'\n",
    "    elif 'Annotation' in table.columns:\n",
    "        id_column = 'Annotation'\n",
    "    elif 'Bird ID' in table.columns:\n",
    "        id_column = 'Bird ID'\n",
    "    elif 'fBirdID' in table.columns:\n",
    "        id_column = 'fBirdID'\n",
    "    else:\n",
    "        raise ValueError(f'No ID column found, cols: {table.columns}')\n",
    "    out = table[['filename', 'Begin Time (s)', 'End Time (s)', id_column]]\n",
    "    out.columns = ['filename', 'begin_time_s', 'end_time_s', 'id']\n",
    "    out.loc[:, 'id'] = out['id'].str.lower()\n",
    "    annotations = pd.concat([annotations, out]).reset_index(drop=True)\n",
    "\n",
    "annotations = annotations.dropna(subset=['id'])"
   ]
  },
  {
   "cell_type": "code",
   "execution_count": 4,
   "metadata": {},
   "outputs": [],
   "source": [
    "bird_codes = pd.read_csv('bird_codes.csv')\n",
    "bird_codes.loc[:, 'four_code'] = bird_codes['four_code'].str.lower()"
   ]
  },
  {
   "cell_type": "code",
   "execution_count": 5,
   "metadata": {},
   "outputs": [],
   "source": [
    "codes_dict = dict(zip(bird_codes['four_code'], bird_codes['code']))"
   ]
  },
  {
   "cell_type": "code",
   "execution_count": 6,
   "metadata": {},
   "outputs": [],
   "source": [
    "for i, row in annotations.iterrows():\n",
    "    four_code_plus = row['id']\n",
    "    if '*' in four_code_plus:\n",
    "            continue\n",
    "    for code in codes_dict:\n",
    "        if code in four_code_plus:\n",
    "            annotations.loc[i, 'label'] = codes_dict[code]"
   ]
  },
  {
   "cell_type": "code",
   "execution_count": 7,
   "metadata": {},
   "outputs": [],
   "source": [
    "annotations = annotations.dropna(subset=['label']).reset_index(drop=True)"
   ]
  },
  {
   "cell_type": "code",
   "execution_count": 8,
   "metadata": {},
   "outputs": [],
   "source": [
    "annotations['timestamp_s'] = ((annotations['begin_time_s'] + annotations['end_time_s']) / 2) - (((annotations['begin_time_s'] + annotations['end_time_s']) / 2) % 5)"
   ]
  },
  {
   "cell_type": "code",
   "execution_count": 9,
   "metadata": {},
   "outputs": [],
   "source": [
    "for i, row in annotations.iterrows():\n",
    "    if len(row['filename'].split('_')[2]) == 9:\n",
    "        annotations.at[i, 'filename'] = row['filename'].split('_')[0] + '_' + row['filename'].split('_')[1] + '_' + '0' + row['filename'].split('_')[2]\n"
   ]
  },
  {
   "cell_type": "code",
   "execution_count": 22,
   "metadata": {},
   "outputs": [],
   "source": [
    "species_counts = annotations['label'].value_counts()\n",
    "max_count = species_counts.max()\n",
    "\n",
    "# Resample each species to the maximum count\n",
    "df_resampled = pd.DataFrame()\n",
    "\n",
    "for species in species_counts.index:\n",
    "    species_df = annotations[annotations['label'] == species]\n",
    "    df_resampled = pd.concat([df_resampled, resample(species_df, replace=True, n_samples=max_count, random_state=42)])\n",
    "\n",
    "# Shuffle the oversampled DataFrame\n",
    "df_shuffled = df_resampled.sample(frac=1, random_state=42).reset_index(drop=True)\n",
    "\n",
    "# Take a random sample of the original DataFrame size\n",
    "df_final = df_shuffled.sample(n=len(annotations), random_state=42).reset_index(drop=True)"
   ]
  },
  {
   "cell_type": "code",
   "execution_count": 24,
   "metadata": {},
   "outputs": [
    {
     "data": {
      "text/plain": [
       "label\n",
       "sonspa     31\n",
       "gnttow     30\n",
       "olsfly     29\n",
       "westan     28\n",
       "dusfly     27\n",
       "herthr     27\n",
       "bkhgro     26\n",
       "comrav     26\n",
       "swathr     25\n",
       "gockin     25\n",
       "mouqua     25\n",
       "haiwoo     24\n",
       "herwar     24\n",
       "norfli     24\n",
       "stejay     24\n",
       "macwar     24\n",
       "chispa     23\n",
       "rebsap     23\n",
       "evegro     23\n",
       "warvir     23\n",
       "amerob     22\n",
       "casvir     22\n",
       "naswar     22\n",
       "whbnut     22\n",
       "whhwoo     22\n",
       "towsol     21\n",
       "pilwoo     21\n",
       "yerwar     21\n",
       "mouchi     21\n",
       "unknown    20\n",
       "purfin     20\n",
       "wewpew     19\n",
       "pasfly     19\n",
       "btywar     19\n",
       "rebnut     19\n",
       "comnig     18\n",
       "wilsap     17\n",
       "spotow     17\n",
       "moublu     17\n",
       "pacwre1    16\n",
       "casfin     15\n",
       "daejun     15\n",
       "clanut     15\n",
       "brncre     14\n",
       "foxspa     14\n",
       "annhum     12\n",
       "linspa     10\n",
       "Name: count, dtype: int64"
      ]
     },
     "execution_count": 24,
     "metadata": {},
     "output_type": "execute_result"
    }
   ],
   "source": [
    "df_final.loc[0:1000, :]['label'].value_counts()"
   ]
  },
  {
   "cell_type": "code",
   "execution_count": 25,
   "metadata": {},
   "outputs": [],
   "source": [
    "df_final.to_csv('raven_annotations_even.csv', index=False)"
   ]
  },
  {
   "cell_type": "code",
   "execution_count": 40,
   "metadata": {},
   "outputs": [],
   "source": [
    "annotations.to_csv('raven_annotations.csv', index=False)"
   ]
  }
 ],
 "metadata": {
  "kernelspec": {
   "display_name": "perch_gpu",
   "language": "python",
   "name": "python3"
  },
  "language_info": {
   "codemirror_mode": {
    "name": "ipython",
    "version": 3
   },
   "file_extension": ".py",
   "mimetype": "text/x-python",
   "name": "python",
   "nbconvert_exporter": "python",
   "pygments_lexer": "ipython3",
   "version": "3.10.14"
  }
 },
 "nbformat": 4,
 "nbformat_minor": 2
}
