{
 "cells": [
  {
   "cell_type": "code",
   "execution_count": 1,
   "id": "10292b7d-a133-438f-832d-5479abb20d60",
   "metadata": {},
   "outputs": [],
   "source": [
    "import pandas as pd\n",
    "from datetime import datetime"
   ]
  },
  {
   "cell_type": "code",
   "execution_count": 2,
   "id": "cc2118cb-11c4-41e6-b24d-32774cde1925",
   "metadata": {},
   "outputs": [],
   "source": [
    "aru2point_2018_2021 = pd.read_csv('./aru2point_2018-2021.csv')"
   ]
  },
  {
   "cell_type": "code",
   "execution_count": 3,
   "id": "b1322e77-e09d-4c91-8136-58b7c5d5395a",
   "metadata": {},
   "outputs": [],
   "source": [
    "aru2point_2022 = pd.read_csv('./aru2point_2022.csv')[['filename', 'point']]"
   ]
  },
  {
   "cell_type": "code",
   "execution_count": 4,
   "id": "f3e5e840-9af4-4cac-9a1c-64718032f77b",
   "metadata": {},
   "outputs": [],
   "source": [
    "# aru2point_2022['datetime'] = pd.to_datetime(\n",
    "#     (aru2point_2022['filename']\n",
    "#      .str.split('_').str[1:3].str.join('_')\n",
    "#      .str.split('.').str[0]),\n",
    "#     format='%Y%m%d_%H%M%S')"
   ]
  },
  {
   "cell_type": "code",
   "execution_count": 4,
   "id": "462552eb-1393-40d5-80ff-6580470c5b83",
   "metadata": {},
   "outputs": [],
   "source": [
    "aru2point_2023 = pd.read_csv('./aru2point_2023.csv')[['filename', 'point']]"
   ]
  },
  {
   "cell_type": "code",
   "execution_count": 5,
   "id": "d525ac01",
   "metadata": {},
   "outputs": [],
   "source": [
    "aru2point_all = pd.concat([aru2point_2018_2021, aru2point_2022, aru2point_2023])"
   ]
  },
  {
   "cell_type": "code",
   "execution_count": 6,
   "id": "1f3eafdb",
   "metadata": {},
   "outputs": [],
   "source": [
    "aru2point_all['filename'] = aru2point_all['filename'].str.rstrip('.wav') + '.wav'"
   ]
  },
  {
   "cell_type": "code",
   "execution_count": 8,
   "id": "6c54ae0c",
   "metadata": {},
   "outputs": [],
   "source": [
    "aru2point_all['point'] = pd.to_numeric(aru2point_all['point'], errors='coerce')"
   ]
  },
  {
   "cell_type": "code",
   "execution_count": 9,
   "id": "4b2c0a94",
   "metadata": {},
   "outputs": [],
   "source": [
    "aru2point_all.to_csv('./aru2point_all.csv', index=False)"
   ]
  }
 ],
 "metadata": {
  "kernelspec": {
   "display_name": "Python 3 (ipykernel)",
   "language": "python",
   "name": "python3"
  },
  "language_info": {
   "codemirror_mode": {
    "name": "ipython",
    "version": 3
   },
   "file_extension": ".py",
   "mimetype": "text/x-python",
   "name": "python",
   "nbconvert_exporter": "python",
   "pygments_lexer": "ipython3",
   "version": "3.10.14"
  }
 },
 "nbformat": 4,
 "nbformat_minor": 5
}
