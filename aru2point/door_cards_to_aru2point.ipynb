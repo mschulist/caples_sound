{
 "cells": [
  {
   "cell_type": "code",
   "execution_count": 1,
   "id": "605ba877-bec9-4a68-8999-2a0606476616",
   "metadata": {},
   "outputs": [],
   "source": [
    "import pandas as pd\n",
    "import os\n",
    "import tqdm"
   ]
  },
  {
   "cell_type": "code",
   "execution_count": 2,
   "id": "daeea3e7-e369-41e8-9ecb-025a362ad4a3",
   "metadata": {},
   "outputs": [],
   "source": [
    "doorcard_2023 = pd.read_csv('./door_cards_2023.csv')[\n",
    "['ARU', 'Location', 'Start Date', 'Start Time', 'End Date', 'End Time']\n",
    "]\n",
    "doorcard_2023.dropna(subset=['ARU'], inplace=True)\n",
    "\n",
    "doorcard_2023[\"Start Datetime\"] = pd.to_datetime(doorcard_2023[\"Start Date\"] + \" \" + doorcard_2023[\"Start Time\"], format=\"%m/%d/%y %H:%M\")\n",
    "\n",
    "doorcard_2023[\"End Datetime\"] = pd.to_datetime(doorcard_2023[\"End Date\"] + \" \" + doorcard_2023[\"End Time\"], format=\"%m/%d/%y %H:%M\")"
   ]
  },
  {
   "cell_type": "code",
   "execution_count": 3,
   "id": "88d0895a-6a36-4a29-b7aa-b201a9e0fcca",
   "metadata": {},
   "outputs": [],
   "source": [
    "recordings_2023 = os.listdir('../ARU_data_all/2023/')\n",
    "recordings_2023 = pd.DataFrame(recordings_2023, columns=['filename'])\n",
    "recordings_2023 = recordings_2023[~ recordings_2023['filename'].str.startswith('.')]"
   ]
  },
  {
   "cell_type": "code",
   "execution_count": 4,
   "id": "95a652e4-fe74-4f73-9414-96213e7c2bc9",
   "metadata": {},
   "outputs": [],
   "source": [
    "recordings_2023['datetime'] = pd.to_datetime(\n",
    "    (recordings_2023['filename']\n",
    "     .str.split('_').str[1:3].str.join('_')\n",
    "     .str.split('.').str[0]),\n",
    "    format='%Y%m%d_%H%M%S')"
   ]
  },
  {
   "cell_type": "code",
   "execution_count": 5,
   "id": "514fa5dd",
   "metadata": {},
   "outputs": [
    {
     "name": "stderr",
     "output_type": "stream",
     "text": [
      "100%|██████████| 84/84 [00:50<00:00,  1.65it/s]\n"
     ]
    }
   ],
   "source": [
    "filenames = []\n",
    "points = [] \n",
    "\n",
    "for _, row in tqdm.tqdm(doorcard_2023.iterrows(), total=len(doorcard_2023)):\n",
    "    for _, recording in recordings_2023.iterrows():\n",
    "        recorder_doorcard = row['ARU']\n",
    "        recorder_recording = recording['filename'].split('_')[0]\n",
    "        if recorder_doorcard != recorder_recording:\n",
    "            continue\n",
    "        if row['Start Datetime'] <= recording['datetime'] <= row['End Datetime']:\n",
    "            filenames.append(recording['filename'])\n",
    "            points.append(row['Location'])"
   ]
  },
  {
   "cell_type": "code",
   "execution_count": 6,
   "id": "c15d2007",
   "metadata": {},
   "outputs": [],
   "source": [
    "aru2point_2023 = pd.DataFrame({'filename': filenames, 'point': points})"
   ]
  },
  {
   "cell_type": "code",
   "execution_count": 9,
   "id": "7be4d939",
   "metadata": {},
   "outputs": [],
   "source": [
    "aru2point_2023.to_csv('./aru2point_2023.csv', index=False)"
   ]
  }
 ],
 "metadata": {
  "kernelspec": {
   "display_name": "Python 3 (ipykernel)",
   "language": "python",
   "name": "python3"
  },
  "language_info": {
   "codemirror_mode": {
    "name": "ipython",
    "version": 3
   },
   "file_extension": ".py",
   "mimetype": "text/x-python",
   "name": "python",
   "nbconvert_exporter": "python",
   "pygments_lexer": "ipython3",
   "version": "3.10.14"
  }
 },
 "nbformat": 4,
 "nbformat_minor": 5
}
